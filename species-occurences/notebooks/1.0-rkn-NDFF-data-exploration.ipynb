{
 "cells": [
  {
   "cell_type": "markdown",
   "source": [
    "# NDFF Data Exploration\n",
    "\n",
    "*Rob Knapen, Wageningen Environmental Research*\n",
    "<br>\n",
    "\n",
    "In this notebook species observation data from NDFF is explored. For more information about this data please contact NDFF or visit their website (be aware that it is not fully available in English).\n",
    "\n",
    "**Data source(s)**:\n",
    "- ['Nationale Databank Flora en Fauna'](https://ndff.nl) (October 2022). This data is copy protected."
   ],
   "metadata": {
    "collapsed": false
   }
  },
  {
   "cell_type": "markdown",
   "source": [
    "### Setup\n",
    "Note that some packages are already imported for future use."
   ],
   "metadata": {
    "collapsed": false
   }
  },
  {
   "cell_type": "code",
   "execution_count": 1,
   "outputs": [],
   "source": [
    "import os\n",
    "\n",
    "import matplotlib.pyplot as plt\n",
    "\n",
    "# note that GeoPandas is switching from PyGEOS geometry backend to Shapely 2.0\n",
    "os.environ['USE_PYGEOS'] = '0'\n",
    "\n",
    "import pandas as pd\n",
    "import numpy as np\n",
    "import geopandas as gp\n",
    "\n",
    "import shapely\n",
    "\n",
    "from geocube.api.core import make_geocube"
   ],
   "metadata": {
    "collapsed": false,
    "ExecuteTime": {
     "end_time": "2023-05-26T14:46:46.531293Z",
     "start_time": "2023-05-26T14:46:41.904763Z"
    }
   }
  },
  {
   "cell_type": "markdown",
   "source": [
    "### Load species observation data\n"
   ],
   "metadata": {
    "collapsed": false
   }
  },
  {
   "cell_type": "code",
   "execution_count": 2,
   "outputs": [],
   "source": [
    "# the NDFF datafile to process\n",
    "#\n",
    "# Available datasets:\n",
    "# broedvogels_2016.csv      (observations of nesting birds in 2016)\n",
    "# overigesoorten_2016.csv   (observations of 'other' species in 2016)\n",
    "# planten_2016.csv          (observations of plants in 2016)\n",
    "#\n",
    "obs_filename = \"../../../local/data/ndff/broedvogels_2016.csv\"\n",
    "\n",
    "# the columns to drop right away\n",
    "always_drop_cols_from_source = None\n",
    "\n",
    "# area of interest\n",
    "aoi_epsg = 'EPSG:32631' # WGS 84 / UTM zone 31N\n",
    "aoi_xmin =  674900.0\n",
    "aoi_xmax =  729800.0\n",
    "aoi_ymin = 5832230.0\n",
    "aoi_ymax = 5853960.0"
   ],
   "metadata": {
    "collapsed": false,
    "ExecuteTime": {
     "end_time": "2023-05-26T14:47:56.304155Z",
     "start_time": "2023-05-26T14:47:56.299124Z"
    }
   }
  },
  {
   "cell_type": "code",
   "execution_count": 3,
   "outputs": [
    {
     "name": "stdout",
     "output_type": "stream",
     "text": [
      "Total observations in dataset: nl_name           454452\n",
      "sci_name          454452\n",
      "jaar              454452\n",
      "countsubject      454452\n",
      "orig_abundance    454452\n",
      "straal            454452\n",
      "wkt               454452\n",
      "dtype: int64\n"
     ]
    },
    {
     "data": {
      "text/plain": "       nl_name            sci_name  jaar countsubject orig_abundance  straal   \n0     Krakeend       Anas strepera  2016  territorium              1      71  \\\n1     Zwartkop  Sylvia atricapilla  2016  territorium              1     283   \n2  Zanglijster   Turdus philomelos  2016  territorium              1     283   \n3  Zanglijster   Turdus philomelos  2016  territorium              1     283   \n4      Spreeuw    Sturnus vulgaris  2016         nest              1     283   \n\n                                                 wkt  \n0  POLYGON((247282 584478,247280.535533906 584474...  \n1  POLYGON((65405.294923655 436165.134083641,6540...  \n2  POLYGON((188642.918478918 344195.927912087,188...  \n3  POLYGON((169116.484375 446596.0625,169113.5554...  \n4  POLYGON((127692 427328,127689.071067812 427320...  ",
      "text/html": "<div>\n<style scoped>\n    .dataframe tbody tr th:only-of-type {\n        vertical-align: middle;\n    }\n\n    .dataframe tbody tr th {\n        vertical-align: top;\n    }\n\n    .dataframe thead th {\n        text-align: right;\n    }\n</style>\n<table border=\"1\" class=\"dataframe\">\n  <thead>\n    <tr style=\"text-align: right;\">\n      <th></th>\n      <th>nl_name</th>\n      <th>sci_name</th>\n      <th>jaar</th>\n      <th>countsubject</th>\n      <th>orig_abundance</th>\n      <th>straal</th>\n      <th>wkt</th>\n    </tr>\n  </thead>\n  <tbody>\n    <tr>\n      <th>0</th>\n      <td>Krakeend</td>\n      <td>Anas strepera</td>\n      <td>2016</td>\n      <td>territorium</td>\n      <td>1</td>\n      <td>71</td>\n      <td>POLYGON((247282 584478,247280.535533906 584474...</td>\n    </tr>\n    <tr>\n      <th>1</th>\n      <td>Zwartkop</td>\n      <td>Sylvia atricapilla</td>\n      <td>2016</td>\n      <td>territorium</td>\n      <td>1</td>\n      <td>283</td>\n      <td>POLYGON((65405.294923655 436165.134083641,6540...</td>\n    </tr>\n    <tr>\n      <th>2</th>\n      <td>Zanglijster</td>\n      <td>Turdus philomelos</td>\n      <td>2016</td>\n      <td>territorium</td>\n      <td>1</td>\n      <td>283</td>\n      <td>POLYGON((188642.918478918 344195.927912087,188...</td>\n    </tr>\n    <tr>\n      <th>3</th>\n      <td>Zanglijster</td>\n      <td>Turdus philomelos</td>\n      <td>2016</td>\n      <td>territorium</td>\n      <td>1</td>\n      <td>283</td>\n      <td>POLYGON((169116.484375 446596.0625,169113.5554...</td>\n    </tr>\n    <tr>\n      <th>4</th>\n      <td>Spreeuw</td>\n      <td>Sturnus vulgaris</td>\n      <td>2016</td>\n      <td>nest</td>\n      <td>1</td>\n      <td>283</td>\n      <td>POLYGON((127692 427328,127689.071067812 427320...</td>\n    </tr>\n  </tbody>\n</table>\n</div>"
     },
     "execution_count": 3,
     "metadata": {},
     "output_type": "execute_result"
    }
   ],
   "source": [
    "# load the data into a regular pandas dataframe\n",
    "obs_df = pd.read_csv(obs_filename, header='infer', sep=';', on_bad_lines='warn')\n",
    "\n",
    "# remove not needed columns\n",
    "if always_drop_cols_from_source:\n",
    "    obs_df.drop(columns=always_drop_cols_from_source, inplace=True)\n",
    "\n",
    "# remove the crs prefix from the wkt data\n",
    "obs_df['wkt_excl_crs'] = obs_df['wkt'].map(lambda x: x.split(';')[1], na_action='ignore')\n",
    "obs_df.drop(columns=['wkt'], inplace=True)\n",
    "obs_df.rename(columns={'wkt_excl_crs': 'wkt'}, inplace=True)\n",
    "\n",
    "print(f'Total observations in dataset: {obs_df.count()}')\n",
    "obs_df.head(5)"
   ],
   "metadata": {
    "collapsed": false,
    "ExecuteTime": {
     "end_time": "2023-05-26T14:47:59.712358Z",
     "start_time": "2023-05-26T14:47:58.223997Z"
    }
   }
  },
  {
   "cell_type": "code",
   "execution_count": 4,
   "outputs": [
    {
     "data": {
      "text/plain": "           jaar         straal\ncount  454452.0  454452.000000\nmean     2016.0     221.808154\nstd         0.0     106.919241\nmin      2016.0       3.000000\n25%      2016.0      71.000000\n50%      2016.0     283.000000\n75%      2016.0     283.000000\nmax      2016.0     488.000000",
      "text/html": "<div>\n<style scoped>\n    .dataframe tbody tr th:only-of-type {\n        vertical-align: middle;\n    }\n\n    .dataframe tbody tr th {\n        vertical-align: top;\n    }\n\n    .dataframe thead th {\n        text-align: right;\n    }\n</style>\n<table border=\"1\" class=\"dataframe\">\n  <thead>\n    <tr style=\"text-align: right;\">\n      <th></th>\n      <th>jaar</th>\n      <th>straal</th>\n    </tr>\n  </thead>\n  <tbody>\n    <tr>\n      <th>count</th>\n      <td>454452.0</td>\n      <td>454452.000000</td>\n    </tr>\n    <tr>\n      <th>mean</th>\n      <td>2016.0</td>\n      <td>221.808154</td>\n    </tr>\n    <tr>\n      <th>std</th>\n      <td>0.0</td>\n      <td>106.919241</td>\n    </tr>\n    <tr>\n      <th>min</th>\n      <td>2016.0</td>\n      <td>3.000000</td>\n    </tr>\n    <tr>\n      <th>25%</th>\n      <td>2016.0</td>\n      <td>71.000000</td>\n    </tr>\n    <tr>\n      <th>50%</th>\n      <td>2016.0</td>\n      <td>283.000000</td>\n    </tr>\n    <tr>\n      <th>75%</th>\n      <td>2016.0</td>\n      <td>283.000000</td>\n    </tr>\n    <tr>\n      <th>max</th>\n      <td>2016.0</td>\n      <td>488.000000</td>\n    </tr>\n  </tbody>\n</table>\n</div>"
     },
     "execution_count": 4,
     "metadata": {},
     "output_type": "execute_result"
    }
   ],
   "source": [
    "obs_df.describe()"
   ],
   "metadata": {
    "collapsed": false,
    "ExecuteTime": {
     "end_time": "2023-05-16T13:04:20.138808Z",
     "start_time": "2023-05-16T13:04:20.122495Z"
    }
   }
  },
  {
   "cell_type": "code",
   "execution_count": 5,
   "outputs": [
    {
     "data": {
      "text/plain": "nl_name           0\nsci_name          0\njaar              0\ncountsubject      0\norig_abundance    0\nstraal            0\nwkt               0\ndtype: int64"
     },
     "execution_count": 5,
     "metadata": {},
     "output_type": "execute_result"
    }
   ],
   "source": [
    "obs_df.isna().sum()"
   ],
   "metadata": {
    "collapsed": false,
    "ExecuteTime": {
     "end_time": "2023-05-16T13:04:23.540163Z",
     "start_time": "2023-05-16T13:04:23.535708Z"
    }
   }
  },
  {
   "cell_type": "code",
   "execution_count": 6,
   "outputs": [
    {
     "data": {
      "text/plain": "nl_name\nZwartkop            22475\nWinterkoning        18088\nTjiftjaf            16349\nGrasmus             14712\nFitis               14189\n                    ...  \nWespendief             78\nSijs                   77\nEuropese kanarie       53\nPurperreiger           42\nRaaf                   34\nName: count, Length: 129, dtype: int64"
     },
     "execution_count": 6,
     "metadata": {},
     "output_type": "execute_result"
    }
   ],
   "source": [
    "obs_df['nl_name'].value_counts()"
   ],
   "metadata": {
    "collapsed": false,
    "ExecuteTime": {
     "end_time": "2023-05-16T13:04:25.706866Z",
     "start_time": "2023-05-16T13:04:25.696823Z"
    }
   }
  },
  {
   "cell_type": "code",
   "execution_count": 7,
   "outputs": [
    {
     "data": {
      "text/plain": "countsubject\nterritorium                       326818\nlevend exemplaar                  115299\nbroedpaar                           5856\nnest                                5277\nvers gesleep nestmateriaal           896\nonbekend                             181\npas gebruikt nest of eierschal       119\nprenten                                1\ncopula                                 1\nlevend organisme                       1\nkolonie                                1\nvers dood gevonden                     1\nbraakballen                            1\nName: count, dtype: int64"
     },
     "execution_count": 7,
     "metadata": {},
     "output_type": "execute_result"
    }
   ],
   "source": [
    "obs_df['countsubject'].value_counts()"
   ],
   "metadata": {
    "collapsed": false,
    "ExecuteTime": {
     "end_time": "2023-05-16T13:04:27.903055Z",
     "start_time": "2023-05-16T13:04:27.899611Z"
    }
   }
  },
  {
   "cell_type": "code",
   "execution_count": 8,
   "outputs": [
    {
     "data": {
      "text/plain": "straal\n283    339589\n71      61410\n3       51766\n25        774\n45        278\n312       232\n102       141\n181        60\n407        42\n11         38\n229        35\n139        25\n488        24\n342        20\n478         5\n204         1\n86          1\n331         1\n305         1\n100         1\n98          1\n381         1\n406         1\n63          1\n5           1\n163         1\n130         1\n362         1\nName: count, dtype: int64"
     },
     "execution_count": 8,
     "metadata": {},
     "output_type": "execute_result"
    }
   ],
   "source": [
    "obs_df['straal'].value_counts()"
   ],
   "metadata": {
    "collapsed": false,
    "ExecuteTime": {
     "end_time": "2023-05-16T13:04:30.949475Z",
     "start_time": "2023-05-16T13:04:30.944063Z"
    }
   }
  },
  {
   "cell_type": "code",
   "execution_count": 9,
   "outputs": [
    {
     "data": {
      "text/plain": "straal  orig_abundance\n283     1                 244029\n3       1                  51599\n71      1                  30106\n283     2                    149\n        3                    109\n                           ...  \n        33                     1\n        348                    1\n71      91                     1\n283     37                     1\n        111                    1\nName: count, Length: 153, dtype: int64"
     },
     "execution_count": 9,
     "metadata": {},
     "output_type": "execute_result"
    }
   ],
   "source": [
    "territory_df = obs_df[obs_df['countsubject'] == 'territorium'][['straal', 'orig_abundance']]\n",
    "territory_df.value_counts()"
   ],
   "metadata": {
    "collapsed": false,
    "ExecuteTime": {
     "end_time": "2023-05-16T13:04:32.994733Z",
     "start_time": "2023-05-16T13:04:32.952860Z"
    }
   }
  },
  {
   "cell_type": "code",
   "execution_count": 10,
   "outputs": [
    {
     "data": {
      "text/plain": "<Figure size 200x200 with 1 Axes>",
      "image/png": "[encoded data removed]"
     },
     "metadata": {},
     "output_type": "display_data"
    }
   ],
   "source": [
    "plt.style.use('_mpl-gallery')\n",
    "\n",
    "fig, ax = plt.subplots()\n",
    "ax.hist(x=territory_df['straal'], bins=10, linewidth=0.5, edgecolor='white')\n",
    "\n",
    "plt.show()"
   ],
   "metadata": {
    "collapsed": false,
    "ExecuteTime": {
     "end_time": "2023-05-16T13:04:34.293152Z",
     "start_time": "2023-05-16T13:04:34.193972Z"
    }
   }
  },
  {
   "cell_type": "code",
   "execution_count": 55,
   "outputs": [
    {
     "data": {
      "text/plain": "straal  orig_abundance\n283     1                 112459\n71      1                  54696\n1       1                  22337\n283     2                  20391\n3       1                  16991\n                           ...  \n283     284                    1\n        285                    1\n        286                    1\n71      58                     1\n192     6                      1\nName: count, Length: 1470, dtype: int64"
     },
     "execution_count": 55,
     "metadata": {},
     "output_type": "execute_result"
    }
   ],
   "source": [
    "living_df = obs_df[obs_df['countsubject'] == 'levend exemplaar'][['straal', 'orig_abundance']]\n",
    "living_df.value_counts()"
   ],
   "metadata": {
    "collapsed": false,
    "ExecuteTime": {
     "end_time": "2023-05-15T10:14:05.140774Z",
     "start_time": "2023-05-15T10:14:05.092092Z"
    }
   }
  },
  {
   "cell_type": "code",
   "execution_count": 11,
   "outputs": [
    {
     "data": {
      "text/plain": "<Figure size 200x200 with 1 Axes>",
      "image/png": "[encoded data removed]"
     },
     "metadata": {},
     "output_type": "display_data"
    }
   ],
   "source": [
    "plt.style.use('_mpl-gallery')\n",
    "\n",
    "fig, ax = plt.subplots()\n",
    "ax.hist(x=living_df['straal'], bins=10, linewidth=0.5, edgecolor='white')\n",
    "\n",
    "plt.show()"
   ],
   "metadata": {
    "collapsed": false,
    "ExecuteTime": {
     "end_time": "2023-05-15T09:41:09.257283Z",
     "start_time": "2023-05-15T09:41:09.185231Z"
    }
   }
  },
  {
   "cell_type": "code",
   "execution_count": null,
   "outputs": [],
   "source": [],
   "metadata": {
    "collapsed": false
   }
  }
 ],
 "metadata": {
  "kernelspec": {
   "display_name": "Python 3",
   "language": "python",
   "name": "python3"
  },
  "language_info": {
   "codemirror_mode": {
    "name": "ipython",
    "version": 2
   },
   "file_extension": ".py",
   "mimetype": "text/x-python",
   "name": "python",
   "nbconvert_exporter": "python",
   "pygments_lexer": "ipython2",
   "version": "2.7.6"
  }
 },
 "nbformat": 4,
 "nbformat_minor": 0
}
