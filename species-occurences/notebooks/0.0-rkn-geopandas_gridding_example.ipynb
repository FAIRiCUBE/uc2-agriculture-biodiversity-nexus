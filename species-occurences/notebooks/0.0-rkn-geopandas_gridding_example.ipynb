{
 "cells": [
  {
   "cell_type": "markdown",
   "metadata": {},
   "source": [
    "# GeoPandas Gridding Example\n",
    "\n",
    "*Rob Knapen, Wageningen Environmental Research*\n",
    "<br>\n",
    "\n",
    "A notebook for trying out [GeoPandas](https://geopandas.org/) for gridding species observations. Based on the vector data provided with each occurrence record, the species abundance is proportionally distributed over the grid cells overlapped by the total geometry of the observation, consisting of the GPS accuracy octagon extended with recorded radius.\n",
    "\n",
    "In this notebook species observation data from NDFF is used. For more information about this data please contact NDFF or visit their website (be aware that it is not fully available in English).\n",
    "\n",
    "**Data source(s)**:\n",
    "- ['Nationale Databank Flora en Fauna'](https://ndff.nl) (October 2022). This data is copy protected."
   ]
  },
  {
   "cell_type": "markdown",
   "metadata": {},
   "source": [
    "### Import Python Packages"
   ]
  },
  {
   "cell_type": "code",
   "execution_count": 3,
   "metadata": {
    "ExecuteTime": {
     "end_time": "2023-07-05T08:30:10.207254Z",
     "start_time": "2023-07-05T08:30:09.357713Z"
    },
    "tags": []
   },
   "outputs": [],
   "source": [
    "import os\n",
    "\n",
    "import matplotlib.pyplot as plt\n",
    "\n",
    "# note that GeoPandas is switching from PyGEOS geometry backend to Shapely 2.0\n",
    "os.environ['USE_PYGEOS'] = '0'\n",
    "\n",
    "import pandas as pd\n",
    "import numpy as np\n",
    "import geopandas as gp\n",
    "\n",
    "import shapely\n",
    "\n",
    "# from geocube.api.core import make_geocube"
   ]
  },
  {
   "cell_type": "markdown",
   "metadata": {},
   "source": [
    "### Load sample species observation data\n",
    "As an example a dataset from the Dutch ['Nationale Databank Flora en Fauna'](https://ndff.nl). While we are hoping for this to be available as open data (soon), it is not yet. However, we have permission to use it for the FAIRiCUBE EU project."
   ]
  },
  {
   "cell_type": "code",
   "execution_count": 23,
   "metadata": {
    "ExecuteTime": {
     "end_time": "2023-07-05T08:56:03.494419Z",
     "start_time": "2023-07-05T08:56:03.460517Z"
    },
    "tags": []
   },
   "outputs": [],
   "source": [
    "# The NDFF datafile to process\n",
    "#\n",
    "# Note that these csv files were specifically prepared for this study, and\n",
    "# other NDFF datasets likely don't have the same columns so will require\n",
    "# pre-processing first!\n",
    "#\n",
    "# Available datasets:\n",
    "# broedvogels_2016.csv      (observations of nesting birds in 2016)     drop = None\n",
    "# overigesoorten_2016.csv   (observations of 'other' species in 2016)   drop = ['obs_uri']\n",
    "# planten_2016.csv          (observations of plants in 2016)            drop = ['obs_uri']\n",
    "\n",
    "# when working with the S3 bucket:\n",
    "base_input_file_path = \"~/s3/uc2-data\"\n",
    "base_output_file_path = \"~/s3/uc2-data\"\n",
    "\n",
    "# when running locally\n",
    "#base_input_file_path = \"../../../local/data\"\n",
    "#base_output_file_path = \"../data\"\n",
    "\n",
    "# ----\n",
    "\n",
    "obs_filename = base_input_file_path + \"/ndff-licensed/broedvogels_2016.csv\"\n",
    "obs_crs = \"EPSG:28992\"\n",
    "\n",
    "# the columns to drop right away\n",
    "always_drop_cols_from_source = None\n",
    "#always_drop_cols_from_source = ['obs_uri']\n",
    "\n",
    "# ----\n",
    "\n",
    "# area of interest\n",
    "aoi_crs  = 'EPSG:32631' # WGS 84 / UTM zone 31N\n",
    "aoi_xmin =  674900\n",
    "aoi_xmax =  729800\n",
    "aoi_ymin = 5832230\n",
    "aoi_ymax = 5853960\n",
    "\n",
    "# boundaries for plotting samples\n",
    "plot_xmin =  702000\n",
    "plot_xmax =  708000\n",
    "plot_ymin = 5845000\n",
    "plot_ymax = 5846000\n",
    "\n",
    "# the grid to use for data aggregation (using box grid, hex grid doesn't work so well)\n",
    "aoi_grid_filename = base_input_file_path + \"/grids/aoi_grid_box_100m_utm31n.gpkg\"\n",
    "aoi_cell_size = 1000 # meters\n",
    "\n",
    "# base output path prefix, used for created files\n",
    "out_prefix = base_output_file_path + \"/processed/selectedspecies_2016_100m_\""
   ]
  },
  {
   "cell_type": "markdown",
   "metadata": {},
   "source": [
    "### Use a Pandas DataFrame for some pre-processing\n",
    "Do some initial cleaning of the data first. Also fix the geometry data, so it fits GeoPandas expectations.\n",
    "\n",
    "It would be worthwhile to save the pre-processed data for reuse later. We can then directly specify filter criteria, including a bounding box filter, when reading the data."
   ]
  },
  {
   "cell_type": "code",
   "execution_count": 24,
   "metadata": {
    "ExecuteTime": {
     "end_time": "2023-07-05T08:56:06.742558Z",
     "start_time": "2023-07-05T08:56:05.391348Z"
    },
    "tags": []
   },
   "outputs": [
    {
     "data": {
      "text/html": [
       "<div>\n",
       "<style scoped>\n",
       "    .dataframe tbody tr th:only-of-type {\n",
       "        vertical-align: middle;\n",
       "    }\n",
       "\n",
       "    .dataframe tbody tr th {\n",
       "        vertical-align: top;\n",
       "    }\n",
       "\n",
       "    .dataframe thead th {\n",
       "        text-align: right;\n",
       "    }\n",
       "</style>\n",
       "<table border=\"1\" class=\"dataframe\">\n",
       "  <thead>\n",
       "    <tr style=\"text-align: right;\">\n",
       "      <th></th>\n",
       "      <th>nl_name</th>\n",
       "      <th>sci_name</th>\n",
       "      <th>jaar</th>\n",
       "      <th>countsubject</th>\n",
       "      <th>orig_abundance</th>\n",
       "      <th>straal</th>\n",
       "      <th>wkt</th>\n",
       "    </tr>\n",
       "  </thead>\n",
       "  <tbody>\n",
       "    <tr>\n",
       "      <th>0</th>\n",
       "      <td>Krakeend</td>\n",
       "      <td>Anas strepera</td>\n",
       "      <td>2016</td>\n",
       "      <td>territorium</td>\n",
       "      <td>1.0</td>\n",
       "      <td>71</td>\n",
       "      <td>POLYGON((247282 584478,247280.535533906 584474...</td>\n",
       "    </tr>\n",
       "    <tr>\n",
       "      <th>1</th>\n",
       "      <td>Zwartkop</td>\n",
       "      <td>Sylvia atricapilla</td>\n",
       "      <td>2016</td>\n",
       "      <td>territorium</td>\n",
       "      <td>1.0</td>\n",
       "      <td>283</td>\n",
       "      <td>POLYGON((65405.294923655 436165.134083641,6540...</td>\n",
       "    </tr>\n",
       "    <tr>\n",
       "      <th>2</th>\n",
       "      <td>Zanglijster</td>\n",
       "      <td>Turdus philomelos</td>\n",
       "      <td>2016</td>\n",
       "      <td>territorium</td>\n",
       "      <td>1.0</td>\n",
       "      <td>283</td>\n",
       "      <td>POLYGON((188642.918478918 344195.927912087,188...</td>\n",
       "    </tr>\n",
       "    <tr>\n",
       "      <th>3</th>\n",
       "      <td>Zanglijster</td>\n",
       "      <td>Turdus philomelos</td>\n",
       "      <td>2016</td>\n",
       "      <td>territorium</td>\n",
       "      <td>1.0</td>\n",
       "      <td>283</td>\n",
       "      <td>POLYGON((169116.484375 446596.0625,169113.5554...</td>\n",
       "    </tr>\n",
       "    <tr>\n",
       "      <th>4</th>\n",
       "      <td>Spreeuw</td>\n",
       "      <td>Sturnus vulgaris</td>\n",
       "      <td>2016</td>\n",
       "      <td>nest</td>\n",
       "      <td>1.0</td>\n",
       "      <td>283</td>\n",
       "      <td>POLYGON((127692 427328,127689.071067812 427320...</td>\n",
       "    </tr>\n",
       "  </tbody>\n",
       "</table>\n",
       "</div>"
      ],
      "text/plain": [
       "       nl_name            sci_name  jaar countsubject  orig_abundance  straal  \\\n",
       "0     Krakeend       Anas strepera  2016  territorium             1.0      71   \n",
       "1     Zwartkop  Sylvia atricapilla  2016  territorium             1.0     283   \n",
       "2  Zanglijster   Turdus philomelos  2016  territorium             1.0     283   \n",
       "3  Zanglijster   Turdus philomelos  2016  territorium             1.0     283   \n",
       "4      Spreeuw    Sturnus vulgaris  2016         nest             1.0     283   \n",
       "\n",
       "                                                 wkt  \n",
       "0  POLYGON((247282 584478,247280.535533906 584474...  \n",
       "1  POLYGON((65405.294923655 436165.134083641,6540...  \n",
       "2  POLYGON((188642.918478918 344195.927912087,188...  \n",
       "3  POLYGON((169116.484375 446596.0625,169113.5554...  \n",
       "4  POLYGON((127692 427328,127689.071067812 427320...  "
      ]
     },
     "execution_count": 24,
     "metadata": {},
     "output_type": "execute_result"
    }
   ],
   "source": [
    "# load the data into a regular pandas dataframe\n",
    "obs_df = pd.read_csv(obs_filename, header='infer', sep=';', on_bad_lines='warn')\n",
    "\n",
    "# remove not needed columns\n",
    "if always_drop_cols_from_source:\n",
    "    obs_df.drop(columns=always_drop_cols_from_source, inplace=True)\n",
    "\n",
    "# remove the crs prefix from the wkt data\n",
    "obs_df['wkt_excl_crs'] = obs_df['wkt'].map(lambda x: x.split(';')[1], na_action='ignore')\n",
    "obs_df.drop(columns=['wkt'], inplace=True)\n",
    "obs_df.rename(columns={'wkt_excl_crs': 'wkt'}, inplace=True)\n",
    "\n",
    "# remove non-numeric abundance values\n",
    "obs_df = obs_df[pd.to_numeric(obs_df['orig_abundance'], errors='coerce').notnull()]\n",
    "obs_df['orig_abundance'] = obs_df['orig_abundance'].astype(float)\n",
    "\n",
    "obs_df.head(5)"
   ]
  },
  {
   "cell_type": "markdown",
   "metadata": {},
   "source": [
    "### Lift the data into a GeoPandas GeoDataFrame\n",
    "Create a GeoPandas GeoDataFrame from the regular (non spatial-aware) DataFrame. After that use GeoPandas functionality to transform the data from the Dutch coordinate reference system to the preferred CRS for the area of interest."
   ]
  },
  {
   "cell_type": "code",
   "execution_count": 25,
   "metadata": {
    "ExecuteTime": {
     "end_time": "2023-07-05T08:56:13.265660Z",
     "start_time": "2023-07-05T08:56:09.222676Z"
    },
    "tags": []
   },
   "outputs": [
    {
     "data": {
      "text/html": [
       "<div>\n",
       "<style scoped>\n",
       "    .dataframe tbody tr th:only-of-type {\n",
       "        vertical-align: middle;\n",
       "    }\n",
       "\n",
       "    .dataframe tbody tr th {\n",
       "        vertical-align: top;\n",
       "    }\n",
       "\n",
       "    .dataframe thead th {\n",
       "        text-align: right;\n",
       "    }\n",
       "</style>\n",
       "<table border=\"1\" class=\"dataframe\">\n",
       "  <thead>\n",
       "    <tr style=\"text-align: right;\">\n",
       "      <th></th>\n",
       "      <th>nl_name</th>\n",
       "      <th>sci_name</th>\n",
       "      <th>jaar</th>\n",
       "      <th>countsubject</th>\n",
       "      <th>orig_abundance</th>\n",
       "      <th>straal</th>\n",
       "      <th>geometry</th>\n",
       "    </tr>\n",
       "  </thead>\n",
       "  <tbody>\n",
       "    <tr>\n",
       "      <th>0</th>\n",
       "      <td>Krakeend</td>\n",
       "      <td>Anas strepera</td>\n",
       "      <td>2016</td>\n",
       "      <td>territorium</td>\n",
       "      <td>1.0</td>\n",
       "      <td>71</td>\n",
       "      <td>POLYGON ((751518.337 5905480.782, 751516.991 5...</td>\n",
       "    </tr>\n",
       "    <tr>\n",
       "      <th>1</th>\n",
       "      <td>Zwartkop</td>\n",
       "      <td>Sylvia atricapilla</td>\n",
       "      <td>2016</td>\n",
       "      <td>territorium</td>\n",
       "      <td>1.0</td>\n",
       "      <td>283</td>\n",
       "      <td>POLYGON ((574652.165 5751224.946, 574649.470 5...</td>\n",
       "    </tr>\n",
       "    <tr>\n",
       "      <th>2</th>\n",
       "      <td>Zanglijster</td>\n",
       "      <td>Turdus philomelos</td>\n",
       "      <td>2016</td>\n",
       "      <td>territorium</td>\n",
       "      <td>1.0</td>\n",
       "      <td>283</td>\n",
       "      <td>POLYGON ((700809.959 5663334.067, 700807.260 5...</td>\n",
       "    </tr>\n",
       "    <tr>\n",
       "      <th>3</th>\n",
       "      <td>Zanglijster</td>\n",
       "      <td>Turdus philomelos</td>\n",
       "      <td>2016</td>\n",
       "      <td>territorium</td>\n",
       "      <td>1.0</td>\n",
       "      <td>283</td>\n",
       "      <td>POLYGON ((677952.618 5765052.467, 677949.923 5...</td>\n",
       "    </tr>\n",
       "    <tr>\n",
       "      <th>4</th>\n",
       "      <td>Spreeuw</td>\n",
       "      <td>Sturnus vulgaris</td>\n",
       "      <td>2016</td>\n",
       "      <td>nest</td>\n",
       "      <td>1.0</td>\n",
       "      <td>283</td>\n",
       "      <td>POLYGON ((637182.769 5744436.329, 637180.073 5...</td>\n",
       "    </tr>\n",
       "  </tbody>\n",
       "</table>\n",
       "</div>"
      ],
      "text/plain": [
       "       nl_name            sci_name  jaar countsubject  orig_abundance  straal  \\\n",
       "0     Krakeend       Anas strepera  2016  territorium             1.0      71   \n",
       "1     Zwartkop  Sylvia atricapilla  2016  territorium             1.0     283   \n",
       "2  Zanglijster   Turdus philomelos  2016  territorium             1.0     283   \n",
       "3  Zanglijster   Turdus philomelos  2016  territorium             1.0     283   \n",
       "4      Spreeuw    Sturnus vulgaris  2016         nest             1.0     283   \n",
       "\n",
       "                                            geometry  \n",
       "0  POLYGON ((751518.337 5905480.782, 751516.991 5...  \n",
       "1  POLYGON ((574652.165 5751224.946, 574649.470 5...  \n",
       "2  POLYGON ((700809.959 5663334.067, 700807.260 5...  \n",
       "3  POLYGON ((677952.618 5765052.467, 677949.923 5...  \n",
       "4  POLYGON ((637182.769 5744436.329, 637180.073 5...  "
      ]
     },
     "execution_count": 25,
     "metadata": {},
     "output_type": "execute_result"
    }
   ],
   "source": [
    "# note that we used the pandas dataframe\n",
    "obs_gs = gp.GeoSeries.from_wkt(obs_df['wkt'])\n",
    "obs_gdf = gp.GeoDataFrame(obs_df, geometry=obs_gs, crs=obs_crs)\n",
    "\n",
    "# transform the dataset to the CRS of the area of interest\n",
    "obs_gdf.to_crs(crs=aoi_crs, inplace=True)\n",
    "obs_gdf.drop(columns=['wkt'], inplace=True)\n",
    "\n",
    "obs_gdf.head(5)"
   ]
  },
  {
   "cell_type": "code",
   "execution_count": 26,
   "metadata": {
    "ExecuteTime": {
     "end_time": "2023-07-05T08:56:15.499371Z",
     "start_time": "2023-07-05T08:56:15.476864Z"
    },
    "tags": []
   },
   "outputs": [],
   "source": [
    "# save this data in a GIS format\n",
    "#obs_gdf.to_file(out_prefix + \"nl_cleaned.gpkg\", driver=\"GPKG\")"
   ]
  },
  {
   "cell_type": "markdown",
   "metadata": {},
   "source": [
    "### Data selection\n",
    "Limit the data to that of the area of interest."
   ]
  },
  {
   "cell_type": "code",
   "execution_count": 27,
   "metadata": {
    "ExecuteTime": {
     "end_time": "2023-07-05T08:56:17.042513Z",
     "start_time": "2023-07-05T08:56:16.989182Z"
    },
    "tags": []
   },
   "outputs": [
    {
     "data": {
      "text/html": [
       "<div>\n",
       "<style scoped>\n",
       "    .dataframe tbody tr th:only-of-type {\n",
       "        vertical-align: middle;\n",
       "    }\n",
       "\n",
       "    .dataframe tbody tr th {\n",
       "        vertical-align: top;\n",
       "    }\n",
       "\n",
       "    .dataframe thead th {\n",
       "        text-align: right;\n",
       "    }\n",
       "</style>\n",
       "<table border=\"1\" class=\"dataframe\">\n",
       "  <thead>\n",
       "    <tr style=\"text-align: right;\">\n",
       "      <th></th>\n",
       "      <th>nl_name</th>\n",
       "      <th>sci_name</th>\n",
       "      <th>jaar</th>\n",
       "      <th>countsubject</th>\n",
       "      <th>orig_abundance</th>\n",
       "      <th>straal</th>\n",
       "      <th>geometry</th>\n",
       "    </tr>\n",
       "  </thead>\n",
       "  <tbody>\n",
       "    <tr>\n",
       "      <th>77</th>\n",
       "      <td>Boomklever</td>\n",
       "      <td>Sitta europaea</td>\n",
       "      <td>2016</td>\n",
       "      <td>territorium</td>\n",
       "      <td>1.0</td>\n",
       "      <td>3</td>\n",
       "      <td>POLYGON ((696534.968 5839329.095, 696534.699 5...</td>\n",
       "    </tr>\n",
       "    <tr>\n",
       "      <th>177</th>\n",
       "      <td>Boomkruiper</td>\n",
       "      <td>Certhia brachydactyla</td>\n",
       "      <td>2016</td>\n",
       "      <td>territorium</td>\n",
       "      <td>1.0</td>\n",
       "      <td>3</td>\n",
       "      <td>POLYGON ((696593.972 5839511.176, 696593.703 5...</td>\n",
       "    </tr>\n",
       "    <tr>\n",
       "      <th>244</th>\n",
       "      <td>Zwartkop</td>\n",
       "      <td>Sylvia atricapilla</td>\n",
       "      <td>2016</td>\n",
       "      <td>territorium</td>\n",
       "      <td>1.0</td>\n",
       "      <td>3</td>\n",
       "      <td>POLYGON ((696559.077 5841648.484, 696558.808 5...</td>\n",
       "    </tr>\n",
       "    <tr>\n",
       "      <th>321</th>\n",
       "      <td>Grauwe gans</td>\n",
       "      <td>Anser anser</td>\n",
       "      <td>2016</td>\n",
       "      <td>territorium</td>\n",
       "      <td>1.0</td>\n",
       "      <td>3</td>\n",
       "      <td>POLYGON ((708429.841 5850887.999, 708429.572 5...</td>\n",
       "    </tr>\n",
       "    <tr>\n",
       "      <th>352</th>\n",
       "      <td>Boompieper</td>\n",
       "      <td>Anthus trivialis</td>\n",
       "      <td>2016</td>\n",
       "      <td>territorium</td>\n",
       "      <td>1.0</td>\n",
       "      <td>3</td>\n",
       "      <td>POLYGON ((695002.120 5839142.150, 695001.851 5...</td>\n",
       "    </tr>\n",
       "  </tbody>\n",
       "</table>\n",
       "</div>"
      ],
      "text/plain": [
       "         nl_name               sci_name  jaar countsubject  orig_abundance  \\\n",
       "77    Boomklever         Sitta europaea  2016  territorium             1.0   \n",
       "177  Boomkruiper  Certhia brachydactyla  2016  territorium             1.0   \n",
       "244     Zwartkop     Sylvia atricapilla  2016  territorium             1.0   \n",
       "321  Grauwe gans            Anser anser  2016  territorium             1.0   \n",
       "352   Boompieper       Anthus trivialis  2016  territorium             1.0   \n",
       "\n",
       "     straal                                           geometry  \n",
       "77        3  POLYGON ((696534.968 5839329.095, 696534.699 5...  \n",
       "177       3  POLYGON ((696593.972 5839511.176, 696593.703 5...  \n",
       "244       3  POLYGON ((696559.077 5841648.484, 696558.808 5...  \n",
       "321       3  POLYGON ((708429.841 5850887.999, 708429.572 5...  \n",
       "352       3  POLYGON ((695002.120 5839142.150, 695001.851 5...  "
      ]
     },
     "execution_count": 27,
     "metadata": {},
     "output_type": "execute_result"
    }
   ],
   "source": [
    "# spatially select observations within the area of interest\n",
    "aoi_obs_gdf = obs_gdf.cx[aoi_xmin:aoi_xmax, aoi_ymin:aoi_ymax]\n",
    "aoi_obs_gdf.head(5)"
   ]
  },
  {
   "cell_type": "code",
   "execution_count": 28,
   "metadata": {
    "ExecuteTime": {
     "end_time": "2023-07-05T08:56:18.446818Z",
     "start_time": "2023-07-05T08:56:18.420192Z"
    },
    "tags": []
   },
   "outputs": [],
   "source": [
    "# save this data in a GIS format for reuse\n",
    "#aoi_obs_gdf.to_file(out_prefix + \"aoi_cleaned.gpkg\", driver=\"GPKG\")"
   ]
  },
  {
   "cell_type": "markdown",
   "metadata": {},
   "source": [
    "### Extend observation polygons with indicated radius\n",
    "\n",
    "For each observation create a buffer with the recorded radius around the recorded geometry."
   ]
  },
  {
   "cell_type": "code",
   "execution_count": 29,
   "metadata": {
    "ExecuteTime": {
     "end_time": "2023-07-05T08:56:20.577116Z",
     "start_time": "2023-07-05T08:56:20.179900Z"
    },
    "tags": []
   },
   "outputs": [
    {
     "data": {
      "text/html": [
       "<div>\n",
       "<style scoped>\n",
       "    .dataframe tbody tr th:only-of-type {\n",
       "        vertical-align: middle;\n",
       "    }\n",
       "\n",
       "    .dataframe tbody tr th {\n",
       "        vertical-align: top;\n",
       "    }\n",
       "\n",
       "    .dataframe thead th {\n",
       "        text-align: right;\n",
       "    }\n",
       "</style>\n",
       "<table border=\"1\" class=\"dataframe\">\n",
       "  <thead>\n",
       "    <tr style=\"text-align: right;\">\n",
       "      <th></th>\n",
       "      <th>nl_name</th>\n",
       "      <th>sci_name</th>\n",
       "      <th>jaar</th>\n",
       "      <th>countsubject</th>\n",
       "      <th>orig_abundance</th>\n",
       "      <th>straal</th>\n",
       "      <th>geometry</th>\n",
       "      <th>area_buff</th>\n",
       "    </tr>\n",
       "  </thead>\n",
       "  <tbody>\n",
       "    <tr>\n",
       "      <th>77</th>\n",
       "      <td>Boomklever</td>\n",
       "      <td>Sitta europaea</td>\n",
       "      <td>2016</td>\n",
       "      <td>territorium</td>\n",
       "      <td>1.0</td>\n",
       "      <td>3</td>\n",
       "      <td>POLYGON ((696537.700 5839330.335, 696537.809 5...</td>\n",
       "      <td>49.429436</td>\n",
       "    </tr>\n",
       "    <tr>\n",
       "      <th>177</th>\n",
       "      <td>Boomkruiper</td>\n",
       "      <td>Certhia brachydactyla</td>\n",
       "      <td>2016</td>\n",
       "      <td>territorium</td>\n",
       "      <td>1.0</td>\n",
       "      <td>3</td>\n",
       "      <td>POLYGON ((696596.704 5839512.416, 696596.813 5...</td>\n",
       "      <td>49.429439</td>\n",
       "    </tr>\n",
       "    <tr>\n",
       "      <th>244</th>\n",
       "      <td>Zwartkop</td>\n",
       "      <td>Sylvia atricapilla</td>\n",
       "      <td>2016</td>\n",
       "      <td>territorium</td>\n",
       "      <td>1.0</td>\n",
       "      <td>3</td>\n",
       "      <td>POLYGON ((696561.809 5841649.723, 696561.917 5...</td>\n",
       "      <td>49.429398</td>\n",
       "    </tr>\n",
       "  </tbody>\n",
       "</table>\n",
       "</div>"
      ],
      "text/plain": [
       "         nl_name               sci_name  jaar countsubject  orig_abundance  \\\n",
       "77    Boomklever         Sitta europaea  2016  territorium             1.0   \n",
       "177  Boomkruiper  Certhia brachydactyla  2016  territorium             1.0   \n",
       "244     Zwartkop     Sylvia atricapilla  2016  territorium             1.0   \n",
       "\n",
       "     straal                                           geometry  area_buff  \n",
       "77        3  POLYGON ((696537.700 5839330.335, 696537.809 5...  49.429436  \n",
       "177       3  POLYGON ((696596.704 5839512.416, 696596.813 5...  49.429439  \n",
       "244       3  POLYGON ((696561.809 5841649.723, 696561.917 5...  49.429398  "
      ]
     },
     "execution_count": 29,
     "metadata": {},
     "output_type": "execute_result"
    }
   ],
   "source": [
    "aoi_obs_buff_gdf = aoi_obs_gdf.copy()\n",
    "\n",
    "# add the buffers\n",
    "aoi_obs_buff_gdf['geometry'] = aoi_obs_gdf.apply(lambda row:\n",
    "                                                 (row['geometry'].buffer(row['straal'])),\n",
    "                                                 axis=1)\n",
    "# add the area of the buffers\n",
    "aoi_obs_buff_gdf['area_buff'] = aoi_obs_buff_gdf.area\n",
    "\n",
    "aoi_obs_buff_gdf.head(3)"
   ]
  },
  {
   "cell_type": "code",
   "execution_count": 30,
   "metadata": {
    "ExecuteTime": {
     "end_time": "2023-07-05T08:56:22.165807Z",
     "start_time": "2023-07-05T08:56:22.072103Z"
    },
    "tags": []
   },
   "outputs": [
    {
     "data": {
      "text/plain": [
       "<Axes: >"
      ]
     },
     "execution_count": 30,
     "metadata": {},
     "output_type": "execute_result"
    },
    {
     "data": {
      "image/png": "[encoded data removed]",
      "text/plain": [
       "<Figure size 1200x800 with 1 Axes>"
      ]
     },
     "metadata": {},
     "output_type": "display_data"
    }
   ],
   "source": [
    "subset = aoi_obs_buff_gdf.cx[plot_xmin:plot_xmax, plot_ymin:plot_ymax]\n",
    "subset.plot(figsize=(12, 8))"
   ]
  },
  {
   "cell_type": "code",
   "execution_count": 31,
   "metadata": {
    "ExecuteTime": {
     "end_time": "2023-07-05T08:56:24.322163Z",
     "start_time": "2023-07-05T08:56:24.290583Z"
    },
    "tags": []
   },
   "outputs": [],
   "source": [
    "# save this data in a GIS format for reuse\n",
    "#aoi_obs_buff_gdf.to_file(out_prefix + \"aoi_cleaned_buffered.gpkg\", driver=\"GPKG\")"
   ]
  },
  {
   "cell_type": "markdown",
   "metadata": {},
   "source": [
    "### Create a GeoDataFrame with a grid\n",
    "Load (or construct) a grid that covers the extent of the area of interest. This will later be used to aggregate the data into."
   ]
  },
  {
   "cell_type": "code",
   "execution_count": 32,
   "metadata": {
    "ExecuteTime": {
     "end_time": "2023-07-05T08:56:26.225300Z",
     "start_time": "2023-07-05T08:56:26.141655Z"
    },
    "tags": []
   },
   "outputs": [],
   "source": [
    "grid_gdf = gp.read_file(aoi_grid_filename, driver=\"GPKG\")\n",
    "grid_gdf = grid_gdf.cx[aoi_xmin:aoi_xmax, aoi_ymin:aoi_ymax]"
   ]
  },
  {
   "cell_type": "code",
   "execution_count": 33,
   "metadata": {
    "ExecuteTime": {
     "end_time": "2023-07-05T08:56:27.697144Z",
     "start_time": "2023-07-05T08:56:27.671377Z"
    },
    "tags": []
   },
   "outputs": [],
   "source": [
    "# total area for the grid\n",
    "#xmin, ymin, xmax, ymax= aoi_obs_gdf.total_bounds\n",
    "\n",
    "# how many cells across and down\n",
    "#n_cells = 200\n",
    "#cell_size = (xmax - xmin) / n_cells\n",
    "\n",
    "# create the cells in a loop\n",
    "#grid_ids = []\n",
    "#grid_cells = []\n",
    "#col = 0\n",
    "#for x0 in np.arange(xmin, xmax + cell_size, cell_size):\n",
    "#    row = 0\n",
    "#    for y0 in np.arange(ymin, ymax + cell_size, cell_size):\n",
    "#        # bounds\n",
    "#        x1 = x0 - cell_size\n",
    "#        y1 = y0 + cell_size\n",
    "#        grid_ids.append(row * n_cells + col)\n",
    "#        grid_cells.append(shapely.geometry.box(x0, y0, x1, y1))\n",
    "#        row = row + 1\n",
    "#    col = col + 1\n",
    "\n",
    "#grid_gdf = gp.GeoDataFrame(data={'cell_id': grid_ids, 'geometry': grid_cells}, geometry='geometry', crs=aoi_crs)\n",
    "#grid_gdf['area_grid'] = grid_gdf.area"
   ]
  },
  {
   "cell_type": "code",
   "execution_count": 34,
   "metadata": {
    "ExecuteTime": {
     "end_time": "2023-07-05T08:56:29.215301Z",
     "start_time": "2023-07-05T08:56:29.190689Z"
    },
    "tags": []
   },
   "outputs": [
    {
     "data": {
      "text/html": [
       "<div>\n",
       "<style scoped>\n",
       "    .dataframe tbody tr th:only-of-type {\n",
       "        vertical-align: middle;\n",
       "    }\n",
       "\n",
       "    .dataframe tbody tr th {\n",
       "        vertical-align: top;\n",
       "    }\n",
       "\n",
       "    .dataframe thead th {\n",
       "        text-align: right;\n",
       "    }\n",
       "</style>\n",
       "<table border=\"1\" class=\"dataframe\">\n",
       "  <thead>\n",
       "    <tr style=\"text-align: right;\">\n",
       "      <th></th>\n",
       "      <th>id</th>\n",
       "      <th>left</th>\n",
       "      <th>top</th>\n",
       "      <th>right</th>\n",
       "      <th>bottom</th>\n",
       "      <th>geometry</th>\n",
       "    </tr>\n",
       "  </thead>\n",
       "  <tbody>\n",
       "    <tr>\n",
       "      <th>0</th>\n",
       "      <td>1</td>\n",
       "      <td>674900.0</td>\n",
       "      <td>5853960.0</td>\n",
       "      <td>675000.0</td>\n",
       "      <td>5853860.0</td>\n",
       "      <td>POLYGON ((674900.000 5853960.000, 675000.000 5...</td>\n",
       "    </tr>\n",
       "    <tr>\n",
       "      <th>1</th>\n",
       "      <td>2</td>\n",
       "      <td>674900.0</td>\n",
       "      <td>5853860.0</td>\n",
       "      <td>675000.0</td>\n",
       "      <td>5853760.0</td>\n",
       "      <td>POLYGON ((674900.000 5853860.000, 675000.000 5...</td>\n",
       "    </tr>\n",
       "    <tr>\n",
       "      <th>2</th>\n",
       "      <td>3</td>\n",
       "      <td>674900.0</td>\n",
       "      <td>5853760.0</td>\n",
       "      <td>675000.0</td>\n",
       "      <td>5853660.0</td>\n",
       "      <td>POLYGON ((674900.000 5853760.000, 675000.000 5...</td>\n",
       "    </tr>\n",
       "  </tbody>\n",
       "</table>\n",
       "</div>"
      ],
      "text/plain": [
       "   id      left        top     right     bottom  \\\n",
       "0   1  674900.0  5853960.0  675000.0  5853860.0   \n",
       "1   2  674900.0  5853860.0  675000.0  5853760.0   \n",
       "2   3  674900.0  5853760.0  675000.0  5853660.0   \n",
       "\n",
       "                                            geometry  \n",
       "0  POLYGON ((674900.000 5853960.000, 675000.000 5...  \n",
       "1  POLYGON ((674900.000 5853860.000, 675000.000 5...  \n",
       "2  POLYGON ((674900.000 5853760.000, 675000.000 5...  "
      ]
     },
     "execution_count": 34,
     "metadata": {},
     "output_type": "execute_result"
    }
   ],
   "source": [
    "#print(f\"cell size = {cell_size:.4f} {grid_gdf.crs.axis_info[0].unit_name}\")\n",
    "grid_gdf.head(3)"
   ]
  },
  {
   "cell_type": "code",
   "execution_count": 35,
   "metadata": {
    "ExecuteTime": {
     "end_time": "2023-07-05T08:56:30.382293Z",
     "start_time": "2023-07-05T08:56:30.255273Z"
    },
    "tags": []
   },
   "outputs": [
    {
     "data": {
      "image/png": "[encoded data removed]",
      "text/plain": [
       "<Figure size 1200x800 with 1 Axes>"
      ]
     },
     "metadata": {},
     "output_type": "display_data"
    }
   ],
   "source": [
    "# plot the grid over the observations data (don't try for large grids)\n",
    "data_selection = aoi_obs_buff_gdf.cx[plot_xmin:plot_xmax, plot_ymin:plot_ymax]\n",
    "ax = data_selection.plot(markersize=0.5, figsize=(12, 8), column='straal', cmap='jet')\n",
    "plt.autoscale(False)\n",
    "grid_selection = grid_gdf.cx[plot_xmin:plot_xmax, plot_ymin:plot_ymax]\n",
    "grid_gdf.plot(ax=ax, facecolor=\"none\", edgecolor='grey')\n",
    "ax.axis(\"off\");"
   ]
  },
  {
   "cell_type": "markdown",
   "metadata": {},
   "source": [
    "### Calculate overlap"
   ]
  },
  {
   "cell_type": "code",
   "execution_count": 36,
   "metadata": {
    "ExecuteTime": {
     "end_time": "2023-07-05T08:56:35.613903Z",
     "start_time": "2023-07-05T08:56:32.669064Z"
    },
    "tags": []
   },
   "outputs": [
    {
     "data": {
      "text/html": [
       "<div>\n",
       "<style scoped>\n",
       "    .dataframe tbody tr th:only-of-type {\n",
       "        vertical-align: middle;\n",
       "    }\n",
       "\n",
       "    .dataframe tbody tr th {\n",
       "        vertical-align: top;\n",
       "    }\n",
       "\n",
       "    .dataframe thead th {\n",
       "        text-align: right;\n",
       "    }\n",
       "</style>\n",
       "<table border=\"1\" class=\"dataframe\">\n",
       "  <thead>\n",
       "    <tr style=\"text-align: right;\">\n",
       "      <th></th>\n",
       "      <th>id</th>\n",
       "      <th>left</th>\n",
       "      <th>top</th>\n",
       "      <th>right</th>\n",
       "      <th>bottom</th>\n",
       "      <th>nl_name</th>\n",
       "      <th>sci_name</th>\n",
       "      <th>jaar</th>\n",
       "      <th>countsubject</th>\n",
       "      <th>orig_abundance</th>\n",
       "      <th>straal</th>\n",
       "      <th>area_buff</th>\n",
       "      <th>geometry</th>\n",
       "      <th>area_joined</th>\n",
       "    </tr>\n",
       "  </thead>\n",
       "  <tbody>\n",
       "    <tr>\n",
       "      <th>0</th>\n",
       "      <td>47.0</td>\n",
       "      <td>674900.0</td>\n",
       "      <td>5849360.0</td>\n",
       "      <td>675000.0</td>\n",
       "      <td>5849260.0</td>\n",
       "      <td>Wielewaal</td>\n",
       "      <td>Oriolus oriolus</td>\n",
       "      <td>2016.0</td>\n",
       "      <td>levend exemplaar</td>\n",
       "      <td>1.0</td>\n",
       "      <td>283.0</td>\n",
       "      <td>268814.445766</td>\n",
       "      <td>POLYGON ((675000.000 5849260.000, 674986.587 5...</td>\n",
       "      <td>197.634148</td>\n",
       "    </tr>\n",
       "    <tr>\n",
       "      <th>1</th>\n",
       "      <td>48.0</td>\n",
       "      <td>674900.0</td>\n",
       "      <td>5849260.0</td>\n",
       "      <td>675000.0</td>\n",
       "      <td>5849160.0</td>\n",
       "      <td>Wielewaal</td>\n",
       "      <td>Oriolus oriolus</td>\n",
       "      <td>2016.0</td>\n",
       "      <td>levend exemplaar</td>\n",
       "      <td>1.0</td>\n",
       "      <td>283.0</td>\n",
       "      <td>268814.445766</td>\n",
       "      <td>POLYGON ((675000.000 5849260.000, 675000.000 5...</td>\n",
       "      <td>2857.924937</td>\n",
       "    </tr>\n",
       "    <tr>\n",
       "      <th>2</th>\n",
       "      <td>49.0</td>\n",
       "      <td>674900.0</td>\n",
       "      <td>5849160.0</td>\n",
       "      <td>675000.0</td>\n",
       "      <td>5849060.0</td>\n",
       "      <td>Wielewaal</td>\n",
       "      <td>Oriolus oriolus</td>\n",
       "      <td>2016.0</td>\n",
       "      <td>levend exemplaar</td>\n",
       "      <td>1.0</td>\n",
       "      <td>283.0</td>\n",
       "      <td>268814.445766</td>\n",
       "      <td>POLYGON ((675000.000 5849160.000, 675000.000 5...</td>\n",
       "      <td>3430.728792</td>\n",
       "    </tr>\n",
       "    <tr>\n",
       "      <th>3</th>\n",
       "      <td>50.0</td>\n",
       "      <td>674900.0</td>\n",
       "      <td>5849060.0</td>\n",
       "      <td>675000.0</td>\n",
       "      <td>5848960.0</td>\n",
       "      <td>Wielewaal</td>\n",
       "      <td>Oriolus oriolus</td>\n",
       "      <td>2016.0</td>\n",
       "      <td>levend exemplaar</td>\n",
       "      <td>1.0</td>\n",
       "      <td>283.0</td>\n",
       "      <td>268814.445766</td>\n",
       "      <td>POLYGON ((675000.000 5849060.000, 675000.000 5...</td>\n",
       "      <td>799.940011</td>\n",
       "    </tr>\n",
       "    <tr>\n",
       "      <th>4</th>\n",
       "      <td>264.0</td>\n",
       "      <td>675000.0</td>\n",
       "      <td>5849460.0</td>\n",
       "      <td>675100.0</td>\n",
       "      <td>5849360.0</td>\n",
       "      <td>Wielewaal</td>\n",
       "      <td>Oriolus oriolus</td>\n",
       "      <td>2016.0</td>\n",
       "      <td>levend exemplaar</td>\n",
       "      <td>1.0</td>\n",
       "      <td>283.0</td>\n",
       "      <td>268814.445766</td>\n",
       "      <td>POLYGON ((675100.000 5849360.000, 675056.704 5...</td>\n",
       "      <td>751.977313</td>\n",
       "    </tr>\n",
       "  </tbody>\n",
       "</table>\n",
       "</div>"
      ],
      "text/plain": [
       "      id      left        top     right     bottom    nl_name  \\\n",
       "0   47.0  674900.0  5849360.0  675000.0  5849260.0  Wielewaal   \n",
       "1   48.0  674900.0  5849260.0  675000.0  5849160.0  Wielewaal   \n",
       "2   49.0  674900.0  5849160.0  675000.0  5849060.0  Wielewaal   \n",
       "3   50.0  674900.0  5849060.0  675000.0  5848960.0  Wielewaal   \n",
       "4  264.0  675000.0  5849460.0  675100.0  5849360.0  Wielewaal   \n",
       "\n",
       "          sci_name    jaar      countsubject  orig_abundance  straal  \\\n",
       "0  Oriolus oriolus  2016.0  levend exemplaar             1.0   283.0   \n",
       "1  Oriolus oriolus  2016.0  levend exemplaar             1.0   283.0   \n",
       "2  Oriolus oriolus  2016.0  levend exemplaar             1.0   283.0   \n",
       "3  Oriolus oriolus  2016.0  levend exemplaar             1.0   283.0   \n",
       "4  Oriolus oriolus  2016.0  levend exemplaar             1.0   283.0   \n",
       "\n",
       "       area_buff                                           geometry  \\\n",
       "0  268814.445766  POLYGON ((675000.000 5849260.000, 674986.587 5...   \n",
       "1  268814.445766  POLYGON ((675000.000 5849260.000, 675000.000 5...   \n",
       "2  268814.445766  POLYGON ((675000.000 5849160.000, 675000.000 5...   \n",
       "3  268814.445766  POLYGON ((675000.000 5849060.000, 675000.000 5...   \n",
       "4  268814.445766  POLYGON ((675100.000 5849360.000, 675056.704 5...   \n",
       "\n",
       "   area_joined  \n",
       "0   197.634148  \n",
       "1  2857.924937  \n",
       "2  3430.728792  \n",
       "3   799.940011  \n",
       "4   751.977313  "
      ]
     },
     "execution_count": 36,
     "metadata": {},
     "output_type": "execute_result"
    }
   ],
   "source": [
    "joined_aoi_gdf = gp.overlay(grid_gdf, aoi_obs_buff_gdf, how='union')\n",
    "joined_aoi_gdf['area_joined'] = joined_aoi_gdf.area\n",
    "joined_aoi_gdf.head(5)"
   ]
  },
  {
   "cell_type": "code",
   "execution_count": 37,
   "metadata": {
    "ExecuteTime": {
     "end_time": "2023-07-05T08:56:37.241820Z",
     "start_time": "2023-07-05T08:56:37.207339Z"
    },
    "tags": []
   },
   "outputs": [
    {
     "data": {
      "text/html": [
       "<div>\n",
       "<style scoped>\n",
       "    .dataframe tbody tr th:only-of-type {\n",
       "        vertical-align: middle;\n",
       "    }\n",
       "\n",
       "    .dataframe tbody tr th {\n",
       "        vertical-align: top;\n",
       "    }\n",
       "\n",
       "    .dataframe thead th {\n",
       "        text-align: right;\n",
       "    }\n",
       "</style>\n",
       "<table border=\"1\" class=\"dataframe\">\n",
       "  <thead>\n",
       "    <tr style=\"text-align: right;\">\n",
       "      <th></th>\n",
       "      <th>id</th>\n",
       "      <th>left</th>\n",
       "      <th>top</th>\n",
       "      <th>right</th>\n",
       "      <th>bottom</th>\n",
       "      <th>nl_name</th>\n",
       "      <th>sci_name</th>\n",
       "      <th>jaar</th>\n",
       "      <th>countsubject</th>\n",
       "      <th>orig_abundance</th>\n",
       "      <th>straal</th>\n",
       "      <th>area_buff</th>\n",
       "      <th>geometry</th>\n",
       "      <th>area_joined</th>\n",
       "      <th>obs_share</th>\n",
       "      <th>abundance_share</th>\n",
       "    </tr>\n",
       "  </thead>\n",
       "  <tbody>\n",
       "    <tr>\n",
       "      <th>0</th>\n",
       "      <td>47.0</td>\n",
       "      <td>674900.0</td>\n",
       "      <td>5849360.0</td>\n",
       "      <td>675000.0</td>\n",
       "      <td>5849260.0</td>\n",
       "      <td>Wielewaal</td>\n",
       "      <td>Oriolus oriolus</td>\n",
       "      <td>2016.0</td>\n",
       "      <td>levend exemplaar</td>\n",
       "      <td>1.0</td>\n",
       "      <td>283.0</td>\n",
       "      <td>268814.445766</td>\n",
       "      <td>POLYGON ((675000.000 5849260.000, 674986.587 5...</td>\n",
       "      <td>197.634148</td>\n",
       "      <td>0.000735</td>\n",
       "      <td>0.000735</td>\n",
       "    </tr>\n",
       "    <tr>\n",
       "      <th>1</th>\n",
       "      <td>48.0</td>\n",
       "      <td>674900.0</td>\n",
       "      <td>5849260.0</td>\n",
       "      <td>675000.0</td>\n",
       "      <td>5849160.0</td>\n",
       "      <td>Wielewaal</td>\n",
       "      <td>Oriolus oriolus</td>\n",
       "      <td>2016.0</td>\n",
       "      <td>levend exemplaar</td>\n",
       "      <td>1.0</td>\n",
       "      <td>283.0</td>\n",
       "      <td>268814.445766</td>\n",
       "      <td>POLYGON ((675000.000 5849260.000, 675000.000 5...</td>\n",
       "      <td>2857.924937</td>\n",
       "      <td>0.010632</td>\n",
       "      <td>0.010632</td>\n",
       "    </tr>\n",
       "    <tr>\n",
       "      <th>2</th>\n",
       "      <td>49.0</td>\n",
       "      <td>674900.0</td>\n",
       "      <td>5849160.0</td>\n",
       "      <td>675000.0</td>\n",
       "      <td>5849060.0</td>\n",
       "      <td>Wielewaal</td>\n",
       "      <td>Oriolus oriolus</td>\n",
       "      <td>2016.0</td>\n",
       "      <td>levend exemplaar</td>\n",
       "      <td>1.0</td>\n",
       "      <td>283.0</td>\n",
       "      <td>268814.445766</td>\n",
       "      <td>POLYGON ((675000.000 5849160.000, 675000.000 5...</td>\n",
       "      <td>3430.728792</td>\n",
       "      <td>0.012762</td>\n",
       "      <td>0.012762</td>\n",
       "    </tr>\n",
       "    <tr>\n",
       "      <th>3</th>\n",
       "      <td>50.0</td>\n",
       "      <td>674900.0</td>\n",
       "      <td>5849060.0</td>\n",
       "      <td>675000.0</td>\n",
       "      <td>5848960.0</td>\n",
       "      <td>Wielewaal</td>\n",
       "      <td>Oriolus oriolus</td>\n",
       "      <td>2016.0</td>\n",
       "      <td>levend exemplaar</td>\n",
       "      <td>1.0</td>\n",
       "      <td>283.0</td>\n",
       "      <td>268814.445766</td>\n",
       "      <td>POLYGON ((675000.000 5849060.000, 675000.000 5...</td>\n",
       "      <td>799.940011</td>\n",
       "      <td>0.002976</td>\n",
       "      <td>0.002976</td>\n",
       "    </tr>\n",
       "    <tr>\n",
       "      <th>4</th>\n",
       "      <td>264.0</td>\n",
       "      <td>675000.0</td>\n",
       "      <td>5849460.0</td>\n",
       "      <td>675100.0</td>\n",
       "      <td>5849360.0</td>\n",
       "      <td>Wielewaal</td>\n",
       "      <td>Oriolus oriolus</td>\n",
       "      <td>2016.0</td>\n",
       "      <td>levend exemplaar</td>\n",
       "      <td>1.0</td>\n",
       "      <td>283.0</td>\n",
       "      <td>268814.445766</td>\n",
       "      <td>POLYGON ((675100.000 5849360.000, 675056.704 5...</td>\n",
       "      <td>751.977313</td>\n",
       "      <td>0.002797</td>\n",
       "      <td>0.002797</td>\n",
       "    </tr>\n",
       "  </tbody>\n",
       "</table>\n",
       "</div>"
      ],
      "text/plain": [
       "      id      left        top     right     bottom    nl_name  \\\n",
       "0   47.0  674900.0  5849360.0  675000.0  5849260.0  Wielewaal   \n",
       "1   48.0  674900.0  5849260.0  675000.0  5849160.0  Wielewaal   \n",
       "2   49.0  674900.0  5849160.0  675000.0  5849060.0  Wielewaal   \n",
       "3   50.0  674900.0  5849060.0  675000.0  5848960.0  Wielewaal   \n",
       "4  264.0  675000.0  5849460.0  675100.0  5849360.0  Wielewaal   \n",
       "\n",
       "          sci_name    jaar      countsubject  orig_abundance  straal  \\\n",
       "0  Oriolus oriolus  2016.0  levend exemplaar             1.0   283.0   \n",
       "1  Oriolus oriolus  2016.0  levend exemplaar             1.0   283.0   \n",
       "2  Oriolus oriolus  2016.0  levend exemplaar             1.0   283.0   \n",
       "3  Oriolus oriolus  2016.0  levend exemplaar             1.0   283.0   \n",
       "4  Oriolus oriolus  2016.0  levend exemplaar             1.0   283.0   \n",
       "\n",
       "       area_buff                                           geometry  \\\n",
       "0  268814.445766  POLYGON ((675000.000 5849260.000, 674986.587 5...   \n",
       "1  268814.445766  POLYGON ((675000.000 5849260.000, 675000.000 5...   \n",
       "2  268814.445766  POLYGON ((675000.000 5849160.000, 675000.000 5...   \n",
       "3  268814.445766  POLYGON ((675000.000 5849060.000, 675000.000 5...   \n",
       "4  268814.445766  POLYGON ((675100.000 5849360.000, 675056.704 5...   \n",
       "\n",
       "   area_joined  obs_share  abundance_share  \n",
       "0   197.634148   0.000735         0.000735  \n",
       "1  2857.924937   0.010632         0.010632  \n",
       "2  3430.728792   0.012762         0.012762  \n",
       "3   799.940011   0.002976         0.002976  \n",
       "4   751.977313   0.002797         0.002797  "
      ]
     },
     "execution_count": 37,
     "metadata": {},
     "output_type": "execute_result"
    }
   ],
   "source": [
    "# calculate the abundance proportions in each grid cell\n",
    "joined_aoi_gdf['obs_share'] = (joined_aoi_gdf['area_joined'] / joined_aoi_gdf['area_buff'])\n",
    "joined_aoi_gdf['abundance_share'] = (joined_aoi_gdf['obs_share'] * joined_aoi_gdf['orig_abundance'])\n",
    "joined_aoi_gdf.head(5)"
   ]
  },
  {
   "cell_type": "code",
   "execution_count": 38,
   "metadata": {
    "ExecuteTime": {
     "end_time": "2023-07-05T08:56:39.183007Z",
     "start_time": "2023-07-05T08:56:39.162161Z"
    },
    "tags": []
   },
   "outputs": [],
   "source": [
    "# save this data in a GIS format for reuse\n",
    "#joined_aoi_gdf.to_file(out_prefix + \"aoi_cleaned_buffered_abundance_share.gpkg\", driver=\"GPKG\")"
   ]
  },
  {
   "cell_type": "markdown",
   "metadata": {},
   "source": [
    "### Merge the observations with the grid\n",
    "Merge the observations with the grid using a spatial join. Then use a simple count to aggregate the data."
   ]
  },
  {
   "cell_type": "code",
   "execution_count": 39,
   "metadata": {
    "ExecuteTime": {
     "end_time": "2023-07-05T08:56:40.561811Z",
     "start_time": "2023-07-05T08:56:40.507690Z"
    },
    "tags": []
   },
   "outputs": [
    {
     "data": {
      "text/html": [
       "<div>\n",
       "<style scoped>\n",
       "    .dataframe tbody tr th:only-of-type {\n",
       "        vertical-align: middle;\n",
       "    }\n",
       "\n",
       "    .dataframe tbody tr th {\n",
       "        vertical-align: top;\n",
       "    }\n",
       "\n",
       "    .dataframe thead th {\n",
       "        text-align: right;\n",
       "    }\n",
       "</style>\n",
       "<table border=\"1\" class=\"dataframe\">\n",
       "  <thead>\n",
       "    <tr style=\"text-align: right;\">\n",
       "      <th></th>\n",
       "      <th>id_left</th>\n",
       "      <th>left_left</th>\n",
       "      <th>top_left</th>\n",
       "      <th>right_left</th>\n",
       "      <th>bottom_left</th>\n",
       "      <th>nl_name</th>\n",
       "      <th>sci_name</th>\n",
       "      <th>jaar</th>\n",
       "      <th>countsubject</th>\n",
       "      <th>orig_abundance</th>\n",
       "      <th>...</th>\n",
       "      <th>geometry</th>\n",
       "      <th>area_joined</th>\n",
       "      <th>obs_share</th>\n",
       "      <th>abundance_share</th>\n",
       "      <th>index_right</th>\n",
       "      <th>id_right</th>\n",
       "      <th>left_right</th>\n",
       "      <th>top_right</th>\n",
       "      <th>right_right</th>\n",
       "      <th>bottom_right</th>\n",
       "    </tr>\n",
       "  </thead>\n",
       "  <tbody>\n",
       "    <tr>\n",
       "      <th>0</th>\n",
       "      <td>47.0</td>\n",
       "      <td>674900.0</td>\n",
       "      <td>5849360.0</td>\n",
       "      <td>675000.0</td>\n",
       "      <td>5849260.0</td>\n",
       "      <td>Wielewaal</td>\n",
       "      <td>Oriolus oriolus</td>\n",
       "      <td>2016.0</td>\n",
       "      <td>levend exemplaar</td>\n",
       "      <td>1.0</td>\n",
       "      <td>...</td>\n",
       "      <td>POLYGON ((675000.000 5849260.000, 674986.587 5...</td>\n",
       "      <td>197.634148</td>\n",
       "      <td>0.000735</td>\n",
       "      <td>0.000735</td>\n",
       "      <td>46.0</td>\n",
       "      <td>47.0</td>\n",
       "      <td>674900.0</td>\n",
       "      <td>5849360.0</td>\n",
       "      <td>675000.0</td>\n",
       "      <td>5849260.0</td>\n",
       "    </tr>\n",
       "    <tr>\n",
       "      <th>1</th>\n",
       "      <td>48.0</td>\n",
       "      <td>674900.0</td>\n",
       "      <td>5849260.0</td>\n",
       "      <td>675000.0</td>\n",
       "      <td>5849160.0</td>\n",
       "      <td>Wielewaal</td>\n",
       "      <td>Oriolus oriolus</td>\n",
       "      <td>2016.0</td>\n",
       "      <td>levend exemplaar</td>\n",
       "      <td>1.0</td>\n",
       "      <td>...</td>\n",
       "      <td>POLYGON ((675000.000 5849260.000, 675000.000 5...</td>\n",
       "      <td>2857.924937</td>\n",
       "      <td>0.010632</td>\n",
       "      <td>0.010632</td>\n",
       "      <td>47.0</td>\n",
       "      <td>48.0</td>\n",
       "      <td>674900.0</td>\n",
       "      <td>5849260.0</td>\n",
       "      <td>675000.0</td>\n",
       "      <td>5849160.0</td>\n",
       "    </tr>\n",
       "    <tr>\n",
       "      <th>2</th>\n",
       "      <td>49.0</td>\n",
       "      <td>674900.0</td>\n",
       "      <td>5849160.0</td>\n",
       "      <td>675000.0</td>\n",
       "      <td>5849060.0</td>\n",
       "      <td>Wielewaal</td>\n",
       "      <td>Oriolus oriolus</td>\n",
       "      <td>2016.0</td>\n",
       "      <td>levend exemplaar</td>\n",
       "      <td>1.0</td>\n",
       "      <td>...</td>\n",
       "      <td>POLYGON ((675000.000 5849160.000, 675000.000 5...</td>\n",
       "      <td>3430.728792</td>\n",
       "      <td>0.012762</td>\n",
       "      <td>0.012762</td>\n",
       "      <td>48.0</td>\n",
       "      <td>49.0</td>\n",
       "      <td>674900.0</td>\n",
       "      <td>5849160.0</td>\n",
       "      <td>675000.0</td>\n",
       "      <td>5849060.0</td>\n",
       "    </tr>\n",
       "    <tr>\n",
       "      <th>3</th>\n",
       "      <td>50.0</td>\n",
       "      <td>674900.0</td>\n",
       "      <td>5849060.0</td>\n",
       "      <td>675000.0</td>\n",
       "      <td>5848960.0</td>\n",
       "      <td>Wielewaal</td>\n",
       "      <td>Oriolus oriolus</td>\n",
       "      <td>2016.0</td>\n",
       "      <td>levend exemplaar</td>\n",
       "      <td>1.0</td>\n",
       "      <td>...</td>\n",
       "      <td>POLYGON ((675000.000 5849060.000, 675000.000 5...</td>\n",
       "      <td>799.940011</td>\n",
       "      <td>0.002976</td>\n",
       "      <td>0.002976</td>\n",
       "      <td>49.0</td>\n",
       "      <td>50.0</td>\n",
       "      <td>674900.0</td>\n",
       "      <td>5849060.0</td>\n",
       "      <td>675000.0</td>\n",
       "      <td>5848960.0</td>\n",
       "    </tr>\n",
       "    <tr>\n",
       "      <th>4</th>\n",
       "      <td>264.0</td>\n",
       "      <td>675000.0</td>\n",
       "      <td>5849460.0</td>\n",
       "      <td>675100.0</td>\n",
       "      <td>5849360.0</td>\n",
       "      <td>Wielewaal</td>\n",
       "      <td>Oriolus oriolus</td>\n",
       "      <td>2016.0</td>\n",
       "      <td>levend exemplaar</td>\n",
       "      <td>1.0</td>\n",
       "      <td>...</td>\n",
       "      <td>POLYGON ((675100.000 5849360.000, 675056.704 5...</td>\n",
       "      <td>751.977313</td>\n",
       "      <td>0.002797</td>\n",
       "      <td>0.002797</td>\n",
       "      <td>263.0</td>\n",
       "      <td>264.0</td>\n",
       "      <td>675000.0</td>\n",
       "      <td>5849460.0</td>\n",
       "      <td>675100.0</td>\n",
       "      <td>5849360.0</td>\n",
       "    </tr>\n",
       "  </tbody>\n",
       "</table>\n",
       "<p>5 rows × 22 columns</p>\n",
       "</div>"
      ],
      "text/plain": [
       "   id_left  left_left   top_left  right_left  bottom_left    nl_name  \\\n",
       "0     47.0   674900.0  5849360.0    675000.0    5849260.0  Wielewaal   \n",
       "1     48.0   674900.0  5849260.0    675000.0    5849160.0  Wielewaal   \n",
       "2     49.0   674900.0  5849160.0    675000.0    5849060.0  Wielewaal   \n",
       "3     50.0   674900.0  5849060.0    675000.0    5848960.0  Wielewaal   \n",
       "4    264.0   675000.0  5849460.0    675100.0    5849360.0  Wielewaal   \n",
       "\n",
       "          sci_name    jaar      countsubject  orig_abundance  ...  \\\n",
       "0  Oriolus oriolus  2016.0  levend exemplaar             1.0  ...   \n",
       "1  Oriolus oriolus  2016.0  levend exemplaar             1.0  ...   \n",
       "2  Oriolus oriolus  2016.0  levend exemplaar             1.0  ...   \n",
       "3  Oriolus oriolus  2016.0  levend exemplaar             1.0  ...   \n",
       "4  Oriolus oriolus  2016.0  levend exemplaar             1.0  ...   \n",
       "\n",
       "                                            geometry  area_joined obs_share  \\\n",
       "0  POLYGON ((675000.000 5849260.000, 674986.587 5...   197.634148  0.000735   \n",
       "1  POLYGON ((675000.000 5849260.000, 675000.000 5...  2857.924937  0.010632   \n",
       "2  POLYGON ((675000.000 5849160.000, 675000.000 5...  3430.728792  0.012762   \n",
       "3  POLYGON ((675000.000 5849060.000, 675000.000 5...   799.940011  0.002976   \n",
       "4  POLYGON ((675100.000 5849360.000, 675056.704 5...   751.977313  0.002797   \n",
       "\n",
       "   abundance_share  index_right  id_right  left_right  top_right  right_right  \\\n",
       "0         0.000735         46.0      47.0    674900.0  5849360.0     675000.0   \n",
       "1         0.010632         47.0      48.0    674900.0  5849260.0     675000.0   \n",
       "2         0.012762         48.0      49.0    674900.0  5849160.0     675000.0   \n",
       "3         0.002976         49.0      50.0    674900.0  5849060.0     675000.0   \n",
       "4         0.002797        263.0     264.0    675000.0  5849460.0     675100.0   \n",
       "\n",
       "   bottom_right  \n",
       "0     5849260.0  \n",
       "1     5849160.0  \n",
       "2     5849060.0  \n",
       "3     5848960.0  \n",
       "4     5849360.0  \n",
       "\n",
       "[5 rows x 22 columns]"
      ]
     },
     "execution_count": 39,
     "metadata": {},
     "output_type": "execute_result"
    }
   ],
   "source": [
    "merged_aoi_gdf = gp.sjoin(joined_aoi_gdf, grid_gdf, how='left', predicate='covered_by')\n",
    "merged_aoi_gdf.head(5)"
   ]
  },
  {
   "cell_type": "code",
   "execution_count": 40,
   "metadata": {
    "ExecuteTime": {
     "end_time": "2023-07-05T08:56:43.340583Z",
     "start_time": "2023-07-05T08:56:41.868637Z"
    },
    "tags": []
   },
   "outputs": [],
   "source": [
    "# make a count column (should count distinct species?)\n",
    "merged_aoi_gdf['n_obs'] = 1\n",
    "\n",
    "# aggregate the data\n",
    "dissolve = merged_aoi_gdf.dissolve(by='index_right', aggfunc={ 'n_obs': 'count', 'abundance_share': 'sum'} )\n",
    "\n",
    "# put the values into the grid\n",
    "grid_gdf.loc[dissolve.index, 'abundance_share'] = dissolve['abundance_share'].values"
   ]
  },
  {
   "cell_type": "code",
   "execution_count": 41,
   "metadata": {
    "ExecuteTime": {
     "end_time": "2023-07-05T08:56:45.470341Z",
     "start_time": "2023-07-05T08:56:45.361165Z"
    },
    "tags": []
   },
   "outputs": [],
   "source": [
    "# save this data in a GIS format for reuse\n",
    "# out_prefix + \"aoi_cleaned_buffered_aggregated_abundance_share.tif\"\n",
    "grid_gdf.to_file(out_prefix + \"aoi_cleaned_buffered_abundance_share_aggregated.gpkg\", driver=\"GPKG\")"
   ]
  },
  {
   "cell_type": "markdown",
   "metadata": {
    "jp-MarkdownHeadingCollapsed": true,
    "tags": []
   },
   "source": [
    "### Optional stuff below ..."
   ]
  },
  {
   "cell_type": "code",
   "execution_count": null,
   "metadata": {
    "ExecuteTime": {
     "end_time": "2023-06-14T12:00:16.503552Z",
     "start_time": "2023-06-14T12:00:16.434275Z"
    }
   },
   "outputs": [],
   "source": [
    "grid_gdf['abundance_share'].hist()"
   ]
  },
  {
   "cell_type": "code",
   "execution_count": null,
   "metadata": {
    "ExecuteTime": {
     "end_time": "2023-06-14T12:00:30.425449Z",
     "start_time": "2023-06-14T12:00:30.420642Z"
    }
   },
   "outputs": [],
   "source": [
    "# select a proper vmax for map display (take it from the histogram)\n",
    "vmax = 10.0"
   ]
  },
  {
   "cell_type": "code",
   "execution_count": null,
   "metadata": {
    "ExecuteTime": {
     "end_time": "2023-06-14T12:00:36.226281Z",
     "start_time": "2023-06-14T12:00:36.090813Z"
    }
   },
   "outputs": [],
   "source": [
    "# plot the grid and the number of observations in each grid cell\n",
    "sample_gdf = grid_gdf.cx[plot_xmin:plot_xmax, plot_ymin:plot_ymax]\n",
    "\n",
    "sample_gdf.plot(\n",
    "    column='abundance_share',\n",
    "    figsize=(12, 8),\n",
    "    cmap='YlGn',\n",
    "    vmax=vmax,\n",
    "    edgecolor='grey',\n",
    "    legend=True\n",
    ");"
   ]
  },
  {
   "cell_type": "code",
   "execution_count": null,
   "metadata": {
    "ExecuteTime": {
     "end_time": "2023-06-14T12:00:39.451251Z",
     "start_time": "2023-06-14T12:00:39.029907Z"
    }
   },
   "outputs": [],
   "source": [
    "# run this cell to get an interactive map of the data (don't try for very small grid cells!)\n",
    "m1 = grid_gdf.explore(column='abundance_share', cmap='viridis', vmax=vmax, name='Count')\n",
    "m2 = aoi_obs_buff_gdf.explore(m=m1, color='red', name='Observations')\n",
    "m2"
   ]
  },
  {
   "cell_type": "markdown",
   "metadata": {
    "jp-MarkdownHeadingCollapsed": true,
    "tags": []
   },
   "source": [
    "### Rasterize the grid cell polygons and write to GeoTIFF\n",
    "One quick way to do this is with the [geocube](https://corteva.github.io/geocube/) package.\n",
    "\n",
    "Note that this package can also perform some operations when rasterizing data, so in some cases it might be sufficient!\n",
    "\n",
    "*TODO:*\n",
    "  - *Fix the shifting of the grid cells (more noticeable with resolution).*\n",
    "  - *Check how much gridding calculations can be done by geocube directly.*"
   ]
  },
  {
   "cell_type": "code",
   "execution_count": null,
   "metadata": {},
   "outputs": [],
   "source": [
    "# write the file (with CRS)\n",
    "out_grid = make_geocube(\n",
    "    vector_data=grid_gdf,\n",
    "    measurements=['abundance_share'],\n",
    "    resolution=(-aoi_cell_size, aoi_cell_size)\n",
    ")\n",
    "out_grid['abundance_share'].rio.to_raster(out_prefix + \"aoi_cleaned_buffered_abundance_share_aggregated_rasterized.tif\")"
   ]
  },
  {
   "cell_type": "markdown",
   "metadata": {},
   "source": [
    "### Extra: GeoPandas Spatial Index\n",
    "\n",
    "Some interesting details about the R-Tree spatial index used can be found here:\n",
    " - [GeoPandas Spatial Index doc](https://geopandas.org/en/stable/docs/reference/sindex.html)\n",
    " - [PyGEOS STRTree doc](https://pygeos.readthedocs.io/en/latest/strtree.html)"
   ]
  },
  {
   "cell_type": "code",
   "execution_count": null,
   "metadata": {
    "ExecuteTime": {
     "end_time": "2023-06-14T12:01:34.159828Z",
     "start_time": "2023-06-14T12:01:34.157163Z"
    }
   },
   "outputs": [],
   "source": [
    "# read-only access to the r-tree\n",
    "r_tree = grid_gdf.sindex\n",
    "r_tree.size"
   ]
  },
  {
   "cell_type": "code",
   "execution_count": null,
   "metadata": {},
   "outputs": [],
   "source": []
  }
 ],
 "metadata": {
  "kernelspec": {
   "display_name": "fairicubeuc2-torch",
   "language": "python",
   "name": "conda-env-fairicubeuc2-torch-py"
  },
  "language_info": {
   "codemirror_mode": {
    "name": "ipython",
    "version": 3
   },
   "file_extension": ".py",
   "mimetype": "text/x-python",
   "name": "python",
   "nbconvert_exporter": "python",
   "pygments_lexer": "ipython3",
   "version": "3.10.11"
  }
 },
 "nbformat": 4,
 "nbformat_minor": 4
}
