{
 "cells": [
  {
   "cell_type": "markdown",
   "metadata": {},
   "source": [
    "# GeoPandas Gridding Example\n",
    "\n",
    "*Rob Knapen, Wageningen Environmental Research*\n",
    "<br>\n",
    "\n",
    "A notebook for trying out [GeoPandas](https://geopandas.org/) for gridding species observations. Based on the vector data provided with each occurrence record, the species abundance is proportionally distributed over the grid cells overlapped by the total geometry of the observation, consisting of the GPS accuracy octagon extended with recorded radius.\n",
    "\n",
    "In this notebook species observation data from NDFF is used. For more information about this data please contact NDFF or visit their website (be aware that it is not fully available in English).\n",
    "\n",
    "**Data source(s)**:\n",
    "- ['Nationale Databank Flora en Fauna'](https://ndff.nl) (October 2022). This data is copy protected."
   ]
  },
  {
   "cell_type": "markdown",
   "metadata": {},
   "source": [
    "### Import Python Packages"
   ]
  },
  {
   "cell_type": "code",
   "execution_count": null,
   "metadata": {
    "ExecuteTime": {
     "end_time": "2023-07-05T08:30:10.207254Z",
     "start_time": "2023-07-05T08:30:09.357713Z"
    }
   },
   "outputs": [],
   "source": [
    "import os\n",
    "\n",
    "import matplotlib.pyplot as plt\n",
    "\n",
    "# note that GeoPandas is switching from PyGEOS geometry backend to Shapely 2.0\n",
    "os.environ['USE_PYGEOS'] = '0'\n",
    "\n",
    "import pandas as pd\n",
    "import numpy as np\n",
    "import geopandas as gp\n",
    "\n",
    "import shapely\n",
    "\n",
    "from geocube.api.core import make_geocube"
   ]
  },
  {
   "cell_type": "markdown",
   "metadata": {},
   "source": [
    "### Load sample species observation data\n",
    "As an example a dataset from the Dutch ['Nationale Databank Flora en Fauna'](https://ndff.nl). While we are hoping for this to be available as open data (soon), it is not yet. However, we have permission to use it for the FAIRiCUBE EU project."
   ]
  },
  {
   "cell_type": "code",
   "execution_count": null,
   "metadata": {
    "ExecuteTime": {
     "end_time": "2023-07-05T08:56:03.494419Z",
     "start_time": "2023-07-05T08:56:03.460517Z"
    }
   },
   "outputs": [],
   "source": [
    "# the NDFF datafile to process\n",
    "#\n",
    "# Available datasets:\n",
    "# broedvogels_2016.csv      (observations of nesting birds in 2016)     drop = None\n",
    "# overigesoorten_2016.csv   (observations of 'other' species in 2016)   drop = ['obs_uri']\n",
    "# planten_2016.csv          (observations of plants in 2016)            drop = ['obs_uri']\n",
    "#\n",
    "obs_filename = \"../../../local/data/ndff/overigesoorten_2016.csv\"\n",
    "obs_crs = \"EPSG:28992\"\n",
    "\n",
    "# the columns to drop right away\n",
    "always_drop_cols_from_source = None\n",
    "#always_drop_cols_from_source = ['obs_uri']\n",
    "\n",
    "# area of interest\n",
    "aoi_crs  = 'EPSG:32631' # WGS 84 / UTM zone 31N\n",
    "aoi_xmin =  674900\n",
    "aoi_xmax =  729800\n",
    "aoi_ymin = 5832230\n",
    "aoi_ymax = 5853960\n",
    "\n",
    "# boundaries for plotting samples\n",
    "plot_xmin =  702000\n",
    "plot_xmax =  708000\n",
    "plot_ymin = 5845000\n",
    "plot_ymax = 5846000\n",
    "\n",
    "# the grid to use for data aggregation (hex grid doesn't work so well)\n",
    "aoi_grid_filename = \"../../../local/data/grids/aoi_grid_box_1000m_utm31n.gpkg\"\n",
    "aoi_cell_size = 1000 # meters\n",
    "\n",
    "# base output path prefix, used for created files\n",
    "out_prefix = \"../data/processed/selectedspecies_2016_1000m_\""
   ]
  },
  {
   "cell_type": "markdown",
   "metadata": {},
   "source": [
    "### Use a Pandas DataFrame for some pre-processing\n",
    "Do some initial cleaning of the data first. Also fix the geometry data, so it fits GeoPandas expectations.\n",
    "\n",
    "It would be worthwhile to save the pre-processed data for reuse later. We can then directly specify filter criteria, including a bounding box filter, when reading the data."
   ]
  },
  {
   "cell_type": "code",
   "execution_count": null,
   "metadata": {
    "ExecuteTime": {
     "end_time": "2023-07-05T08:56:06.742558Z",
     "start_time": "2023-07-05T08:56:05.391348Z"
    }
   },
   "outputs": [],
   "source": [
    "# load the data into a regular pandas dataframe\n",
    "obs_df = pd.read_csv(obs_filename, header='infer', sep=';', on_bad_lines='warn')\n",
    "\n",
    "# remove not needed columns\n",
    "if always_drop_cols_from_source:\n",
    "    obs_df.drop(columns=always_drop_cols_from_source, inplace=True)\n",
    "\n",
    "# remove the crs prefix from the wkt data\n",
    "obs_df['wkt_excl_crs'] = obs_df['wkt'].map(lambda x: x.split(';')[1], na_action='ignore')\n",
    "obs_df.drop(columns=['wkt'], inplace=True)\n",
    "obs_df.rename(columns={'wkt_excl_crs': 'wkt'}, inplace=True)\n",
    "\n",
    "# remove non-numeric abundance values\n",
    "obs_df = obs_df[pd.to_numeric(obs_df['orig_abundance'], errors='coerce').notnull()]\n",
    "obs_df['orig_abundance'] = obs_df['orig_abundance'].astype(float)\n",
    "\n",
    "obs_df.head(5)"
   ]
  },
  {
   "cell_type": "markdown",
   "metadata": {},
   "source": [
    "### Lift the data into a GeoPandas GeoDataFrame\n",
    "Create a GeoPandas GeoDataFrame from the regular (non spatial-aware) DataFrame. After that use GeoPandas functionality to transform the data from the Dutch coordinate reference system to the preferred CRS for the area of interest."
   ]
  },
  {
   "cell_type": "code",
   "execution_count": null,
   "metadata": {
    "ExecuteTime": {
     "end_time": "2023-07-05T08:56:13.265660Z",
     "start_time": "2023-07-05T08:56:09.222676Z"
    }
   },
   "outputs": [],
   "source": [
    "# note that we used the pandas dataframe\n",
    "obs_gs = gp.GeoSeries.from_wkt(obs_df['wkt'])\n",
    "obs_gdf = gp.GeoDataFrame(obs_df, geometry=obs_gs, crs=obs_crs)\n",
    "\n",
    "# transform the dataset to the CRS of the area of interest\n",
    "obs_gdf.to_crs(crs=aoi_crs, inplace=True)\n",
    "obs_gdf.drop(columns=['wkt'], inplace=True)\n",
    "\n",
    "obs_gdf.head(5)"
   ]
  },
  {
   "cell_type": "code",
   "execution_count": null,
   "metadata": {
    "ExecuteTime": {
     "end_time": "2023-07-05T08:56:15.499371Z",
     "start_time": "2023-07-05T08:56:15.476864Z"
    }
   },
   "outputs": [],
   "source": [
    "# save this data in a GIS format\n",
    "#obs_gdf.to_file(out_prefix + \"nl_cleaned.gpkg\", driver=\"GPKG\")"
   ]
  },
  {
   "cell_type": "markdown",
   "metadata": {},
   "source": [
    "### Data selection\n",
    "Limit the data to that of the area of interest."
   ]
  },
  {
   "cell_type": "code",
   "execution_count": null,
   "metadata": {
    "ExecuteTime": {
     "end_time": "2023-07-05T08:56:17.042513Z",
     "start_time": "2023-07-05T08:56:16.989182Z"
    }
   },
   "outputs": [],
   "source": [
    "# spatially select observations within the area of interest\n",
    "aoi_obs_gdf = obs_gdf.cx[aoi_xmin:aoi_xmax, aoi_ymin:aoi_ymax]\n",
    "aoi_obs_gdf.head(5)"
   ]
  },
  {
   "cell_type": "code",
   "execution_count": null,
   "metadata": {
    "ExecuteTime": {
     "end_time": "2023-07-05T08:56:18.446818Z",
     "start_time": "2023-07-05T08:56:18.420192Z"
    }
   },
   "outputs": [],
   "source": [
    "# save this data in a GIS format for reuse\n",
    "#aoi_obs_gdf.to_file(out_prefix + \"aoi_cleaned.gpkg\", driver=\"GPKG\")"
   ]
  },
  {
   "cell_type": "markdown",
   "metadata": {},
   "source": [
    "### Extend observation polygons with indicated radius\n",
    "\n",
    "For each observation create a buffer with the recorded radius around the recorded geometry."
   ]
  },
  {
   "cell_type": "code",
   "execution_count": null,
   "metadata": {
    "ExecuteTime": {
     "end_time": "2023-07-05T08:56:20.577116Z",
     "start_time": "2023-07-05T08:56:20.179900Z"
    }
   },
   "outputs": [],
   "source": [
    "aoi_obs_buff_gdf = aoi_obs_gdf.copy()\n",
    "\n",
    "# add the buffers\n",
    "aoi_obs_buff_gdf['geometry'] = aoi_obs_gdf.apply(lambda row:\n",
    "                                                 (row['geometry'].buffer(row['straal'])),\n",
    "                                                 axis=1)\n",
    "# add the area of the buffers\n",
    "aoi_obs_buff_gdf['area_buff'] = aoi_obs_buff_gdf.area\n",
    "\n",
    "aoi_obs_buff_gdf.head(3)"
   ]
  },
  {
   "cell_type": "code",
   "execution_count": null,
   "metadata": {
    "ExecuteTime": {
     "end_time": "2023-07-05T08:56:22.165807Z",
     "start_time": "2023-07-05T08:56:22.072103Z"
    }
   },
   "outputs": [],
   "source": [
    "subset = aoi_obs_buff_gdf.cx[plot_xmin:plot_xmax, plot_ymin:plot_ymax]\n",
    "subset.plot(figsize=(12, 8))"
   ]
  },
  {
   "cell_type": "code",
   "execution_count": null,
   "metadata": {
    "ExecuteTime": {
     "end_time": "2023-07-05T08:56:24.322163Z",
     "start_time": "2023-07-05T08:56:24.290583Z"
    }
   },
   "outputs": [],
   "source": [
    "# save this data in a GIS format for reuse\n",
    "#aoi_obs_buff_gdf.to_file(out_prefix + \"aoi_cleaned_buffered.gpkg\", driver=\"GPKG\")"
   ]
  },
  {
   "cell_type": "markdown",
   "metadata": {},
   "source": [
    "### Create a GeoDataFrame with a grid\n",
    "Load (or construct) a grid that covers the extent of the area of interest. This will later be used to aggregate the data into."
   ]
  },
  {
   "cell_type": "code",
   "execution_count": null,
   "metadata": {
    "ExecuteTime": {
     "end_time": "2023-07-05T08:56:26.225300Z",
     "start_time": "2023-07-05T08:56:26.141655Z"
    }
   },
   "outputs": [],
   "source": [
    "grid_gdf = gp.read_file(aoi_grid_filename, driver=\"GPKG\")\n",
    "grid_gdf = grid_gdf.cx[aoi_xmin:aoi_xmax, aoi_ymin:aoi_ymax]"
   ]
  },
  {
   "cell_type": "code",
   "execution_count": null,
   "metadata": {
    "ExecuteTime": {
     "end_time": "2023-07-05T08:56:27.697144Z",
     "start_time": "2023-07-05T08:56:27.671377Z"
    }
   },
   "outputs": [],
   "source": [
    "# total area for the grid\n",
    "#xmin, ymin, xmax, ymax= aoi_obs_gdf.total_bounds\n",
    "\n",
    "# how many cells across and down\n",
    "#n_cells = 200\n",
    "#cell_size = (xmax - xmin) / n_cells\n",
    "\n",
    "# create the cells in a loop\n",
    "#grid_ids = []\n",
    "#grid_cells = []\n",
    "#col = 0\n",
    "#for x0 in np.arange(xmin, xmax + cell_size, cell_size):\n",
    "#    row = 0\n",
    "#    for y0 in np.arange(ymin, ymax + cell_size, cell_size):\n",
    "#        # bounds\n",
    "#        x1 = x0 - cell_size\n",
    "#        y1 = y0 + cell_size\n",
    "#        grid_ids.append(row * n_cells + col)\n",
    "#        grid_cells.append(shapely.geometry.box(x0, y0, x1, y1))\n",
    "#        row = row + 1\n",
    "#    col = col + 1\n",
    "\n",
    "#grid_gdf = gp.GeoDataFrame(data={'cell_id': grid_ids, 'geometry': grid_cells}, geometry='geometry', crs=aoi_crs)\n",
    "#grid_gdf['area_grid'] = grid_gdf.area"
   ]
  },
  {
   "cell_type": "code",
   "execution_count": null,
   "metadata": {
    "ExecuteTime": {
     "end_time": "2023-07-05T08:56:29.215301Z",
     "start_time": "2023-07-05T08:56:29.190689Z"
    }
   },
   "outputs": [],
   "source": [
    "#print(f\"cell size = {cell_size:.4f} {grid_gdf.crs.axis_info[0].unit_name}\")\n",
    "grid_gdf.head(3)"
   ]
  },
  {
   "cell_type": "code",
   "execution_count": null,
   "metadata": {
    "ExecuteTime": {
     "end_time": "2023-07-05T08:56:30.382293Z",
     "start_time": "2023-07-05T08:56:30.255273Z"
    }
   },
   "outputs": [],
   "source": [
    "# plot the grid over the observations data (don't try for large grids)\n",
    "data_selection = aoi_obs_buff_gdf.cx[plot_xmin:plot_xmax, plot_ymin:plot_ymax]\n",
    "ax = data_selection.plot(markersize=0.5, figsize=(12, 8), column='straal', cmap='jet')\n",
    "plt.autoscale(False)\n",
    "grid_selection = grid_gdf.cx[plot_xmin:plot_xmax, plot_ymin:plot_ymax]\n",
    "grid_gdf.plot(ax=ax, facecolor=\"none\", edgecolor='grey')\n",
    "ax.axis(\"off\");"
   ]
  },
  {
   "cell_type": "markdown",
   "metadata": {},
   "source": [
    "### Calculate overlap"
   ]
  },
  {
   "cell_type": "code",
   "execution_count": null,
   "metadata": {
    "ExecuteTime": {
     "end_time": "2023-07-05T08:56:35.613903Z",
     "start_time": "2023-07-05T08:56:32.669064Z"
    }
   },
   "outputs": [],
   "source": [
    "joined_aoi_gdf = gp.overlay(grid_gdf, aoi_obs_buff_gdf, how='union')\n",
    "joined_aoi_gdf['area_joined'] = joined_aoi_gdf.area\n",
    "joined_aoi_gdf.head(5)"
   ]
  },
  {
   "cell_type": "code",
   "execution_count": null,
   "metadata": {
    "ExecuteTime": {
     "end_time": "2023-07-05T08:56:37.241820Z",
     "start_time": "2023-07-05T08:56:37.207339Z"
    }
   },
   "outputs": [],
   "source": [
    "# calculate the abundance proportions in each grid cell\n",
    "joined_aoi_gdf['obs_share'] = (joined_aoi_gdf['area_joined'] / joined_aoi_gdf['area_buff'])\n",
    "joined_aoi_gdf['abundance_share'] = (joined_aoi_gdf['obs_share'] * joined_aoi_gdf['orig_abundance'])\n",
    "joined_aoi_gdf.head(5)"
   ]
  },
  {
   "cell_type": "code",
   "execution_count": null,
   "metadata": {
    "ExecuteTime": {
     "end_time": "2023-07-05T08:56:39.183007Z",
     "start_time": "2023-07-05T08:56:39.162161Z"
    }
   },
   "outputs": [],
   "source": [
    "# save this data in a GIS format for reuse\n",
    "#joined_aoi_gdf.to_file(out_prefix + \"aoi_cleaned_buffered_abundance_share.gpkg\", driver=\"GPKG\")"
   ]
  },
  {
   "cell_type": "markdown",
   "metadata": {},
   "source": [
    "### Merge the observations with the grid\n",
    "Merge the observations with the grid using a spatial join. Then use a simple count to aggregate the data."
   ]
  },
  {
   "cell_type": "code",
   "execution_count": null,
   "metadata": {
    "ExecuteTime": {
     "end_time": "2023-07-05T08:56:40.561811Z",
     "start_time": "2023-07-05T08:56:40.507690Z"
    }
   },
   "outputs": [],
   "source": [
    "merged_aoi_gdf = gp.sjoin(joined_aoi_gdf, grid_gdf, how='left', predicate='covered_by')\n",
    "merged_aoi_gdf.head(5)"
   ]
  },
  {
   "cell_type": "code",
   "execution_count": null,
   "metadata": {
    "ExecuteTime": {
     "end_time": "2023-07-05T08:56:43.340583Z",
     "start_time": "2023-07-05T08:56:41.868637Z"
    }
   },
   "outputs": [],
   "source": [
    "# make a count column (should count distinct species?)\n",
    "merged_aoi_gdf['n_obs'] = 1\n",
    "\n",
    "# aggregate the data\n",
    "dissolve = merged_aoi_gdf.dissolve(by='index_right', aggfunc={ 'n_obs': 'count', 'abundance_share': 'sum'} )\n",
    "\n",
    "# put the values into the grid\n",
    "grid_gdf.loc[dissolve.index, 'abundance_share'] = dissolve['abundance_share'].values"
   ]
  },
  {
   "cell_type": "code",
   "execution_count": null,
   "metadata": {
    "ExecuteTime": {
     "end_time": "2023-07-05T08:56:45.470341Z",
     "start_time": "2023-07-05T08:56:45.361165Z"
    }
   },
   "outputs": [],
   "source": [
    "# save this data in a GIS format for reuse\n",
    "# out_prefix + \"aoi_cleaned_buffered_aggregated_abundance_share.tif\"\n",
    "grid_gdf.to_file(out_prefix + \"aoi_cleaned_buffered_abundance_share_aggregated.gpkg\", driver=\"GPKG\")"
   ]
  },
  {
   "cell_type": "markdown",
   "metadata": {},
   "source": [
    "### Optional stuff below ..."
   ]
  },
  {
   "cell_type": "code",
   "execution_count": null,
   "metadata": {
    "ExecuteTime": {
     "end_time": "2023-06-14T12:00:16.503552Z",
     "start_time": "2023-06-14T12:00:16.434275Z"
    }
   },
   "outputs": [],
   "source": [
    "grid_gdf['abundance_share'].hist()"
   ]
  },
  {
   "cell_type": "code",
   "execution_count": null,
   "metadata": {
    "ExecuteTime": {
     "end_time": "2023-06-14T12:00:30.425449Z",
     "start_time": "2023-06-14T12:00:30.420642Z"
    }
   },
   "outputs": [],
   "source": [
    "# select a proper vmax for map display (take it from the histogram)\n",
    "vmax = 10.0"
   ]
  },
  {
   "cell_type": "code",
   "execution_count": null,
   "metadata": {
    "ExecuteTime": {
     "end_time": "2023-06-14T12:00:36.226281Z",
     "start_time": "2023-06-14T12:00:36.090813Z"
    }
   },
   "outputs": [],
   "source": [
    "# plot the grid and the number of observations in each grid cell\n",
    "sample_gdf = grid_gdf.cx[plot_xmin:plot_xmax, plot_ymin:plot_ymax]\n",
    "\n",
    "sample_gdf.plot(\n",
    "    column='abundance_share',\n",
    "    figsize=(12, 8),\n",
    "    cmap='YlGn',\n",
    "    vmax=vmax,\n",
    "    edgecolor='grey',\n",
    "    legend=True\n",
    ");"
   ]
  },
  {
   "cell_type": "code",
   "execution_count": null,
   "metadata": {
    "ExecuteTime": {
     "end_time": "2023-06-14T12:00:39.451251Z",
     "start_time": "2023-06-14T12:00:39.029907Z"
    }
   },
   "outputs": [],
   "source": [
    "# run this cell to get an interactive map of the data (don't try for very small grid cells!)\n",
    "m1 = grid_gdf.explore(column='abundance_share', cmap='viridis', vmax=vmax, name='Count')\n",
    "m2 = aoi_obs_buff_gdf.explore(m=m1, color='red', name='Observations')\n",
    "m2"
   ]
  },
  {
   "cell_type": "markdown",
   "metadata": {},
   "source": [
    "### Rasterize the grid cell polygons and write to GeoTIFF\n",
    "One quick way to do this is with the [geocube](https://corteva.github.io/geocube/) package.\n",
    "\n",
    "Note that this package can also perform some operations when rasterizing data, so in some cases it might be sufficient!\n",
    "\n",
    "*TODO:*\n",
    "  - *Fix the shifting of the grid cells (more noticeable with resolution).*\n",
    "  - *Check how much gridding calculations can be done by geocube directly.*"
   ]
  },
  {
   "cell_type": "code",
   "execution_count": null,
   "metadata": {},
   "outputs": [],
   "source": [
    "# write the file (with CRS)\n",
    "out_grid = make_geocube(\n",
    "    vector_data=grid_gdf,\n",
    "    measurements=['abundance_share'],\n",
    "    resolution=(-aoi_cell_size, aoi_cell_size)\n",
    ")\n",
    "out_grid['abundance_share'].rio.to_raster(out_prefix + \"aoi_cleaned_buffered_abundance_share_aggregated_rasterized.tif\")"
   ]
  },
  {
   "cell_type": "markdown",
   "metadata": {},
   "source": [
    "### Extra: GeoPandas Spatial Index\n",
    "\n",
    "Some interesting details about the R-Tree spatial index used can be found here:\n",
    " - [GeoPandas Spatial Index doc](https://geopandas.org/en/stable/docs/reference/sindex.html)\n",
    " - [PyGEOS STRTree doc](https://pygeos.readthedocs.io/en/latest/strtree.html)"
   ]
  },
  {
   "cell_type": "code",
   "execution_count": null,
   "metadata": {
    "ExecuteTime": {
     "end_time": "2023-06-14T12:01:34.159828Z",
     "start_time": "2023-06-14T12:01:34.157163Z"
    }
   },
   "outputs": [],
   "source": [
    "# read-only access to the r-tree\n",
    "r_tree = grid_gdf.sindex\n",
    "r_tree.size"
   ]
  },
  {
   "cell_type": "code",
   "execution_count": null,
   "metadata": {},
   "outputs": [],
   "source": []
  }
 ],
 "metadata": {
  "kernelspec": {
   "display_name": "fairicube-pt2",
   "language": "python",
   "name": "fairicube-pt2"
  },
  "language_info": {
   "codemirror_mode": {
    "name": "ipython",
    "version": 3
   },
   "file_extension": ".py",
   "mimetype": "text/x-python",
   "name": "python",
   "nbconvert_exporter": "python",
   "pygments_lexer": "ipython3",
   "version": "3.11.3"
  }
 },
 "nbformat": 4,
 "nbformat_minor": 1
}
