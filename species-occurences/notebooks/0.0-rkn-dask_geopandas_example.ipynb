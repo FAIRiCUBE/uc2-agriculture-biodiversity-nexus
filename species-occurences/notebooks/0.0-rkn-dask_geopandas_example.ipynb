{
 "cells": [
  {
   "cell_type": "markdown",
   "source": [
    "# Dask - GeoPandas Example\n",
    "\n",
    "A notebook for trying out the Dask framework (as alternative to PySpark) with GeoPandas. This could be useful for processing large datasets of species observations."
   ],
   "metadata": {
    "collapsed": false
   }
  },
  {
   "cell_type": "markdown",
   "source": [
    "### Import Python packages"
   ],
   "metadata": {
    "collapsed": false
   }
  },
  {
   "cell_type": "code",
   "execution_count": 1,
   "outputs": [],
   "source": [
    "import os\n",
    "os.environ['USE_PYGEOS'] = '0'\n",
    "\n",
    "import pandas as pd\n",
    "import numpy as np\n",
    "\n",
    "import dask.dataframe as dd\n",
    "import dask.array as da\n",
    "import dask.bag as db\n",
    "from dask.distributed import Client\n",
    "\n",
    "import geopandas as gp\n",
    "import dask_geopandas as dgp"
   ],
   "metadata": {
    "collapsed": false,
    "ExecuteTime": {
     "start_time": "2023-05-03T17:11:58.873401Z",
     "end_time": "2023-05-03T17:11:59.624033Z"
    }
   }
  },
  {
   "cell_type": "markdown",
   "source": [
    "### Start a Dask client\n",
    "Get a client for the dummy local Dask 'cluster', and the IP for the dashboard."
   ],
   "metadata": {
    "collapsed": false
   }
  },
  {
   "cell_type": "code",
   "execution_count": 2,
   "outputs": [
    {
     "name": "stderr",
     "output_type": "stream",
     "text": [
      "/Users/robknapen/opt/mambaforge/envs/fairicube-pt2/lib/python3.11/site-packages/distributed/node.py:182: UserWarning: Port 8787 is already in use.\n",
      "Perhaps you already have a cluster running?\n",
      "Hosting the HTTP server on port 65428 instead\n",
      "  warnings.warn(\n"
     ]
    },
    {
     "data": {
      "text/plain": "<Client: 'tcp://127.0.0.1:65429' processes=5 threads=10, memory=32.00 GiB>",
      "text/html": "<div>\n    <div style=\"width: 24px; height: 24px; background-color: #e1e1e1; border: 3px solid #9D9D9D; border-radius: 5px; position: absolute;\"> </div>\n    <div style=\"margin-left: 48px;\">\n        <h3 style=\"margin-bottom: 0px;\">Client</h3>\n        <p style=\"color: #9D9D9D; margin-bottom: 0px;\">Client-e0ca8338-e9c4-11ed-9394-7ac6f14f7373</p>\n        <table style=\"width: 100%; text-align: left;\">\n\n        <tr>\n        \n            <td style=\"text-align: left;\"><strong>Connection method:</strong> Cluster object</td>\n            <td style=\"text-align: left;\"><strong>Cluster type:</strong> distributed.LocalCluster</td>\n        \n        </tr>\n\n        \n            <tr>\n                <td style=\"text-align: left;\">\n                    <strong>Dashboard: </strong> <a href=\"http://127.0.0.1:65428/status\" target=\"_blank\">http://127.0.0.1:65428/status</a>\n                </td>\n                <td style=\"text-align: left;\"></td>\n            </tr>\n        \n\n        </table>\n\n        \n\n        \n            <details>\n            <summary style=\"margin-bottom: 20px;\"><h3 style=\"display: inline;\">Cluster Info</h3></summary>\n            <div class=\"jp-RenderedHTMLCommon jp-RenderedHTML jp-mod-trusted jp-OutputArea-output\">\n    <div style=\"width: 24px; height: 24px; background-color: #e1e1e1; border: 3px solid #9D9D9D; border-radius: 5px; position: absolute;\">\n    </div>\n    <div style=\"margin-left: 48px;\">\n        <h3 style=\"margin-bottom: 0px; margin-top: 0px;\">LocalCluster</h3>\n        <p style=\"color: #9D9D9D; margin-bottom: 0px;\">00e8b70a</p>\n        <table style=\"width: 100%; text-align: left;\">\n            <tr>\n                <td style=\"text-align: left;\">\n                    <strong>Dashboard:</strong> <a href=\"http://127.0.0.1:65428/status\" target=\"_blank\">http://127.0.0.1:65428/status</a>\n                </td>\n                <td style=\"text-align: left;\">\n                    <strong>Workers:</strong> 5\n                </td>\n            </tr>\n            <tr>\n                <td style=\"text-align: left;\">\n                    <strong>Total threads:</strong> 10\n                </td>\n                <td style=\"text-align: left;\">\n                    <strong>Total memory:</strong> 32.00 GiB\n                </td>\n            </tr>\n            \n            <tr>\n    <td style=\"text-align: left;\"><strong>Status:</strong> running</td>\n    <td style=\"text-align: left;\"><strong>Using processes:</strong> True</td>\n</tr>\n\n            \n        </table>\n\n        <details>\n            <summary style=\"margin-bottom: 20px;\">\n                <h3 style=\"display: inline;\">Scheduler Info</h3>\n            </summary>\n\n            <div style=\"\">\n    <div>\n        <div style=\"width: 24px; height: 24px; background-color: #FFF7E5; border: 3px solid #FF6132; border-radius: 5px; position: absolute;\"> </div>\n        <div style=\"margin-left: 48px;\">\n            <h3 style=\"margin-bottom: 0px;\">Scheduler</h3>\n            <p style=\"color: #9D9D9D; margin-bottom: 0px;\">Scheduler-13aa4e63-56e0-4f08-841c-0a0ac6e8edea</p>\n            <table style=\"width: 100%; text-align: left;\">\n                <tr>\n                    <td style=\"text-align: left;\">\n                        <strong>Comm:</strong> tcp://127.0.0.1:65429\n                    </td>\n                    <td style=\"text-align: left;\">\n                        <strong>Workers:</strong> 5\n                    </td>\n                </tr>\n                <tr>\n                    <td style=\"text-align: left;\">\n                        <strong>Dashboard:</strong> <a href=\"http://127.0.0.1:65428/status\" target=\"_blank\">http://127.0.0.1:65428/status</a>\n                    </td>\n                    <td style=\"text-align: left;\">\n                        <strong>Total threads:</strong> 10\n                    </td>\n                </tr>\n                <tr>\n                    <td style=\"text-align: left;\">\n                        <strong>Started:</strong> Just now\n                    </td>\n                    <td style=\"text-align: left;\">\n                        <strong>Total memory:</strong> 32.00 GiB\n                    </td>\n                </tr>\n            </table>\n        </div>\n    </div>\n\n    <details style=\"margin-left: 48px;\">\n        <summary style=\"margin-bottom: 20px;\">\n            <h3 style=\"display: inline;\">Workers</h3>\n        </summary>\n\n        \n        <div style=\"margin-bottom: 20px;\">\n            <div style=\"width: 24px; height: 24px; background-color: #DBF5FF; border: 3px solid #4CC9FF; border-radius: 5px; position: absolute;\"> </div>\n            <div style=\"margin-left: 48px;\">\n            <details>\n                <summary>\n                    <h4 style=\"margin-bottom: 0px; display: inline;\">Worker: 0</h4>\n                </summary>\n                <table style=\"width: 100%; text-align: left;\">\n                    <tr>\n                        <td style=\"text-align: left;\">\n                            <strong>Comm: </strong> tcp://127.0.0.1:65445\n                        </td>\n                        <td style=\"text-align: left;\">\n                            <strong>Total threads: </strong> 2\n                        </td>\n                    </tr>\n                    <tr>\n                        <td style=\"text-align: left;\">\n                            <strong>Dashboard: </strong> <a href=\"http://127.0.0.1:65448/status\" target=\"_blank\">http://127.0.0.1:65448/status</a>\n                        </td>\n                        <td style=\"text-align: left;\">\n                            <strong>Memory: </strong> 6.40 GiB\n                        </td>\n                    </tr>\n                    <tr>\n                        <td style=\"text-align: left;\">\n                            <strong>Nanny: </strong> tcp://127.0.0.1:65432\n                        </td>\n                        <td style=\"text-align: left;\"></td>\n                    </tr>\n                    <tr>\n                        <td colspan=\"2\" style=\"text-align: left;\">\n                            <strong>Local directory: </strong> /var/folders/71/dq62wtb15f9ckfvyn853m3d80000gn/T/dask-worker-space/worker-1e4nsxge\n                        </td>\n                    </tr>\n\n                    \n\n                    \n\n                </table>\n            </details>\n            </div>\n        </div>\n        \n        <div style=\"margin-bottom: 20px;\">\n            <div style=\"width: 24px; height: 24px; background-color: #DBF5FF; border: 3px solid #4CC9FF; border-radius: 5px; position: absolute;\"> </div>\n            <div style=\"margin-left: 48px;\">\n            <details>\n                <summary>\n                    <h4 style=\"margin-bottom: 0px; display: inline;\">Worker: 1</h4>\n                </summary>\n                <table style=\"width: 100%; text-align: left;\">\n                    <tr>\n                        <td style=\"text-align: left;\">\n                            <strong>Comm: </strong> tcp://127.0.0.1:65446\n                        </td>\n                        <td style=\"text-align: left;\">\n                            <strong>Total threads: </strong> 2\n                        </td>\n                    </tr>\n                    <tr>\n                        <td style=\"text-align: left;\">\n                            <strong>Dashboard: </strong> <a href=\"http://127.0.0.1:65452/status\" target=\"_blank\">http://127.0.0.1:65452/status</a>\n                        </td>\n                        <td style=\"text-align: left;\">\n                            <strong>Memory: </strong> 6.40 GiB\n                        </td>\n                    </tr>\n                    <tr>\n                        <td style=\"text-align: left;\">\n                            <strong>Nanny: </strong> tcp://127.0.0.1:65433\n                        </td>\n                        <td style=\"text-align: left;\"></td>\n                    </tr>\n                    <tr>\n                        <td colspan=\"2\" style=\"text-align: left;\">\n                            <strong>Local directory: </strong> /var/folders/71/dq62wtb15f9ckfvyn853m3d80000gn/T/dask-worker-space/worker-bql253yq\n                        </td>\n                    </tr>\n\n                    \n\n                    \n\n                </table>\n            </details>\n            </div>\n        </div>\n        \n        <div style=\"margin-bottom: 20px;\">\n            <div style=\"width: 24px; height: 24px; background-color: #DBF5FF; border: 3px solid #4CC9FF; border-radius: 5px; position: absolute;\"> </div>\n            <div style=\"margin-left: 48px;\">\n            <details>\n                <summary>\n                    <h4 style=\"margin-bottom: 0px; display: inline;\">Worker: 2</h4>\n                </summary>\n                <table style=\"width: 100%; text-align: left;\">\n                    <tr>\n                        <td style=\"text-align: left;\">\n                            <strong>Comm: </strong> tcp://127.0.0.1:65450\n                        </td>\n                        <td style=\"text-align: left;\">\n                            <strong>Total threads: </strong> 2\n                        </td>\n                    </tr>\n                    <tr>\n                        <td style=\"text-align: left;\">\n                            <strong>Dashboard: </strong> <a href=\"http://127.0.0.1:65456/status\" target=\"_blank\">http://127.0.0.1:65456/status</a>\n                        </td>\n                        <td style=\"text-align: left;\">\n                            <strong>Memory: </strong> 6.40 GiB\n                        </td>\n                    </tr>\n                    <tr>\n                        <td style=\"text-align: left;\">\n                            <strong>Nanny: </strong> tcp://127.0.0.1:65434\n                        </td>\n                        <td style=\"text-align: left;\"></td>\n                    </tr>\n                    <tr>\n                        <td colspan=\"2\" style=\"text-align: left;\">\n                            <strong>Local directory: </strong> /var/folders/71/dq62wtb15f9ckfvyn853m3d80000gn/T/dask-worker-space/worker-wezruy23\n                        </td>\n                    </tr>\n\n                    \n\n                    \n\n                </table>\n            </details>\n            </div>\n        </div>\n        \n        <div style=\"margin-bottom: 20px;\">\n            <div style=\"width: 24px; height: 24px; background-color: #DBF5FF; border: 3px solid #4CC9FF; border-radius: 5px; position: absolute;\"> </div>\n            <div style=\"margin-left: 48px;\">\n            <details>\n                <summary>\n                    <h4 style=\"margin-bottom: 0px; display: inline;\">Worker: 3</h4>\n                </summary>\n                <table style=\"width: 100%; text-align: left;\">\n                    <tr>\n                        <td style=\"text-align: left;\">\n                            <strong>Comm: </strong> tcp://127.0.0.1:65447\n                        </td>\n                        <td style=\"text-align: left;\">\n                            <strong>Total threads: </strong> 2\n                        </td>\n                    </tr>\n                    <tr>\n                        <td style=\"text-align: left;\">\n                            <strong>Dashboard: </strong> <a href=\"http://127.0.0.1:65451/status\" target=\"_blank\">http://127.0.0.1:65451/status</a>\n                        </td>\n                        <td style=\"text-align: left;\">\n                            <strong>Memory: </strong> 6.40 GiB\n                        </td>\n                    </tr>\n                    <tr>\n                        <td style=\"text-align: left;\">\n                            <strong>Nanny: </strong> tcp://127.0.0.1:65435\n                        </td>\n                        <td style=\"text-align: left;\"></td>\n                    </tr>\n                    <tr>\n                        <td colspan=\"2\" style=\"text-align: left;\">\n                            <strong>Local directory: </strong> /var/folders/71/dq62wtb15f9ckfvyn853m3d80000gn/T/dask-worker-space/worker-sfp_02cf\n                        </td>\n                    </tr>\n\n                    \n\n                    \n\n                </table>\n            </details>\n            </div>\n        </div>\n        \n        <div style=\"margin-bottom: 20px;\">\n            <div style=\"width: 24px; height: 24px; background-color: #DBF5FF; border: 3px solid #4CC9FF; border-radius: 5px; position: absolute;\"> </div>\n            <div style=\"margin-left: 48px;\">\n            <details>\n                <summary>\n                    <h4 style=\"margin-bottom: 0px; display: inline;\">Worker: 4</h4>\n                </summary>\n                <table style=\"width: 100%; text-align: left;\">\n                    <tr>\n                        <td style=\"text-align: left;\">\n                            <strong>Comm: </strong> tcp://127.0.0.1:65455\n                        </td>\n                        <td style=\"text-align: left;\">\n                            <strong>Total threads: </strong> 2\n                        </td>\n                    </tr>\n                    <tr>\n                        <td style=\"text-align: left;\">\n                            <strong>Dashboard: </strong> <a href=\"http://127.0.0.1:65459/status\" target=\"_blank\">http://127.0.0.1:65459/status</a>\n                        </td>\n                        <td style=\"text-align: left;\">\n                            <strong>Memory: </strong> 6.40 GiB\n                        </td>\n                    </tr>\n                    <tr>\n                        <td style=\"text-align: left;\">\n                            <strong>Nanny: </strong> tcp://127.0.0.1:65436\n                        </td>\n                        <td style=\"text-align: left;\"></td>\n                    </tr>\n                    <tr>\n                        <td colspan=\"2\" style=\"text-align: left;\">\n                            <strong>Local directory: </strong> /var/folders/71/dq62wtb15f9ckfvyn853m3d80000gn/T/dask-worker-space/worker-kw1hljuk\n                        </td>\n                    </tr>\n\n                    \n\n                    \n\n                </table>\n            </details>\n            </div>\n        </div>\n        \n\n    </details>\n</div>\n\n        </details>\n    </div>\n</div>\n            </details>\n        \n\n    </div>\n</div>"
     },
     "execution_count": 2,
     "metadata": {},
     "output_type": "execute_result"
    }
   ],
   "source": [
    "dask_client = Client()\n",
    "dask_client"
   ],
   "metadata": {
    "collapsed": false,
    "ExecuteTime": {
     "start_time": "2023-05-03T17:12:11.260276Z",
     "end_time": "2023-05-03T17:12:12.191680Z"
    }
   }
  },
  {
   "cell_type": "markdown",
   "source": [
    "### Load sample species observation data\n",
    "As an example a dataset from the Dutch 'Nationale Databank Flora en Fauna' (ndff.nl). While we are hoping for this to be available as open data (soon), it is not yet. However, we have permission to use it for the FAIRiCUBE EU project."
   ],
   "metadata": {
    "collapsed": false
   }
  },
  {
   "cell_type": "code",
   "execution_count": 4,
   "outputs": [],
   "source": [
    "# the NDFF datafile to process\n",
    "species_filename = \"../../../local/data/ndff/broedvogels_2016.csv\"\n",
    "\n",
    "# the columns to drop right away\n",
    "drop_cols = None"
   ],
   "metadata": {
    "collapsed": false,
    "ExecuteTime": {
     "start_time": "2023-05-03T17:12:58.183592Z",
     "end_time": "2023-05-03T17:12:58.186733Z"
    }
   }
  },
  {
   "cell_type": "code",
   "execution_count": 5,
   "outputs": [
    {
     "data": {
      "text/plain": "       nl_name            sci_name  jaar countsubject orig_abundance  straal   \n0     Krakeend       Anas strepera  2016  territorium              1      71  \\\n1     Zwartkop  Sylvia atricapilla  2016  territorium              1     283   \n2  Zanglijster   Turdus philomelos  2016  territorium              1     283   \n3  Zanglijster   Turdus philomelos  2016  territorium              1     283   \n4      Spreeuw    Sturnus vulgaris  2016         nest              1     283   \n\n                                                 wkt  \n0  POLYGON((247282 584478,247280.535533906 584474...  \n1  POLYGON((65405.294923655 436165.134083641,6540...  \n2  POLYGON((188642.918478918 344195.927912087,188...  \n3  POLYGON((169116.484375 446596.0625,169113.5554...  \n4  POLYGON((127692 427328,127689.071067812 427320...  ",
      "text/html": "<div>\n<style scoped>\n    .dataframe tbody tr th:only-of-type {\n        vertical-align: middle;\n    }\n\n    .dataframe tbody tr th {\n        vertical-align: top;\n    }\n\n    .dataframe thead th {\n        text-align: right;\n    }\n</style>\n<table border=\"1\" class=\"dataframe\">\n  <thead>\n    <tr style=\"text-align: right;\">\n      <th></th>\n      <th>nl_name</th>\n      <th>sci_name</th>\n      <th>jaar</th>\n      <th>countsubject</th>\n      <th>orig_abundance</th>\n      <th>straal</th>\n      <th>wkt</th>\n    </tr>\n  </thead>\n  <tbody>\n    <tr>\n      <th>0</th>\n      <td>Krakeend</td>\n      <td>Anas strepera</td>\n      <td>2016</td>\n      <td>territorium</td>\n      <td>1</td>\n      <td>71</td>\n      <td>POLYGON((247282 584478,247280.535533906 584474...</td>\n    </tr>\n    <tr>\n      <th>1</th>\n      <td>Zwartkop</td>\n      <td>Sylvia atricapilla</td>\n      <td>2016</td>\n      <td>territorium</td>\n      <td>1</td>\n      <td>283</td>\n      <td>POLYGON((65405.294923655 436165.134083641,6540...</td>\n    </tr>\n    <tr>\n      <th>2</th>\n      <td>Zanglijster</td>\n      <td>Turdus philomelos</td>\n      <td>2016</td>\n      <td>territorium</td>\n      <td>1</td>\n      <td>283</td>\n      <td>POLYGON((188642.918478918 344195.927912087,188...</td>\n    </tr>\n    <tr>\n      <th>3</th>\n      <td>Zanglijster</td>\n      <td>Turdus philomelos</td>\n      <td>2016</td>\n      <td>territorium</td>\n      <td>1</td>\n      <td>283</td>\n      <td>POLYGON((169116.484375 446596.0625,169113.5554...</td>\n    </tr>\n    <tr>\n      <th>4</th>\n      <td>Spreeuw</td>\n      <td>Sturnus vulgaris</td>\n      <td>2016</td>\n      <td>nest</td>\n      <td>1</td>\n      <td>283</td>\n      <td>POLYGON((127692 427328,127689.071067812 427320...</td>\n    </tr>\n  </tbody>\n</table>\n</div>"
     },
     "execution_count": 5,
     "metadata": {},
     "output_type": "execute_result"
    }
   ],
   "source": [
    "# load the data into a regular pandas dataframe\n",
    "species_df = pd.read_csv(species_filename, header='infer', sep=';', on_bad_lines='warn')\n",
    "\n",
    "# remove not needed columns\n",
    "if drop_cols:\n",
    "    species_df.drop(columns=drop_cols, inplace=True)\n",
    "\n",
    "# remove the crs prefix from the wkt data\n",
    "species_df['wkt_excl_crs'] = species_df['wkt'].map(lambda x: x.split(';')[1], na_action='ignore')\n",
    "species_df.drop(columns=['wkt'], inplace=True)\n",
    "species_df.rename(columns={'wkt_excl_crs': 'wkt'}, inplace=True)\n",
    "\n",
    "species_df.head(5)"
   ],
   "metadata": {
    "collapsed": false,
    "ExecuteTime": {
     "start_time": "2023-05-03T17:13:01.679781Z",
     "end_time": "2023-05-03T17:13:03.154961Z"
    }
   }
  },
  {
   "cell_type": "code",
   "execution_count": 6,
   "outputs": [
    {
     "data": {
      "text/plain": "       nl_name            sci_name  jaar countsubject orig_abundance  straal   \n0     Krakeend       Anas strepera  2016  territorium              1      71  \\\n1     Zwartkop  Sylvia atricapilla  2016  territorium              1     283   \n2  Zanglijster   Turdus philomelos  2016  territorium              1     283   \n3  Zanglijster   Turdus philomelos  2016  territorium              1     283   \n4      Spreeuw    Sturnus vulgaris  2016         nest              1     283   \n\n                                                 wkt  \n0  POLYGON((247282 584478,247280.535533906 584474...  \n1  POLYGON((65405.294923655 436165.134083641,6540...  \n2  POLYGON((188642.918478918 344195.927912087,188...  \n3  POLYGON((169116.484375 446596.0625,169113.5554...  \n4  POLYGON((127692 427328,127689.071067812 427320...  ",
      "text/html": "<div>\n<style scoped>\n    .dataframe tbody tr th:only-of-type {\n        vertical-align: middle;\n    }\n\n    .dataframe tbody tr th {\n        vertical-align: top;\n    }\n\n    .dataframe thead th {\n        text-align: right;\n    }\n</style>\n<table border=\"1\" class=\"dataframe\">\n  <thead>\n    <tr style=\"text-align: right;\">\n      <th></th>\n      <th>nl_name</th>\n      <th>sci_name</th>\n      <th>jaar</th>\n      <th>countsubject</th>\n      <th>orig_abundance</th>\n      <th>straal</th>\n      <th>wkt</th>\n    </tr>\n  </thead>\n  <tbody>\n    <tr>\n      <th>0</th>\n      <td>Krakeend</td>\n      <td>Anas strepera</td>\n      <td>2016</td>\n      <td>territorium</td>\n      <td>1</td>\n      <td>71</td>\n      <td>POLYGON((247282 584478,247280.535533906 584474...</td>\n    </tr>\n    <tr>\n      <th>1</th>\n      <td>Zwartkop</td>\n      <td>Sylvia atricapilla</td>\n      <td>2016</td>\n      <td>territorium</td>\n      <td>1</td>\n      <td>283</td>\n      <td>POLYGON((65405.294923655 436165.134083641,6540...</td>\n    </tr>\n    <tr>\n      <th>2</th>\n      <td>Zanglijster</td>\n      <td>Turdus philomelos</td>\n      <td>2016</td>\n      <td>territorium</td>\n      <td>1</td>\n      <td>283</td>\n      <td>POLYGON((188642.918478918 344195.927912087,188...</td>\n    </tr>\n    <tr>\n      <th>3</th>\n      <td>Zanglijster</td>\n      <td>Turdus philomelos</td>\n      <td>2016</td>\n      <td>territorium</td>\n      <td>1</td>\n      <td>283</td>\n      <td>POLYGON((169116.484375 446596.0625,169113.5554...</td>\n    </tr>\n    <tr>\n      <th>4</th>\n      <td>Spreeuw</td>\n      <td>Sturnus vulgaris</td>\n      <td>2016</td>\n      <td>nest</td>\n      <td>1</td>\n      <td>283</td>\n      <td>POLYGON((127692 427328,127689.071067812 427320...</td>\n    </tr>\n  </tbody>\n</table>\n</div>"
     },
     "execution_count": 6,
     "metadata": {},
     "output_type": "execute_result"
    }
   ],
   "source": [
    "# load the data into a dask dataframe\n",
    "\n",
    "# read a Dask DataFrame\n",
    "species_dd = dd.read_csv(\n",
    "    species_filename,\n",
    "    header='infer',\n",
    "    sep=';',\n",
    "    on_bad_lines='warn',\n",
    "    dtype={ 'orig_abundance': 'object'} # because of '*' used as abundance value\n",
    ")\n",
    "\n",
    "# remove not needed columns, note that Dask DataFrames are immutable (unlike regular Pandas)\n",
    "if drop_cols:\n",
    "    species_dd = species_dd.drop(columns=drop_cols)\n",
    "\n",
    "# remove the crs prefix from the wkt data\n",
    "# note that map with a custom function needs additional meta info\n",
    "species_dd['wkt_excl_crs'] = species_dd['wkt'].map(\n",
    "    lambda x: x.split(';')[1],\n",
    "    na_action='ignore',\n",
    "    meta=pd.Series(dtype='str'))\n",
    "\n",
    "species_dd = species_dd.drop(columns=['wkt'])\n",
    "species_dd = species_dd.rename(columns={'wkt_excl_crs': 'wkt'})\n",
    "\n",
    "species_dd.head(5)"
   ],
   "metadata": {
    "collapsed": false,
    "ExecuteTime": {
     "start_time": "2023-05-03T17:13:11.855781Z",
     "end_time": "2023-05-03T17:13:12.859254Z"
    }
   }
  },
  {
   "cell_type": "code",
   "execution_count": 7,
   "outputs": [
    {
     "data": {
      "text/plain": "sci_name\nSylvia atricapilla         22475\nTroglodytes troglodytes    18088\nPhylloscopus collybita     16349\nSylvia communis            14712\nPhylloscopus trochilus     14189\n                           ...  \nPernis apivorus               78\nSpinus spinus                 77\nSerinus serinus               53\nArdea purpurea                42\nCorvus corax                  34\nName: count, Length: 129, dtype: int64"
     },
     "execution_count": 7,
     "metadata": {},
     "output_type": "execute_result"
    }
   ],
   "source": [
    "# Dask is lazy, need to call compute to get the result from a task graph\n",
    "graph = species_dd['sci_name'].value_counts(sort=True, dropna=True)\n",
    "graph.compute()"
   ],
   "metadata": {
    "collapsed": false,
    "ExecuteTime": {
     "start_time": "2023-05-03T17:13:21.136805Z",
     "end_time": "2023-05-03T17:13:22.109149Z"
    }
   }
  },
  {
   "cell_type": "markdown",
   "source": [
    "### Create a GeoPandas DataFrame\n",
    "The observations have spatial attributes, so lift them into a GeoPandas DataFrame to be able to process them.\n",
    "\n",
    "Note that there is a dask-geopandas package that bridges Dask with GeoPandas."
   ],
   "metadata": {
    "collapsed": false
   }
  },
  {
   "cell_type": "code",
   "execution_count": 8,
   "outputs": [
    {
     "data": {
      "text/plain": "       nl_name            sci_name  jaar countsubject orig_abundance  straal   \n0     Krakeend       Anas strepera  2016  territorium              1      71  \\\n1     Zwartkop  Sylvia atricapilla  2016  territorium              1     283   \n2  Zanglijster   Turdus philomelos  2016  territorium              1     283   \n3  Zanglijster   Turdus philomelos  2016  territorium              1     283   \n4      Spreeuw    Sturnus vulgaris  2016         nest              1     283   \n\n                                            geometry  \n0  POLYGON ((6.76944 53.23891, 6.76942 53.23888, ...  \n1  POLYGON ((4.08519 51.90677, 4.08514 51.90670, ...  \n2  POLYGON ((5.86735 51.08631, 5.86731 51.08625, ...  \n3  POLYGON ((5.59280 52.00755, 5.59276 52.00749, ...  \n4  POLYGON ((4.99101 51.83388, 4.99097 51.83382, ...  ",
      "text/html": "<div>\n<style scoped>\n    .dataframe tbody tr th:only-of-type {\n        vertical-align: middle;\n    }\n\n    .dataframe tbody tr th {\n        vertical-align: top;\n    }\n\n    .dataframe thead th {\n        text-align: right;\n    }\n</style>\n<table border=\"1\" class=\"dataframe\">\n  <thead>\n    <tr style=\"text-align: right;\">\n      <th></th>\n      <th>nl_name</th>\n      <th>sci_name</th>\n      <th>jaar</th>\n      <th>countsubject</th>\n      <th>orig_abundance</th>\n      <th>straal</th>\n      <th>geometry</th>\n    </tr>\n  </thead>\n  <tbody>\n    <tr>\n      <th>0</th>\n      <td>Krakeend</td>\n      <td>Anas strepera</td>\n      <td>2016</td>\n      <td>territorium</td>\n      <td>1</td>\n      <td>71</td>\n      <td>POLYGON ((6.76944 53.23891, 6.76942 53.23888, ...</td>\n    </tr>\n    <tr>\n      <th>1</th>\n      <td>Zwartkop</td>\n      <td>Sylvia atricapilla</td>\n      <td>2016</td>\n      <td>territorium</td>\n      <td>1</td>\n      <td>283</td>\n      <td>POLYGON ((4.08519 51.90677, 4.08514 51.90670, ...</td>\n    </tr>\n    <tr>\n      <th>2</th>\n      <td>Zanglijster</td>\n      <td>Turdus philomelos</td>\n      <td>2016</td>\n      <td>territorium</td>\n      <td>1</td>\n      <td>283</td>\n      <td>POLYGON ((5.86735 51.08631, 5.86731 51.08625, ...</td>\n    </tr>\n    <tr>\n      <th>3</th>\n      <td>Zanglijster</td>\n      <td>Turdus philomelos</td>\n      <td>2016</td>\n      <td>territorium</td>\n      <td>1</td>\n      <td>283</td>\n      <td>POLYGON ((5.59280 52.00755, 5.59276 52.00749, ...</td>\n    </tr>\n    <tr>\n      <th>4</th>\n      <td>Spreeuw</td>\n      <td>Sturnus vulgaris</td>\n      <td>2016</td>\n      <td>nest</td>\n      <td>1</td>\n      <td>283</td>\n      <td>POLYGON ((4.99101 51.83388, 4.99097 51.83382, ...</td>\n    </tr>\n  </tbody>\n</table>\n</div>"
     },
     "execution_count": 8,
     "metadata": {},
     "output_type": "execute_result"
    }
   ],
   "source": [
    "# construct a GeoDataFrame, with the data using the Dutch RD coordinate reference system\n",
    "\n",
    "# note that we used the pandas dataframe\n",
    "gs = gp.GeoSeries.from_wkt(species_df['wkt'])\n",
    "species_gdf = gp.GeoDataFrame(species_df, geometry=gs, crs='EPSG:28992')\n",
    "\n",
    "# transform the dataset to the more common WGS84 (unprojected) CRS\n",
    "species_gdf.to_crs(crs=\"EPSG:4326\", inplace=True)\n",
    "species_gdf.drop(columns=['wkt'], inplace=True)\n",
    "\n",
    "species_gdf.head(5)"
   ],
   "metadata": {
    "collapsed": false,
    "ExecuteTime": {
     "start_time": "2023-05-03T17:13:37.148512Z",
     "end_time": "2023-05-03T17:13:41.929000Z"
    }
   }
  },
  {
   "cell_type": "markdown",
   "source": [
    "### Create a Dask GeoDataFrame\n",
    "Turn a regular geodataframe into a Dask geodataframe that support lazy graphs computed on a cluster."
   ],
   "metadata": {
    "collapsed": false
   }
  },
  {
   "cell_type": "code",
   "execution_count": 9,
   "outputs": [
    {
     "data": {
      "text/plain": "              nl_name                       sci_name  jaar      countsubject   \n0            Krakeend                  Anas strepera  2016       territorium  \\\n1            Zwartkop             Sylvia atricapilla  2016       territorium   \n2         Zanglijster              Turdus philomelos  2016       territorium   \n3         Zanglijster              Turdus philomelos  2016       territorium   \n4             Spreeuw               Sturnus vulgaris  2016              nest   \n...               ...                            ...   ...               ...   \n454447       Kuifmees          Lophophanes cristatus  2016  levend exemplaar   \n454448  Groene specht                  Picus viridis  2016       territorium   \n454449       Goudhaan                Regulus regulus  2016  levend exemplaar   \n454450      Appelvink  Coccothraustes coccothraustes  2016       territorium   \n454451   Knobbelzwaan                    Cygnus olor  2016       territorium   \n\n       orig_abundance  straal   \n0                   1      71  \\\n1                   1     283   \n2                   1     283   \n3                   1     283   \n4                   1     283   \n...               ...     ...   \n454447              1     283   \n454448              1     283   \n454449              1     283   \n454450              1      71   \n454451              1       3   \n\n                                                 geometry  \n0       POLYGON ((6.76944 53.23891, 6.76942 53.23888, ...  \n1       POLYGON ((4.08519 51.90677, 4.08514 51.90670, ...  \n2       POLYGON ((5.86735 51.08631, 5.86731 51.08625, ...  \n3       POLYGON ((5.59280 52.00755, 5.59276 52.00749, ...  \n4       POLYGON ((4.99101 51.83388, 4.99097 51.83382, ...  \n...                                                   ...  \n454447  POLYGON ((5.30305 52.10910, 5.30301 52.10903, ...  \n454448  POLYGON ((5.84707 51.34738, 5.84703 51.34732, ...  \n454449  POLYGON ((5.23365 52.18130, 5.23361 52.18124, ...  \n454450  POLYGON ((6.03809 52.41482, 6.03807 52.41479, ...  \n454451  POLYGON ((5.57784 52.36990, 5.57783 52.36989, ...  \n\n[454452 rows x 7 columns]",
      "text/html": "<div>\n<style scoped>\n    .dataframe tbody tr th:only-of-type {\n        vertical-align: middle;\n    }\n\n    .dataframe tbody tr th {\n        vertical-align: top;\n    }\n\n    .dataframe thead th {\n        text-align: right;\n    }\n</style>\n<table border=\"1\" class=\"dataframe\">\n  <thead>\n    <tr style=\"text-align: right;\">\n      <th></th>\n      <th>nl_name</th>\n      <th>sci_name</th>\n      <th>jaar</th>\n      <th>countsubject</th>\n      <th>orig_abundance</th>\n      <th>straal</th>\n      <th>geometry</th>\n    </tr>\n  </thead>\n  <tbody>\n    <tr>\n      <th>0</th>\n      <td>Krakeend</td>\n      <td>Anas strepera</td>\n      <td>2016</td>\n      <td>territorium</td>\n      <td>1</td>\n      <td>71</td>\n      <td>POLYGON ((6.76944 53.23891, 6.76942 53.23888, ...</td>\n    </tr>\n    <tr>\n      <th>1</th>\n      <td>Zwartkop</td>\n      <td>Sylvia atricapilla</td>\n      <td>2016</td>\n      <td>territorium</td>\n      <td>1</td>\n      <td>283</td>\n      <td>POLYGON ((4.08519 51.90677, 4.08514 51.90670, ...</td>\n    </tr>\n    <tr>\n      <th>2</th>\n      <td>Zanglijster</td>\n      <td>Turdus philomelos</td>\n      <td>2016</td>\n      <td>territorium</td>\n      <td>1</td>\n      <td>283</td>\n      <td>POLYGON ((5.86735 51.08631, 5.86731 51.08625, ...</td>\n    </tr>\n    <tr>\n      <th>3</th>\n      <td>Zanglijster</td>\n      <td>Turdus philomelos</td>\n      <td>2016</td>\n      <td>territorium</td>\n      <td>1</td>\n      <td>283</td>\n      <td>POLYGON ((5.59280 52.00755, 5.59276 52.00749, ...</td>\n    </tr>\n    <tr>\n      <th>4</th>\n      <td>Spreeuw</td>\n      <td>Sturnus vulgaris</td>\n      <td>2016</td>\n      <td>nest</td>\n      <td>1</td>\n      <td>283</td>\n      <td>POLYGON ((4.99101 51.83388, 4.99097 51.83382, ...</td>\n    </tr>\n    <tr>\n      <th>...</th>\n      <td>...</td>\n      <td>...</td>\n      <td>...</td>\n      <td>...</td>\n      <td>...</td>\n      <td>...</td>\n      <td>...</td>\n    </tr>\n    <tr>\n      <th>454447</th>\n      <td>Kuifmees</td>\n      <td>Lophophanes cristatus</td>\n      <td>2016</td>\n      <td>levend exemplaar</td>\n      <td>1</td>\n      <td>283</td>\n      <td>POLYGON ((5.30305 52.10910, 5.30301 52.10903, ...</td>\n    </tr>\n    <tr>\n      <th>454448</th>\n      <td>Groene specht</td>\n      <td>Picus viridis</td>\n      <td>2016</td>\n      <td>territorium</td>\n      <td>1</td>\n      <td>283</td>\n      <td>POLYGON ((5.84707 51.34738, 5.84703 51.34732, ...</td>\n    </tr>\n    <tr>\n      <th>454449</th>\n      <td>Goudhaan</td>\n      <td>Regulus regulus</td>\n      <td>2016</td>\n      <td>levend exemplaar</td>\n      <td>1</td>\n      <td>283</td>\n      <td>POLYGON ((5.23365 52.18130, 5.23361 52.18124, ...</td>\n    </tr>\n    <tr>\n      <th>454450</th>\n      <td>Appelvink</td>\n      <td>Coccothraustes coccothraustes</td>\n      <td>2016</td>\n      <td>territorium</td>\n      <td>1</td>\n      <td>71</td>\n      <td>POLYGON ((6.03809 52.41482, 6.03807 52.41479, ...</td>\n    </tr>\n    <tr>\n      <th>454451</th>\n      <td>Knobbelzwaan</td>\n      <td>Cygnus olor</td>\n      <td>2016</td>\n      <td>territorium</td>\n      <td>1</td>\n      <td>3</td>\n      <td>POLYGON ((5.57784 52.36990, 5.57783 52.36989, ...</td>\n    </tr>\n  </tbody>\n</table>\n<p>454452 rows × 7 columns</p>\n</div>"
     },
     "execution_count": 9,
     "metadata": {},
     "output_type": "execute_result"
    }
   ],
   "source": [
    "%%capture --no-display\n",
    "# (hides warning about sending large graph)\n",
    "\n",
    "# create a dask geodataframe\n",
    "species_gdd = dgp.from_geopandas(species_gdf, npartitions=4)\n",
    "species_gdd.compute()"
   ],
   "metadata": {
    "collapsed": false,
    "ExecuteTime": {
     "start_time": "2023-05-03T17:14:37.561794Z",
     "end_time": "2023-05-03T17:14:39.779681Z"
    }
   }
  },
  {
   "cell_type": "code",
   "execution_count": 11,
   "outputs": [
    {
     "data": {
      "text/plain": "sci_name\nSylvia atricapilla         22475\nTroglodytes troglodytes    18088\nPhylloscopus collybita     16349\nSylvia communis            14712\nPhylloscopus trochilus     14189\n                           ...  \nPernis apivorus               78\nSpinus spinus                 77\nSerinus serinus               53\nArdea purpurea                42\nCorvus corax                  34\nName: count, Length: 129, dtype: int64"
     },
     "execution_count": 11,
     "metadata": {},
     "output_type": "execute_result"
    }
   ],
   "source": [
    "%%capture --no-display\n",
    "# (hides warning about sending large graph)\n",
    "\n",
    "species_gdd['sci_name'].value_counts(sort=True, dropna=True).compute()"
   ],
   "metadata": {
    "collapsed": false,
    "ExecuteTime": {
     "start_time": "2023-05-03T17:15:17.167335Z",
     "end_time": "2023-05-03T17:15:18.601594Z"
    }
   }
  },
  {
   "cell_type": "code",
   "execution_count": 14,
   "outputs": [
    {
     "data": {
      "text/plain": "0         9.515338e-09\n1         3.693998e-08\n2         3.628487e-08\n3         3.702603e-08\n4         3.688382e-08\n              ...     \n454447    3.710962e-08\n454448    3.649180e-08\n454449    3.716920e-08\n454450    9.340626e-09\n454451    3.732582e-10\nLength: 454452, dtype: float64"
     },
     "execution_count": 14,
     "metadata": {},
     "output_type": "execute_result"
    },
    {
     "name": "stderr",
     "output_type": "stream",
     "text": [
      "/Users/robknapen/opt/mambaforge/envs/fairicube-pt2/lib/python3.11/site-packages/dask/dataframe/core.py:7021: UserWarning: Geometry is in a geographic CRS. Results from 'area' are likely incorrect. Use 'GeoSeries.to_crs()' to re-project geometries to a projected CRS before this operation.\n",
      "\n",
      "  df = func(*args, **kwargs)\n",
      "/Users/robknapen/opt/mambaforge/envs/fairicube-pt2/lib/python3.11/site-packages/dask/dataframe/core.py:7021: UserWarning: Geometry is in a geographic CRS. Results from 'area' are likely incorrect. Use 'GeoSeries.to_crs()' to re-project geometries to a projected CRS before this operation.\n",
      "\n",
      "  df = func(*args, **kwargs)\n",
      "/Users/robknapen/opt/mambaforge/envs/fairicube-pt2/lib/python3.11/site-packages/dask/dataframe/core.py:7021: UserWarning: Geometry is in a geographic CRS. Results from 'area' are likely incorrect. Use 'GeoSeries.to_crs()' to re-project geometries to a projected CRS before this operation.\n",
      "\n",
      "  df = func(*args, **kwargs)\n",
      "/Users/robknapen/opt/mambaforge/envs/fairicube-pt2/lib/python3.11/site-packages/dask/dataframe/core.py:7021: UserWarning: Geometry is in a geographic CRS. Results from 'area' are likely incorrect. Use 'GeoSeries.to_crs()' to re-project geometries to a projected CRS before this operation.\n",
      "\n",
      "  df = func(*args, **kwargs)\n"
     ]
    }
   ],
   "source": [
    "%%capture --no-display\n",
    "# (hides warning about area calculation on non-projected data)\n",
    "\n",
    "species_gdd.geometry.area.compute()"
   ],
   "metadata": {
    "collapsed": false,
    "ExecuteTime": {
     "start_time": "2023-05-03T17:16:36.249214Z",
     "end_time": "2023-05-03T17:16:37.686391Z"
    }
   }
  }
 ],
 "metadata": {
  "kernelspec": {
   "display_name": "Python 3",
   "language": "python",
   "name": "python3"
  },
  "language_info": {
   "codemirror_mode": {
    "name": "ipython",
    "version": 2
   },
   "file_extension": ".py",
   "mimetype": "text/x-python",
   "name": "python",
   "nbconvert_exporter": "python",
   "pygments_lexer": "ipython2",
   "version": "2.7.6"
  }
 },
 "nbformat": 4,
 "nbformat_minor": 0
}
