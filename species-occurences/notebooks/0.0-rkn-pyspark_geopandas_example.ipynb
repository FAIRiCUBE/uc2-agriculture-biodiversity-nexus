{
 "cells": [
  {
   "cell_type": "markdown",
   "metadata": {},
   "source": [
    "# PySpark - GeoPandas Example\n",
    "\n",
    "*Rob Knapen, Wageningen Environmental Research*\n",
    "<br>\n",
    "\n",
    "A notebook to investigate using GeoPandas for spatial data operations and PySpark to (potentially) run them on a compute cluster. This could be useful for processing large datasets of species observations.\n",
    "\n",
    "Note that installation is slightly tricky due to the mixing of Python with the JVM (Scala/Java) based Spark and the use of latest developments for bridging them (in pyspark, such as Apache Arrow). Transporting spatial data between both environments adds some additional complexity. This notebook is tested with Spark 3.4.0 (currently the latest version).\n",
    "\n",
    "In this notebook species observation data from NDFF is used. For more information about this data please contact NDFF or visit their website (be aware that it is not fully available in English).\n",
    "\n",
    "**Data source(s)**:\n",
    "- ['Nationale Databank Flora en Fauna'](https://ndff.nl) (October 2022). This data is copy protected."
   ]
  },
  {
   "cell_type": "markdown",
   "metadata": {},
   "source": [
    "### Import Packages\n",
    "Some imports are for future use :-)\n",
    "\n",
    "Hint: Make sure pyspark package version matches the installed Apache Spark version!"
   ]
  },
  {
   "cell_type": "code",
   "execution_count": 2,
   "metadata": {
    "ExecuteTime": {
     "end_time": "2023-07-28T09:27:28.734080Z",
     "start_time": "2023-07-28T09:27:26.865116Z"
    },
    "tags": []
   },
   "outputs": [
    {
     "ename": "ModuleNotFoundError",
     "evalue": "No module named 'pyspark'",
     "output_type": "error",
     "traceback": [
      "\u001b[0;31m---------------------------------------------------------------------------\u001b[0m",
      "\u001b[0;31mModuleNotFoundError\u001b[0m                       Traceback (most recent call last)",
      "Cell \u001b[0;32mIn[2], line 15\u001b[0m\n\u001b[1;32m      9\u001b[0m matplotlib\u001b[38;5;241m.\u001b[39mrcParams[\u001b[38;5;124m'\u001b[39m\u001b[38;5;124mfigure.figsize\u001b[39m\u001b[38;5;124m'\u001b[39m] \u001b[38;5;241m=\u001b[39m (\u001b[38;5;241m10\u001b[39m, \u001b[38;5;241m5\u001b[39m)\n\u001b[1;32m     11\u001b[0m \u001b[38;5;66;03m# for exponential back down when calling APIs\u001b[39;00m\n\u001b[1;32m     12\u001b[0m \u001b[38;5;66;03m# from retrying import retry\u001b[39;00m\n\u001b[1;32m     13\u001b[0m \n\u001b[1;32m     14\u001b[0m \u001b[38;5;66;03m# PySpark libraries\u001b[39;00m\n\u001b[0;32m---> 15\u001b[0m \u001b[38;5;28;01mimport\u001b[39;00m \u001b[38;5;21;01mpyspark\u001b[39;00m\u001b[38;5;21;01m.\u001b[39;00m\u001b[38;5;21;01msql\u001b[39;00m\u001b[38;5;21;01m.\u001b[39;00m\u001b[38;5;21;01mfunctions\u001b[39;00m \u001b[38;5;28;01mas\u001b[39;00m \u001b[38;5;21;01mfunc\u001b[39;00m\n\u001b[1;32m     16\u001b[0m \u001b[38;5;28;01mfrom\u001b[39;00m \u001b[38;5;21;01mpyspark\u001b[39;00m\u001b[38;5;21;01m.\u001b[39;00m\u001b[38;5;21;01msql\u001b[39;00m\u001b[38;5;21;01m.\u001b[39;00m\u001b[38;5;21;01mtypes\u001b[39;00m \u001b[38;5;28;01mimport\u001b[39;00m StringType, IntegerType, FloatType, DoubleType, DecimalType\n\u001b[1;32m     17\u001b[0m \u001b[38;5;28;01mfrom\u001b[39;00m \u001b[38;5;21;01mpyspark\u001b[39;00m\u001b[38;5;21;01m.\u001b[39;00m\u001b[38;5;21;01msql\u001b[39;00m \u001b[38;5;28;01mimport\u001b[39;00m SparkSession\n",
      "\u001b[0;31mModuleNotFoundError\u001b[0m: No module named 'pyspark'"
     ]
    }
   ],
   "source": [
    "import os\n",
    "os.environ['USE_PYGEOS'] = '0'\n",
    "\n",
    "import geopandas.geoseries\n",
    "import matplotlib.pyplot as plt\n",
    "\n",
    "import matplotlib\n",
    "matplotlib.style.use('ggplot')\n",
    "matplotlib.rcParams['figure.figsize'] = (10, 5)\n",
    "\n",
    "# for exponential back down when calling APIs\n",
    "from retrying import retry\n",
    "\n",
    "# PySpark libraries\n",
    "import pyspark.sql.functions as func\n",
    "from pyspark.sql.types import StringType, IntegerType, FloatType, DoubleType, DecimalType\n",
    "from pyspark.sql import SparkSession\n",
    "\n",
    "# Spatial pandas libraries\n",
    "import pandas as pd\n",
    "import geopandas as gpd\n",
    "from geopandas import GeoDataFrame\n",
    "from shapely.geometry import Point, Polygon, shape\n",
    "from shapely import wkb, wkt\n",
    "\n",
    "# Used to decode data from Java\n",
    "from ast import literal_eval as make_tuple"
   ]
  },
  {
   "cell_type": "markdown",
   "metadata": {},
   "source": [
    "### Create a Spark Session"
   ]
  },
  {
   "cell_type": "code",
   "execution_count": 2,
   "metadata": {
    "ExecuteTime": {
     "end_time": "2023-07-28T09:27:36.748084Z",
     "start_time": "2023-07-28T09:27:31.860602Z"
    }
   },
   "outputs": [
    {
     "name": "stderr",
     "output_type": "stream",
     "text": [
      "23/07/28 11:27:34 WARN Utils: Your hostname, robs-m1pro.local resolves to a loopback address: 127.0.0.1; using 192.168.68.102 instead (on interface en0)\n",
      "23/07/28 11:27:34 WARN Utils: Set SPARK_LOCAL_IP if you need to bind to another address\n",
      "Setting default log level to \"WARN\".\n",
      "To adjust logging level use sc.setLogLevel(newLevel). For SparkR, use setLogLevel(newLevel).\n",
      "23/07/28 11:27:34 WARN NativeCodeLoader: Unable to load native-hadoop library for your platform... using builtin-java classes where applicable\n"
     ]
    },
    {
     "data": {
      "text/html": [
       "\n",
       "        <div>\n",
       "            <p><b>SparkContext</b></p>\n",
       "\n",
       "            <p><a href=\"http://192.168.68.102:4040\">Spark UI</a></p>\n",
       "\n",
       "            <dl>\n",
       "              <dt>Version</dt>\n",
       "                <dd><code>v3.4.1</code></dd>\n",
       "              <dt>Master</dt>\n",
       "                <dd><code>local[*]</code></dd>\n",
       "              <dt>AppName</dt>\n",
       "                <dd><code>fairicube-geopandas</code></dd>\n",
       "            </dl>\n",
       "        </div>\n",
       "        "
      ],
      "text/plain": [
       "<SparkContext master=local[*] appName=fairicube-geopandas>"
      ]
     },
     "execution_count": 2,
     "metadata": {},
     "output_type": "execute_result"
    }
   ],
   "source": [
    "spark = SparkSession.builder.appName(\"fairicube-geopandas\").getOrCreate()\n",
    "sc = spark.sparkContext\n",
    "sc"
   ]
  },
  {
   "cell_type": "markdown",
   "metadata": {},
   "source": [
    "### Load sample species observation data\n",
    "As an example a dataset from the Dutch 'Nationale Databank Flora en Fauna' (ndff.nl). While we are hoping for this to be available as open data (soon), it is not yet. However, we have permission to use it for the FAIRiCUBE EU project."
   ]
  },
  {
   "cell_type": "code",
   "execution_count": 3,
   "metadata": {
    "ExecuteTime": {
     "end_time": "2023-07-28T09:27:46.537587Z",
     "start_time": "2023-07-28T09:27:46.529901Z"
    }
   },
   "outputs": [],
   "source": [
    "# the NDFF datafile to process\n",
    "#\n",
    "# Note that these csv files were specifically prepared for this study, and\n",
    "# other NDFF datasets likely don't have the same columns so will require\n",
    "# pre-processing first!\n",
    "#\n",
    "# Available datasets:\n",
    "# broedvogels_2016.csv      (observations of nesting birds in 2016)\n",
    "# overigesoorten_2016.csv   (observations of 'other' species in 2016)\n",
    "# planten_2016.csv          (observations of plants in 2016)\n",
    "#\n",
    "\n",
    "# when working with the S3 bucket:\n",
    "base_input_file_path = \"~/s3/uc2-data\"\n",
    "base_output_file_path = \"~/s3/uc2-data\"\n",
    "\n",
    "# when running locally\n",
    "#base_input_file_path = \"../../../local/data\"\n",
    "#base_output_file_path = \"../data\"\n",
    "\n",
    "# ----\n",
    "\n",
    "obs_filename = base_input_file_path + \"/ndff-licensed/broedvogels_2016.csv\"\n",
    "obs_crs = \"EPSG:28992\"\n",
    "\n",
    "# the columns to drop right away\n",
    "always_drop_cols_from_source = None\n",
    "\n",
    "# ----\n",
    "\n",
    "# area of interest\n",
    "aoi_epsg = 'EPSG:32631' # WGS 84 / UTM zone 31N\n",
    "aoi_xmin =  674900.0\n",
    "aoi_xmax =  729800.0\n",
    "aoi_ymin = 5832230.0\n",
    "aoi_ymax = 5853960.0"
   ]
  },
  {
   "cell_type": "code",
   "execution_count": 4,
   "metadata": {
    "ExecuteTime": {
     "end_time": "2023-07-28T09:27:51.283895Z",
     "start_time": "2023-07-28T09:27:49.846867Z"
    }
   },
   "outputs": [
    {
     "data": {
      "text/html": [
       "<div>\n",
       "<style scoped>\n",
       "    .dataframe tbody tr th:only-of-type {\n",
       "        vertical-align: middle;\n",
       "    }\n",
       "\n",
       "    .dataframe tbody tr th {\n",
       "        vertical-align: top;\n",
       "    }\n",
       "\n",
       "    .dataframe thead th {\n",
       "        text-align: right;\n",
       "    }\n",
       "</style>\n",
       "<table border=\"1\" class=\"dataframe\">\n",
       "  <thead>\n",
       "    <tr style=\"text-align: right;\">\n",
       "      <th></th>\n",
       "      <th>nl_name</th>\n",
       "      <th>sci_name</th>\n",
       "      <th>jaar</th>\n",
       "      <th>countsubject</th>\n",
       "      <th>orig_abundance</th>\n",
       "      <th>straal</th>\n",
       "      <th>wkt</th>\n",
       "    </tr>\n",
       "  </thead>\n",
       "  <tbody>\n",
       "    <tr>\n",
       "      <th>0</th>\n",
       "      <td>Krakeend</td>\n",
       "      <td>Anas strepera</td>\n",
       "      <td>2016</td>\n",
       "      <td>territorium</td>\n",
       "      <td>1</td>\n",
       "      <td>71</td>\n",
       "      <td>POLYGON((247282 584478,247280.535533906 584474...</td>\n",
       "    </tr>\n",
       "    <tr>\n",
       "      <th>1</th>\n",
       "      <td>Zwartkop</td>\n",
       "      <td>Sylvia atricapilla</td>\n",
       "      <td>2016</td>\n",
       "      <td>territorium</td>\n",
       "      <td>1</td>\n",
       "      <td>283</td>\n",
       "      <td>POLYGON((65405.294923655 436165.134083641,6540...</td>\n",
       "    </tr>\n",
       "    <tr>\n",
       "      <th>2</th>\n",
       "      <td>Zanglijster</td>\n",
       "      <td>Turdus philomelos</td>\n",
       "      <td>2016</td>\n",
       "      <td>territorium</td>\n",
       "      <td>1</td>\n",
       "      <td>283</td>\n",
       "      <td>POLYGON((188642.918478918 344195.927912087,188...</td>\n",
       "    </tr>\n",
       "    <tr>\n",
       "      <th>3</th>\n",
       "      <td>Zanglijster</td>\n",
       "      <td>Turdus philomelos</td>\n",
       "      <td>2016</td>\n",
       "      <td>territorium</td>\n",
       "      <td>1</td>\n",
       "      <td>283</td>\n",
       "      <td>POLYGON((169116.484375 446596.0625,169113.5554...</td>\n",
       "    </tr>\n",
       "    <tr>\n",
       "      <th>4</th>\n",
       "      <td>Spreeuw</td>\n",
       "      <td>Sturnus vulgaris</td>\n",
       "      <td>2016</td>\n",
       "      <td>nest</td>\n",
       "      <td>1</td>\n",
       "      <td>283</td>\n",
       "      <td>POLYGON((127692 427328,127689.071067812 427320...</td>\n",
       "    </tr>\n",
       "  </tbody>\n",
       "</table>\n",
       "</div>"
      ],
      "text/plain": [
       "       nl_name            sci_name  jaar countsubject orig_abundance  straal  \\\n",
       "0     Krakeend       Anas strepera  2016  territorium              1      71   \n",
       "1     Zwartkop  Sylvia atricapilla  2016  territorium              1     283   \n",
       "2  Zanglijster   Turdus philomelos  2016  territorium              1     283   \n",
       "3  Zanglijster   Turdus philomelos  2016  territorium              1     283   \n",
       "4      Spreeuw    Sturnus vulgaris  2016         nest              1     283   \n",
       "\n",
       "                                                 wkt  \n",
       "0  POLYGON((247282 584478,247280.535533906 584474...  \n",
       "1  POLYGON((65405.294923655 436165.134083641,6540...  \n",
       "2  POLYGON((188642.918478918 344195.927912087,188...  \n",
       "3  POLYGON((169116.484375 446596.0625,169113.5554...  \n",
       "4  POLYGON((127692 427328,127689.071067812 427320...  "
      ]
     },
     "execution_count": 4,
     "metadata": {},
     "output_type": "execute_result"
    }
   ],
   "source": [
    "obs_df = pd.read_csv(obs_filename, header='infer', sep=';', on_bad_lines='warn')\n",
    "\n",
    "# remove not needed columns\n",
    "if always_drop_cols_from_source:\n",
    "    obs_df.drop(columns=always_drop_cols_from_source, inplace=True)\n",
    "\n",
    "# remove the crs prefix from the wkt data\n",
    "obs_df['wkt_excl_crs'] = obs_df['wkt'].map(lambda x: x.split(';')[1], na_action='ignore')\n",
    "obs_df.drop(columns=['wkt'], inplace=True)\n",
    "obs_df.rename(columns={'wkt_excl_crs': 'wkt'}, inplace=True)\n",
    "\n",
    "obs_df.head(5)"
   ]
  },
  {
   "cell_type": "code",
   "execution_count": 5,
   "metadata": {
    "ExecuteTime": {
     "end_time": "2023-07-28T09:29:14.920824Z",
     "start_time": "2023-07-28T09:29:14.897706Z"
    }
   },
   "outputs": [
    {
     "data": {
      "text/html": [
       "<div>\n",
       "<style scoped>\n",
       "    .dataframe tbody tr th:only-of-type {\n",
       "        vertical-align: middle;\n",
       "    }\n",
       "\n",
       "    .dataframe tbody tr th {\n",
       "        vertical-align: top;\n",
       "    }\n",
       "\n",
       "    .dataframe thead th {\n",
       "        text-align: right;\n",
       "    }\n",
       "</style>\n",
       "<table border=\"1\" class=\"dataframe\">\n",
       "  <thead>\n",
       "    <tr style=\"text-align: right;\">\n",
       "      <th></th>\n",
       "      <th>jaar</th>\n",
       "      <th>straal</th>\n",
       "    </tr>\n",
       "  </thead>\n",
       "  <tbody>\n",
       "    <tr>\n",
       "      <th>count</th>\n",
       "      <td>454452.0</td>\n",
       "      <td>454452.000000</td>\n",
       "    </tr>\n",
       "    <tr>\n",
       "      <th>mean</th>\n",
       "      <td>2016.0</td>\n",
       "      <td>221.808154</td>\n",
       "    </tr>\n",
       "    <tr>\n",
       "      <th>std</th>\n",
       "      <td>0.0</td>\n",
       "      <td>106.919241</td>\n",
       "    </tr>\n",
       "    <tr>\n",
       "      <th>min</th>\n",
       "      <td>2016.0</td>\n",
       "      <td>3.000000</td>\n",
       "    </tr>\n",
       "    <tr>\n",
       "      <th>25%</th>\n",
       "      <td>2016.0</td>\n",
       "      <td>71.000000</td>\n",
       "    </tr>\n",
       "    <tr>\n",
       "      <th>50%</th>\n",
       "      <td>2016.0</td>\n",
       "      <td>283.000000</td>\n",
       "    </tr>\n",
       "    <tr>\n",
       "      <th>75%</th>\n",
       "      <td>2016.0</td>\n",
       "      <td>283.000000</td>\n",
       "    </tr>\n",
       "    <tr>\n",
       "      <th>max</th>\n",
       "      <td>2016.0</td>\n",
       "      <td>488.000000</td>\n",
       "    </tr>\n",
       "  </tbody>\n",
       "</table>\n",
       "</div>"
      ],
      "text/plain": [
       "           jaar         straal\n",
       "count  454452.0  454452.000000\n",
       "mean     2016.0     221.808154\n",
       "std         0.0     106.919241\n",
       "min      2016.0       3.000000\n",
       "25%      2016.0      71.000000\n",
       "50%      2016.0     283.000000\n",
       "75%      2016.0     283.000000\n",
       "max      2016.0     488.000000"
      ]
     },
     "execution_count": 5,
     "metadata": {},
     "output_type": "execute_result"
    }
   ],
   "source": [
    "# get stats on the numerical data\n",
    "obs_df.describe()"
   ]
  },
  {
   "cell_type": "code",
   "execution_count": 6,
   "metadata": {
    "ExecuteTime": {
     "end_time": "2023-07-28T09:29:17.203408Z",
     "start_time": "2023-07-28T09:29:17.199597Z"
    }
   },
   "outputs": [
    {
     "data": {
      "text/plain": [
       "sci_name\n",
       "Sylvia atricapilla         22475\n",
       "Troglodytes troglodytes    18088\n",
       "Phylloscopus collybita     16349\n",
       "Sylvia communis            14712\n",
       "Phylloscopus trochilus     14189\n",
       "                           ...  \n",
       "Pernis apivorus               78\n",
       "Spinus spinus                 77\n",
       "Serinus serinus               53\n",
       "Ardea purpurea                42\n",
       "Corvus corax                  34\n",
       "Name: count, Length: 129, dtype: int64"
      ]
     },
     "execution_count": 6,
     "metadata": {},
     "output_type": "execute_result"
    }
   ],
   "source": [
    "# get stats on the species\n",
    "obs_df['sci_name'].value_counts(sort=True, dropna=True)"
   ]
  },
  {
   "cell_type": "markdown",
   "metadata": {},
   "source": [
    "### Create a GeoPandas DataFrame\n",
    "The observations have spatial attributes, so lift them into a GeoPandas DataFrame to be able to process them."
   ]
  },
  {
   "cell_type": "code",
   "execution_count": 7,
   "metadata": {
    "ExecuteTime": {
     "end_time": "2023-07-28T09:29:26.652767Z",
     "start_time": "2023-07-28T09:29:22.260555Z"
    }
   },
   "outputs": [
    {
     "data": {
      "text/html": [
       "<div>\n",
       "<style scoped>\n",
       "    .dataframe tbody tr th:only-of-type {\n",
       "        vertical-align: middle;\n",
       "    }\n",
       "\n",
       "    .dataframe tbody tr th {\n",
       "        vertical-align: top;\n",
       "    }\n",
       "\n",
       "    .dataframe thead th {\n",
       "        text-align: right;\n",
       "    }\n",
       "</style>\n",
       "<table border=\"1\" class=\"dataframe\">\n",
       "  <thead>\n",
       "    <tr style=\"text-align: right;\">\n",
       "      <th></th>\n",
       "      <th>nl_name</th>\n",
       "      <th>sci_name</th>\n",
       "      <th>jaar</th>\n",
       "      <th>countsubject</th>\n",
       "      <th>orig_abundance</th>\n",
       "      <th>straal</th>\n",
       "      <th>geometry</th>\n",
       "    </tr>\n",
       "  </thead>\n",
       "  <tbody>\n",
       "    <tr>\n",
       "      <th>77</th>\n",
       "      <td>Boomklever</td>\n",
       "      <td>Sitta europaea</td>\n",
       "      <td>2016</td>\n",
       "      <td>territorium</td>\n",
       "      <td>1</td>\n",
       "      <td>3</td>\n",
       "      <td>POLYGON ((696534.968 5839329.095, 696534.699 5...</td>\n",
       "    </tr>\n",
       "    <tr>\n",
       "      <th>177</th>\n",
       "      <td>Boomkruiper</td>\n",
       "      <td>Certhia brachydactyla</td>\n",
       "      <td>2016</td>\n",
       "      <td>territorium</td>\n",
       "      <td>1</td>\n",
       "      <td>3</td>\n",
       "      <td>POLYGON ((696593.972 5839511.176, 696593.703 5...</td>\n",
       "    </tr>\n",
       "    <tr>\n",
       "      <th>244</th>\n",
       "      <td>Zwartkop</td>\n",
       "      <td>Sylvia atricapilla</td>\n",
       "      <td>2016</td>\n",
       "      <td>territorium</td>\n",
       "      <td>1</td>\n",
       "      <td>3</td>\n",
       "      <td>POLYGON ((696559.077 5841648.484, 696558.808 5...</td>\n",
       "    </tr>\n",
       "    <tr>\n",
       "      <th>321</th>\n",
       "      <td>Grauwe gans</td>\n",
       "      <td>Anser anser</td>\n",
       "      <td>2016</td>\n",
       "      <td>territorium</td>\n",
       "      <td>1</td>\n",
       "      <td>3</td>\n",
       "      <td>POLYGON ((708429.841 5850887.999, 708429.572 5...</td>\n",
       "    </tr>\n",
       "    <tr>\n",
       "      <th>352</th>\n",
       "      <td>Boompieper</td>\n",
       "      <td>Anthus trivialis</td>\n",
       "      <td>2016</td>\n",
       "      <td>territorium</td>\n",
       "      <td>1</td>\n",
       "      <td>3</td>\n",
       "      <td>POLYGON ((695002.120 5839142.150, 695001.851 5...</td>\n",
       "    </tr>\n",
       "  </tbody>\n",
       "</table>\n",
       "</div>"
      ],
      "text/plain": [
       "         nl_name               sci_name  jaar countsubject orig_abundance  \\\n",
       "77    Boomklever         Sitta europaea  2016  territorium              1   \n",
       "177  Boomkruiper  Certhia brachydactyla  2016  territorium              1   \n",
       "244     Zwartkop     Sylvia atricapilla  2016  territorium              1   \n",
       "321  Grauwe gans            Anser anser  2016  territorium              1   \n",
       "352   Boompieper       Anthus trivialis  2016  territorium              1   \n",
       "\n",
       "     straal                                           geometry  \n",
       "77        3  POLYGON ((696534.968 5839329.095, 696534.699 5...  \n",
       "177       3  POLYGON ((696593.972 5839511.176, 696593.703 5...  \n",
       "244       3  POLYGON ((696559.077 5841648.484, 696558.808 5...  \n",
       "321       3  POLYGON ((708429.841 5850887.999, 708429.572 5...  \n",
       "352       3  POLYGON ((695002.120 5839142.150, 695001.851 5...  "
      ]
     },
     "execution_count": 7,
     "metadata": {},
     "output_type": "execute_result"
    }
   ],
   "source": [
    "# construct a GeoDataFrame, with the data using the Dutch RD coordinate reference system\n",
    "gs = gpd.GeoSeries.from_wkt(obs_df['wkt'])\n",
    "obs_gdf = gpd.GeoDataFrame(obs_df, geometry=gs, crs=\"EPSG:28992\")\n",
    "\n",
    "# transform the dataset to the more common WGS84 (unprojected) CRS\n",
    "obs_gdf.to_crs(crs=aoi_epsg, inplace=True)\n",
    "obs_gdf.drop(columns=['wkt'], inplace=True)\n",
    "\n",
    "# only execute this cell when you want to change the aoi to the full dataset!\n",
    "#aoi_xmin = obs_gdf.total_bounds[0]\n",
    "#aoi_ymin = obs_gdf.total_bounds[1]\n",
    "#aoi_xmax = obs_gdf.total_bounds[2]\n",
    "#aoi_ymax = obs_gdf.total_bounds[3]\n",
    "\n",
    "# spatially select observations within the area of interest\n",
    "aoi_obs_gdf = obs_gdf.cx[aoi_xmin:aoi_xmax, aoi_ymin:aoi_ymax]\n",
    "aoi_obs_gdf.head(5)"
   ]
  },
  {
   "cell_type": "code",
   "execution_count": 8,
   "metadata": {
    "ExecuteTime": {
     "end_time": "2023-07-28T09:29:49.160560Z",
     "start_time": "2023-07-28T09:29:49.038768Z"
    }
   },
   "outputs": [
    {
     "data": {
      "image/png": "[encoded data removed]",
      "text/plain": [
       "<Figure size 1000x500 with 1 Axes>"
      ]
     },
     "metadata": {},
     "output_type": "display_data"
    }
   ],
   "source": [
    "# display a few samples\n",
    "sample_gdf = aoi_obs_gdf[0:1]\n",
    "sample_gdf.plot(column='orig_abundance', categorical=False, legend=False)\n",
    "plt.show()"
   ]
  },
  {
   "cell_type": "code",
   "execution_count": 9,
   "metadata": {
    "ExecuteTime": {
     "end_time": "2023-07-28T09:29:51.021637Z",
     "start_time": "2023-07-28T09:29:50.426957Z"
    }
   },
   "outputs": [
    {
     "data": {
      "image/png": "[encoded data removed]",
      "text/plain": [
       "<Figure size 1000x500 with 1 Axes>"
      ]
     },
     "metadata": {},
     "output_type": "display_data"
    }
   ],
   "source": [
    "# display all species observations (this might take a while to draw)\n",
    "aoi_obs_gdf.plot(column='sci_name', categorical=False, legend=False)\n",
    "plt.show()"
   ]
  },
  {
   "cell_type": "code",
   "execution_count": 10,
   "metadata": {
    "ExecuteTime": {
     "end_time": "2023-07-28T09:29:58.391579Z",
     "start_time": "2023-07-28T09:29:54.760462Z"
    }
   },
   "outputs": [],
   "source": [
    "# or use explore(), but not for large datasets\n",
    "aoi_obs_gdf.explore()"
   ]
  },
  {
   "cell_type": "markdown",
   "metadata": {},
   "source": [
    "### Create a Spark DataFrame\n",
    "Here comes the more tricky part to lift the GeoDataFrame into a Spark (distributed) DataFrame."
   ]
  },
  {
   "cell_type": "code",
   "execution_count": 11,
   "metadata": {
    "ExecuteTime": {
     "end_time": "2023-07-28T09:30:04.664530Z",
     "start_time": "2023-07-28T09:30:01.389542Z"
    }
   },
   "outputs": [
    {
     "name": "stdout",
     "output_type": "stream",
     "text": [
      "root\n",
      " |-- nl_name: string (nullable = true)\n",
      " |-- sci_name: string (nullable = true)\n",
      " |-- jaar: long (nullable = true)\n",
      " |-- countsubject: string (nullable = true)\n",
      " |-- orig_abundance: string (nullable = true)\n",
      " |-- straal: long (nullable = true)\n",
      " |-- wkt: string (nullable = true)\n"
     ]
    }
   ],
   "source": [
    "# take a small sample to experiment with\n",
    "source_gdf = aoi_obs_gdf.copy()\n",
    "\n",
    "# have to convert the geometry objects (back) to wkt strings for Spark compatibility\n",
    "source_gdf['wkt'] = pd.Series(\n",
    "    source_gdf['geometry'].map(lambda x: str(x.wkt), na_action='ignore'),\n",
    "    index=source_gdf.index, dtype='string'\n",
    ")\n",
    "\n",
    "# get rid of the geometry objects that Spark can not automatically interpret\n",
    "source_gdf.drop(columns=['geometry'], axis=1, inplace=True)\n",
    "\n",
    "# now create a Spark DataFrame from the GeoPandas DataFrame\n",
    "obs_sdf = spark.createDataFrame(data=source_gdf)\n",
    "obs_sdf.printSchema()"
   ]
  },
  {
   "cell_type": "code",
   "execution_count": 12,
   "metadata": {
    "ExecuteTime": {
     "end_time": "2023-07-28T09:31:05.651979Z",
     "start_time": "2023-07-28T09:31:03.363052Z"
    }
   },
   "outputs": [
    {
     "name": "stderr",
     "output_type": "stream",
     "text": [
      "[Stage 0:>                                                          (0 + 1) / 1]\r"
     ]
    },
    {
     "name": "stdout",
     "output_type": "stream",
     "text": [
      "+-----------+--------------------+----+----------------+--------------+------+--------------------+\n",
      "|    nl_name|            sci_name|jaar|    countsubject|orig_abundance|straal|                 wkt|\n",
      "+-----------+--------------------+----+----------------+--------------+------+--------------------+\n",
      "| Boomklever|      Sitta europaea|2016|     territorium|             1|     3|POLYGON ((696534....|\n",
      "|Boomkruiper|Certhia brachydac...|2016|     territorium|             1|     3|POLYGON ((696593....|\n",
      "|   Zwartkop|  Sylvia atricapilla|2016|     territorium|             1|     3|POLYGON ((696559....|\n",
      "|Grauwe gans|         Anser anser|2016|     territorium|             1|     3|POLYGON ((708429....|\n",
      "| Boompieper|    Anthus trivialis|2016|     territorium|             1|     3|POLYGON ((695002....|\n",
      "|Grauwe gans|         Anser anser|2016|     territorium|             1|   283|POLYGON ((701798....|\n",
      "|Tuinfluiter|        Sylvia borin|2016|     territorium|             1|     3|POLYGON ((710751....|\n",
      "|   Zwartkop|  Sylvia atricapilla|2016|levend exemplaar|             1|    71|POLYGON ((711987....|\n",
      "|    Grasmus|     Sylvia communis|2016|     territorium|             1|     3|POLYGON ((694071....|\n",
      "|Zanglijster|   Turdus philomelos|2016|     territorium|             1|     3|POLYGON ((695943....|\n",
      "+-----------+--------------------+----+----------------+--------------+------+--------------------+\n"
     ]
    },
    {
     "name": "stderr",
     "output_type": "stream",
     "text": [
      "                                                                                \r"
     ]
    }
   ],
   "source": [
    "obs_sdf.show(10, truncate=True)"
   ]
  },
  {
   "cell_type": "code",
   "execution_count": 13,
   "metadata": {
    "ExecuteTime": {
     "end_time": "2023-07-28T09:31:31.818423Z",
     "start_time": "2023-07-28T09:31:26.351035Z"
    }
   },
   "outputs": [
    {
     "name": "stderr",
     "output_type": "stream",
     "text": [
      "23/07/28 11:31:26 WARN package: Truncated the string representation of a plan since it was too large. This behavior can be adjusted by setting 'spark.sql.debug.maxToStringFields'.\n",
      "[Stage 1:==================================>                       (6 + 4) / 10]\r"
     ]
    },
    {
     "name": "stdout",
     "output_type": "stream",
     "text": [
      "+-------+------------------+------------------+------------------+\n",
      "|summary|          sci_name|    orig_abundance|            straal|\n",
      "+-------+------------------+------------------+------------------+\n",
      "|  count|             11551|             11551|             11551|\n",
      "|   mean|              null|1.1930568781923643| 80.34507834819496|\n",
      "| stddev|              null| 5.059212018462981|123.55572783291228|\n",
      "|    min|Accipiter gentilis|                 1|                 3|\n",
      "|    25%|              null|               1.0|                 3|\n",
      "|    50%|              null|               1.0|                 3|\n",
      "|    75%|              null|               1.0|               283|\n",
      "|    max| Vanellus vanellus|                95|               488|\n",
      "+-------+------------------+------------------+------------------+\n"
     ]
    },
    {
     "name": "stderr",
     "output_type": "stream",
     "text": [
      "                                                                                \r"
     ]
    }
   ],
   "source": [
    "# now we can put Spark to work ...\n",
    "obs_sdf.select(\"sci_name\", \"orig_abundance\", 'straal').summary().show()"
   ]
  },
  {
   "cell_type": "code",
   "execution_count": 14,
   "metadata": {
    "ExecuteTime": {
     "end_time": "2023-07-28T09:32:15.840914Z",
     "start_time": "2023-07-28T09:32:13.503094Z"
    }
   },
   "outputs": [
    {
     "name": "stderr",
     "output_type": "stream",
     "text": [
      "[Stage 4:=====>                                                    (1 + 9) / 10]\r"
     ]
    },
    {
     "name": "stdout",
     "output_type": "stream",
     "text": [
      "+--------------------------+------+---------------+\n",
      "|countsubject              |straal|count(sci_name)|\n",
      "+--------------------------+------+---------------+\n",
      "|broedpaar                 |312   |2              |\n",
      "|broedpaar                 |71    |1              |\n",
      "|broedpaar                 |488   |2              |\n",
      "|broedpaar                 |204   |1              |\n",
      "|broedpaar                 |283   |5              |\n",
      "|levend exemplaar          |71    |58             |\n",
      "|levend exemplaar          |283   |96             |\n",
      "|levend exemplaar          |25    |7              |\n",
      "|levend exemplaar          |407   |1              |\n",
      "|nest                      |283   |28             |\n",
      "|nest                      |71    |11             |\n",
      "|onbekend                  |102   |1              |\n",
      "|territorium               |3     |108            |\n",
      "|territorium               |283   |94             |\n",
      "|vers gesleep nestmateriaal|283   |10             |\n",
      "|vers gesleep nestmateriaal|71    |3              |\n",
      "+--------------------------+------+---------------+\n"
     ]
    },
    {
     "name": "stderr",
     "output_type": "stream",
     "text": [
      "                                                                                \r"
     ]
    }
   ],
   "source": [
    "from pyspark.sql.functions import countDistinct\n",
    "\n",
    "(obs_sdf\n",
    "    .groupBy(\"countsubject\", \"straal\")\n",
    "    .agg(countDistinct(\"sci_name\"))\n",
    "    .sort('countsubject')\n",
    "    .show(25, truncate=False)\n",
    " )"
   ]
  },
  {
   "cell_type": "code",
   "execution_count": 15,
   "metadata": {
    "ExecuteTime": {
     "end_time": "2023-07-28T09:32:23.933815Z",
     "start_time": "2023-07-28T09:32:22.925354Z"
    }
   },
   "outputs": [
    {
     "name": "stdout",
     "output_type": "stream",
     "text": [
      "+-----+--------------------------+\n",
      "|count|countsubject              |\n",
      "+-----+--------------------------+\n",
      "|10235|territorium               |\n",
      "|1204 |levend exemplaar          |\n",
      "|81   |nest                      |\n",
      "|16   |broedpaar                 |\n",
      "|14   |vers gesleep nestmateriaal|\n",
      "|1    |onbekend                  |\n",
      "+-----+--------------------------+\n"
     ]
    }
   ],
   "source": [
    "from pyspark.sql.functions import col\n",
    "\n",
    "(obs_sdf\n",
    "    .groupBy(\"countsubject\")\n",
    "    .count()\n",
    "    .sort(col(\"count\").desc())\n",
    "    .select(\"count\", \"countsubject\")\n",
    "    .show(truncate=False)\n",
    " )"
   ]
  },
  {
   "cell_type": "code",
   "execution_count": 16,
   "metadata": {
    "ExecuteTime": {
     "end_time": "2023-07-28T09:32:27.220224Z",
     "start_time": "2023-07-28T09:32:26.468390Z"
    }
   },
   "outputs": [
    {
     "name": "stdout",
     "output_type": "stream",
     "text": [
      "+-----+--------------+\n",
      "|count|orig_abundance|\n",
      "+-----+--------------+\n",
      "|11311|1             |\n",
      "|142  |2             |\n",
      "|27   |3             |\n",
      "|22   |4             |\n",
      "|7    |5             |\n",
      "|5    |6             |\n",
      "|4    |10            |\n",
      "|3    |8             |\n",
      "|3    |7             |\n",
      "|2    |12            |\n",
      "|2    |15            |\n",
      "|2    |30            |\n",
      "|2    |156           |\n",
      "|2    |32            |\n",
      "|1    |200           |\n",
      "|1    |16            |\n",
      "|1    |240           |\n",
      "|1    |9             |\n",
      "|1    |11            |\n",
      "|1    |95            |\n",
      "+-----+--------------+\n"
     ]
    }
   ],
   "source": [
    "(obs_sdf\n",
    "    .groupBy(\"orig_abundance\")\n",
    "    .count()\n",
    "    .sort(col(\"count\").desc())\n",
    "    .select(\"count\", \"orig_abundance\")\n",
    "    .show(truncate=False)\n",
    " )"
   ]
  },
  {
   "cell_type": "markdown",
   "metadata": {},
   "source": [
    "### Spark Cleanup (don't forget!)"
   ]
  },
  {
   "cell_type": "code",
   "execution_count": 17,
   "metadata": {
    "ExecuteTime": {
     "end_time": "2023-07-28T09:32:36.240460Z",
     "start_time": "2023-07-28T09:32:35.428331Z"
    }
   },
   "outputs": [],
   "source": [
    "# stop spark\n",
    "spark.stop()"
   ]
  },
  {
   "cell_type": "code",
   "execution_count": null,
   "metadata": {},
   "outputs": [],
   "source": []
  }
 ],
 "metadata": {
  "kernelspec": {
   "display_name": "fairicubeuc2-torch",
   "language": "python",
   "name": "conda-env-fairicubeuc2-torch-py"
  },
  "language_info": {
   "codemirror_mode": {
    "name": "ipython",
    "version": 3
   },
   "file_extension": ".py",
   "mimetype": "text/x-python",
   "name": "python",
   "nbconvert_exporter": "python",
   "pygments_lexer": "ipython3",
   "version": "3.10.11"
  }
 },
 "nbformat": 4,
 "nbformat_minor": 4
}
