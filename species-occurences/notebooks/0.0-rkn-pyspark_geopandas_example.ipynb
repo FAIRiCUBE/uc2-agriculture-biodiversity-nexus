{
 "cells": [
  {
   "cell_type": "markdown",
   "source": [
    "# PySpark - GeoPandas Example\n",
    "\n",
    "*Rob Knapen, Wageningen Environmental Research*\n",
    "<br>\n",
    "\n",
    "A notebook to investigate using GeoPandas for spatial data operations and PySpark to (potentially) run them on a compute cluster. This could be useful for processing large datasets of species observations.\n",
    "\n",
    "Note that installation is slightly tricky due to the mixing of Python with the JVM (Scala/Java) based Spark and the use of latest developments for bridging them (in pyspark, such as Apache Arrow). Transporting spatial data between both environments adds some additional complexity. This notebook is tested with Spark 3.4.0 (currently the latest version)."
   ],
   "metadata": {
    "collapsed": false
   }
  },
  {
   "cell_type": "markdown",
   "source": [
    "### Import Packages\n",
    "Some imports are for future use :-)\n",
    "\n",
    "Hint: Make sure pyspark package version matches the installed Apache Spark version!"
   ],
   "metadata": {
    "collapsed": false
   }
  },
  {
   "cell_type": "code",
   "execution_count": null,
   "outputs": [],
   "source": [
    "import os\n",
    "os.environ['USE_PYGEOS'] = '0'\n",
    "\n",
    "import geopandas.geoseries\n",
    "import matplotlib.pyplot as plt\n",
    "\n",
    "import matplotlib\n",
    "matplotlib.style.use('ggplot')\n",
    "matplotlib.rcParams['figure.figsize'] = (10, 5)\n",
    "\n",
    "# for exponential back down when calling APIs\n",
    "from retrying import retry\n",
    "\n",
    "# PySpark libraries\n",
    "import pyspark.sql.functions as func\n",
    "from pyspark.sql.types import StringType, IntegerType, FloatType, DoubleType, DecimalType\n",
    "from pyspark.sql import SparkSession\n",
    "\n",
    "# Spatial pandas libraries\n",
    "import pandas as pd\n",
    "import geopandas as gpd\n",
    "from geopandas import GeoDataFrame\n",
    "from shapely.geometry import Point, Polygon, shape\n",
    "from shapely import wkb, wkt\n",
    "\n",
    "# Used to decode data from Java\n",
    "from ast import literal_eval as make_tuple"
   ],
   "metadata": {
    "collapsed": false
   }
  },
  {
   "cell_type": "markdown",
   "source": [
    "### Create a Spark Session"
   ],
   "metadata": {
    "collapsed": false
   }
  },
  {
   "cell_type": "code",
   "execution_count": null,
   "outputs": [],
   "source": [
    "spark = SparkSession.builder.appName(\"fairicube-geopandas\").getOrCreate()\n",
    "sc = spark.sparkContext\n",
    "sc"
   ],
   "metadata": {
    "collapsed": false
   }
  },
  {
   "cell_type": "markdown",
   "source": [
    "### Load sample species observation data\n",
    "As an example a dataset from the Dutch 'Nationale Databank Flora en Fauna' (ndff.nl). While we are hoping for this to be available as open data (soon), it is not yet. However, we have permission to use it for the FAIRiCUBE EU project."
   ],
   "metadata": {
    "collapsed": false
   }
  },
  {
   "cell_type": "code",
   "execution_count": null,
   "outputs": [],
   "source": [
    "# the NDFF datafile to process\n",
    "species_filename = \"../../../local/data/ndff/broedvogels_2016.csv\"\n",
    "\n",
    "# the columns to drop right away\n",
    "always_drop_cols_from_source = None"
   ],
   "metadata": {
    "collapsed": false
   }
  },
  {
   "cell_type": "code",
   "execution_count": null,
   "outputs": [],
   "source": [
    "species_df = pd.read_csv(species_filename, header='infer', sep=';', on_bad_lines='warn')\n",
    "\n",
    "# remove not needed columns\n",
    "if always_drop_cols_from_source:\n",
    "    species_df.drop(columns=always_drop_cols_from_source, inplace=True)\n",
    "\n",
    "# remove the crs prefix from the wkt data\n",
    "species_df['wkt_excl_crs'] = species_df['wkt'].map(lambda x: x.split(';')[1], na_action='ignore')\n",
    "species_df.drop(columns=['wkt'], inplace=True)\n",
    "species_df.rename(columns={'wkt_excl_crs': 'wkt'}, inplace=True)\n",
    "\n",
    "species_df.head(5)"
   ],
   "metadata": {
    "collapsed": false
   }
  },
  {
   "cell_type": "code",
   "execution_count": null,
   "outputs": [],
   "source": [
    "# get stats on the numerical data\n",
    "species_df.describe()"
   ],
   "metadata": {
    "collapsed": false
   }
  },
  {
   "cell_type": "code",
   "execution_count": null,
   "outputs": [],
   "source": [
    "# get stats on the species\n",
    "species_df['sci_name'].value_counts(sort=True, dropna=True)"
   ],
   "metadata": {
    "collapsed": false
   }
  },
  {
   "cell_type": "markdown",
   "source": [
    "### Create a GeoPandas DataFrame\n",
    "The observations have spatial attributes, so lift them into a GeoPandas DataFrame to be able to process them."
   ],
   "metadata": {
    "collapsed": false
   }
  },
  {
   "cell_type": "code",
   "execution_count": null,
   "outputs": [],
   "source": [
    "# construct a GeoDataFrame, with the data using the Dutch RD coordinate reference system\n",
    "gs = gpd.GeoSeries.from_wkt(species_df['wkt'])\n",
    "species_gdf = gpd.GeoDataFrame(species_df, geometry=gs, crs=\"EPSG:28992\")\n",
    "\n",
    "# transform the dataset to the more common WGS84 (unprojected) CRS\n",
    "species_gdf.to_crs(crs=\"EPSG:4326\", inplace=True)\n",
    "species_gdf.drop(columns=['wkt'], inplace=True)\n",
    "\n",
    "species_gdf.head(5)"
   ],
   "metadata": {
    "collapsed": false
   }
  },
  {
   "cell_type": "code",
   "execution_count": null,
   "outputs": [],
   "source": [
    "# display a single sample observation\n",
    "sample_gdf = species_gdf[0:1]\n",
    "sample_gdf.plot(column='sci_name', categorical=True, legend=True)\n",
    "plt.show()"
   ],
   "metadata": {
    "collapsed": false
   }
  },
  {
   "cell_type": "code",
   "execution_count": null,
   "outputs": [],
   "source": [
    "# display all species observations (this might take a while to draw)\n",
    "species_gdf.plot(column='sci_name', categorical=False, legend=False)\n",
    "plt.show()"
   ],
   "metadata": {
    "collapsed": false
   }
  },
  {
   "cell_type": "code",
   "execution_count": null,
   "outputs": [],
   "source": [
    "# or use explore(), but not for large datasets\n",
    "# species_gdf[0:100].explore()"
   ],
   "metadata": {
    "collapsed": false,
    "is_executing": true
   }
  },
  {
   "cell_type": "markdown",
   "source": [
    "### Create a Spark DataFrame\n",
    "Here comes the more tricky part to lift the GeoDataFrame into a Spark (distributed) DataFrame."
   ],
   "metadata": {
    "collapsed": false
   }
  },
  {
   "cell_type": "code",
   "execution_count": null,
   "outputs": [],
   "source": [
    "# take a small sample to experiment with\n",
    "small_gdf = species_gdf[0:100000].copy()\n",
    "\n",
    "# have to convert the geometry objects (back) to wkt strings for Spark compatibility\n",
    "small_gdf['wkt'] = pd.Series(\n",
    "    small_gdf['geometry'].map(lambda x: str(x.wkt), na_action='ignore'),\n",
    "    index=small_gdf.index, dtype='string'\n",
    ")\n",
    "\n",
    "# get rid of the geometry objects that Spark can not automatically interpret\n",
    "small_gdf.drop(columns=['geometry'], axis=1, inplace=True)\n",
    "\n",
    "small_gdf"
   ],
   "metadata": {
    "collapsed": false
   }
  },
  {
   "cell_type": "code",
   "execution_count": null,
   "outputs": [],
   "source": [
    "# now create a Spark DataFrame from the GeoPandas DataFrame\n",
    "spark_df = spark.createDataFrame(data=small_gdf)\n",
    "spark_df.printSchema()"
   ],
   "metadata": {
    "collapsed": false
   }
  },
  {
   "cell_type": "code",
   "execution_count": null,
   "outputs": [],
   "source": [
    "spark_df.show(10, truncate=True)"
   ],
   "metadata": {
    "collapsed": false
   }
  },
  {
   "cell_type": "code",
   "execution_count": null,
   "outputs": [],
   "source": [
    "# now we can put Spark to work ...\n",
    "spark_df.select(\"sci_name\", \"orig_abundance\", 'straal').summary().show()"
   ],
   "metadata": {
    "collapsed": false
   }
  },
  {
   "cell_type": "code",
   "execution_count": null,
   "outputs": [],
   "source": [],
   "metadata": {
    "collapsed": false
   }
  }
 ],
 "metadata": {
  "kernelspec": {
   "display_name": "Python 3",
   "language": "python",
   "name": "python3"
  },
  "language_info": {
   "codemirror_mode": {
    "name": "ipython",
    "version": 2
   },
   "file_extension": ".py",
   "mimetype": "text/x-python",
   "name": "python",
   "nbconvert_exporter": "python",
   "pygments_lexer": "ipython2",
   "version": "2.7.6"
  }
 },
 "nbformat": 4,
 "nbformat_minor": 0
}
