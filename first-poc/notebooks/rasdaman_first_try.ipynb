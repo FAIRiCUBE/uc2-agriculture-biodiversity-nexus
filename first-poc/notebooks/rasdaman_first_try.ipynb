{
 "cells": [
  {
   "cell_type": "code",
   "execution_count": 1,
   "metadata": {
    "collapsed": true
   },
   "outputs": [],
   "source": [
    "# Rasdaman Data Access - First Tries"
   ]
  },
  {
   "cell_type": "code",
   "execution_count": 5,
   "outputs": [
    {
     "name": "stdout",
     "output_type": "stream",
     "text": [
      "The dotenv extension is already loaded. To reload it, use:\n",
      "  %reload_ext dotenv\n"
     ]
    }
   ],
   "source": [
    "import xmltodict as xmltodict\n",
    "# get it with: pip install python-dotenv\n",
    "%load_ext dotenv\n",
    "%dotenv"
   ],
   "metadata": {
    "collapsed": false
   }
  },
  {
   "cell_type": "code",
   "execution_count": 20,
   "outputs": [],
   "source": [
    "import os\n",
    "# read the secret information\n",
    "rasdaman_username = os.getenv(\"RASDAMAN_CRED_USERNAME\")\n",
    "rasdaman_password = os.getenv(\"RASDAMAN_CRED_PASSWORD\")\n",
    "rasdaman_endpoint = os.getenv(\"RASDAMAN_SERVICE_ENDPOINT\")\n",
    "\n",
    "base_wcs_url = rasdaman_endpoint + \"?service=WCS&version=2.1.0\""
   ],
   "metadata": {
    "collapsed": false
   }
  },
  {
   "cell_type": "markdown",
   "source": [
    "## WCS"
   ],
   "metadata": {
    "collapsed": false
   }
  },
  {
   "cell_type": "code",
   "execution_count": 30,
   "outputs": [
    {
     "data": {
      "text/plain": "{'wcs:Capabilities': {'@version': '2.1.0',\n  '@xsi:schemaLocation': 'http://www.opengis.net/wcs/2.1 http://schemas.opengis.net/wcs/2.1/wcsGetCapabilities.xsd',\n  '@xmlns:wcs': 'http://www.opengis.net/wcs/2.1',\n  '@xmlns:xsi': 'http://www.w3.org/2001/XMLSchema-instance',\n  '@xmlns:gml': 'http://www.opengis.net/gml/3.2',\n  '@xmlns:swe': 'http://www.opengis.net/swe/2.0',\n  '@xmlns:ows': 'http://www.opengis.net/ows/2.0',\n  '@xmlns:xlink': 'http://www.w3.org/1999/xlink',\n  '@xmlns:rasdaman': 'http://www.rasdaman.org',\n  '@xmlns:int': 'http://www.opengis.net/wcs/interpolation/1.0',\n  '@xmlns:crs': 'http://www.opengis.net/wcs/service-extension/crs/1.0',\n  '@xmlns:inspire_dls': 'http://inspire.ec.europa.eu/schemas/inspire_dls/1.0',\n  '@xmlns:inspire_common': 'http://inspire.ec.europa.eu/schemas/common/1.0',\n  'ows:ServiceIdentification': {'ows:Title': 'rasdaman',\n   'ows:Abstract': 'rasdaman server - free download from www.rasdaman.org',\n   'ows:ServiceType': 'OGC WCS',\n   'ows:ServiceTypeVersion': ['2.0.1', '2.1.0'],\n   'ows:Profile': ['http://www.opengis.net/spec/GMLCOV/1.0/conf/gml',\n    'http://www.opengis.net/spec/GMLCOV/1.0/conf/gml-coverage',\n    'http://www.opengis.net/spec/GMLJP2/2.0/',\n    'http://www.opengis.net/spec/WCS_coverage-encoding_jpeg2000/1.0/',\n    'https://www.ietf.org/rfc/rfc4180.txt',\n    'https://www.www.json.org/',\n    'https://www.w3.org/Graphics/JPEG/',\n    'http://www.w3.org/TR/PNG/',\n    'http://www.opengis.net/spec/WCS_coverage-encoding_netcdf/1.0/',\n    'http://www.opengis.net/spec/GMLCOV/1.0/conf/multipart',\n    'http://www.opengis.net/spec/WCS_service-extension_interpolation/1.0/conf/interpolation',\n    'http://www.opengis.net/spec/WCS_service-extension_range-subsetting/1.0/conf/record-subsetting',\n    'http://www.opengis.net/spec/WCS_service-extension_scaling/1.0/conf/scaling',\n    'http://www.opengis.net/spec/WCS_service-extension_processing/2.0/conf/processing',\n    'http://www.opengis.net/spec/WCS_protocol-binding_get-kvp/1.0/conf/get-kvp',\n    'http://www.opengis.net/spec/WCS_protocol-binding_soap/1.0',\n    'http://www.opengis.net/spec/WCS_protocol-binding_post-xml/1.0',\n    'http://www.opengis.net/spec/WCS_service-extension_transaction/2.0/conf/insert+delete',\n    'http://www.opengis.net/spec/WCS_service-extension_crs/1.0/conf/crs']},\n  'ows:ServiceProvider': {'ows:ProviderName': 'Jacobs University Bremen',\n   'ows:ProviderSite': {'@xlink:href': 'http://rasdaman.org/'},\n   'ows:ServiceContact': {'ows:IndividualName': 'Prof. Dr. Peter Baumann',\n    'ows:PositionName': 'Project Leader',\n    'ows:ContactInfo': {'ows:Phone': {'ows:Voice': '+49 421 20040'},\n     'ows:Address': {'ows:DeliveryPoint': 'Campus Ring 1',\n      'ows:City': 'Bremen',\n      'ows:PostalCode': '28759',\n      'ows:Country': 'Germany',\n      'ows:ElectronicMailAddress': 'p.baumann@jacobs-university.de'}},\n    'ows:Role': 'pointOfContact'}},\n  'ows:OperationsMetadata': {'ows:Operation': [{'@name': 'GetCapabilities',\n     'ows:DCP': {'ows:HTTP': {'ows:Get': {'@xlink:href': 'http://167.235.152.255:8080/rasdaman/ows'},\n       'ows:Post': {'@xlink:href': 'http://167.235.152.255:8080/rasdaman/ows'}}}},\n    {'@name': 'DescribeCoverage',\n     'ows:DCP': {'ows:HTTP': {'ows:Get': {'@xlink:href': 'http://167.235.152.255:8080/rasdaman/ows'},\n       'ows:Post': {'@xlink:href': 'http://167.235.152.255:8080/rasdaman/ows'}}}},\n    {'@name': 'GetCoverage',\n     'ows:DCP': {'ows:HTTP': {'ows:Get': {'@xlink:href': 'http://167.235.152.255:8080/rasdaman/ows'},\n       'ows:Post': {'@xlink:href': 'http://167.235.152.255:8080/rasdaman/ows'}}}},\n    {'@name': 'ProcessCoverages',\n     'ows:DCP': {'ows:HTTP': {'ows:Get': {'@xlink:href': 'http://167.235.152.255:8080/rasdaman/ows'},\n       'ows:Post': {'@xlink:href': 'http://167.235.152.255:8080/rasdaman/ows'}}}},\n    {'@name': 'InsertCoverage',\n     'ows:DCP': {'ows:HTTP': {'ows:Get': {'@xlink:href': 'http://167.235.152.255:8080/rasdaman/ows'},\n       'ows:Post': {'@xlink:href': 'http://167.235.152.255:8080/rasdaman/ows'}}}},\n    {'@name': 'UpdateCoverage',\n     'ows:DCP': {'ows:HTTP': {'ows:Get': {'@xlink:href': 'http://167.235.152.255:8080/rasdaman/ows'},\n       'ows:Post': {'@xlink:href': 'http://167.235.152.255:8080/rasdaman/ows'}}}},\n    {'@name': 'DeleteCoverage',\n     'ows:DCP': {'ows:HTTP': {'ows:Get': {'@xlink:href': 'http://167.235.152.255:8080/rasdaman/ows'},\n       'ows:Post': {'@xlink:href': 'http://167.235.152.255:8080/rasdaman/ows'}}}}],\n   'ows:Constraint': {'@name': 'PostEncoding',\n    'ows:AllowedValues': {'ows:Value': ['XML', 'SOAP']}},\n   'ows:ExtendedCapabilities': {'inspire_dls:ExtendedCapabilities': {'inspire_common:MetadataUrl': {'inspire_common:URL': 'http://167.235.152.255:8080/rasdaman/ows',\n      'inspire_common:MediaType': 'application/vnd.iso.19139+xml'},\n     'inspire_common:SupportedLanguages': {'inspire_common:DefaultLanguage': {'inspire_common:Language': 'eng'}},\n     'inspire_common:ResponseLanguage': {'inspire_common:Language': 'eng'}}}},\n  'wcs:ServiceMetadata': {'wcs:formatSupported': ['application/gml+xml',\n    'image/jpeg',\n    'image/png',\n    'image/tiff',\n    'image/bmp',\n    'image/jp2',\n    'application/netcdf',\n    'text/csv',\n    'application/json',\n    'application/dem',\n    'application/x-ogc-dted',\n    'application/x-ogc-ehdr',\n    'application/x-ogc-elas',\n    'application/x-ogc-envi',\n    'application/x-ogc-ers',\n    'application/x-ogc-fit',\n    'application/x-ogc-fits',\n    'image/gif',\n    'application/x-netcdf-gmt',\n    'application/x-ogc-gs7bg',\n    'application/x-ogc-gsag',\n    'application/x-ogc-gsbg',\n    'application/x-ogc-gta',\n    'application/x-ogc-hf2',\n    'application/x-erdas-hfa',\n    'application/x-ogc-ida',\n    'application/x-ogc-ingr',\n    'application/x-ogc-isis2',\n    'application/x-erdas-lan',\n    'application/x-ogc-mff2',\n    'application/x-ogc-nitf',\n    'application/x-ogc-paux',\n    'application/x-ogc-pcidsk',\n    'application/x-ogc-pcraster',\n    'application/x-ogc-pdf',\n    'application/x-ogc-pnm',\n    'text/x-r',\n    'application/x-ogc-rmf',\n    'image/x-sgi',\n    'application/x-ogc-vrt',\n    'image/xpm',\n    'application/x-ogc-zmap',\n    'text/html'],\n   'wcs:Extension': {'int:InterpolationMetadata': {'int:InterpolationSupported': ['http://www.opengis.net/def/interpolation/OGC/1.0/near',\n      'http://www.opengis.net/def/interpolation/OGC/1.0/bilinear',\n      'http://www.opengis.net/def/interpolation/OGC/1.0/cubic',\n      'http://www.opengis.net/def/interpolation/OGC/1.0/cubicspline',\n      'http://www.opengis.net/def/interpolation/OGC/1.0/lanczos',\n      'http://www.opengis.net/def/interpolation/OGC/1.0/average',\n      'http://www.opengis.net/def/interpolation/OGC/1.0/mode',\n      'http://www.opengis.net/def/interpolation/OGC/1.0/max',\n      'http://www.opengis.net/def/interpolation/OGC/1.0/min',\n      'http://www.opengis.net/def/interpolation/OGC/1.0/med',\n      'http://www.opengis.net/def/interpolation/OGC/1.0/q1',\n      'http://www.opengis.net/def/interpolation/OGC/1.0/q3']},\n    'crs:CrsMetadata': {'crs:crsSupported': 'http://www.opengis.net/def/crs/EPSG/0/4326'}}},\n  'wcs:Contents': {'wcs:CoverageSummary': {'wcs:CoverageId': 'imperviousness',\n    'wcs:CoverageSubtype': 'RectifiedGridCoverage',\n    'ows:WGS84BoundingBox': {'ows:LowerCorner': '-27.3444 27.0428',\n     'ows:UpperCorner': '35.4948 72.2158'},\n    'ows:BoundingBox': {'@crs': 'http://localhost:8080/rasdaman/def/crs/EPSG/0/4326',\n     '@dimensions': '2',\n     'ows:LowerCorner': '27.04280000000000 -27.3444',\n     'ows:UpperCorner': '72.2158 35.4948'},\n    'ows:AdditionalParameters': {'ows:AdditionalParameter': [{'ows:Name': 'sizeInBytes',\n       'ows:Value': '283863518160'},\n      {'ows:Name': 'sizeInBytesWithPyramidLevels',\n       'ows:Value': '307495836610'},\n      {'ows:Name': 'axisList', 'ows:Value': 'Lat,Lon'}]}}}}}"
     },
     "execution_count": 30,
     "metadata": {},
     "output_type": "execute_result"
    }
   ],
   "source": [
    "import requests\n",
    "import xmltodict\n",
    "\n",
    "# describe the WCS\n",
    "response = requests.get(base_wcs_url + \"&request=GetCapabilities\", auth=(rasdaman_username, rasdaman_password))\n",
    "wcs_data = xmltodict.parse(response.content)\n",
    "wcs_data"
   ],
   "metadata": {
    "collapsed": false
   }
  },
  {
   "cell_type": "code",
   "execution_count": 31,
   "outputs": [
    {
     "data": {
      "text/plain": "{'wcs:CoverageId': 'imperviousness',\n 'wcs:CoverageSubtype': 'RectifiedGridCoverage',\n 'ows:WGS84BoundingBox': {'ows:LowerCorner': '-27.3444 27.0428',\n  'ows:UpperCorner': '35.4948 72.2158'},\n 'ows:BoundingBox': {'@crs': 'http://localhost:8080/rasdaman/def/crs/EPSG/0/4326',\n  '@dimensions': '2',\n  'ows:LowerCorner': '27.04280000000000 -27.3444',\n  'ows:UpperCorner': '72.2158 35.4948'},\n 'ows:AdditionalParameters': {'ows:AdditionalParameter': [{'ows:Name': 'sizeInBytes',\n    'ows:Value': '283863518160'},\n   {'ows:Name': 'sizeInBytesWithPyramidLevels', 'ows:Value': '307495836610'},\n   {'ows:Name': 'axisList', 'ows:Value': 'Lat,Lon'}]}}"
     },
     "execution_count": 31,
     "metadata": {},
     "output_type": "execute_result"
    }
   ],
   "source": [
    "# list the WCS contents\n",
    "wcs_contents = wcs_data['wcs:Capabilities']['wcs:Contents']['wcs:CoverageSummary']\n",
    "wcs_contents"
   ],
   "metadata": {
    "collapsed": false
   }
  },
  {
   "cell_type": "code",
   "execution_count": 121,
   "outputs": [
    {
     "ename": "RasterioIOError",
     "evalue": "'norway_imperviousness.tif' not recognized as a supported file format.",
     "output_type": "error",
     "traceback": [
      "\u001B[0;31m---------------------------------------------------------------------------\u001B[0m",
      "\u001B[0;31mCPLE_OpenFailedError\u001B[0m                      Traceback (most recent call last)",
      "File \u001B[0;32mrasterio/_base.pyx:302\u001B[0m, in \u001B[0;36mrasterio._base.DatasetBase.__init__\u001B[0;34m()\u001B[0m\n",
      "File \u001B[0;32mrasterio/_base.pyx:213\u001B[0m, in \u001B[0;36mrasterio._base.open_dataset\u001B[0;34m()\u001B[0m\n",
      "File \u001B[0;32mrasterio/_err.pyx:217\u001B[0m, in \u001B[0;36mrasterio._err.exc_wrap_pointer\u001B[0;34m()\u001B[0m\n",
      "\u001B[0;31mCPLE_OpenFailedError\u001B[0m: 'norway_imperviousness.tif' not recognized as a supported file format.",
      "\nDuring handling of the above exception, another exception occurred:\n",
      "\u001B[0;31mRasterioIOError\u001B[0m                           Traceback (most recent call last)",
      "Input \u001B[0;32mIn [121]\u001B[0m, in \u001B[0;36m<cell line: 16>\u001B[0;34m()\u001B[0m\n\u001B[1;32m     13\u001B[0m     file\u001B[38;5;241m.\u001B[39mwrite(response\u001B[38;5;241m.\u001B[39mcontent)\n\u001B[1;32m     15\u001B[0m \u001B[38;5;28;01mimport\u001B[39;00m \u001B[38;5;21;01mrasterio\u001B[39;00m\n\u001B[0;32m---> 16\u001B[0m img \u001B[38;5;241m=\u001B[39m \u001B[43mrasterio\u001B[49m\u001B[38;5;241;43m.\u001B[39;49m\u001B[43mopen\u001B[49m\u001B[43m(\u001B[49m\u001B[38;5;124;43m'\u001B[39;49m\u001B[38;5;124;43mnorway_imperviousness.tif\u001B[39;49m\u001B[38;5;124;43m'\u001B[39;49m\u001B[43m,\u001B[49m\u001B[43m \u001B[49m\u001B[43mdriver\u001B[49m\u001B[38;5;241;43m=\u001B[39;49m\u001B[38;5;124;43m\"\u001B[39;49m\u001B[38;5;124;43mGTiff\u001B[39;49m\u001B[38;5;124;43m\"\u001B[39;49m\u001B[43m)\u001B[49m\n\u001B[1;32m     18\u001B[0m \u001B[38;5;28;01mfrom\u001B[39;00m \u001B[38;5;21;01mrasterio\u001B[39;00m \u001B[38;5;28;01mimport\u001B[39;00m plot\n\u001B[1;32m     19\u001B[0m plot\u001B[38;5;241m.\u001B[39mshow(img, cmap\u001B[38;5;241m=\u001B[39m\u001B[38;5;124m'\u001B[39m\u001B[38;5;124mgist_ncar\u001B[39m\u001B[38;5;124m'\u001B[39m)\n",
      "File \u001B[0;32m~/opt/mambaforge/envs/niva-pytorch-m1/lib/python3.10/site-packages/rasterio/env.py:442\u001B[0m, in \u001B[0;36mensure_env_with_credentials.<locals>.wrapper\u001B[0;34m(*args, **kwds)\u001B[0m\n\u001B[1;32m    439\u001B[0m     session \u001B[38;5;241m=\u001B[39m DummySession()\n\u001B[1;32m    441\u001B[0m \u001B[38;5;28;01mwith\u001B[39;00m env_ctor(session\u001B[38;5;241m=\u001B[39msession):\n\u001B[0;32m--> 442\u001B[0m     \u001B[38;5;28;01mreturn\u001B[39;00m \u001B[43mf\u001B[49m\u001B[43m(\u001B[49m\u001B[38;5;241;43m*\u001B[39;49m\u001B[43margs\u001B[49m\u001B[43m,\u001B[49m\u001B[43m \u001B[49m\u001B[38;5;241;43m*\u001B[39;49m\u001B[38;5;241;43m*\u001B[39;49m\u001B[43mkwds\u001B[49m\u001B[43m)\u001B[49m\n",
      "File \u001B[0;32m~/opt/mambaforge/envs/niva-pytorch-m1/lib/python3.10/site-packages/rasterio/__init__.py:277\u001B[0m, in \u001B[0;36mopen\u001B[0;34m(fp, mode, driver, width, height, count, crs, transform, dtype, nodata, sharing, **kwargs)\u001B[0m\n\u001B[1;32m    274\u001B[0m path \u001B[38;5;241m=\u001B[39m _parse_path(raw_dataset_path)\n\u001B[1;32m    276\u001B[0m \u001B[38;5;28;01mif\u001B[39;00m mode \u001B[38;5;241m==\u001B[39m \u001B[38;5;124m\"\u001B[39m\u001B[38;5;124mr\u001B[39m\u001B[38;5;124m\"\u001B[39m:\n\u001B[0;32m--> 277\u001B[0m     dataset \u001B[38;5;241m=\u001B[39m \u001B[43mDatasetReader\u001B[49m\u001B[43m(\u001B[49m\u001B[43mpath\u001B[49m\u001B[43m,\u001B[49m\u001B[43m \u001B[49m\u001B[43mdriver\u001B[49m\u001B[38;5;241;43m=\u001B[39;49m\u001B[43mdriver\u001B[49m\u001B[43m,\u001B[49m\u001B[43m \u001B[49m\u001B[43msharing\u001B[49m\u001B[38;5;241;43m=\u001B[39;49m\u001B[43msharing\u001B[49m\u001B[43m,\u001B[49m\u001B[43m \u001B[49m\u001B[38;5;241;43m*\u001B[39;49m\u001B[38;5;241;43m*\u001B[39;49m\u001B[43mkwargs\u001B[49m\u001B[43m)\u001B[49m\n\u001B[1;32m    278\u001B[0m \u001B[38;5;28;01melif\u001B[39;00m mode \u001B[38;5;241m==\u001B[39m \u001B[38;5;124m\"\u001B[39m\u001B[38;5;124mr+\u001B[39m\u001B[38;5;124m\"\u001B[39m:\n\u001B[1;32m    279\u001B[0m     dataset \u001B[38;5;241m=\u001B[39m get_writer_for_path(path, driver\u001B[38;5;241m=\u001B[39mdriver)(\n\u001B[1;32m    280\u001B[0m         path, mode, driver\u001B[38;5;241m=\u001B[39mdriver, sharing\u001B[38;5;241m=\u001B[39msharing, \u001B[38;5;241m*\u001B[39m\u001B[38;5;241m*\u001B[39mkwargs\n\u001B[1;32m    281\u001B[0m     )\n",
      "File \u001B[0;32mrasterio/_base.pyx:304\u001B[0m, in \u001B[0;36mrasterio._base.DatasetBase.__init__\u001B[0;34m()\u001B[0m\n",
      "\u001B[0;31mRasterioIOError\u001B[0m: 'norway_imperviousness.tif' not recognized as a supported file format."
     ]
    }
   ],
   "source": [
    "cov_id = \"&COVERAGEID=\" + wcs_contents['wcs:CoverageId']\n",
    "encode_format = \"&FORMAT=GEOTIFF_16\"\n",
    "\n",
    "subset_long = \"&subset=Long(35.3, 35.4)\"\n",
    "subset_lat = \"&subset=Lat(36.0, 37.0)\"\n",
    "\n",
    "response = requests.get(\n",
    "    base_wcs_url + \"&request=GetCoverage\" + cov_id + subset_long + subset_lat + encode_format,\n",
    "    auth=(rasdaman_username, rasdaman_password),\n",
    "    verify=False)\n",
    "\n",
    "with open('norway_imperviousness.tif', 'wb') as file:\n",
    "    file.write(response.content)\n",
    "\n",
    "import rasterio\n",
    "img = rasterio.open('norway_imperviousness.tif', driver=\"GTiff\")\n",
    "\n",
    "from rasterio import plot\n",
    "plot.show(img, cmap='gist_ncar')"
   ],
   "metadata": {
    "collapsed": false
   }
  },
  {
   "cell_type": "code",
   "execution_count": 118,
   "outputs": [
    {
     "name": "stdout",
     "output_type": "stream",
     "text": [
      "http://167.235.152.255:8080/rasdaman/ows?service=WCS&version=2.1.0\n"
     ]
    },
    {
     "ename": "ServiceException",
     "evalue": "<?xml version=\"1.0\" encoding=\"UTF-8\"?>\n<ExceptionReport version=\"1.1.0\" xmlns=\"http://www.opengis.net/ows/1.1\"\n  xmlns:xsi=\"http://www.w3.org/2001/XMLSchema-instance\"\n  xsi:schemaLocation=\"http://www.opengis.net/ows/1.1 http://geowebcache.org/schema/ows/1.1.0/owsExceptionReport.xsd\">\n  <Exception exceptionCode=\"InvalidParameterValue\" locator=\"request\">\n    <ExceptionText>Operation request contains an invalid parameter value</ExceptionText>    \n  </Exception>\n</ExceptionReport>\n\n",
     "output_type": "error",
     "traceback": [
      "\u001B[0;31m---------------------------------------------------------------------------\u001B[0m",
      "\u001B[0;31mServiceException\u001B[0m                          Traceback (most recent call last)",
      "Input \u001B[0;32mIn [118]\u001B[0m, in \u001B[0;36m<cell line: 6>\u001B[0;34m()\u001B[0m\n\u001B[1;32m      2\u001B[0m \u001B[38;5;28;01mfrom\u001B[39;00m \u001B[38;5;21;01mowslib\u001B[39;00m\u001B[38;5;21;01m.\u001B[39;00m\u001B[38;5;21;01mwcs\u001B[39;00m \u001B[38;5;28;01mimport\u001B[39;00m WebCoverageService\n\u001B[1;32m      4\u001B[0m \u001B[38;5;28mprint\u001B[39m(base_wcs_url)\n\u001B[0;32m----> 6\u001B[0m wcs \u001B[38;5;241m=\u001B[39m \u001B[43mWebCoverageService\u001B[49m\u001B[43m(\u001B[49m\n\u001B[1;32m      7\u001B[0m \u001B[43m    \u001B[49m\u001B[38;5;124;43m'\u001B[39;49m\u001B[38;5;124;43mhttp://167.235.152.255:8080/rasdaman/ows?service=WCS&version=2.1.0\u001B[39;49m\u001B[38;5;124;43m'\u001B[39;49m\u001B[43m,\u001B[49m\n\u001B[1;32m      8\u001B[0m \u001B[43m    \u001B[49m\u001B[43mauth\u001B[49m\u001B[38;5;241;43m=\u001B[39;49m\u001B[43mAuthentication\u001B[49m\u001B[43m(\u001B[49m\u001B[43musername\u001B[49m\u001B[38;5;241;43m=\u001B[39;49m\u001B[43mrasdaman_username\u001B[49m\u001B[43m,\u001B[49m\u001B[43m \u001B[49m\u001B[43mpassword\u001B[49m\u001B[38;5;241;43m=\u001B[39;49m\u001B[43mrasdaman_password\u001B[49m\u001B[43m)\u001B[49m\u001B[43m,\u001B[49m\n\u001B[1;32m      9\u001B[0m \u001B[43m    \u001B[49m\u001B[43mversion\u001B[49m\u001B[38;5;241;43m=\u001B[39;49m\u001B[38;5;124;43m'\u001B[39;49m\u001B[38;5;124;43m1.0.0\u001B[39;49m\u001B[38;5;124;43m'\u001B[39;49m\n\u001B[1;32m     10\u001B[0m \u001B[43m)\u001B[49m\n\u001B[1;32m     12\u001B[0m \u001B[38;5;28mprint\u001B[39m(\u001B[38;5;28mlist\u001B[39m(wcs\u001B[38;5;241m.\u001B[39mcontents))\n",
      "File \u001B[0;32m~/opt/mambaforge/envs/niva-pytorch-m1/lib/python3.10/site-packages/owslib/wcs.py:41\u001B[0m, in \u001B[0;36mWebCoverageService\u001B[0;34m(url, version, xml, cookies, timeout, auth, headers)\u001B[0m\n\u001B[1;32m     38\u001B[0m clean_url \u001B[38;5;241m=\u001B[39m clean_ows_url(url)\n\u001B[1;32m     40\u001B[0m \u001B[38;5;28;01mif\u001B[39;00m version \u001B[38;5;241m==\u001B[39m \u001B[38;5;124m'\u001B[39m\u001B[38;5;124m1.0.0\u001B[39m\u001B[38;5;124m'\u001B[39m:\n\u001B[0;32m---> 41\u001B[0m     \u001B[38;5;28;01mreturn\u001B[39;00m \u001B[43mwcs100\u001B[49m\u001B[38;5;241;43m.\u001B[39;49m\u001B[43mWebCoverageService_1_0_0\u001B[49m\u001B[38;5;241;43m.\u001B[39;49m\u001B[38;5;21;43m__new__\u001B[39;49m\u001B[43m(\u001B[49m\n\u001B[1;32m     42\u001B[0m \u001B[43m        \u001B[49m\u001B[43mwcs100\u001B[49m\u001B[38;5;241;43m.\u001B[39;49m\u001B[43mWebCoverageService_1_0_0\u001B[49m\u001B[43m,\u001B[49m\u001B[43m \u001B[49m\u001B[43mclean_url\u001B[49m\u001B[43m,\u001B[49m\u001B[43m \u001B[49m\u001B[43mxml\u001B[49m\u001B[43m,\u001B[49m\u001B[43m \u001B[49m\u001B[43mcookies\u001B[49m\u001B[43m,\u001B[49m\u001B[43m \u001B[49m\u001B[43mauth\u001B[49m\u001B[38;5;241;43m=\u001B[39;49m\u001B[43mauth\u001B[49m\u001B[43m,\u001B[49m\u001B[43m \u001B[49m\u001B[43mtimeout\u001B[49m\u001B[38;5;241;43m=\u001B[39;49m\u001B[43mtimeout\u001B[49m\u001B[43m,\u001B[49m\u001B[43m \u001B[49m\u001B[43mheaders\u001B[49m\u001B[38;5;241;43m=\u001B[39;49m\u001B[43mheaders\u001B[49m\u001B[43m)\u001B[49m\n\u001B[1;32m     43\u001B[0m \u001B[38;5;28;01melif\u001B[39;00m version \u001B[38;5;241m==\u001B[39m \u001B[38;5;124m'\u001B[39m\u001B[38;5;124m1.1.0\u001B[39m\u001B[38;5;124m'\u001B[39m:\n\u001B[1;32m     44\u001B[0m     \u001B[38;5;28;01mreturn\u001B[39;00m wcs110\u001B[38;5;241m.\u001B[39mWebCoverageService_1_1_0\u001B[38;5;241m.\u001B[39m\u001B[38;5;21m__new__\u001B[39m(\n\u001B[1;32m     45\u001B[0m         wcs110\u001B[38;5;241m.\u001B[39mWebCoverageService_1_1_0, url, xml, cookies, auth\u001B[38;5;241m=\u001B[39mauth, timeout\u001B[38;5;241m=\u001B[39mtimeout, headers\u001B[38;5;241m=\u001B[39mheaders)\n",
      "File \u001B[0;32m~/opt/mambaforge/envs/niva-pytorch-m1/lib/python3.10/site-packages/owslib/coverage/wcsBase.py:49\u001B[0m, in \u001B[0;36mWCSBase.__new__\u001B[0;34m(self, url, xml, cookies, auth, timeout, headers)\u001B[0m\n\u001B[1;32m     37\u001B[0m \u001B[38;5;124;03m\"\"\" overridden __new__ method\u001B[39;00m\n\u001B[1;32m     38\u001B[0m \n\u001B[1;32m     39\u001B[0m \u001B[38;5;124;03m@type url: string\u001B[39;00m\n\u001B[0;32m   (...)\u001B[0m\n\u001B[1;32m     46\u001B[0m \u001B[38;5;124;03m@return: inititalised WCSBase object\u001B[39;00m\n\u001B[1;32m     47\u001B[0m \u001B[38;5;124;03m\"\"\"\u001B[39;00m\n\u001B[1;32m     48\u001B[0m obj \u001B[38;5;241m=\u001B[39m \u001B[38;5;28mobject\u001B[39m\u001B[38;5;241m.\u001B[39m\u001B[38;5;21m__new__\u001B[39m(\u001B[38;5;28mself\u001B[39m)\n\u001B[0;32m---> 49\u001B[0m \u001B[43mobj\u001B[49m\u001B[38;5;241;43m.\u001B[39;49m\u001B[38;5;21;43m__init__\u001B[39;49m\u001B[43m(\u001B[49m\u001B[43murl\u001B[49m\u001B[43m,\u001B[49m\u001B[43m \u001B[49m\u001B[43mxml\u001B[49m\u001B[43m,\u001B[49m\u001B[43m \u001B[49m\u001B[43mcookies\u001B[49m\u001B[43m,\u001B[49m\u001B[43m \u001B[49m\u001B[43mauth\u001B[49m\u001B[38;5;241;43m=\u001B[39;49m\u001B[43mauth\u001B[49m\u001B[43m,\u001B[49m\u001B[43m \u001B[49m\u001B[43mheaders\u001B[49m\u001B[38;5;241;43m=\u001B[39;49m\u001B[43mheaders\u001B[49m\u001B[43m)\u001B[49m\n\u001B[1;32m     50\u001B[0m \u001B[38;5;28mself\u001B[39m\u001B[38;5;241m.\u001B[39mcookies \u001B[38;5;241m=\u001B[39m cookies\n\u001B[1;32m     51\u001B[0m \u001B[38;5;28mself\u001B[39m\u001B[38;5;241m.\u001B[39mheaders \u001B[38;5;241m=\u001B[39m headers\n",
      "File \u001B[0;32m~/opt/mambaforge/envs/niva-pytorch-m1/lib/python3.10/site-packages/owslib/coverage/wcs100.py:52\u001B[0m, in \u001B[0;36mWebCoverageService_1_0_0.__init__\u001B[0;34m(self, url, xml, cookies, auth, timeout, headers)\u001B[0m\n\u001B[1;32m     50\u001B[0m     \u001B[38;5;28mself\u001B[39m\u001B[38;5;241m.\u001B[39m_capabilities \u001B[38;5;241m=\u001B[39m reader\u001B[38;5;241m.\u001B[39mreadString(xml)\n\u001B[1;32m     51\u001B[0m \u001B[38;5;28;01melse\u001B[39;00m:\n\u001B[0;32m---> 52\u001B[0m     \u001B[38;5;28mself\u001B[39m\u001B[38;5;241m.\u001B[39m_capabilities \u001B[38;5;241m=\u001B[39m \u001B[43mreader\u001B[49m\u001B[38;5;241;43m.\u001B[39;49m\u001B[43mread\u001B[49m\u001B[43m(\u001B[49m\u001B[38;5;28;43mself\u001B[39;49m\u001B[38;5;241;43m.\u001B[39;49m\u001B[43murl\u001B[49m\u001B[43m,\u001B[49m\u001B[43m \u001B[49m\u001B[38;5;28;43mself\u001B[39;49m\u001B[38;5;241;43m.\u001B[39;49m\u001B[43mtimeout\u001B[49m\u001B[43m)\u001B[49m\n\u001B[1;32m     54\u001B[0m \u001B[38;5;66;03m# check for exceptions\u001B[39;00m\n\u001B[1;32m     55\u001B[0m se \u001B[38;5;241m=\u001B[39m \u001B[38;5;28mself\u001B[39m\u001B[38;5;241m.\u001B[39m_capabilities\u001B[38;5;241m.\u001B[39mfind(\u001B[38;5;124m'\u001B[39m\u001B[38;5;124mServiceException\u001B[39m\u001B[38;5;124m'\u001B[39m)\n",
      "File \u001B[0;32m~/opt/mambaforge/envs/niva-pytorch-m1/lib/python3.10/site-packages/owslib/coverage/wcsBase.py:120\u001B[0m, in \u001B[0;36mWCSCapabilitiesReader.read\u001B[0;34m(self, service_url, timeout)\u001B[0m\n\u001B[1;32m    110\u001B[0m \u001B[38;5;124;03m\"\"\"Get and parse a WCS capabilities document, returning an\u001B[39;00m\n\u001B[1;32m    111\u001B[0m \u001B[38;5;124;03melementtree tree\u001B[39;00m\n\u001B[1;32m    112\u001B[0m \n\u001B[0;32m   (...)\u001B[0m\n\u001B[1;32m    117\u001B[0m \u001B[38;5;124;03m@return: An elementtree tree representation of the capabilities document\u001B[39;00m\n\u001B[1;32m    118\u001B[0m \u001B[38;5;124;03m\"\"\"\u001B[39;00m\n\u001B[1;32m    119\u001B[0m request \u001B[38;5;241m=\u001B[39m \u001B[38;5;28mself\u001B[39m\u001B[38;5;241m.\u001B[39mcapabilities_url(service_url)\n\u001B[0;32m--> 120\u001B[0m u \u001B[38;5;241m=\u001B[39m \u001B[43mopenURL\u001B[49m\u001B[43m(\u001B[49m\u001B[43mrequest\u001B[49m\u001B[43m,\u001B[49m\u001B[43m \u001B[49m\u001B[43mtimeout\u001B[49m\u001B[38;5;241;43m=\u001B[39;49m\u001B[43mtimeout\u001B[49m\u001B[43m,\u001B[49m\u001B[43m \u001B[49m\u001B[43mcookies\u001B[49m\u001B[38;5;241;43m=\u001B[39;49m\u001B[38;5;28;43mself\u001B[39;49m\u001B[38;5;241;43m.\u001B[39;49m\u001B[43mcookies\u001B[49m\u001B[43m,\u001B[49m\u001B[43m \u001B[49m\u001B[43mauth\u001B[49m\u001B[38;5;241;43m=\u001B[39;49m\u001B[38;5;28;43mself\u001B[39;49m\u001B[38;5;241;43m.\u001B[39;49m\u001B[43mauth\u001B[49m\u001B[43m,\u001B[49m\u001B[43m \u001B[49m\u001B[43mheaders\u001B[49m\u001B[38;5;241;43m=\u001B[39;49m\u001B[38;5;28;43mself\u001B[39;49m\u001B[38;5;241;43m.\u001B[39;49m\u001B[43mheaders\u001B[49m\u001B[43m)\u001B[49m\n\u001B[1;32m    121\u001B[0m \u001B[38;5;28;01mreturn\u001B[39;00m etree\u001B[38;5;241m.\u001B[39mfromstring(u\u001B[38;5;241m.\u001B[39mread())\n",
      "File \u001B[0;32m~/opt/mambaforge/envs/niva-pytorch-m1/lib/python3.10/site-packages/owslib/util.py:211\u001B[0m, in \u001B[0;36mopenURL\u001B[0;34m(url_base, data, method, cookies, username, password, timeout, headers, verify, cert, auth)\u001B[0m\n\u001B[1;32m    208\u001B[0m req \u001B[38;5;241m=\u001B[39m requests\u001B[38;5;241m.\u001B[39mrequest(method\u001B[38;5;241m.\u001B[39mupper(), url_base, headers\u001B[38;5;241m=\u001B[39mheaders, \u001B[38;5;241m*\u001B[39m\u001B[38;5;241m*\u001B[39mrkwargs)\n\u001B[1;32m    210\u001B[0m \u001B[38;5;28;01mif\u001B[39;00m req\u001B[38;5;241m.\u001B[39mstatus_code \u001B[38;5;129;01min\u001B[39;00m [\u001B[38;5;241m400\u001B[39m, \u001B[38;5;241m401\u001B[39m]:\n\u001B[0;32m--> 211\u001B[0m     \u001B[38;5;28;01mraise\u001B[39;00m ServiceException(req\u001B[38;5;241m.\u001B[39mtext)\n\u001B[1;32m    213\u001B[0m \u001B[38;5;28;01mif\u001B[39;00m req\u001B[38;5;241m.\u001B[39mstatus_code \u001B[38;5;129;01min\u001B[39;00m [\u001B[38;5;241m404\u001B[39m, \u001B[38;5;241m500\u001B[39m, \u001B[38;5;241m502\u001B[39m, \u001B[38;5;241m503\u001B[39m, \u001B[38;5;241m504\u001B[39m]:    \u001B[38;5;66;03m# add more if needed\u001B[39;00m\n\u001B[1;32m    214\u001B[0m     req\u001B[38;5;241m.\u001B[39mraise_for_status()\n",
      "\u001B[0;31mServiceException\u001B[0m: <?xml version=\"1.0\" encoding=\"UTF-8\"?>\n<ExceptionReport version=\"1.1.0\" xmlns=\"http://www.opengis.net/ows/1.1\"\n  xmlns:xsi=\"http://www.w3.org/2001/XMLSchema-instance\"\n  xsi:schemaLocation=\"http://www.opengis.net/ows/1.1 http://geowebcache.org/schema/ows/1.1.0/owsExceptionReport.xsd\">\n  <Exception exceptionCode=\"InvalidParameterValue\" locator=\"request\">\n    <ExceptionText>Operation request contains an invalid parameter value</ExceptionText>    \n  </Exception>\n</ExceptionReport>\n\n"
     ]
    }
   ],
   "source": [
    "from owslib.util import Authentication\n",
    "from owslib.wcs import WebCoverageService\n",
    "\n",
    "print(base_wcs_url)\n",
    "\n",
    "wcs = WebCoverageService(\n",
    "    'http://167.235.152.255:8080/rasdaman/ows?service=WCS&version=2.1.0',\n",
    "    auth=Authentication(username=rasdaman_username, password=rasdaman_password),\n",
    "    version='1.0.0'\n",
    ")\n",
    "\n",
    "print(list(wcs.contents))"
   ],
   "metadata": {
    "collapsed": false
   }
  }
 ],
 "metadata": {
  "kernelspec": {
   "display_name": "Python 3",
   "language": "python",
   "name": "python3"
  },
  "language_info": {
   "codemirror_mode": {
    "name": "ipython",
    "version": 2
   },
   "file_extension": ".py",
   "mimetype": "text/x-python",
   "name": "python",
   "nbconvert_exporter": "python",
   "pygments_lexer": "ipython2",
   "version": "2.7.6"
  }
 },
 "nbformat": 4,
 "nbformat_minor": 0
}
