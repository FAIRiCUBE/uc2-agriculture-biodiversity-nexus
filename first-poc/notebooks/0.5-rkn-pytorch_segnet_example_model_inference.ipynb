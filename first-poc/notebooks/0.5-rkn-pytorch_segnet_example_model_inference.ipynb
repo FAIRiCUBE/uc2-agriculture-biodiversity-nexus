{
 "cells": [
  {
   "cell_type": "markdown",
   "source": [
    "# PyTorch EO Semantic Segmentation Example\n",
    "## Step 5: Model Inference\n",
    "*Rob Knapen, Wageningen Environmental Research*\n",
    "<br>\n",
    "\n",
    "This notebook provides an example of using a trained model that has been converted to TorchScript for inference, taking a geotiff file as input. GDAL is used to read and write geotiff files, since we want to be able to convert the method to C++ in the end."
   ],
   "metadata": {
    "collapsed": false
   }
  },
  {
   "cell_type": "code",
   "execution_count": 2,
   "outputs": [],
   "source": [
    "import os\n",
    "import h5py\n",
    "import torch\n",
    "import torch.nn as nn"
   ],
   "metadata": {
    "collapsed": false
   }
  },
  {
   "cell_type": "code",
   "execution_count": 3,
   "outputs": [],
   "source": [
    "from osgeo import gdal"
   ],
   "metadata": {
    "collapsed": false
   }
  },
  {
   "cell_type": "code",
   "execution_count": 14,
   "outputs": [],
   "source": [
    "# try to open the input file\n",
    "dataset = gdal.Open(\"../data/raw/sentinel2_2018_flevopolder_10m_7x4bands.tif\")\n",
    "if not dataset:\n",
    "    print(\"could not read the file\")"
   ],
   "metadata": {
    "collapsed": false
   }
  },
  {
   "cell_type": "code",
   "execution_count": 15,
   "outputs": [
    {
     "name": "stdout",
     "output_type": "stream",
     "text": [
      "Driver: GTiff/GeoTIFF\n",
      "Size is 5490 x 2170 x 28\n",
      "Projection is PROJCS[\"WGS 84 / UTM zone 31N\",GEOGCS[\"WGS 84\",DATUM[\"WGS_1984\",SPHEROID[\"WGS 84\",6378137,298.257223563,AUTHORITY[\"EPSG\",\"7030\"]],AUTHORITY[\"EPSG\",\"6326\"]],PRIMEM[\"Greenwich\",0,AUTHORITY[\"EPSG\",\"8901\"]],UNIT[\"degree\",0.0174532925199433,AUTHORITY[\"EPSG\",\"9122\"]],AUTHORITY[\"EPSG\",\"4326\"]],PROJECTION[\"Transverse_Mercator\"],PARAMETER[\"latitude_of_origin\",0],PARAMETER[\"central_meridian\",3],PARAMETER[\"scale_factor\",0.9996],PARAMETER[\"false_easting\",500000],PARAMETER[\"false_northing\",0],UNIT[\"metre\",1,AUTHORITY[\"EPSG\",\"9001\"]],AXIS[\"Easting\",EAST],AXIS[\"Northing\",NORTH],AUTHORITY[\"EPSG\",\"32631\"]]\n",
      "Origin = (674900.0, 5853960.0)\n",
      "Pixel Size = (10.0, -10.0)\n"
     ]
    }
   ],
   "source": [
    "# get some information from the file\n",
    "print(\"Driver: {}/{}\".format(dataset.GetDriver().ShortName, dataset.GetDriver().LongName))\n",
    "print(\"Size is {} x {} x {}\".format(dataset.RasterXSize, dataset.RasterYSize, dataset.RasterCount))\n",
    "print(\"Projection is {}\".format(dataset.GetProjection()))\n",
    "geotransform = dataset.GetGeoTransform()\n",
    "if geotransform:\n",
    "    print(\"Origin = ({}, {})\".format(geotransform[0], geotransform[3]))\n",
    "    print(\"Pixel Size = ({}, {})\".format(geotransform[1], geotransform[5]))"
   ],
   "metadata": {
    "collapsed": false
   }
  },
  {
   "cell_type": "code",
   "execution_count": 27,
   "outputs": [
    {
     "name": "stdout",
     "output_type": "stream",
     "text": [
      "RecursiveScriptModule(\n",
      "  original_name=SegNet\n",
      "  (maxpool): RecursiveScriptModule(original_name=MaxPool2d)\n",
      "  (unpool): RecursiveScriptModule(original_name=MaxUnpool2d)\n",
      "  (c1): RecursiveScriptModule(\n",
      "    original_name=Sequential\n",
      "    (0): RecursiveScriptModule(original_name=Conv2d)\n",
      "    (1): RecursiveScriptModule(original_name=BatchNorm2d)\n",
      "    (2): RecursiveScriptModule(original_name=ReLU)\n",
      "  )\n",
      "  (c2): RecursiveScriptModule(\n",
      "    original_name=Sequential\n",
      "    (0): RecursiveScriptModule(original_name=Conv2d)\n",
      "    (1): RecursiveScriptModule(original_name=BatchNorm2d)\n",
      "    (2): RecursiveScriptModule(original_name=ReLU)\n",
      "  )\n",
      "  (c3): RecursiveScriptModule(\n",
      "    original_name=Sequential\n",
      "    (0): RecursiveScriptModule(original_name=Conv2d)\n",
      "    (1): RecursiveScriptModule(original_name=BatchNorm2d)\n",
      "    (2): RecursiveScriptModule(original_name=ReLU)\n",
      "  )\n",
      "  (c4): RecursiveScriptModule(\n",
      "    original_name=Sequential\n",
      "    (0): RecursiveScriptModule(original_name=Conv2d)\n",
      "    (1): RecursiveScriptModule(original_name=BatchNorm2d)\n",
      "    (2): RecursiveScriptModule(original_name=ReLU)\n",
      "  )\n",
      "  (c5): RecursiveScriptModule(\n",
      "    original_name=Sequential\n",
      "    (0): RecursiveScriptModule(original_name=Conv2d)\n",
      "    (1): RecursiveScriptModule(original_name=BatchNorm2d)\n",
      "    (2): RecursiveScriptModule(original_name=ReLU)\n",
      "  )\n",
      "  (c6): RecursiveScriptModule(\n",
      "    original_name=Sequential\n",
      "    (0): RecursiveScriptModule(original_name=Conv2d)\n",
      "    (1): RecursiveScriptModule(original_name=BatchNorm2d)\n",
      "    (2): RecursiveScriptModule(original_name=ReLU)\n",
      "  )\n",
      "  (c7): RecursiveScriptModule(\n",
      "    original_name=Sequential\n",
      "    (0): RecursiveScriptModule(original_name=Conv2d)\n",
      "    (1): RecursiveScriptModule(original_name=BatchNorm2d)\n",
      "    (2): RecursiveScriptModule(original_name=ReLU)\n",
      "  )\n",
      "  (c8): RecursiveScriptModule(\n",
      "    original_name=Sequential\n",
      "    (0): RecursiveScriptModule(original_name=Conv2d)\n",
      "    (1): RecursiveScriptModule(original_name=BatchNorm2d)\n",
      "    (2): RecursiveScriptModule(original_name=ReLU)\n",
      "  )\n",
      "  (c9): RecursiveScriptModule(\n",
      "    original_name=Sequential\n",
      "    (0): RecursiveScriptModule(original_name=Conv2d)\n",
      "    (1): RecursiveScriptModule(original_name=BatchNorm2d)\n",
      "    (2): RecursiveScriptModule(original_name=ReLU)\n",
      "  )\n",
      "  (c10): RecursiveScriptModule(\n",
      "    original_name=Sequential\n",
      "    (0): RecursiveScriptModule(original_name=Conv2d)\n",
      "    (1): RecursiveScriptModule(original_name=BatchNorm2d)\n",
      "    (2): RecursiveScriptModule(original_name=ReLU)\n",
      "  )\n",
      "  (classifier): RecursiveScriptModule(original_name=Conv2d)\n",
      ")\n"
     ]
    }
   ],
   "source": [
    "# load the torchscript model\n",
    "model = torch.jit.load(\"../models/rvo_crops_segnet_224x224x28_77classes_100epochs_model_full_traced.pt\")\n",
    "print(model)"
   ],
   "metadata": {
    "collapsed": false
   }
  },
  {
   "cell_type": "code",
   "execution_count": 49,
   "outputs": [
    {
     "name": "stdout",
     "output_type": "stream",
     "text": [
      "Band Type=UInt16\n",
      "Min=1.000, Max=7267.000\n"
     ]
    }
   ],
   "source": [
    "# get some raster band information\n",
    "band = dataset.GetRasterBand(1)\n",
    "print(\"Band Type={}\".format(gdal.GetDataTypeName(band.DataType)))\n",
    "\n",
    "min = band.GetMinimum()\n",
    "max = band.GetMaximum()\n",
    "if not min or not max:\n",
    "    (min,max) = band.ComputeRasterMinMax(True)\n",
    "print(\"Min={:.3f}, Max={:.3f}\".format(min,max))\n",
    "\n",
    "if band.GetOverviewCount() > 0:\n",
    "    print(\"Band has {} overviews\".format(band.GetOverviewCount()))\n",
    "\n",
    "if band.GetRasterColorTable():\n",
    "    print(\"Band has a color table with {} entries\".format(band.GetRasterColorTable().GetCount()))"
   ],
   "metadata": {
    "collapsed": false
   }
  },
  {
   "cell_type": "code",
   "execution_count": 52,
   "outputs": [
    {
     "data": {
      "text/plain": "(28, 256, 256)"
     },
     "execution_count": 52,
     "metadata": {},
     "output_type": "execute_result"
    }
   ],
   "source": [
    "# read multiple bands from the dataset into a numpy array\n",
    "arr = dataset.ReadAsArray(\n",
    "    xoff=500,\n",
    "    yoff=500,\n",
    "    xsize=256,\n",
    "    ysize=256,\n",
    "    buf_obj=None,\n",
    "    buf_xsize=None,\n",
    "    buf_ysize=None,\n",
    "    buf_type=None,\n",
    "    resample_alg=0,\n",
    "    callback=None,\n",
    "    callback_data=None,\n",
    "    interleave='band',\n",
    "    band_list=None\n",
    ").astype(\"float32\")\n",
    "\n",
    "arr.shape"
   ],
   "metadata": {
    "collapsed": false
   }
  },
  {
   "cell_type": "code",
   "execution_count": 53,
   "outputs": [
    {
     "data": {
      "text/plain": "array([[[0.13774598, 0.14338791, 0.12948947, ..., 0.21122885,\n         0.2055869 , 0.20531169],\n        [0.13224164, 0.13361773, 0.13898446, ..., 0.2022843 ,\n         0.19017476, 0.18797302],\n        [0.12852621, 0.13444337, 0.144764  , ..., 0.19017476,\n         0.18742259, 0.18700977],\n        ...,\n        [0.24494289, 0.21411861, 0.2105408 , ..., 0.15769918,\n         0.16691895, 0.17063437],\n        [0.24714462, 0.23489748, 0.22086143, ..., 0.15205725,\n         0.16389157, 0.16554287],\n        [0.19526628, 0.20090821, 0.19554149, ..., 0.15260768,\n         0.164442  , 0.16100179]],\n\n       [[0.15785852, 0.15194054, 0.14271952, ..., 0.22006606,\n         0.22873658, 0.2152491 ],\n        [0.14712359, 0.14423342, 0.1507019 , ..., 0.20272502,\n         0.21043216, 0.20093587],\n        [0.14753647, 0.14726122, 0.14987613, ..., 0.19818331,\n         0.20217451, 0.20988163],\n        ...,\n        [0.28901735, 0.23713185, 0.23630609, ..., 0.17547481,\n         0.17602532, 0.18620974],\n        [0.26727223, 0.24222405, 0.24112304, ..., 0.16226259,\n         0.17864025, 0.18676025],\n        [0.23506744, 0.22336912, 0.21070741, ..., 0.15840903,\n         0.17808974, 0.17657584]],\n\n       [[0.09963044, 0.10325062, 0.10506071, ..., 0.14857833,\n         0.14458103, 0.14043291],\n        [0.10083716, 0.10219473, 0.10483445, ..., 0.13666189,\n         0.1374161 , 0.13590768],\n        [0.10106343, 0.10076175, 0.10257184, ..., 0.128969  ,\n         0.12987405, 0.13372049],\n        ...,\n        [0.18123539, 0.15536617, 0.15461196, ..., 0.11282902,\n         0.12067275, 0.12067275],\n        [0.16698092, 0.16524625, 0.15280187, ..., 0.10634286,\n         0.12210574, 0.1186364 ],\n        [0.13439928, 0.13998039, 0.13643563, ..., 0.10490987,\n         0.1212007 , 0.11788219]],\n\n       ...,\n\n       [[0.04510224, 0.04551451, 0.0474934 , ..., 0.0625    ,\n         0.0592843 , 0.06093338],\n        [0.04485488, 0.04534961, 0.04600924, ..., 0.06002638,\n         0.05862467, 0.06052111],\n        [0.0451847 , 0.0451847 , 0.04551451, ..., 0.05977902,\n         0.06002638, 0.05796504],\n        ...,\n        [0.06472626, 0.05845976, 0.0592843 , ..., 0.05021438,\n         0.04930739, 0.04848285],\n        [0.06851913, 0.06456134, 0.07058048, ..., 0.05186346,\n         0.0528529 , 0.05227572],\n        [0.07767151, 0.07882586, 0.07635225, ..., 0.04980211,\n         0.05103892, 0.05153364]],\n\n       [[0.01898551, 0.01891304, 0.01869565, ..., 0.02528986,\n         0.0257971 , 0.02427536],\n        [0.01971014, 0.01847826, 0.01884058, ..., 0.02384058,\n         0.02681159, 0.02456522],\n        [0.01869565, 0.01884058, 0.01826087, ..., 0.02449275,\n         0.02427536, 0.02210145],\n        ...,\n        [0.02869565, 0.02485507, 0.02355072, ..., 0.03724638,\n         0.03710145, 0.03768116],\n        [0.05202898, 0.04666667, 0.05181159, ..., 0.0357971 ,\n         0.03652174, 0.0373913 ],\n        [0.07869565, 0.07710145, 0.07811594, ..., 0.03514493,\n         0.03775362, 0.0373913 ]],\n\n       [[0.28530928, 0.27989691, 0.28273195, ..., 0.2775773 ,\n         0.27319586, 0.27164948],\n        [0.278866  , 0.27242267, 0.27989691, ..., 0.27139175,\n         0.26391754, 0.26469073],\n        [0.2775773 , 0.27628866, 0.278866  , ..., 0.26185566,\n         0.2564433 , 0.25515464],\n        ...,\n        [0.25902063, 0.2534794 , 0.26469073, ..., 0.11752577,\n         0.10786083, 0.10721649],\n        [0.18981959, 0.19149485, 0.2041237 , ..., 0.1132732 ,\n         0.1132732 , 0.11275773],\n        [0.12757732, 0.1265464 , 0.12306701, ..., 0.11365979,\n         0.11533505, 0.11481959]]], dtype=float32)"
     },
     "execution_count": 53,
     "metadata": {},
     "output_type": "execute_result"
    }
   ],
   "source": [
    "# normalize the band data before the inference\n",
    "def normalize(ds, tile_np):\n",
    "    for index in range(tile_np.shape[0]):\n",
    "        band = ds.GetRasterBand(index + 1)\n",
    "        (_, b_max) = band.ComputeRasterMinMax(True)\n",
    "        tile_np[index] /= b_max\n",
    "\n",
    "normalize(dataset, arr)\n",
    "arr"
   ],
   "metadata": {
    "collapsed": false
   }
  },
  {
   "cell_type": "code",
   "execution_count": 56,
   "outputs": [
    {
     "data": {
      "text/plain": "torch.Size([1, 28, 256, 256])"
     },
     "execution_count": 56,
     "metadata": {},
     "output_type": "execute_result"
    }
   ],
   "source": [
    "# re-order the dimensions (if needed) and add a batch dimension\n",
    "tile = arr.transpose(0,1,2)\n",
    "tile_t = torch.from_numpy(tile).unsqueeze(dim=0)\n",
    "tile_t.shape"
   ],
   "metadata": {
    "collapsed": false
   }
  },
  {
   "cell_type": "code",
   "execution_count": 59,
   "outputs": [
    {
     "data": {
      "text/plain": "tensor([[9, 9, 9,  ..., 9, 9, 9],\n        [9, 9, 9,  ..., 9, 9, 9],\n        [9, 9, 9,  ..., 9, 9, 9],\n        ...,\n        [9, 9, 9,  ..., 9, 9, 9],\n        [9, 9, 9,  ..., 9, 9, 9],\n        [9, 9, 9,  ..., 9, 9, 9]])"
     },
     "execution_count": 59,
     "metadata": {},
     "output_type": "execute_result"
    }
   ],
   "source": [
    "# infer the output, take the max, and remove the batch dimension\n",
    "model.eval()\n",
    "pred = model(tile_t).argmax(1).squeeze()\n",
    "\n",
    "# the predicted crop class per cell\n",
    "pred"
   ],
   "metadata": {
    "collapsed": false
   }
  },
  {
   "cell_type": "code",
   "execution_count": 60,
   "outputs": [
    {
     "data": {
      "text/plain": "torch.Size([256, 256])"
     },
     "execution_count": 60,
     "metadata": {},
     "output_type": "execute_result"
    }
   ],
   "source": [
    "pred.shape"
   ],
   "metadata": {
    "collapsed": false
   }
  },
  {
   "cell_type": "code",
   "execution_count": null,
   "outputs": [],
   "source": [],
   "metadata": {
    "collapsed": false
   }
  }
 ],
 "metadata": {
  "kernelspec": {
   "display_name": "Python 3",
   "language": "python",
   "name": "python3"
  },
  "language_info": {
   "codemirror_mode": {
    "name": "ipython",
    "version": 2
   },
   "file_extension": ".py",
   "mimetype": "text/x-python",
   "name": "python",
   "nbconvert_exporter": "python",
   "pygments_lexer": "ipython2",
   "version": "2.7.6"
  }
 },
 "nbformat": 4,
 "nbformat_minor": 0
}
