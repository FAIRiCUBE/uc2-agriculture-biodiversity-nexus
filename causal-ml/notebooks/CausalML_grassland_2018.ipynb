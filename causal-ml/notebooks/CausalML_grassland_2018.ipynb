{
 "cells": [
  {
   "attachments": {},
   "cell_type": "markdown",
   "metadata": {
    "id": "PMgQTXvV4laK"
   },
   "source": [
    "# Using dowhy casual graph analysis\n",
    "\n",
    "Hypothesis (Mowing Impact):\n",
    "**number of mowing events** has a positive (or negative) effect on **species richness**.\n",
    "\n",
    "The goal is to prove/disprove the above hypothesis.\n",
    "\n",
    "DoWhy automatically considers the rest of the variables as potential confounders.\n",
    "\n",
    "After creating the casual graph, we need to identify the casual effect, estimate it (numerical value) and refute it (i.e. validate the estimation)\n",
    "\n",
    "import networkx as nx\n",
    "import rasterio\n",
    "import pandas as pd\n",
    "import numpy as np\n",
    "import os\n",
    "from pathlib import Path\n",
    "from dowhy import CausalModel\n",
    "from dowhy import plotter"
   ]
  },
  {
   "cell_type": "code",
   "execution_count": 44,
   "metadata": {},
   "outputs": [],
   "source": [
    "import networkx as nx\n",
    "import rasterio\n",
    "import pandas as pd\n",
    "import numpy as np\n",
    "import os\n",
    "from pathlib import Path\n",
    "from dowhy import CausalModel\n",
    "from dowhy import plotter"
   ]
  },
  {
   "cell_type": "code",
   "execution_count": 45,
   "metadata": {},
   "outputs": [],
   "source": [
    "# Avoid printing dataconversion warnings from sklearn and numpy\n",
    "import warnings\n",
    "from sklearn.exceptions import DataConversionWarning\n",
    "warnings.filterwarnings(action='ignore', category=DataConversionWarning)\n",
    "warnings.filterwarnings(action='ignore', category=FutureWarning)"
   ]
  },
  {
   "cell_type": "code",
   "execution_count": 46,
   "metadata": {},
   "outputs": [
    {
     "name": "stdout",
     "output_type": "stream",
     "text": [
      "Data path: /home/masoumeraeissi/s3/uc2-data/CML\n"
     ]
    }
   ],
   "source": [
    "# Get the directory of the current script\n",
    "script_dir = Path.cwd()  # or os.getcwd()\n",
    "\n",
    "# Define the relative path to the data\n",
    "relative_path = Path(\"../uc2-data/CML\")\n",
    "\n",
    "# path to the data\n",
    "data_path = (script_dir / relative_path).resolve()\n",
    "\n",
    "print(\"Data path:\", data_path)\n"
   ]
  },
  {
   "cell_type": "markdown",
   "metadata": {
    "id": "0xbTTPpeUJ_G"
   },
   "source": [
    "## Read data "
   ]
  },
  {
   "cell_type": "code",
   "execution_count": 47,
   "metadata": {},
   "outputs": [],
   "source": [
    "# Function to read raster data\n",
    "def read_raster(file_name, file_path):\n",
    "    file_path = file_path / file_name\n",
    "    if not file_path.exists():\n",
    "        print(f\"Error: File {file_name} not found in {data_path}\")\n",
    "        return None\n",
    "    with rasterio.open(file_path) as src:\n",
    "        data = src.read(1)  # Read the first band\n",
    "        affine = src.transform\n",
    "        return data, affine"
   ]
  },
  {
   "cell_type": "code",
   "execution_count": 85,
   "metadata": {},
   "outputs": [],
   "source": [
    "# Read rasters\n",
    "treatment_mowing_event, _ = read_raster(\"mowing_2018_grassland.tif\",data_path)\n",
    "outcome, _ = read_raster(\"normalized_richness_grassland.tif\",data_path)\n",
    "LGN_confounder, _ = read_raster(\"LGN_2018_grassland.tif\",data_path)\n",
    "CRI_confounder, _ = read_raster(\"CRI_2018_grassland.tif\",data_path)\n",
    "SWF_covariate, _ = read_raster(\"SWF_2018_grassland.tif\",data_path)\n",
    "# spring_greenness_covariate, _ = read_raster(\"greenness_spring.tif\",data_path)\n",
    "# autumn_greenness_covariate, _ = read_raster(\"greenness_autumn.tif\",data_path)"
   ]
  },
  {
   "cell_type": "code",
   "execution_count": 90,
   "metadata": {},
   "outputs": [],
   "source": [
    "# Flatten all rasters\n",
    "# rows, cols = treatment_crop_rotation.shape\n",
    "treatment_mowing_event_flat = treatment_mowing_event.flatten()\n",
    "outcome_flat = outcome.flatten()\n",
    "LGN_confounder_flat = LGN_confounder.flatten()\n",
    "SWF_covariate_flat = SWF_covariate.flatten()\n",
    "# CRI_confounder_flat = CRI_confounder.flatten()\n",
    "# spring_greenness_covariate_flat = spring_greenness_covariate.flatten()\n",
    "# autumn_greenness_covariate_flat = autumn_greenness_covariate.flatten()"
   ]
  },
  {
   "cell_type": "code",
   "execution_count": 91,
   "metadata": {},
   "outputs": [],
   "source": [
    "df = pd.DataFrame({\n",
    "    \"treatment_mowing_event\": treatment_mowing_event_flat,\n",
    "    \"outcome\": outcome_flat,\n",
    "    \"LGN_confounder\": LGN_confounder_flat,\n",
    "    # \"CRI_confounder\": CRI_confounder_flat,\n",
    "    \"SWF_covariate\": SWF_covariate_flat,\n",
    "})"
   ]
  },
  {
   "cell_type": "code",
   "execution_count": 92,
   "metadata": {},
   "outputs": [],
   "source": [
    "df['outcome'] = df['outcome'].fillna(df['outcome'].mean())"
   ]
  },
  {
   "cell_type": "code",
   "execution_count": 93,
   "metadata": {},
   "outputs": [
    {
     "data": {
      "text/html": [
       "<div>\n",
       "<style scoped>\n",
       "    .dataframe tbody tr th:only-of-type {\n",
       "        vertical-align: middle;\n",
       "    }\n",
       "\n",
       "    .dataframe tbody tr th {\n",
       "        vertical-align: top;\n",
       "    }\n",
       "\n",
       "    .dataframe thead th {\n",
       "        text-align: right;\n",
       "    }\n",
       "</style>\n",
       "<table border=\"1\" class=\"dataframe\">\n",
       "  <thead>\n",
       "    <tr style=\"text-align: right;\">\n",
       "      <th></th>\n",
       "      <th>treatment_mowing_event</th>\n",
       "      <th>outcome</th>\n",
       "      <th>LGN_confounder</th>\n",
       "      <th>SWF_covariate</th>\n",
       "    </tr>\n",
       "  </thead>\n",
       "  <tbody>\n",
       "    <tr>\n",
       "      <th>treatment_mowing_event</th>\n",
       "      <td>1.000000</td>\n",
       "      <td>-0.103226</td>\n",
       "      <td>-0.177548</td>\n",
       "      <td>-0.032056</td>\n",
       "    </tr>\n",
       "    <tr>\n",
       "      <th>outcome</th>\n",
       "      <td>-0.103226</td>\n",
       "      <td>1.000000</td>\n",
       "      <td>0.240973</td>\n",
       "      <td>-0.139853</td>\n",
       "    </tr>\n",
       "    <tr>\n",
       "      <th>LGN_confounder</th>\n",
       "      <td>-0.177548</td>\n",
       "      <td>0.240973</td>\n",
       "      <td>1.000000</td>\n",
       "      <td>-0.021537</td>\n",
       "    </tr>\n",
       "    <tr>\n",
       "      <th>SWF_covariate</th>\n",
       "      <td>-0.032056</td>\n",
       "      <td>-0.139853</td>\n",
       "      <td>-0.021537</td>\n",
       "      <td>1.000000</td>\n",
       "    </tr>\n",
       "  </tbody>\n",
       "</table>\n",
       "</div>"
      ],
      "text/plain": [
       "                        treatment_mowing_event   outcome  LGN_confounder  \\\n",
       "treatment_mowing_event                1.000000 -0.103226       -0.177548   \n",
       "outcome                              -0.103226  1.000000        0.240973   \n",
       "LGN_confounder                       -0.177548  0.240973        1.000000   \n",
       "SWF_covariate                        -0.032056 -0.139853       -0.021537   \n",
       "\n",
       "                        SWF_covariate  \n",
       "treatment_mowing_event      -0.032056  \n",
       "outcome                     -0.139853  \n",
       "LGN_confounder              -0.021537  \n",
       "SWF_covariate                1.000000  "
      ]
     },
     "execution_count": 93,
     "metadata": {},
     "output_type": "execute_result"
    }
   ],
   "source": [
    "df.corr()"
   ]
  },
  {
   "cell_type": "code",
   "execution_count": 72,
   "metadata": {},
   "outputs": [
    {
     "data": {
      "text/plain": [
       "treatment_mowing_event     uint16\n",
       "outcome                   float32\n",
       "LGN_confounder             uint16\n",
       "SWF_covariate               uint8\n",
       "dtype: object"
      ]
     },
     "execution_count": 72,
     "metadata": {},
     "output_type": "execute_result"
    }
   ],
   "source": [
    "df.dtypes"
   ]
  },
  {
   "cell_type": "code",
   "execution_count": 55,
   "metadata": {},
   "outputs": [
    {
     "name": "stdout",
     "output_type": "stream",
     "text": [
      "treatment_mowing_event    0\n",
      "outcome                   0\n",
      "LGN_confounder            0\n",
      "SWF_covariate             0\n",
      "dtype: int64\n"
     ]
    }
   ],
   "source": [
    "print(df.isnull().sum())  # Check for missing values\n",
    "# df.describe()"
   ]
  },
  {
   "cell_type": "code",
   "execution_count": 56,
   "metadata": {},
   "outputs": [
    {
     "data": {
      "text/plain": [
       "count    1.694656e+07\n",
       "mean     2.798090e+00\n",
       "std      1.253174e+00\n",
       "min      1.000000e+00\n",
       "25%      2.000000e+00\n",
       "50%      2.000000e+00\n",
       "75%      4.000000e+00\n",
       "max      5.000000e+00\n",
       "Name: SWF_covariate, dtype: float64"
      ]
     },
     "execution_count": 56,
     "metadata": {},
     "output_type": "execute_result"
    }
   ],
   "source": [
    "# Assuming df is the dataframe before running DoWhy\n",
    "df['SWF_covariate'].describe()"
   ]
  },
  {
   "cell_type": "code",
   "execution_count": 73,
   "metadata": {
    "colab": {
     "base_uri": "https://localhost:8080/"
    },
    "id": "moQSXvTrR-Y_",
    "outputId": "9ccf0423-a8be-4932-cd29-b229d2bc311e"
   },
   "outputs": [],
   "source": [
    "# Define the causal graph structure\n",
    "causal_graph = \"\"\"\n",
    "digraph {\n",
    "    treatment_mowing_event -> outcome;\n",
    "    SWF_covariate -> outcome;\n",
    "    LGN_confounder -> treatment_mowing_event;\n",
    "    LGN_confounder -> outcome;\n",
    "}\n",
    "\"\"\"\n",
    "\n",
    "# Create causal model\n",
    "model = CausalModel(\n",
    "    data=df, \n",
    "    treatment=\"treatment_mowing_event\",\n",
    "    outcome=\"outcome\",\n",
    "    common_causes=['SWF_covariate'], # should be all covariates\n",
    "    graph=causal_graph\n",
    ")"
   ]
  },
  {
   "cell_type": "code",
   "execution_count": 74,
   "metadata": {
    "colab": {
     "base_uri": "https://localhost:8080/",
     "height": 499
    },
    "id": "apZJ7A4FSAxP",
    "outputId": "332e1c51-23d6-4136-f864-d08490bbe11f"
   },
   "outputs": [
    {
     "data": {
      "image/png": "[encoded data removed]",
      "text/plain": [
       "<Figure size 800x600 with 1 Axes>"
      ]
     },
     "metadata": {},
     "output_type": "display_data"
    }
   ],
   "source": [
    "# Display the graph for verification\n",
    "model.view_model()"
   ]
  },
  {
   "cell_type": "markdown",
   "metadata": {
    "id": "qdgkQfil-hHs"
   },
   "source": [
    "### Identify casual effect\n",
    "What does it mean?\n",
    "- It ensures that the causal effect we want to estimate is valid under the assumptions of our graph.\n",
    "- Provides a blueprint for how the effect can be estimated from our data.\n",
    "- It is important for the next step which is estimating the effect"
   ]
  },
  {
   "cell_type": "code",
   "execution_count": 59,
   "metadata": {
    "colab": {
     "base_uri": "https://localhost:8080/"
    },
    "id": "kasYemH0W-Il",
    "outputId": "e5efecb4-7a6d-4d75-8fae-2ca43785080a"
   },
   "outputs": [
    {
     "name": "stdout",
     "output_type": "stream",
     "text": [
      "Identified Estimand:\n",
      "Estimand type: EstimandType.NONPARAMETRIC_ATE\n",
      "\n",
      "### Estimand : 1\n",
      "Estimand name: backdoor\n",
      "Estimand expression:\n",
      "            d                                       \n",
      "─────────────────────────(E[outcome|LGN_confounder])\n",
      "d[treatment_mowing_event]                           \n",
      "Estimand assumption 1, Unconfoundedness: If U→{treatment_mowing_event} and U→outcome then P(outcome|treatment_mowing_event,LGN_confounder,U) = P(outcome|treatment_mowing_event,LGN_confounder)\n",
      "\n",
      "### Estimand : 2\n",
      "Estimand name: iv\n",
      "No such variable(s) found!\n",
      "\n",
      "### Estimand : 3\n",
      "Estimand name: frontdoor\n",
      "No such variable(s) found!\n",
      "\n"
     ]
    }
   ],
   "source": [
    "# Identify causal effect and return target estimands\n",
    "identified_estimand = model.identify_effect(proceed_when_unidentifiable=True)\n",
    "print(\"Identified Estimand:\")\n",
    "print(identified_estimand)"
   ]
  },
  {
   "cell_type": "markdown",
   "metadata": {
    "id": "7PP0VWrZ6CTD"
   },
   "source": [
    "### Summary of the result:\n",
    "\n",
    "**Backdoor Criterion:**\n",
    "The backdoor path is valid, meaning we can estimate the causal effect by adjusting for observed confounders.\n",
    "\n",
    "**Assumes Unconfoundedness:**\n",
    "There are no unobserved confounders influencing both crop rotation frequency and outcome.\n",
    "\n",
    "**Instrumental Variable (IV):**\n",
    "No valid IV was found in our model. Therefore, IV methods are not applicable. IVs are special variables that affect the treatment but not the outcome directly (except through the treatment). Since I didn't specify an IV, this is expected.\n",
    "\n",
    "**Frontdoor Criterion:**\n",
    "No valid frontdoor paths were identified, indicating no mediators are present that could be used to estimate the causal effect.\n",
    "\n"
   ]
  },
  {
   "cell_type": "markdown",
   "metadata": {
    "id": "pLExrhnRA35F"
   },
   "source": [
    "# Estimate casual effect\n",
    "\n",
    "This command computes the actual numerical value of the causal effect of the treatment on the outcome."
   ]
  },
  {
   "cell_type": "code",
   "execution_count": 17,
   "metadata": {},
   "outputs": [],
   "source": [
    "# import statsmodels.api as sm\n",
    "\n",
    "# causal_estimate = model.estimate_effect(\n",
    "#     identified_estimand,\n",
    "#     method_name=\"backdoor.generalized_linear_model\",\n",
    "#     method_params={\"glm_family\": sm.families.Gaussian()}\n",
    "# )    \n",
    "# print(f\"{method}: {causal_estimate.value}\")"
   ]
  },
  {
   "cell_type": "code",
   "execution_count": 60,
   "metadata": {
    "colab": {
     "base_uri": "https://localhost:8080/"
    },
    "id": "zjGOEK0vXdH5",
    "outputId": "2754c3ef-1ff9-447a-9836-1b07ab32f407"
   },
   "outputs": [
    {
     "name": "stdout",
     "output_type": "stream",
     "text": [
      "Causal Estimate is -0.008118089747514656\n"
     ]
    }
   ],
   "source": [
    "# Estimate the causal effect using linear regression\n",
    "causal_estimate = model.estimate_effect(\n",
    "    identified_estimand,\n",
    "    method_name=\"backdoor.linear_regression\"\n",
    ")\n",
    "# print(causal_estimate)\n",
    "print(\"Causal Estimate is \" + str(causal_estimate.value))"
   ]
  },
  {
   "cell_type": "code",
   "execution_count": 27,
   "metadata": {},
   "outputs": [],
   "source": [
    "# plotter.plot_causal_effect(causal_estimate,treatment = df[\"treatment_mowing_event\"], outcome=df[\"outcome\"])"
   ]
  },
  {
   "cell_type": "markdown",
   "metadata": {
    "id": "GuBVIVkEBeGc"
   },
   "source": [
    "## Refute estimate\n",
    "This function evaluates the robustness of the estimated causal effect by applying a placebo test. This is part of the refutation tests provided by DoWhy to validate causal estimates."
   ]
  },
  {
   "cell_type": "code",
   "execution_count": 42,
   "metadata": {
    "colab": {
     "base_uri": "https://localhost:8080/"
    },
    "id": "WFPWjDpPXXMc",
    "outputId": "cd2f456d-445d-483d-eaec-b6db80ad7cf6",
    "scrolled": true
   },
   "outputs": [],
   "source": [
    "# # Refute the causal estimate\n",
    "# refutation = model.refute_estimate(\n",
    "#     identified_estimand, causal_estimate, method_name=\"placebo_treatment_refuter\",show_progress_bar=True\n",
    "# )\n",
    "# print(\"\\nRefutation Result:\")"
   ]
  },
  {
   "cell_type": "markdown",
   "metadata": {
    "id": "r93_QGLX7A3s"
   },
   "source": [
    "**Result Details**\n",
    "\n",
    "*Estimated Effect:*\n",
    "This is the original causal estimate obtained from the model. It suggests that a one-unit increase in the treatment variable results in a x-unit increase in species_abundance, on average.\n",
    "\n",
    "*New Effect (Placebo Estimate):*\n",
    "This is the causal effect estimated using the randomly generated placebo treatment variable. Ideally, this should be close to 0, as the placebo variable should have no causal relationship with the outcome."
   ]
  },
  {
   "cell_type": "code",
   "execution_count": 61,
   "metadata": {
    "id": "j8NGWiUnXh9O"
   },
   "outputs": [
    {
     "data": {
      "application/vnd.jupyter.widget-view+json": {
       "model_id": "c3bb442b58dc485788891f6439f24e71",
       "version_major": 2,
       "version_minor": 0
      },
      "text/plain": [
       "Refuting Estimates:   0%|          | 0/100 [00:00<?, ?it/s]"
      ]
     },
     "metadata": {},
     "output_type": "display_data"
    },
    {
     "name": "stdout",
     "output_type": "stream",
     "text": [
      "Refute: Add a random common cause\n",
      "Estimated effect:-0.008118089747514656\n",
      "New effect:-0.008118088664385964\n",
      "p value:0.8999999999999999\n",
      "\n"
     ]
    }
   ],
   "source": [
    "refute_hidden_confounders = model.refute_estimate(identified_estimand, causal_estimate, method_name=\"random_common_cause\",show_progress_bar=True)\n",
    "# refute_hidden_confounders = model.refute_estimate(identified_estimand, causal_estimate, method_name=\"random_common_cause\")\n",
    "print(refute_hidden_confounders)"
   ]
  },
  {
   "cell_type": "markdown",
   "metadata": {},
   "source": [
    "If the relationship between treatment and outcome remains the same after controlling for \"random_common_cause\", then we have stronger evidence that treatment causes outcome. \n",
    "A p-value above 0.05 means there is no detectable statistical difference between the estimated causal effect before and after introducing the random common cause.\n",
    "\n",
    "The fact that the new effect is almost identical to the original effect, and the p-value is very high, means that the causal estimate is robust to random hidden confounding."
   ]
  },
  {
   "cell_type": "code",
   "execution_count": null,
   "metadata": {},
   "outputs": [],
   "source": [
    "print(refute_hidden_confounders)"
   ]
  }
 ],
 "metadata": {
  "colab": {
   "provenance": []
  },
  "kernelspec": {
   "display_name": "fairicubeuc2-torch",
   "language": "python",
   "name": "conda-env-fairicubeuc2-torch-py"
  },
  "language_info": {
   "codemirror_mode": {
    "name": "ipython",
    "version": 3
   },
   "file_extension": ".py",
   "mimetype": "text/x-python",
   "name": "python",
   "nbconvert_exporter": "python",
   "pygments_lexer": "ipython3",
   "version": "3.10.14"
  }
 },
 "nbformat": 4,
 "nbformat_minor": 4
}
