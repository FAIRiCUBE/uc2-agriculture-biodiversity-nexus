{
 "cells": [
  {
   "cell_type": "markdown",
   "metadata": {},
   "source": [
    "# Rasdaman Data Access Examples\n",
    "\n",
    "*Rob Knapen, Wageningen Environmental Research*\n",
    "<br>\n",
    "\n",
    "This notebook covers some first examples with using Rasdaman coverage services (WCS and WCPS).\n",
    "\n",
    "The Open Geospatial Consortium has defined coverages by the Coverage Implementation Schema (CIS). Each coverage mainly consists of the following:\n",
    "  - An Envelope: which gives a rough, simplified overview of the data's location in space and time,\n",
    "  - A domain set: which provides information about the spatial (including CRS) and temporal dimensions of the data,\n",
    "  - A range set: the \"payload\", i.e. the values, or records of values,\n",
    "  - A range type: the semantics of the range values, including data types, null values, accuracy, etc.,\n",
    "  - Metadata: a container for any type of (descriptive) data."
   ]
  },
  {
   "cell_type": "code",
   "execution_count": 1,
   "metadata": {
    "tags": []
   },
   "outputs": [
    {
     "name": "stdout",
     "output_type": "stream",
     "text": [
      "Defaulting to user installation because normal site-packages is not writeable\n",
      "Requirement already satisfied: python-dotenv in /home/robknapen/.local/lib/python3.10/site-packages (1.0.0)\n"
     ]
    }
   ],
   "source": [
    "# this notebook uses dotenv to retrieve secrets from environment variables\n",
    "# get it with: pip install python-dotenv\n",
    "\n",
    "!pip install python-dotenv\n",
    "\n",
    "# Note that a kernel restart can be required now so that the module can be found"
   ]
  },
  {
   "cell_type": "code",
   "execution_count": 2,
   "metadata": {
    "ExecuteTime": {
     "end_time": "2023-07-06T13:03:06.283272Z",
     "start_time": "2023-07-06T13:03:06.273204Z"
    },
    "collapsed": false,
    "jupyter": {
     "outputs_hidden": false
    },
    "tags": []
   },
   "outputs": [
    {
     "data": {
      "text/plain": [
       "True"
      ]
     },
     "execution_count": 2,
     "metadata": {},
     "output_type": "execute_result"
    }
   ],
   "source": [
    "# load the environment variables\n",
    "from dotenv import load_dotenv\n",
    "from pathlib import Path\n",
    "\n",
    "# add an enviroment file with the secrets if needed\n",
    "# make sure to exlude it from git!!\n",
    "env_path = Path('.') / 'env_secrets.txt'\n",
    "load_dotenv(dotenv_path=env_path)"
   ]
  },
  {
   "cell_type": "code",
   "execution_count": 3,
   "metadata": {
    "ExecuteTime": {
     "end_time": "2023-07-06T13:03:07.372448Z",
     "start_time": "2023-07-06T13:03:07.368591Z"
    },
    "collapsed": false,
    "jupyter": {
     "outputs_hidden": false
    },
    "tags": []
   },
   "outputs": [
    {
     "name": "stdout",
     "output_type": "stream",
     "text": [
      "http://fairicube.rasdaman.com:8080/rasdaman/ows?service=WCS&version=2.1.0\n"
     ]
    }
   ],
   "source": [
    "import os\n",
    "\n",
    "# read the secret information ...\n",
    "#   Create an environment file in the notebooks folder first that has entries like:\n",
    "#\n",
    "#   RASDAMAN_SERVICE_ENDPOINT=<url>\n",
    "#   RASDAMAN_CRED_USERNAME=<rasdaman_endpoint_username>\n",
    "#   RASDAMAN_CRED_PASSWORD=<rasdaman_endpoint_password>\n",
    "#   etc.\n",
    "\n",
    "rasdaman_username = os.getenv(\"RASDAMAN_CRED_USERNAME\")\n",
    "rasdaman_password = os.getenv(\"RASDAMAN_CRED_PASSWORD\")\n",
    "rasdaman_endpoint = os.getenv(\"RASDAMAN_SERVICE_ENDPOINT\")\n",
    "\n",
    "# url to the rasdaman petascope geo service handling WCS requests\n",
    "base_wcs_url = rasdaman_endpoint + \"?service=WCS&version=2.1.0\"\n",
    "\n",
    "print(base_wcs_url)"
   ]
  },
  {
   "cell_type": "markdown",
   "metadata": {},
   "source": [
    "## Using Web Coverage Service (WCS)\n",
    "The Web Coverage Service is one of the geo service standards by the Open Geospatial Consortium (OGC) that is supported by rasdaman. WCS delivers n-dimensional data, suitable for further processing and analysis. The service is a modular suite of functionality, with WCS Core providing the main downloading of coverages and parts thereof (via subsetting directives), as well as delivery in various output formats. A set of WCS Extensions can add further functionality.\n",
    "\n",
    "WCS Core supports the following requests: GetCapabilities, DescribeCoverage, and GetCoverage."
   ]
  },
  {
   "cell_type": "markdown",
   "metadata": {},
   "source": [
    "### WCS - GetCapabilities\n",
    "This request returns a list of available coverages, and an overall service description."
   ]
  },
  {
   "cell_type": "code",
   "execution_count": 4,
   "metadata": {
    "tags": []
   },
   "outputs": [
    {
     "name": "stdout",
     "output_type": "stream",
     "text": [
      "Defaulting to user installation because normal site-packages is not writeable\n",
      "Requirement already satisfied: xmltodict in /home/robknapen/.local/lib/python3.10/site-packages (0.13.0)\n"
     ]
    }
   ],
   "source": [
    "!pip install xmltodict"
   ]
  },
  {
   "cell_type": "code",
   "execution_count": 5,
   "metadata": {
    "ExecuteTime": {
     "end_time": "2023-07-06T13:03:11.331923Z",
     "start_time": "2023-07-06T13:03:11.154400Z"
    },
    "collapsed": false,
    "jupyter": {
     "outputs_hidden": false
    },
    "tags": []
   },
   "outputs": [],
   "source": [
    "import requests\n",
    "import json\n",
    "import xmltodict\n",
    "\n",
    "# retrieve a description of the WCS using the GetCapabilities request\n",
    "response = requests.get(base_wcs_url + \"&request=GetCapabilities\", auth=(rasdaman_username, rasdaman_password))\n",
    "wcs_capabilities = xmltodict.parse(response.content)"
   ]
  },
  {
   "cell_type": "code",
   "execution_count": 10,
   "metadata": {
    "tags": []
   },
   "outputs": [],
   "source": [
    "# print(json.dumps(wcs_capabilities, indent=2))"
   ]
  },
  {
   "cell_type": "code",
   "execution_count": 11,
   "metadata": {
    "ExecuteTime": {
     "end_time": "2023-07-06T13:03:19.127404Z",
     "start_time": "2023-07-06T13:03:19.116586Z"
    },
    "collapsed": false,
    "jupyter": {
     "outputs_hidden": false
    },
    "tags": []
   },
   "outputs": [
    {
     "data": {
      "text/plain": [
       "['AD4GD_GBIF',\n",
       " 'ADC_Arable_Land_Markers_Autumn',\n",
       " 'ADC_Arable_Land_Markers_Spring',\n",
       " 'ADC_Crop_Parcels_Crop_Code',\n",
       " 'ADC_Crop_Parcels_Field_ID',\n",
       " 'ADC_Crop_Rotation_Index',\n",
       " 'ADC_Grassland_Markers_NDVI_Spring',\n",
       " 'ADC_Grassland_Markers_No_Mowing',\n",
       " 'ADC_arable_land_markers_no_ndvi',\n",
       " 'LGN',\n",
       " 'LGN_Monitoring',\n",
       " 'Precipitation_Netherlands',\n",
       " 'S2_L2A_Netherlands_CloudFree',\n",
       " 'Temperature_Netherlands',\n",
       " 'corine_land_cover',\n",
       " 'dominant_leaf_type_10m',\n",
       " 'dominant_leaf_type_20m',\n",
       " 'eu_demography',\n",
       " 'european_settlement_map_2015',\n",
       " 'european_settlement_map_2018',\n",
       " 'forest_type_10m',\n",
       " 'forest_type_20m',\n",
       " 'global_pesticide_grids_apr_h',\n",
       " 'global_pesticide_grids_apr_l',\n",
       " 'global_pesticide_grids_crops',\n",
       " 'global_pesticide_grids_qi',\n",
       " 'grassland_10m',\n",
       " 'grassland_20m',\n",
       " 'imperviousness_10m',\n",
       " 'imperviousness_20m',\n",
       " 'input_lulc_aggreg_types',\n",
       " 'input_lulc_extended_types',\n",
       " 'maxes_sentinel2_2018_flevopolder_10m_7x4bands',\n",
       " 'output_connectivity_graphab_corridors_forests',\n",
       " 'output_connectivity_graphab_iic_forests',\n",
       " 'output_connectivity_miramon_ict_aquatic_environments',\n",
       " 'output_connectivity_miramon_ict_forests',\n",
       " 'output_connectivity_miramon_ict_herbaceous_crops',\n",
       " 'output_connectivity_miramon_ict_shrublands',\n",
       " 'output_connectivity_miramon_ict_woody_crops',\n",
       " 'sentinel2_2018_flevopolder_10m_7x4bands',\n",
       " 'small_woody_features_2015',\n",
       " 'small_woody_features_2018',\n",
       " 'tree_cover_density_10m',\n",
       " 'tree_cover_density_20m',\n",
       " 'water_and_wetness_10m',\n",
       " 'water_and_wetness_20m',\n",
       " 'ds.earthserver.xyz--7000--AvgTemperatureColorScaled',\n",
       " 'ds.earthserver.xyz--7000--C3S_satellite_soil_moisture_active_daily_dnflag',\n",
       " 'ds.earthserver.xyz--7000--C3S_satellite_soil_moisture_active_daily_flag',\n",
       " 'ds.earthserver.xyz--7000--C3S_satellite_soil_moisture_active_daily_freqbandID',\n",
       " 'ds.earthserver.xyz--7000--C3S_satellite_soil_moisture_active_daily_mode',\n",
       " 'ds.earthserver.xyz--7000--C3S_satellite_soil_moisture_active_daily_sensor',\n",
       " 'ds.earthserver.xyz--7000--C3S_satellite_soil_moisture_active_daily_sm',\n",
       " 'ds.earthserver.xyz--7000--C3S_satellite_soil_moisture_active_daily_sm_uncertainty',\n",
       " 'ds.earthserver.xyz--7000--C3S_satellite_soil_moisture_active_daily_t0',\n",
       " 'ds.earthserver.xyz--7000--C3S_satellite_soil_moisture_combined_daily_dnflag',\n",
       " 'ds.earthserver.xyz--7000--C3S_satellite_soil_moisture_combined_daily_flag',\n",
       " 'ds.earthserver.xyz--7000--C3S_satellite_soil_moisture_combined_daily_freqbandID',\n",
       " 'ds.earthserver.xyz--7000--C3S_satellite_soil_moisture_combined_daily_mode',\n",
       " 'ds.earthserver.xyz--7000--C3S_satellite_soil_moisture_combined_daily_sensor',\n",
       " 'ds.earthserver.xyz--7000--C3S_satellite_soil_moisture_combined_daily_sm',\n",
       " 'ds.earthserver.xyz--7000--C3S_satellite_soil_moisture_combined_daily_sm_uncertainty',\n",
       " 'ds.earthserver.xyz--7000--C3S_satellite_soil_moisture_combined_daily_t0',\n",
       " 'ds.earthserver.xyz--7000--C3S_satellite_soil_moisture_passive_daily_dnflag',\n",
       " 'ds.earthserver.xyz--7000--C3S_satellite_soil_moisture_passive_daily_flag',\n",
       " 'ds.earthserver.xyz--7000--C3S_satellite_soil_moisture_passive_daily_freqbandID',\n",
       " 'ds.earthserver.xyz--7000--C3S_satellite_soil_moisture_passive_daily_mode',\n",
       " 'ds.earthserver.xyz--7000--C3S_satellite_soil_moisture_passive_daily_sensor',\n",
       " 'ds.earthserver.xyz--7000--C3S_satellite_soil_moisture_passive_daily_sm',\n",
       " 'ds.earthserver.xyz--7000--C3S_satellite_soil_moisture_passive_daily_sm_uncertainty',\n",
       " 'ds.earthserver.xyz--7000--C3S_satellite_soil_moisture_passive_daily_t0',\n",
       " 'ds.earthserver.xyz--7000--ERA5',\n",
       " 'ds.earthserver.xyz--7000--ERA5_Land_monthly',\n",
       " 'ds.earthserver.xyz--7000--EU_DEM',\n",
       " 'ds.earthserver.xyz--7000--S1A_IW_GRD_HH_Greenland',\n",
       " 'ds.earthserver.xyz--7000--S1_GRDH_IW_DV_VH',\n",
       " 'ds.earthserver.xyz--7000--S1_GRDH_IW_DV_VV',\n",
       " 'ds.earthserver.xyz--7000--S1_GRDM_EW_DH_HH',\n",
       " 'ds.earthserver.xyz--7000--S1_GRDM_EW_DH_HV',\n",
       " 'ds.earthserver.xyz--7000--S1_GRDM_EW_DV_VH',\n",
       " 'ds.earthserver.xyz--7000--S1_GRDM_EW_DV_VV',\n",
       " 'ds.earthserver.xyz--7000--S2_L2A_AOT_10m',\n",
       " 'ds.earthserver.xyz--7000--S2_L2A_B01_20m',\n",
       " 'ds.earthserver.xyz--7000--S2_L2A_B02_10m',\n",
       " 'ds.earthserver.xyz--7000--S2_L2A_B03_10m',\n",
       " 'ds.earthserver.xyz--7000--S2_L2A_B04_10m',\n",
       " 'ds.earthserver.xyz--7000--S2_L2A_B05_20m',\n",
       " 'ds.earthserver.xyz--7000--S2_L2A_B06_20m',\n",
       " 'ds.earthserver.xyz--7000--S2_L2A_B07_20m',\n",
       " 'ds.earthserver.xyz--7000--S2_L2A_B08_10m',\n",
       " 'ds.earthserver.xyz--7000--S2_L2A_B09_60m',\n",
       " 'ds.earthserver.xyz--7000--S2_L2A_B11_20m',\n",
       " 'ds.earthserver.xyz--7000--S2_L2A_B12_20m',\n",
       " 'ds.earthserver.xyz--7000--S2_L2A_B8A_20m',\n",
       " 'ds.earthserver.xyz--7000--S2_L2A_CLASSI_60m',\n",
       " 'ds.earthserver.xyz--7000--S2_L2A_CLDPRB_10m',\n",
       " 'ds.earthserver.xyz--7000--S2_L2A_SCL_20m',\n",
       " 'ds.earthserver.xyz--7000--S2_L2A_SNWPRB_10m',\n",
       " 'ds.earthserver.xyz--7000--S2_L2A_TCI_10m',\n",
       " 'ds.earthserver.xyz--7000--S2_L2A_TCI_Greenland',\n",
       " 'ds.earthserver.xyz--7000--S2_L2A_WVP_10m',\n",
       " 'ds.earthserver.xyz--7000--S3_OLCI_L2_LFR_GIFAPAR_global',\n",
       " 'ds.earthserver.xyz--7000--S3_OLCI_L2_LFR_IWV_global',\n",
       " 'ds.earthserver.xyz--7000--S3_OLCI_L2_LFR_OTCI_global',\n",
       " 'ds.earthserver.xyz--7000--S3_OLCI_L2_LFR_RC681_global',\n",
       " 'ds.earthserver.xyz--7000--S3_OLCI_L2_LFR_RC865_global',\n",
       " 'ds.earthserver.xyz--7000--S3_OLCI_L2_LFR_RC_GIFAPAR_RC681_global',\n",
       " 'ds.earthserver.xyz--7000--S3_OLCI_L2_LFR_RC_GIFAPAR_RC865_global',\n",
       " 'ds.earthserver.xyz--7000--S3_SLSTR_SL_2_LST__sea_ice_fraction_tx_Greenland',\n",
       " 'ds.earthserver.xyz--7000--S3_SLSTR_SL_2_LST__sea_surface_temperature_tx_Greenland',\n",
       " 'ds.earthserver.xyz--7000--S3_SLSTR_SL_2_LST__sensible_heat_tx_Greenland',\n",
       " 'ds.earthserver.xyz--7000--S3_SLSTR_SL_2_LST__snow_albedo_tx_Greenland',\n",
       " 'ds.earthserver.xyz--7000--S3_SLSTR_SL_2_LST__snow_depth_tx_Greenland',\n",
       " 'ds.earthserver.xyz--7000--S3_SLSTR_SL_2_LST__surface_pressure_tx_Greenland',\n",
       " 'ds.earthserver.xyz--7000--S3_SLSTR_SL_2_LST__temperature_tx_Greenland',\n",
       " 'ds.earthserver.xyz--7000--S3_SLSTR_SL_2_LST__u_wind_tx_Greenland',\n",
       " 'ds.earthserver.xyz--7000--S3_SLSTR_SL_2_LST__v_wind_tx_Greenland',\n",
       " 'ds.earthserver.xyz--7000--S5p_L2_AER_AI_aerosol_index_335_367_global',\n",
       " 'ds.earthserver.xyz--7000--S5p_L2_AER_AI_aerosol_index_335_367_precision_global',\n",
       " 'ds.earthserver.xyz--7000--S5p_L2_AER_AI_aerosol_index_340_380_global',\n",
       " 'ds.earthserver.xyz--7000--S5p_L2_AER_AI_aerosol_index_340_380_precision_global',\n",
       " 'ds.earthserver.xyz--7000--S5p_L2_AER_AI_aerosol_index_354_388_global',\n",
       " 'ds.earthserver.xyz--7000--S5p_L2_AER_AI_aerosol_index_354_388_precision_global',\n",
       " 'ds.earthserver.xyz--7000--S5p_L2_AER_LH_aerosol_mid_height_global',\n",
       " 'ds.earthserver.xyz--7000--S5p_L2_AER_LH_aerosol_mid_height_precision_global',\n",
       " 'ds.earthserver.xyz--7000--S5p_L2_AER_LH_aerosol_mid_pressure_global',\n",
       " 'ds.earthserver.xyz--7000--S5p_L2_AER_LH_aerosol_mid_pressure_precision_global',\n",
       " 'ds.earthserver.xyz--7000--S5p_L2_CH4_methane_mixing_ratio_bias_corrected_global',\n",
       " 'ds.earthserver.xyz--7000--S5p_L2_CH4_methane_mixing_ratio_global',\n",
       " 'ds.earthserver.xyz--7000--S5p_L2_CH4_methane_mixing_ratio_precision_global',\n",
       " 'ds.earthserver.xyz--7000--S5p_L2_CLOUD_cloud_base_height_global',\n",
       " 'ds.earthserver.xyz--7000--S5p_L2_CLOUD_cloud_base_height_precision_global',\n",
       " 'ds.earthserver.xyz--7000--S5p_L2_CLOUD_cloud_base_pressure_global',\n",
       " 'ds.earthserver.xyz--7000--S5p_L2_CLOUD_cloud_base_pressure_precision_global',\n",
       " 'ds.earthserver.xyz--7000--S5p_L2_CLOUD_cloud_fraction_global',\n",
       " 'ds.earthserver.xyz--7000--S5p_L2_CLOUD_cloud_fraction_precision_global',\n",
       " 'ds.earthserver.xyz--7000--S5p_L2_CLOUD_cloud_optical_thickness_global',\n",
       " 'ds.earthserver.xyz--7000--S5p_L2_CLOUD_cloud_optical_thickness_precision_global',\n",
       " 'ds.earthserver.xyz--7000--S5p_L2_CLOUD_cloud_top_height_global',\n",
       " 'ds.earthserver.xyz--7000--S5p_L2_CLOUD_cloud_top_height_precision_global',\n",
       " 'ds.earthserver.xyz--7000--S5p_L2_CLOUD_cloud_top_pressure_global',\n",
       " 'ds.earthserver.xyz--7000--S5p_L2_CLOUD_cloud_top_pressure_precision_global',\n",
       " 'ds.earthserver.xyz--7000--S5p_L2_CO_carbonmonoxide_total_column_corrected_global',\n",
       " 'ds.earthserver.xyz--7000--S5p_L2_CO_carbonmonoxide_total_column_global',\n",
       " 'ds.earthserver.xyz--7000--S5p_L2_CO_carbonmonoxide_total_column_precision_global',\n",
       " 'ds.earthserver.xyz--7000--S5p_L2_HCHO_formaldehyde_tropospheric_vertical_column_global',\n",
       " 'ds.earthserver.xyz--7000--S5p_L2_HCHO_formaldehyde_tropospheric_vertical_column_precision_global',\n",
       " 'ds.earthserver.xyz--7000--S5p_L2_NO2_air_mass_factor_total_global',\n",
       " 'ds.earthserver.xyz--7000--S5p_L2_NO2_air_mass_factor_troposphere_global',\n",
       " 'ds.earthserver.xyz--7000--S5p_L2_NO2_nitrogendioxide_tropospheric_column_global',\n",
       " 'ds.earthserver.xyz--7000--S5p_L2_NO2_nitrogendioxide_tropospheric_column_precision_global',\n",
       " 'ds.earthserver.xyz--7000--S5p_L2_NO2_nitrogendioxide_tropospheric_column_precision_kernel_global',\n",
       " 'ds.earthserver.xyz--7000--S5p_L2_NO2_tm5_tropopause_layer_index_global',\n",
       " 'ds.earthserver.xyz--7000--S5p_L2_O3_ozone_total_vertical_column_global',\n",
       " 'ds.earthserver.xyz--7000--S5p_L2_O3_ozone_total_vertical_column_precision_global',\n",
       " 'ds.earthserver.xyz--7000--S5p_L2_SO2_sulfurdioxide_total_vertical_column_global',\n",
       " 'ds.earthserver.xyz--7000--S5p_L2_SO2_sulfurdioxide_total_vertical_column_precision_global',\n",
       " 'ds.earthserver.xyz--7000--TotalPrecipitation']"
      ]
     },
     "execution_count": 11,
     "metadata": {},
     "output_type": "execute_result"
    }
   ],
   "source": [
    "# list the WCS contents - all available coverages\n",
    "wcs_coverage_summary = wcs_capabilities['wcs20:Capabilities']['wcs20:Contents']['wcs20:CoverageSummary']\n",
    "coverage_ids = [summary['wcs20:CoverageId'] for summary in wcs_coverage_summary]\n",
    "coverage_ids"
   ]
  },
  {
   "cell_type": "markdown",
   "metadata": {},
   "source": [
    "### WCS - DescribeCoverage"
   ]
  },
  {
   "cell_type": "code",
   "execution_count": 13,
   "metadata": {
    "ExecuteTime": {
     "end_time": "2023-07-06T13:04:45.606625Z",
     "start_time": "2023-07-06T13:04:45.480692Z"
    },
    "collapsed": false,
    "jupyter": {
     "outputs_hidden": false
    },
    "tags": []
   },
   "outputs": [
    {
     "name": "stdout",
     "output_type": "stream",
     "text": [
      "{\n",
      "  \"wcs:CoverageDescriptions\": {\n",
      "    \"@xsi:schemaLocation\": \"http://www.opengis.net/wcs/2.0 http://schemas.opengis.net/wcs/2.0/wcsDescribeCoverage.xsd http://www.opengis.net/gml/3.3/rgrid http://schemas.opengis.net/gml/3.3/referenceableGrid.xsd\",\n",
      "    \"@xmlns:wcs\": \"http://www.opengis.net/wcs/2.0\",\n",
      "    \"@xmlns:xsi\": \"http://www.w3.org/2001/XMLSchema-instance\",\n",
      "    \"@xmlns:gml\": \"http://www.opengis.net/gml/3.2\",\n",
      "    \"@xmlns:swe\": \"http://www.opengis.net/swe/2.0\",\n",
      "    \"@xmlns:ows\": \"http://www.opengis.net/ows/2.0\",\n",
      "    \"@xmlns:xlink\": \"http://www.w3.org/1999/xlink\",\n",
      "    \"@xmlns:ras\": \"http://www.rasdaman.org\",\n",
      "    \"@xmlns:gmlrgrid\": \"http://www.opengis.net/gml/3.3/rgrid\",\n",
      "    \"@xmlns:gmlcov\": \"http://www.opengis.net/gmlcov/1.0\",\n",
      "    \"wcs:CoverageDescription\": {\n",
      "      \"@gml:id\": \"LGN\",\n",
      "      \"gml:boundedBy\": {\n",
      "        \"gml:Envelope\": {\n",
      "          \"@srsName\": \"https://www.opengis.net/def/crs-compound?1=https://www.opengis.net/def/crs/OGC/0/AnsiDate?axis-label=\\\"time\\\"&2=https://www.opengis.net/def/crs/EPSG/0/28992\",\n",
      "          \"@axisLabels\": \"time X Y\",\n",
      "          \"@uomLabels\": \"d metre metre\",\n",
      "          \"@srsDimension\": \"3\",\n",
      "          \"gml:lowerCorner\": \"\\\"2012-01-01T00:00:00.000Z\\\" 0 300000\",\n",
      "          \"gml:upperCorner\": \"\\\"2024-12-31T23:59:59.999Z\\\" 280000 625000\"\n",
      "        }\n",
      "      },\n",
      "      \"wcs:CoverageId\": \"LGN\",\n",
      "      \"gml:coverageFunction\": {\n",
      "        \"gml:GridFunction\": {\n",
      "          \"gml:sequenceRule\": {\n",
      "            \"@axisOrder\": \"+3 +2 +1\",\n",
      "            \"#text\": \"Linear\"\n",
      "          },\n",
      "          \"gml:startPoint\": \"0 0 0\"\n",
      "        }\n",
      "      },\n",
      "      \"gmlcov:metadata\": {\n",
      "        \"gmlcov:Extension\": {\n",
      "          \"ras:covMetadata\": {\n",
      "            \"ras:axes\": {\n",
      "              \"ras:time\": {\n",
      "                \"ras:areasOfValidity\": {\n",
      "                  \"ras:area\": [\n",
      "                    {\n",
      "                      \"@start\": \"2012-01-01T00:00:00.000Z\",\n",
      "                      \"@end\": \"2017-12-31T23:59:59.999Z\"\n",
      "                    },\n",
      "                    {\n",
      "                      \"@start\": \"2018-01-01T00:00:00.000Z\",\n",
      "                      \"@end\": \"2018-12-31T23:59:59.999Z\"\n",
      "                    },\n",
      "                    {\n",
      "                      \"@start\": \"2019-01-01T00:00:00.000Z\",\n",
      "                      \"@end\": \"2019-12-31T23:59:59.999Z\"\n",
      "                    },\n",
      "                    {\n",
      "                      \"@start\": \"2020-01-01T00:00:00.000Z\",\n",
      "                      \"@end\": \"2020-12-31T23:59:59.999Z\"\n",
      "                    },\n",
      "                    {\n",
      "                      \"@start\": \"2021-01-01T00:00:00.000Z\",\n",
      "                      \"@end\": \"2021-12-31T23:59:59.999Z\"\n",
      "                    },\n",
      "                    {\n",
      "                      \"@start\": \"2022-01-01T00:00:00.000Z\",\n",
      "                      \"@end\": \"2024-12-31T23:59:59.999Z\"\n",
      "                    }\n",
      "                  ]\n",
      "                }\n",
      "              }\n",
      "            }\n",
      "          },\n",
      "          \"fic-md:fairicubeMetadata\": {\n",
      "            \"@xlink:role\": \"https://codelists.fairicube.eu/metadata/MetadataCatalogLink\",\n",
      "            \"@xlink:title\": \"LGN metadata on the FAIRiCUBE Catalog\",\n",
      "            \"@xlink:href\": \"https://stacapi.eoxhub.fairicube.eu/collections/index/items/LGN\",\n",
      "            \"@xmlns:fic-md\": \"https://schemas.fairicube.eu/coveragemetadata\"\n",
      "          }\n",
      "        }\n",
      "      },\n",
      "      \"gml:domainSet\": {\n",
      "        \"gmlrgrid:ReferenceableGridByVectors\": {\n",
      "          \"@dimension\": \"3\",\n",
      "          \"gml:limits\": {\n",
      "            \"gml:GridEnvelope\": {\n",
      "              \"gml:low\": \"0 0 0\",\n",
      "              \"gml:high\": \"5 55999 64999\"\n",
      "            }\n",
      "          },\n",
      "          \"gml:axisLabels\": \"time X Y\",\n",
      "          \"gmlrgrid:origin\": {\n",
      "            \"gml:Point\": {\n",
      "              \"@gml:id\": \"LGN-point\",\n",
      "              \"@srsName\": \"https://www.opengis.net/def/crs-compound?1=https://www.opengis.net/def/crs/OGC/0/AnsiDate?axis-label=\\\"time\\\"&2=https://www.opengis.net/def/crs/EPSG/0/28992\",\n",
      "              \"gml:pos\": \"\\\"2012-01-01T00:00:00.000Z\\\" 2.5 624997.5\"\n",
      "            }\n",
      "          },\n",
      "          \"gmlrgrid:generalGridAxis\": [\n",
      "            {\n",
      "              \"gmlrgrid:GeneralGridAxis\": {\n",
      "                \"gmlrgrid:offsetVector\": {\n",
      "                  \"@srsName\": \"https://www.opengis.net/def/crs-compound?1=https://www.opengis.net/def/crs/OGC/0/AnsiDate?axis-label=\\\"time\\\"&2=https://www.opengis.net/def/crs/EPSG/0/28992\",\n",
      "                  \"#text\": \"1 0 0\"\n",
      "                },\n",
      "                \"gmlrgrid:coefficients\": \"\\\"2012-01-01T00:00:00.000Z\\\" \\\"2018-01-01T00:00:00.000Z\\\" \\\"2019-01-01T00:00:00.000Z\\\" \\\"2020-01-01T00:00:00.000Z\\\" \\\"2021-01-01T00:00:00.000Z\\\" \\\"2022-01-01T00:00:00.000Z\\\"\",\n",
      "                \"gmlrgrid:gridAxesSpanned\": \"time\",\n",
      "                \"gmlrgrid:sequenceRule\": {\n",
      "                  \"@axisOrder\": \"+1\",\n",
      "                  \"#text\": \"Linear\"\n",
      "                }\n",
      "              }\n",
      "            },\n",
      "            {\n",
      "              \"gmlrgrid:GeneralGridAxis\": {\n",
      "                \"gmlrgrid:offsetVector\": {\n",
      "                  \"@srsName\": \"https://www.opengis.net/def/crs-compound?1=https://www.opengis.net/def/crs/OGC/0/AnsiDate?axis-label=\\\"time\\\"&2=https://www.opengis.net/def/crs/EPSG/0/28992\",\n",
      "                  \"#text\": \"0 5 0\"\n",
      "                },\n",
      "                \"gmlrgrid:coefficients\": null,\n",
      "                \"gmlrgrid:gridAxesSpanned\": \"X\",\n",
      "                \"gmlrgrid:sequenceRule\": {\n",
      "                  \"@axisOrder\": \"+1\",\n",
      "                  \"#text\": \"Linear\"\n",
      "                }\n",
      "              }\n",
      "            },\n",
      "            {\n",
      "              \"gmlrgrid:GeneralGridAxis\": {\n",
      "                \"gmlrgrid:offsetVector\": {\n",
      "                  \"@srsName\": \"https://www.opengis.net/def/crs-compound?1=https://www.opengis.net/def/crs/OGC/0/AnsiDate?axis-label=\\\"time\\\"&2=https://www.opengis.net/def/crs/EPSG/0/28992\",\n",
      "                  \"#text\": \"0 0 -5\"\n",
      "                },\n",
      "                \"gmlrgrid:coefficients\": null,\n",
      "                \"gmlrgrid:gridAxesSpanned\": \"Y\",\n",
      "                \"gmlrgrid:sequenceRule\": {\n",
      "                  \"@axisOrder\": \"+1\",\n",
      "                  \"#text\": \"Linear\"\n",
      "                }\n",
      "              }\n",
      "            }\n",
      "          ]\n",
      "        }\n",
      "      },\n",
      "      \"gmlcov:rangeType\": {\n",
      "        \"swe:DataRecord\": {\n",
      "          \"swe:field\": {\n",
      "            \"@name\": \"lgn\",\n",
      "            \"swe:Category\": {\n",
      "              \"@definition\": \"https://lgn.nl/bestanden\",\n",
      "              \"swe:label\": \"National Land Use Database (LGN) in the Netherlands\",\n",
      "              \"swe:description\": \"Land use classes, distinguishing the main agricultural crops, forest, water, nature and urban classes.\",\n",
      "              \"swe:nilValues\": {\n",
      "                \"swe:NilValues\": {\n",
      "                  \"swe:nilValue\": {\n",
      "                    \"@reason\": \"\",\n",
      "                    \"#text\": \"0\"\n",
      "                  }\n",
      "                }\n",
      "              },\n",
      "              \"swe:codeSpace\": {\n",
      "                \"@xlink:href\": \"https://lgn.nl/documentatie\"\n",
      "              }\n",
      "            }\n",
      "          }\n",
      "        }\n",
      "      },\n",
      "      \"wcs:ServiceParameters\": {\n",
      "        \"wcs:CoverageSubtype\": \"ReferenceableGridCoverage\",\n",
      "        \"wcs:nativeFormat\": \"application/octet-stream\"\n",
      "      }\n",
      "    }\n",
      "  }\n",
      "}\n"
     ]
    }
   ],
   "source": [
    "# retrieve a description of a coverage using the DescribeCoverage request\n",
    "#coverage_id = \"corine_land_cover\"\n",
    "#coverage_id = \"LGN\"\n",
    "coverage_id = \"LGN\"\n",
    "\n",
    "response = requests.get(base_wcs_url + \"&request=DescribeCoverage&coverageId=\" + coverage_id,\n",
    "                        auth=(rasdaman_username, rasdaman_password)\n",
    "                        )\n",
    "wcs_coverage_description = xmltodict.parse(response.content)\n",
    "print(json.dumps(wcs_coverage_description, indent=2))"
   ]
  },
  {
   "cell_type": "markdown",
   "metadata": {},
   "source": [
    "### WCS - GetCoverage"
   ]
  },
  {
   "cell_type": "code",
   "execution_count": 16,
   "metadata": {
    "ExecuteTime": {
     "end_time": "2023-07-06T13:12:24.010612Z",
     "start_time": "2023-07-06T13:12:09.274615Z"
    },
    "collapsed": false,
    "jupyter": {
     "outputs_hidden": false
    },
    "tags": []
   },
   "outputs": [
    {
     "name": "stdout",
     "output_type": "stream",
     "text": [
      "http://fairicube.rasdaman.com:8080/rasdaman/ows?service=WCS&version=2.1.0&request=GetCoverage&COVERAGEID=LGN&format=image/tiff&subset=time(\"2022-01-01\") &subset=Y(490000, 491000) &subset=X(200000, 201000)\n"
     ]
    }
   ],
   "source": [
    "cov_id = \"&COVERAGEID=\" + coverage_id\n",
    "\n",
    "# Corine\n",
    "# lower corner: 900_000, 900_000\n",
    "# upper corner: 5_500_000, 7_400_000\n",
    "\n",
    "# Grassland\n",
    "# \"gml:lowerCorner\": \"2018 1800000 5000000\",\n",
    "# \"gml:upperCorner\": \"2018 2300000 5300000\"\n",
    "\n",
    "# LGN\n",
    "# \"gml:lowerCorner\": \"\\\"2012-01-01T00:00:00.000Z\\\" 0 300000\",\n",
    "# \"gml:upperCorner\": \"\\\"2022-01-01T00:00:00.000Z\\\" 280000 625000\"\n",
    "\n",
    "# Area in NL: 3_274_257, 3_951_147 - 3_214_817, 3_953_947\n",
    "#subset = '&subset=ansi(\"2022-01-01\") &subset=Y(490000, 491000) &subset=X(200000, 201000)'\n",
    "subset = '&subset=time(\"2022-01-01\") &subset=Y(490000, 491000) &subset=X(200000, 201000)'\n",
    "\n",
    "# netcdf is the recommended format for xarray data, but we loose the spatial information\n",
    "# tiff to get 'images', which retain the CRS info\n",
    "#encode_format = \"&format=application/netcdf\" \n",
    "encode_format = \"&format=image/tiff\"\n",
    "\n",
    "request_url = base_wcs_url + \"&request=GetCoverage\" + cov_id + encode_format + subset\n",
    "print(request_url)\n",
    "\n",
    "response = requests.get(\n",
    "    request_url,\n",
    "    auth=(rasdaman_username, rasdaman_password),\n",
    "    verify=False)\n",
    "\n",
    "wcs_coverage_data = response.content\n",
    "\n",
    "# show content if there was an error\n",
    "if not response.ok:\n",
    "    dict = xmltodict.parse(wcs_coverage_data)\n",
    "    print(json.dumps(dict, indent=2))"
   ]
  },
  {
   "cell_type": "code",
   "execution_count": 34,
   "metadata": {
    "ExecuteTime": {
     "end_time": "2023-07-06T13:12:27.344671Z",
     "start_time": "2023-07-06T13:12:27.337211Z"
    },
    "collapsed": false,
    "jupyter": {
     "outputs_hidden": false
    },
    "tags": []
   },
   "outputs": [],
   "source": [
    "#wcs_coverage_data"
   ]
  },
  {
   "cell_type": "code",
   "execution_count": 17,
   "metadata": {
    "ExecuteTime": {
     "end_time": "2023-07-06T13:16:12.691443Z",
     "start_time": "2023-07-06T13:16:12.186715Z"
    },
    "collapsed": false,
    "jupyter": {
     "outputs_hidden": false
    },
    "tags": []
   },
   "outputs": [
    {
     "name": "stdout",
     "output_type": "stream",
     "text": [
      "/vsimem/d8f6c7a8-f1b4-4dee-a370-e680ac5886d8/d8f6c7a8-f1b4-4dee-a370-e680ac5886d8.tif 1 200 200\n",
      "BoundingBox(left=200000.0, bottom=490000.0, right=201000.0, top=491000.0)\n"
     ]
    },
    {
     "data": {
      "image/png": "[encoded data removed]",
      "text/plain": [
       "<Figure size 700x700 with 1 Axes>"
      ]
     },
     "metadata": {},
     "output_type": "display_data"
    }
   ],
   "source": [
    "import matplotlib.pyplot as plt\n",
    "from rasterio.io import MemoryFile\n",
    "from rasterio import plot\n",
    "from rasterio.plot import show_hist\n",
    "\n",
    "with MemoryFile(wcs_coverage_data) as memfile:\n",
    "    with memfile.open() as ds:\n",
    "        print(ds.name, ds.count, ds.width, ds.height)\n",
    "        print(ds.bounds)\n",
    "        ds_array = ds.read(1)\n",
    "        # show_hist(ds_array, lw=0.0, stacked=False, alpha=0.3, histtype='stepfilled')\n",
    "        fig, ax = plt.subplots(1, figsize=(7, 7))\n",
    "        plot.show(ds_array, cmap='tab20_r', interpolation='none', ax=ax)"
   ]
  },
  {
   "cell_type": "markdown",
   "metadata": {},
   "source": [
    "## Using Web Coverage Processing Service (WCPS)"
   ]
  },
  {
   "cell_type": "code",
   "execution_count": 19,
   "metadata": {
    "ExecuteTime": {
     "end_time": "2023-07-06T13:20:26.782782Z",
     "start_time": "2023-07-06T13:20:14.699258Z"
    },
    "collapsed": false,
    "jupyter": {
     "outputs_hidden": false
    },
    "tags": []
   },
   "outputs": [
    {
     "name": "stdout",
     "output_type": "stream",
     "text": [
      "CPU times: user 2 μs, sys: 0 ns, total: 2 μs\n",
      "Wall time: 4.53 μs\n"
     ]
    }
   ],
   "source": [
    "%time\n",
    "\n",
    "# WCPS query might need integer index for time axis:\n",
    "#   (D(0:5)) -> 2012, 2018, 2019, 2020, 2021, 2022\n",
    "#   e.g. use: $c[ ansi:\"CRS:1\"(5), X(200000:201000), Y(490000:491000) ],\n",
    "\n",
    "# query for coverage that has a time axis with integer year values\n",
    "query = f'''\n",
    "for $c in ({coverage_id})\n",
    "return\n",
    "  encode(\n",
    "    $c[ time(\"2018-01-01\"), X(200000:201000), Y(490000:491000) ],\n",
    "    \"image/tiff\"\n",
    "  )\n",
    "'''\n",
    "\n",
    "response = requests.get(\n",
    "    base_wcs_url + \"&request=ProcessCoverage&query=\" + query,\n",
    "    auth=(rasdaman_username, rasdaman_password),\n",
    "    verify=False)\n",
    "\n",
    "wcps_coverage_data = response.content\n",
    "\n",
    "# show content if there was an error\n",
    "if not response.ok:\n",
    "    dict = xmltodict.parse(wcps_coverage_data)\n",
    "    print(json.dumps(dict, indent=2))"
   ]
  },
  {
   "cell_type": "code",
   "execution_count": 20,
   "metadata": {
    "ExecuteTime": {
     "end_time": "2023-07-06T13:20:28.435864Z",
     "start_time": "2023-07-06T13:20:27.935791Z"
    },
    "collapsed": false,
    "jupyter": {
     "outputs_hidden": false
    },
    "tags": []
   },
   "outputs": [
    {
     "name": "stdout",
     "output_type": "stream",
     "text": [
      "/vsimem/8ee74c10-7aa9-4e6a-8b4f-af5aad56d4b4/8ee74c10-7aa9-4e6a-8b4f-af5aad56d4b4.tif 1 200 200\n",
      "BoundingBox(left=200000.0, bottom=490000.0, right=201000.0, top=491000.0)\n"
     ]
    },
    {
     "data": {
      "image/png": "[encoded data removed]",
      "text/plain": [
       "<Figure size 700x700 with 1 Axes>"
      ]
     },
     "metadata": {},
     "output_type": "display_data"
    }
   ],
   "source": [
    "import matplotlib.pyplot as plt\n",
    "from rasterio.io import MemoryFile\n",
    "from rasterio import plot\n",
    "\n",
    "with MemoryFile(wcps_coverage_data) as memfile:\n",
    "    with memfile.open() as ds:\n",
    "        print(ds.name, ds.count, ds.width, ds.height)\n",
    "        print(ds.bounds)\n",
    "        ds_array = ds.read(1)\n",
    "        fig, ax = plt.subplots(1, figsize=(7, 7))\n",
    "        plot.show(ds_array, cmap='tab20_r', interpolation='none', ax=ax)"
   ]
  },
  {
   "cell_type": "code",
   "execution_count": null,
   "metadata": {
    "collapsed": false,
    "jupyter": {
     "outputs_hidden": false
    }
   },
   "outputs": [],
   "source": []
  }
 ],
 "metadata": {
  "kernelspec": {
   "display_name": "fairicubeuc2-torch",
   "language": "python",
   "name": "conda-env-fairicubeuc2-torch-py"
  },
  "language_info": {
   "codemirror_mode": {
    "name": "ipython",
    "version": 3
   },
   "file_extension": ".py",
   "mimetype": "text/x-python",
   "name": "python",
   "nbconvert_exporter": "python",
   "pygments_lexer": "ipython3",
   "version": "3.10.14"
  }
 },
 "nbformat": 4,
 "nbformat_minor": 4
}
