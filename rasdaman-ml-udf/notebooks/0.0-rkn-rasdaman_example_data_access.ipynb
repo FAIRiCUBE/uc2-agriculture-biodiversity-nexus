{
 "cells": [
  {
   "cell_type": "markdown",
   "metadata": {},
   "source": [
    "# Rasdaman Data Access Examples\n",
    "\n",
    "*Rob Knapen, Wageningen Environmental Research*\n",
    "<br>\n",
    "\n",
    "This notebook covers some first examples with using Rasdaman coverage services (WCS and WCPS).\n",
    "\n",
    "The Open Geospatial Consortium has defined coverages by the Coverage Implementation Schema (CIS). Each coverage mainly consists of the following:\n",
    "  - An Envelope: which gives a rough, simplified overview of the data's location in space and time,\n",
    "  - A domain set: which provides information about the spatial (including CRS) and temporal dimensions of the data,\n",
    "  - A range set: the \"payload\", i.e. the values, or records of values,\n",
    "  - A range type: the semantics of the range values, including data types, null values, accuracy, etc.,\n",
    "  - Metadata: a container for any type of (descriptive) data."
   ]
  },
  {
   "cell_type": "code",
   "execution_count": 2,
   "metadata": {
    "tags": []
   },
   "outputs": [
    {
     "name": "stdout",
     "output_type": "stream",
     "text": [
      "Defaulting to user installation because normal site-packages is not writeable\n",
      "Requirement already satisfied: python-dotenv in /home/robknapen/.local/lib/python3.10/site-packages (1.0.0)\n"
     ]
    }
   ],
   "source": [
    "# this notebook uses dotenv to retrieve secrets from environment variables\n",
    "# get it with: pip install python-dotenv\n",
    "\n",
    "!pip install python-dotenv\n",
    "\n",
    "# Note that a kernel restart can be required now so that the module can be found"
   ]
  },
  {
   "cell_type": "code",
   "execution_count": 3,
   "metadata": {
    "ExecuteTime": {
     "end_time": "2023-07-06T13:03:06.283272Z",
     "start_time": "2023-07-06T13:03:06.273204Z"
    },
    "collapsed": false,
    "jupyter": {
     "outputs_hidden": false
    },
    "tags": []
   },
   "outputs": [
    {
     "data": {
      "text/plain": [
       "True"
      ]
     },
     "execution_count": 3,
     "metadata": {},
     "output_type": "execute_result"
    }
   ],
   "source": [
    "# load the environment variables\n",
    "from dotenv import load_dotenv\n",
    "from pathlib import Path\n",
    "\n",
    "# add an enviroment file with the secrets if needed\n",
    "# make sure to exlude it from git!!\n",
    "env_path = Path('.') / 'env_secrets.txt'\n",
    "load_dotenv(dotenv_path=env_path)"
   ]
  },
  {
   "cell_type": "code",
   "execution_count": 4,
   "metadata": {
    "ExecuteTime": {
     "end_time": "2023-07-06T13:03:07.372448Z",
     "start_time": "2023-07-06T13:03:07.368591Z"
    },
    "collapsed": false,
    "jupyter": {
     "outputs_hidden": false
    },
    "tags": []
   },
   "outputs": [
    {
     "name": "stdout",
     "output_type": "stream",
     "text": [
      "http://fairicube.rasdaman.com:8080/rasdaman/ows?service=WCS&version=2.1.0\n"
     ]
    }
   ],
   "source": [
    "import os\n",
    "\n",
    "# read the secret information ...\n",
    "#   Create an environment file in the notebooks folder first that has entries like:\n",
    "#\n",
    "#   RASDAMAN_SERVICE_ENDPOINT=<url>\n",
    "#   RASDAMAN_CRED_USERNAME=<rasdaman_endpoint_username>\n",
    "#   RASDAMAN_CRED_PASSWORD=<rasdaman_endpoint_password>\n",
    "#   etc.\n",
    "\n",
    "rasdaman_username = os.getenv(\"RASDAMAN_CRED_USERNAME\")\n",
    "rasdaman_password = os.getenv(\"RASDAMAN_CRED_PASSWORD\")\n",
    "rasdaman_endpoint = os.getenv(\"RASDAMAN_SERVICE_ENDPOINT\")\n",
    "\n",
    "# url to the rasdaman petascope geo service handling WCS requests\n",
    "base_wcs_url = rasdaman_endpoint + \"?service=WCS&version=2.1.0\"\n",
    "\n",
    "print(base_wcs_url)"
   ]
  },
  {
   "cell_type": "markdown",
   "metadata": {},
   "source": [
    "## Using Web Coverage Service (WCS)\n",
    "The Web Coverage Service is one of the geo service standards by the Open Geospatial Consortium (OGC) that is supported by rasdaman. WCS delivers n-dimensional data, suitable for further processing and analysis. The service is a modular suite of functionality, with WCS Core providing the main downloading of coverages and parts thereof (via subsetting directives), as well as delivery in various output formats. A set of WCS Extensions can add further functionality.\n",
    "\n",
    "WCS Core supports the following requests: GetCapabilities, DescribeCoverage, and GetCoverage."
   ]
  },
  {
   "cell_type": "markdown",
   "metadata": {},
   "source": [
    "### WCS - GetCapabilities\n",
    "This request returns a list of available coverages, and an overall service description."
   ]
  },
  {
   "cell_type": "code",
   "execution_count": 5,
   "metadata": {
    "tags": []
   },
   "outputs": [
    {
     "name": "stdout",
     "output_type": "stream",
     "text": [
      "Defaulting to user installation because normal site-packages is not writeable\n",
      "Requirement already satisfied: xmltodict in /home/robknapen/.local/lib/python3.10/site-packages (0.13.0)\n"
     ]
    }
   ],
   "source": [
    "!pip install xmltodict"
   ]
  },
  {
   "cell_type": "code",
   "execution_count": 12,
   "metadata": {
    "ExecuteTime": {
     "end_time": "2023-07-06T13:03:11.331923Z",
     "start_time": "2023-07-06T13:03:11.154400Z"
    },
    "collapsed": false,
    "jupyter": {
     "outputs_hidden": false
    },
    "tags": []
   },
   "outputs": [],
   "source": [
    "import requests\n",
    "import json\n",
    "import xmltodict\n",
    "\n",
    "# retrieve a description of the WCS using the GetCapabilities request\n",
    "response = requests.get(base_wcs_url + \"&request=GetCapabilities\", auth=(rasdaman_username, rasdaman_password))\n",
    "wcs_capabilities = xmltodict.parse(response.content)\n",
    "#print(json.dumps(wcs_capabilities, indent=2))"
   ]
  },
  {
   "cell_type": "code",
   "execution_count": 13,
   "metadata": {
    "ExecuteTime": {
     "end_time": "2023-07-06T13:03:19.127404Z",
     "start_time": "2023-07-06T13:03:19.116586Z"
    },
    "collapsed": false,
    "jupyter": {
     "outputs_hidden": false
    },
    "tags": []
   },
   "outputs": [
    {
     "data": {
      "text/plain": [
       "['AverageChlorophyll',\n",
       " 'LGN',\n",
       " 'LGN_virtual_coverage_index',\n",
       " 'corine_land_cover_virtual_coverage_index',\n",
       " 'dominant_leaf_type_2012_index',\n",
       " 'dominant_leaf_type_2015_index',\n",
       " 'dominant_leaf_type_2018_index',\n",
       " 'dominant_leaf_type_virtual_coverage_index',\n",
       " 'european_settlement_map',\n",
       " 'forest_type_virtual_coverage_index',\n",
       " 'grassland_change_2018_index',\n",
       " 'grassland_status_2018_64',\n",
       " 'grassland_status_virtual_coverage_index',\n",
       " 'imperviousness_2015_temp',\n",
       " 'imperviousness_2018_16',\n",
       " 'imperviousness_2018_32',\n",
       " 'imperviousness_2018_4',\n",
       " 'imperviousness_2018_64',\n",
       " 'imperviousness_2018_8',\n",
       " 'imperviousness_virtual_coverage_index',\n",
       " 'maxes_sentinel2_2018_flevopolder_10m_7x4bands',\n",
       " 'near_surface_air_temperature',\n",
       " 'sentinel2_2018_flevopolder_10m_7x4bands',\n",
       " 'test_mr',\n",
       " 'tree_cover_density_virtual_coverage_index',\n",
       " 'water_and_wetness',\n",
       " 'water_and_wetness_2015',\n",
       " 'water_and_wetness_virtual_coverage_index',\n",
       " 'ds.earthserver.xyz:7000:AvgTemperatureColorScaled',\n",
       " 'ds.earthserver.xyz:7000:DGM',\n",
       " 'ds.earthserver.xyz:7000:ERA5',\n",
       " 'ds.earthserver.xyz:7000:EU_DEM',\n",
       " 'ds.earthserver.xyz:7000:S1_GRDH_EW_DH_HH',\n",
       " 'ds.earthserver.xyz:7000:S1_GRDH_EW_DH_HV',\n",
       " 'ds.earthserver.xyz:7000:S1_GRDH_IW_DH_HH',\n",
       " 'ds.earthserver.xyz:7000:S1_GRDH_IW_DH_HV',\n",
       " 'ds.earthserver.xyz:7000:S1_GRDH_IW_DV_VH',\n",
       " 'ds.earthserver.xyz:7000:S1_GRDH_IW_DV_VV',\n",
       " 'ds.earthserver.xyz:7000:S1_GRDH_IW_SH_HH',\n",
       " 'ds.earthserver.xyz:7000:S1_GRDH_S2_DH_HH',\n",
       " 'ds.earthserver.xyz:7000:S1_GRDH_S2_DH_HV',\n",
       " 'ds.earthserver.xyz:7000:S1_GRDH_S4_DV_VH',\n",
       " 'ds.earthserver.xyz:7000:S1_GRDH_S4_DV_VV',\n",
       " 'ds.earthserver.xyz:7000:S1_GRDH_S6_DV_VH',\n",
       " 'ds.earthserver.xyz:7000:S1_GRDH_S6_DV_VV',\n",
       " 'ds.earthserver.xyz:7000:S1_GRDM_EW_DH_HH',\n",
       " 'ds.earthserver.xyz:7000:S1_GRDM_EW_DH_HV',\n",
       " 'ds.earthserver.xyz:7000:S1_GRDM_EW_DV_VH',\n",
       " 'ds.earthserver.xyz:7000:S1_GRDM_EW_DV_VV',\n",
       " 'ds.earthserver.xyz:7000:S1_GRDM_EW_SH_HH',\n",
       " 'ds.earthserver.xyz:7000:S1_GRD_IW_VH_Madrid',\n",
       " 'ds.earthserver.xyz:7000:S1_GRD_IW_VV_Madrid',\n",
       " 'ds.earthserver.xyz:7000:S1_SLC_IW_VH_Madrid',\n",
       " 'ds.earthserver.xyz:7000:S1_SLC_IW_VV_Madrid',\n",
       " 'ds.earthserver.xyz:7000:S2_L2A_AOT_10m',\n",
       " 'ds.earthserver.xyz:7000:S2_L2A_B01_20m',\n",
       " 'ds.earthserver.xyz:7000:S2_L2A_B02_10m',\n",
       " 'ds.earthserver.xyz:7000:S2_L2A_B03_10m',\n",
       " 'ds.earthserver.xyz:7000:S2_L2A_B04_10m',\n",
       " 'ds.earthserver.xyz:7000:S2_L2A_B05_20m',\n",
       " 'ds.earthserver.xyz:7000:S2_L2A_B06_20m',\n",
       " 'ds.earthserver.xyz:7000:S2_L2A_B07_20m',\n",
       " 'ds.earthserver.xyz:7000:S2_L2A_B08_10m',\n",
       " 'ds.earthserver.xyz:7000:S2_L2A_B09_60m',\n",
       " 'ds.earthserver.xyz:7000:S2_L2A_B11_20m',\n",
       " 'ds.earthserver.xyz:7000:S2_L2A_B12_20m',\n",
       " 'ds.earthserver.xyz:7000:S2_L2A_B8A_20m',\n",
       " 'ds.earthserver.xyz:7000:S2_L2A_CLASSI_60m',\n",
       " 'ds.earthserver.xyz:7000:S2_L2A_CLDPRB_10m',\n",
       " 'ds.earthserver.xyz:7000:S2_L2A_CLDPRB_20m',\n",
       " 'ds.earthserver.xyz:7000:S2_L2A_CLDPRB_60m',\n",
       " 'ds.earthserver.xyz:7000:S2_L2A_SCL_20m',\n",
       " 'ds.earthserver.xyz:7000:S2_L2A_SNWPRB_10m',\n",
       " 'ds.earthserver.xyz:7000:S2_L2A_SNWPRB_20m',\n",
       " 'ds.earthserver.xyz:7000:S2_L2A_SNWPRB_60m',\n",
       " 'ds.earthserver.xyz:7000:S2_L2A_TCI_10m',\n",
       " 'ds.earthserver.xyz:7000:S2_L2A_WVP_10m',\n",
       " 'ds.earthserver.xyz:7000:S3_OLCI_L2_LFR_GIFAPAR_global',\n",
       " 'ds.earthserver.xyz:7000:S3_OLCI_L2_LFR_IWV_global',\n",
       " 'ds.earthserver.xyz:7000:S3_OLCI_L2_LFR_OTCI_global',\n",
       " 'ds.earthserver.xyz:7000:S3_OLCI_L2_LFR_RC681_global',\n",
       " 'ds.earthserver.xyz:7000:S3_OLCI_L2_LFR_RC865_global',\n",
       " 'ds.earthserver.xyz:7000:S3_OLCI_L2_LFR_RC_GIFAPAR_RC681_global',\n",
       " 'ds.earthserver.xyz:7000:S3_OLCI_L2_LFR_RC_GIFAPAR_RC865_global',\n",
       " 'ds.earthserver.xyz:7000:S3_SLSTR_L2_LST_Brazil',\n",
       " 'ds.earthserver.xyz:7000:S3_SLSTR_L2_LST_NDVI_Brazil',\n",
       " 'ds.earthserver.xyz:7000:S3_SLSTR_L2_LST_TCWV_Brazil',\n",
       " 'ds.earthserver.xyz:7000:S3_SLSTR_L2_LST_biome_Brazil',\n",
       " 'ds.earthserver.xyz:7000:S3_SLSTR_L2_LST_fraction_Brazil',\n",
       " 'ds.earthserver.xyz:7000:S5p_L2_AER_AI_aerosol_index_335_367_global',\n",
       " 'ds.earthserver.xyz:7000:S5p_L2_AER_AI_aerosol_index_335_367_precision_global',\n",
       " 'ds.earthserver.xyz:7000:S5p_L2_AER_AI_aerosol_index_340_380_global',\n",
       " 'ds.earthserver.xyz:7000:S5p_L2_AER_AI_aerosol_index_340_380_precision_global',\n",
       " 'ds.earthserver.xyz:7000:S5p_L2_AER_AI_aerosol_index_354_388_global',\n",
       " 'ds.earthserver.xyz:7000:S5p_L2_AER_AI_aerosol_index_354_388_precision_global',\n",
       " 'ds.earthserver.xyz:7000:S5p_L2_AER_LH_aerosol_mid_height_global',\n",
       " 'ds.earthserver.xyz:7000:S5p_L2_AER_LH_aerosol_mid_height_precision_global',\n",
       " 'ds.earthserver.xyz:7000:S5p_L2_AER_LH_aerosol_mid_pressure_global',\n",
       " 'ds.earthserver.xyz:7000:S5p_L2_AER_LH_aerosol_mid_pressure_precision_global',\n",
       " 'ds.earthserver.xyz:7000:S5p_L2_CH4_methane_mixing_ratio_bias_corrected_global',\n",
       " 'ds.earthserver.xyz:7000:S5p_L2_CH4_methane_mixing_ratio_global',\n",
       " 'ds.earthserver.xyz:7000:S5p_L2_CH4_methane_mixing_ratio_precision_global',\n",
       " 'ds.earthserver.xyz:7000:S5p_L2_CLOUD_cloud_base_height_global',\n",
       " 'ds.earthserver.xyz:7000:S5p_L2_CLOUD_cloud_base_height_precision_global',\n",
       " 'ds.earthserver.xyz:7000:S5p_L2_CLOUD_cloud_base_pressure_global',\n",
       " 'ds.earthserver.xyz:7000:S5p_L2_CLOUD_cloud_base_pressure_precision_global',\n",
       " 'ds.earthserver.xyz:7000:S5p_L2_CLOUD_cloud_fraction_global',\n",
       " 'ds.earthserver.xyz:7000:S5p_L2_CLOUD_cloud_fraction_precision_global',\n",
       " 'ds.earthserver.xyz:7000:S5p_L2_CLOUD_cloud_optical_thickness_global',\n",
       " 'ds.earthserver.xyz:7000:S5p_L2_CLOUD_cloud_optical_thickness_precision_global',\n",
       " 'ds.earthserver.xyz:7000:S5p_L2_CLOUD_cloud_top_height_global',\n",
       " 'ds.earthserver.xyz:7000:S5p_L2_CLOUD_cloud_top_height_precision_global',\n",
       " 'ds.earthserver.xyz:7000:S5p_L2_CLOUD_cloud_top_pressure_global',\n",
       " 'ds.earthserver.xyz:7000:S5p_L2_CLOUD_cloud_top_pressure_precision_global',\n",
       " 'ds.earthserver.xyz:7000:S5p_L2_CO_carbonmonoxide_total_column_corrected_global',\n",
       " 'ds.earthserver.xyz:7000:S5p_L2_CO_carbonmonoxide_total_column_global',\n",
       " 'ds.earthserver.xyz:7000:S5p_L2_CO_carbonmonoxide_total_column_precision_global',\n",
       " 'ds.earthserver.xyz:7000:S5p_L2_HCHO_formaldehyde_tropospheric_vertical_column_global',\n",
       " 'ds.earthserver.xyz:7000:S5p_L2_HCHO_formaldehyde_tropospheric_vertical_column_precision_global',\n",
       " 'ds.earthserver.xyz:7000:S5p_L2_NO2_air_mass_factor_total_global',\n",
       " 'ds.earthserver.xyz:7000:S5p_L2_NO2_air_mass_factor_troposphere_global',\n",
       " 'ds.earthserver.xyz:7000:S5p_L2_NO2_nitrogendioxide_tropospheric_column_global',\n",
       " 'ds.earthserver.xyz:7000:S5p_L2_NO2_nitrogendioxide_tropospheric_column_precision_global',\n",
       " 'ds.earthserver.xyz:7000:S5p_L2_NO2_nitrogendioxide_tropospheric_column_precision_kernel_global',\n",
       " 'ds.earthserver.xyz:7000:S5p_L2_NO2_tm5_tropopause_layer_index_global',\n",
       " 'ds.earthserver.xyz:7000:S5p_L2_O3_ozone_total_vertical_column_global',\n",
       " 'ds.earthserver.xyz:7000:S5p_L2_O3_ozone_total_vertical_column_precision_global',\n",
       " 'ds.earthserver.xyz:7000:S5p_L2_SO2_sulfurdioxide_total_vertical_column_global',\n",
       " 'ds.earthserver.xyz:7000:S5p_L2_SO2_sulfurdioxide_total_vertical_column_precision_global',\n",
       " 'ds.earthserver.xyz:7000:TotalPrecipitation']"
      ]
     },
     "execution_count": 13,
     "metadata": {},
     "output_type": "execute_result"
    }
   ],
   "source": [
    "# list the WCS contents - all available coverages\n",
    "wcs_coverage_summary = wcs_capabilities['wcs:Capabilities']['wcs:Contents']['wcs:CoverageSummary']\n",
    "coverage_ids = [summary['wcs:CoverageId'] for summary in wcs_coverage_summary]\n",
    "coverage_ids"
   ]
  },
  {
   "cell_type": "markdown",
   "metadata": {},
   "source": [
    "### WCS - DescribeCoverage"
   ]
  },
  {
   "cell_type": "code",
   "execution_count": 14,
   "metadata": {
    "ExecuteTime": {
     "end_time": "2023-07-06T13:04:45.606625Z",
     "start_time": "2023-07-06T13:04:45.480692Z"
    },
    "collapsed": false,
    "jupyter": {
     "outputs_hidden": false
    },
    "tags": []
   },
   "outputs": [
    {
     "name": "stdout",
     "output_type": "stream",
     "text": [
      "{\n",
      "  \"wcs:CoverageDescriptions\": {\n",
      "    \"@xsi:schemaLocation\": \"http://www.opengis.net/gml/3.3/rgrid http://schemas.opengis.net/gml/3.3/referenceableGrid.xsd\",\n",
      "    \"@xmlns:wcs\": \"http://www.opengis.net/wcs/2.0\",\n",
      "    \"@xmlns:xsi\": \"http://www.w3.org/2001/XMLSchema-instance\",\n",
      "    \"@xmlns:gml\": \"http://www.opengis.net/gml/3.2\",\n",
      "    \"@xmlns:swe\": \"http://www.opengis.net/swe/2.0\",\n",
      "    \"@xmlns:ows\": \"http://www.opengis.net/ows/2.0\",\n",
      "    \"@xmlns:xlink\": \"http://www.w3.org/1999/xlink\",\n",
      "    \"@xmlns:rasdaman\": \"http://www.rasdaman.org\",\n",
      "    \"@xmlns:gmlrgrid\": \"http://www.opengis.net/gml/3.3/rgrid\",\n",
      "    \"@xmlns:gmlcov\": \"http://www.opengis.net/gmlcov/1.0\",\n",
      "    \"wcs:CoverageDescription\": {\n",
      "      \"@gml:id\": \"LGN\",\n",
      "      \"gml:boundedBy\": {\n",
      "        \"gml:Envelope\": {\n",
      "          \"@srsName\": \"http://localhost:8080/rasdaman/def/crs-compound?1=https://crs.rasdaman.com/def/crs/OGC/0/AnsiDate?axis-label=\\\"ansi\\\"&2=https://crs.rasdaman.com/def/crs/EPSG/0/28992\",\n",
      "          \"@axisLabels\": \"ansi X Y\",\n",
      "          \"@uomLabels\": \"d metre metre\",\n",
      "          \"@srsDimension\": \"3\",\n",
      "          \"gml:lowerCorner\": \"\\\"2012-01-01T00:00:00.000Z\\\" 0 300000\",\n",
      "          \"gml:upperCorner\": \"\\\"2022-01-01T00:00:00.000Z\\\" 280000 625000\"\n",
      "        }\n",
      "      },\n",
      "      \"wcs:CoverageId\": \"LGN\",\n",
      "      \"gml:coverageFunction\": {\n",
      "        \"gml:GridFunction\": {\n",
      "          \"gml:sequenceRule\": {\n",
      "            \"@axisOrder\": \"+3 +2 +1\",\n",
      "            \"#text\": \"Linear\"\n",
      "          },\n",
      "          \"gml:startPoint\": \"0 0 0\"\n",
      "        }\n",
      "      },\n",
      "      \"gmlcov:metadata\": null,\n",
      "      \"gml:domainSet\": {\n",
      "        \"gmlrgrid:ReferenceableGridByVectors\": {\n",
      "          \"@dimension\": \"3\",\n",
      "          \"@gmlrgrid:id\": \"LGN-grid\",\n",
      "          \"gml:limits\": {\n",
      "            \"gml:GridEnvelope\": {\n",
      "              \"gml:low\": \"0 0 0\",\n",
      "              \"gml:high\": \"5 55999 64999\"\n",
      "            }\n",
      "          },\n",
      "          \"gml:axisLabels\": \"ansi X Y\",\n",
      "          \"gmlrgrid:origin\": {\n",
      "            \"gml:Point\": {\n",
      "              \"@gml:id\": \"LGN-point\",\n",
      "              \"@srsName\": \"http://localhost:8080/rasdaman/def/crs-compound?1=https://crs.rasdaman.com/def/crs/OGC/0/AnsiDate?axis-label=\\\"ansi\\\"&2=https://crs.rasdaman.com/def/crs/EPSG/0/28992\",\n",
      "              \"gml:pos\": \"\\\"2012-01-01T00:00:00.000Z\\\" 2.5 624997.5\"\n",
      "            }\n",
      "          },\n",
      "          \"gmlrgrid:generalGridAxis\": [\n",
      "            {\n",
      "              \"gmlrgrid:GeneralGridAxis\": {\n",
      "                \"gmlrgrid:offsetVector\": {\n",
      "                  \"@srsName\": \"http://localhost:8080/rasdaman/def/crs-compound?1=https://crs.rasdaman.com/def/crs/OGC/0/AnsiDate?axis-label=\\\"ansi\\\"&2=https://crs.rasdaman.com/def/crs/EPSG/0/28992\",\n",
      "                  \"#text\": \"1 0 0\"\n",
      "                },\n",
      "                \"gmlrgrid:coefficients\": \"\\\"2012-01-01T00:00:00.000Z\\\" \\\"2018-01-01T00:00:00.000Z\\\" \\\"2019-01-01T00:00:00.000Z\\\" \\\"2020-01-01T00:00:00.000Z\\\" \\\"2021-01-01T00:00:00.000Z\\\" \\\"2022-01-01T00:00:00.000Z\\\"\",\n",
      "                \"gmlrgrid:gridAxesSpanned\": \"ansi\",\n",
      "                \"gmlrgrid:sequenceRule\": {\n",
      "                  \"@axisOrder\": \"+1\",\n",
      "                  \"#text\": \"Linear\"\n",
      "                }\n",
      "              }\n",
      "            },\n",
      "            {\n",
      "              \"gmlrgrid:GeneralGridAxis\": {\n",
      "                \"gmlrgrid:offsetVector\": {\n",
      "                  \"@srsName\": \"http://localhost:8080/rasdaman/def/crs-compound?1=https://crs.rasdaman.com/def/crs/OGC/0/AnsiDate?axis-label=\\\"ansi\\\"&2=https://crs.rasdaman.com/def/crs/EPSG/0/28992\",\n",
      "                  \"#text\": \"0 5 0\"\n",
      "                },\n",
      "                \"gmlrgrid:coefficients\": null,\n",
      "                \"gmlrgrid:gridAxesSpanned\": \"X\",\n",
      "                \"gmlrgrid:sequenceRule\": {\n",
      "                  \"@axisOrder\": \"+1\",\n",
      "                  \"#text\": \"Linear\"\n",
      "                }\n",
      "              }\n",
      "            },\n",
      "            {\n",
      "              \"gmlrgrid:GeneralGridAxis\": {\n",
      "                \"gmlrgrid:offsetVector\": {\n",
      "                  \"@srsName\": \"http://localhost:8080/rasdaman/def/crs-compound?1=https://crs.rasdaman.com/def/crs/OGC/0/AnsiDate?axis-label=\\\"ansi\\\"&2=https://crs.rasdaman.com/def/crs/EPSG/0/28992\",\n",
      "                  \"#text\": \"0 0 -5\"\n",
      "                },\n",
      "                \"gmlrgrid:coefficients\": null,\n",
      "                \"gmlrgrid:gridAxesSpanned\": \"Y\",\n",
      "                \"gmlrgrid:sequenceRule\": {\n",
      "                  \"@axisOrder\": \"+1\",\n",
      "                  \"#text\": \"Linear\"\n",
      "                }\n",
      "              }\n",
      "            }\n",
      "          ]\n",
      "        }\n",
      "      },\n",
      "      \"gmlcov:rangeType\": {\n",
      "        \"swe:DataRecord\": {\n",
      "          \"swe:field\": {\n",
      "            \"@name\": \"Gray\",\n",
      "            \"swe:Quantity\": {\n",
      "              \"@definition\": \"http://www.opengis.net/def/dataType/OGC/0/unsignedByte\",\n",
      "              \"swe:label\": \"Gray\",\n",
      "              \"swe:description\": null,\n",
      "              \"swe:nilValues\": {\n",
      "                \"swe:NilValues\": {\n",
      "                  \"swe:nilValue\": {\n",
      "                    \"@reason\": \"\",\n",
      "                    \"#text\": \"0\"\n",
      "                  }\n",
      "                }\n",
      "              },\n",
      "              \"swe:uom\": {\n",
      "                \"@code\": \"10^0\"\n",
      "              },\n",
      "              \"swe:constraint\": null\n",
      "            }\n",
      "          }\n",
      "        }\n",
      "      },\n",
      "      \"wcs:ServiceParameters\": {\n",
      "        \"wcs:CoverageSubtype\": \"ReferenceableGridCoverage\",\n",
      "        \"wcs:nativeFormat\": \"application/octet-stream\"\n",
      "      }\n",
      "    }\n",
      "  }\n",
      "}\n"
     ]
    }
   ],
   "source": [
    "# retrieve a description of a coverage using the DescribeCoverage request\n",
    "# coverage_id = \"corine_land_cover\"\n",
    "coverage_id = \"LGN\"\n",
    "\n",
    "response = requests.get(base_wcs_url + \"&request=DescribeCoverage&coverageId=\" + coverage_id,\n",
    "                        auth=(rasdaman_username, rasdaman_password)\n",
    "                        )\n",
    "wcs_coverage_description = xmltodict.parse(response.content)\n",
    "print(json.dumps(wcs_coverage_description, indent=2))"
   ]
  },
  {
   "cell_type": "markdown",
   "metadata": {},
   "source": [
    "### WCS - GetCoverage"
   ]
  },
  {
   "cell_type": "code",
   "execution_count": 15,
   "metadata": {
    "ExecuteTime": {
     "end_time": "2023-07-06T13:12:24.010612Z",
     "start_time": "2023-07-06T13:12:09.274615Z"
    },
    "collapsed": false,
    "jupyter": {
     "outputs_hidden": false
    },
    "tags": []
   },
   "outputs": [
    {
     "name": "stdout",
     "output_type": "stream",
     "text": [
      "http://fairicube.rasdaman.com:8080/rasdaman/ows?service=WCS&version=2.1.0&request=GetCoverage&COVERAGEID=LGN&format=image/tiff&subset=ansi(\"2022-01-01\") &subset=Y(490000, 491000) &subset=X(200000, 201000)\n"
     ]
    }
   ],
   "source": [
    "cov_id = \"&COVERAGEID=\" + coverage_id\n",
    "\n",
    "# encode_format = \"&FORMAT=application/netcdf\" # netcdf is the recommended format for xarray data\n",
    "\n",
    "# Corine\n",
    "# lower corner: 900_000, 900_000\n",
    "# upper corner: 5_500_000, 7_400_000\n",
    "\n",
    "# Grassland\n",
    "# \"gml:lowerCorner\": \"2018 1800000 5000000\",\n",
    "# \"gml:upperCorner\": \"2018 2300000 5300000\"\n",
    "\n",
    "# LGN\n",
    "# \"gml:lowerCorner\": \"\\\"2012-01-01T00:00:00.000Z\\\" 0 300000\",\n",
    "# \"gml:upperCorner\": \"\\\"2022-01-01T00:00:00.000Z\\\" 280000 625000\"\n",
    "\n",
    "# Area in NL: 3_274_257, 3_951_147 - 3_214_817, 3_953_947\n",
    "subset = '&subset=ansi(\"2022-01-01\") &subset=Y(490000, 491000) &subset=X(200000, 201000)'\n",
    "\n",
    "encode_format = \"&format=image/tiff\"\n",
    "\n",
    "request_url = base_wcs_url + \"&request=GetCoverage\" + cov_id + encode_format + subset\n",
    "print(request_url)\n",
    "\n",
    "response = requests.get(\n",
    "    request_url,\n",
    "    auth=(rasdaman_username, rasdaman_password),\n",
    "    verify=False)\n",
    "\n",
    "wcs_coverage_data = response.content\n",
    "\n",
    "# show content if there was an error\n",
    "if not response.ok:\n",
    "    dict = xmltodict.parse(wcs_coverage_data)\n",
    "    print(json.dumps(dict, indent=2))"
   ]
  },
  {
   "cell_type": "code",
   "execution_count": 16,
   "metadata": {
    "ExecuteTime": {
     "end_time": "2023-07-06T13:12:27.344671Z",
     "start_time": "2023-07-06T13:12:27.337211Z"
    },
    "collapsed": false,
    "jupyter": {
     "outputs_hidden": false
    },
    "tags": []
   },
   "outputs": [],
   "source": [
    "#wcs_coverage_data"
   ]
  },
  {
   "cell_type": "code",
   "execution_count": 17,
   "metadata": {
    "ExecuteTime": {
     "end_time": "2023-07-06T13:16:12.691443Z",
     "start_time": "2023-07-06T13:16:12.186715Z"
    },
    "collapsed": false,
    "jupyter": {
     "outputs_hidden": false
    },
    "tags": []
   },
   "outputs": [
    {
     "name": "stdout",
     "output_type": "stream",
     "text": [
      "/vsimem/edff94dd-8ddf-4a84-b467-9fe1265e728e/edff94dd-8ddf-4a84-b467-9fe1265e728e.tif 1 200 200\n",
      "BoundingBox(left=200000.0, bottom=490000.0, right=201000.0, top=491000.0)\n"
     ]
    },
    {
     "data": {
      "image/png": "[encoded data removed]",
      "text/plain": [
       "<Figure size 700x700 with 1 Axes>"
      ]
     },
     "metadata": {},
     "output_type": "display_data"
    }
   ],
   "source": [
    "import matplotlib.pyplot as plt\n",
    "from rasterio.io import MemoryFile\n",
    "from rasterio import plot\n",
    "from rasterio.plot import show_hist\n",
    "\n",
    "with MemoryFile(wcs_coverage_data) as memfile:\n",
    "    with memfile.open() as ds:\n",
    "        print(ds.name, ds.count, ds.width, ds.height)\n",
    "        print(ds.bounds)\n",
    "        ds_array = ds.read(1)\n",
    "        # show_hist(ds_array, lw=0.0, stacked=False, alpha=0.3, histtype='stepfilled')\n",
    "        fig, ax = plt.subplots(1, figsize=(7, 7))\n",
    "        plot.show(ds_array, cmap='tab20_r', interpolation='none', ax=ax)"
   ]
  },
  {
   "cell_type": "markdown",
   "metadata": {},
   "source": [
    "## Using Web Coverage Processing Service (WCPS)"
   ]
  },
  {
   "cell_type": "code",
   "execution_count": 40,
   "metadata": {
    "ExecuteTime": {
     "end_time": "2023-07-06T13:20:26.782782Z",
     "start_time": "2023-07-06T13:20:14.699258Z"
    },
    "collapsed": false,
    "jupyter": {
     "outputs_hidden": false
    },
    "tags": []
   },
   "outputs": [],
   "source": [
    "# WCPS query currently needs integer index for time axis:\n",
    "#   (D(0:5)) -> 2012, 2018, 2019, 2020, 2021, 2022\n",
    "# Note that LGN 2012 has a different spatial resolution than the other years\n",
    "\n",
    "query = '''\n",
    "for $c in (LGN)\n",
    "return\n",
    "  encode(\n",
    "    $c[ ansi:\"CRS:1\"(5), X(200000:201000), Y(490000:491000) ],\n",
    "    \"image/tiff\"\n",
    "  )\n",
    "'''\n",
    "\n",
    "response = requests.get(\n",
    "    base_wcs_url + \"&request=ProcessCoverage&query=\" + query,\n",
    "    auth=(rasdaman_username, rasdaman_password),\n",
    "    verify=False)\n",
    "\n",
    "wcps_coverage_data = response.content\n",
    "\n",
    "# show content if there was an error\n",
    "if not response.ok:\n",
    "    dict = xmltodict.parse(wcps_coverage_data)\n",
    "    print(json.dumps(dict, indent=2))"
   ]
  },
  {
   "cell_type": "code",
   "execution_count": 41,
   "metadata": {
    "ExecuteTime": {
     "end_time": "2023-07-06T13:20:28.435864Z",
     "start_time": "2023-07-06T13:20:27.935791Z"
    },
    "collapsed": false,
    "jupyter": {
     "outputs_hidden": false
    },
    "tags": []
   },
   "outputs": [
    {
     "name": "stdout",
     "output_type": "stream",
     "text": [
      "/vsimem/83d22da5-12fa-4173-806c-9c0c01c41e80/83d22da5-12fa-4173-806c-9c0c01c41e80.tif 1 200 200\n",
      "BoundingBox(left=200000.0, bottom=490000.0, right=201000.0, top=491000.0)\n"
     ]
    },
    {
     "data": {
      "image/png": "[encoded data removed]",
      "text/plain": [
       "<Figure size 700x700 with 1 Axes>"
      ]
     },
     "metadata": {},
     "output_type": "display_data"
    }
   ],
   "source": [
    "import matplotlib.pyplot as plt\n",
    "from rasterio.io import MemoryFile\n",
    "from rasterio import plot\n",
    "\n",
    "with MemoryFile(wcps_coverage_data) as memfile:\n",
    "    with memfile.open() as ds:\n",
    "        print(ds.name, ds.count, ds.width, ds.height)\n",
    "        print(ds.bounds)\n",
    "        ds_array = ds.read(1)\n",
    "        fig, ax = plt.subplots(1, figsize=(7, 7))\n",
    "        plot.show(ds_array, cmap='tab20_r', interpolation='none', ax=ax)"
   ]
  },
  {
   "cell_type": "code",
   "execution_count": null,
   "metadata": {
    "collapsed": false,
    "jupyter": {
     "outputs_hidden": false
    }
   },
   "outputs": [],
   "source": []
  }
 ],
 "metadata": {
  "kernelspec": {
   "display_name": "fairicubeuc2-torch",
   "language": "python",
   "name": "conda-env-fairicubeuc2-torch-py"
  },
  "language_info": {
   "codemirror_mode": {
    "name": "ipython",
    "version": 3
   },
   "file_extension": ".py",
   "mimetype": "text/x-python",
   "name": "python",
   "nbconvert_exporter": "python",
   "pygments_lexer": "ipython3",
   "version": "3.10.11"
  }
 },
 "nbformat": 4,
 "nbformat_minor": 4
}
