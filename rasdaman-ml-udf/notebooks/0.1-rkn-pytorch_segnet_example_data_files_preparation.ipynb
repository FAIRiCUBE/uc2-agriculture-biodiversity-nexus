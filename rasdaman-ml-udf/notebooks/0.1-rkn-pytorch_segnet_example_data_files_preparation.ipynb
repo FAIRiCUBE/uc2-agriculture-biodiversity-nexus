{
 "nbformat": 4,
 "nbformat_minor": 0,
 "metadata": {
  "colab": {
   "name": "2-training_data_files_preparation.ipynb",
   "provenance": [],
   "collapsed_sections": [],
   "authorship_tag": "ABX9TyPkbndFTVXoVJSWMYlWohF9"
  },
  "kernelspec": {
   "name": "python3",
   "display_name": "Python 3"
  },
  "language_info": {
   "name": "python"
  }
 },
 "cells": [
  {
   "cell_type": "markdown",
   "metadata": {
    "id": "U3qb8R57xmFB"
   },
   "source": [
    "# PyTorch EO Semantic Segmentation Example\n",
    "## Step 1: Training data preparation\n",
    "*Rob Knapen, Wageningen Environmental Research*\n",
    "<br>\n",
    "In this notebook a tiles collection is examined and all usable images are copied to a temporary folder, split into training, test, and validation sets."
   ]
  },
  {
   "cell_type": "code",
   "metadata": {
    "colab": {
     "base_uri": "https://localhost:8080/"
    },
    "id": "VOSnstZKyPfd",
    "executionInfo": {
     "status": "ok",
     "timestamp": 1632923668940,
     "user_tz": -120,
     "elapsed": 1461,
     "user": {
      "displayName": "Rob Knapen",
      "photoUrl": "https://lh3.googleusercontent.com/a-/AOh14Gji9j2YD-x-F-JRf9a8yuxVFH7IJRiNbdSADzfv=s64",
      "userId": "05777806952854881862"
     }
    },
    "outputId": "06e3051a-8460-4d9f-e67c-b10d75a8611e"
   },
   "source": [
    "# connect to Google Drive for access to the training data\n",
    "from google.colab import drive\n",
    "drive.mount('/content/drive', force_remount=True)"
   ],
   "execution_count": 3,
   "outputs": [
    {
     "output_type": "stream",
     "name": "stdout",
     "text": [
      "Mounted at /content/drive\n"
     ]
    }
   ]
  },
  {
   "cell_type": "code",
   "metadata": {
    "colab": {
     "base_uri": "https://localhost:8080/"
    },
    "id": "zueLyAFlz6m5",
    "executionInfo": {
     "status": "ok",
     "timestamp": 1632923672331,
     "user_tz": -120,
     "elapsed": 208,
     "user": {
      "displayName": "Rob Knapen",
      "photoUrl": "https://lh3.googleusercontent.com/a-/AOh14Gji9j2YD-x-F-JRf9a8yuxVFH7IJRiNbdSADzfv=s64",
      "userId": "05777806952854881862"
     }
    },
    "outputId": "38dfcdf0-2dbf-43eb-b5b8-2d32085914ea"
   },
   "source": [
    "# Note: To see a folder that is shared with you, you need to create\n",
    "#   a shortcut for it on your Google Drive before it you can access\n",
    "#   it here in CoLab.\n",
    "\n",
    "# expect a data / tiles folder with collections of training images\n",
    "!ls '/content/drive/MyDrive/AI_WENR/data/tiles/collection_1/'"
   ],
   "execution_count": 4,
   "outputs": [
    {
     "output_type": "stream",
     "name": "stdout",
     "text": [
      "features  labels\n"
     ]
    }
   ]
  },
  {
   "cell_type": "code",
   "metadata": {
    "id": "q4L14O-Z5_Ei",
    "executionInfo": {
     "status": "ok",
     "timestamp": 1632923781159,
     "user_tz": -120,
     "elapsed": 214,
     "user": {
      "displayName": "Rob Knapen",
      "photoUrl": "https://lh3.googleusercontent.com/a-/AOh14Gji9j2YD-x-F-JRf9a8yuxVFH7IJRiNbdSADzfv=s64",
      "userId": "05777806952854881862"
     }
    }
   },
   "source": [
    "# setup paths to the data\n",
    "import os\n",
    "import shutil\n",
    "from glob import glob\n",
    "\n",
    "# construct the paths to the training data\n",
    "content_root_folder = os.path.join('/content', 'drive', 'MyDrive', 'AI_WENR', 'data')\n",
    "\n",
    "# image tiles for training\n",
    "tiles_collection_folder = os.path.join(content_root_folder, 'tiles', 'collection_1')\n",
    "features_folder = os.path.join(tiles_collection_folder, 'features', 'sent2_2018_seasons_10m_7x4bands_224px')\n",
    "labels_folder = os.path.join(tiles_collection_folder, 'labels', 'parcels_2018_10m_coded_76_224px')\n",
    "\n",
    "base_feature_image_name = 'sent2_2018_seasons_10m_7x4bands_224px'\n",
    "expected_feature_image_size_pixels = 224\n",
    "\n",
    "base_label_image_name = 'parcels_2018_10m_coded_76_224px'\n",
    "expected_label_image_size_pixels = 224\n",
    "\n",
    "# file with information about the encoding used for the labels\n",
    "codes_folder = os.path.join(content_root_folder, 'codes')\n",
    "codes_file = os.path.join(codes_folder, 'cell_value_to_crop_info_76_classes.csv')\n",
    "\n",
    "# temporary folders for cleaned set of tiles\n",
    "tiles_temp_folder = os.path.join(content_root_folder, 'tiles', 'temp')\n",
    "tiles_train_folder = os.path.join(tiles_temp_folder, 'train')\n",
    "tiles_val_folder = os.path.join(tiles_temp_folder, 'val')\n",
    "tiles_test_folder = os.path.join(tiles_temp_folder, 'test')"
   ],
   "execution_count": 6,
   "outputs": []
  },
  {
   "cell_type": "code",
   "metadata": {
    "colab": {
     "base_uri": "https://localhost:8080/"
    },
    "id": "uVLnjsVox_2H",
    "executionInfo": {
     "status": "ok",
     "timestamp": 1632923791027,
     "user_tz": -120,
     "elapsed": 6740,
     "user": {
      "displayName": "Rob Knapen",
      "photoUrl": "https://lh3.googleusercontent.com/a-/AOh14Gji9j2YD-x-F-JRf9a8yuxVFH7IJRiNbdSADzfv=s64",
      "userId": "05777806952854881862"
     }
    },
    "outputId": "f25b6df7-e4d7-4980-8725-17a26768af01"
   },
   "source": [
    "# local install of the rasterio library\n",
    "!pip install rasterio"
   ],
   "execution_count": 7,
   "outputs": [
    {
     "output_type": "stream",
     "name": "stdout",
     "text": [
      "Collecting rasterio\n",
      "  Downloading rasterio-1.2.8-cp37-cp37m-manylinux1_x86_64.whl (19.3 MB)\n",
      "\u001B[K     |████████████████████████████████| 19.3 MB 1.2 MB/s \n",
      "\u001B[?25hCollecting click-plugins\n",
      "  Downloading click_plugins-1.1.1-py2.py3-none-any.whl (7.5 kB)\n",
      "Collecting snuggs>=1.4.1\n",
      "  Downloading snuggs-1.4.7-py3-none-any.whl (5.4 kB)\n",
      "Requirement already satisfied: numpy in /usr/local/lib/python3.7/dist-packages (from rasterio) (1.19.5)\n",
      "Requirement already satisfied: attrs in /usr/local/lib/python3.7/dist-packages (from rasterio) (21.2.0)\n",
      "Requirement already satisfied: certifi in /usr/local/lib/python3.7/dist-packages (from rasterio) (2021.5.30)\n",
      "Collecting affine\n",
      "  Downloading affine-2.3.0-py2.py3-none-any.whl (15 kB)\n",
      "Requirement already satisfied: click>=4.0 in /usr/local/lib/python3.7/dist-packages (from rasterio) (7.1.2)\n",
      "Collecting cligj>=0.5\n",
      "  Downloading cligj-0.7.2-py3-none-any.whl (7.1 kB)\n",
      "Requirement already satisfied: setuptools in /usr/local/lib/python3.7/dist-packages (from rasterio) (57.4.0)\n",
      "Requirement already satisfied: pyparsing>=2.1.6 in /usr/local/lib/python3.7/dist-packages (from snuggs>=1.4.1->rasterio) (2.4.7)\n",
      "Installing collected packages: snuggs, cligj, click-plugins, affine, rasterio\n",
      "Successfully installed affine-2.3.0 click-plugins-1.1.1 cligj-0.7.2 rasterio-1.2.8 snuggs-1.4.7\n"
     ]
    }
   ]
  },
  {
   "cell_type": "code",
   "metadata": {
    "id": "AEc_52PHxzJl",
    "executionInfo": {
     "status": "ok",
     "timestamp": 1632923800622,
     "user_tz": -120,
     "elapsed": 190,
     "user": {
      "displayName": "Rob Knapen",
      "photoUrl": "https://lh3.googleusercontent.com/a-/AOh14Gji9j2YD-x-F-JRf9a8yuxVFH7IJRiNbdSADzfv=s64",
      "userId": "05777806952854881862"
     }
    }
   },
   "source": [
    "# import some packages for GeoTIFF processing\n",
    "import numpy as np\n",
    "import pandas as pd\n",
    "import matplotlib.pyplot as plt\n",
    "import rasterio"
   ],
   "execution_count": 8,
   "outputs": []
  },
  {
   "cell_type": "code",
   "metadata": {
    "colab": {
     "base_uri": "https://localhost:8080/"
    },
    "id": "yugmwVPoPAyB",
    "executionInfo": {
     "status": "ok",
     "timestamp": 1632923812628,
     "user_tz": -120,
     "elapsed": 3452,
     "user": {
      "displayName": "Rob Knapen",
      "photoUrl": "https://lh3.googleusercontent.com/a-/AOh14Gji9j2YD-x-F-JRf9a8yuxVFH7IJRiNbdSADzfv=s64",
      "userId": "05777806952854881862"
     }
    },
    "outputId": "8942c078-7de7-4ebb-e6d6-b6db7cdaff18"
   },
   "source": [
    "# collect lists of all available images\n",
    "all_feature_files = sorted(glob(os.path.join(features_folder, '*.tif')))\n",
    "all_label_files = sorted(glob(os.path.join(labels_folder, '*.tif')))\n",
    "len(all_feature_files), len(all_label_files)"
   ],
   "execution_count": 9,
   "outputs": [
    {
     "output_type": "execute_result",
     "data": {
      "text/plain": [
       "(250, 250)"
      ]
     },
     "metadata": {},
     "execution_count": 9
    }
   ]
  },
  {
   "cell_type": "code",
   "metadata": {
    "colab": {
     "base_uri": "https://localhost:8080/"
    },
    "id": "mY1a7ifvQBcR",
    "executionInfo": {
     "status": "ok",
     "timestamp": 1632923821420,
     "user_tz": -120,
     "elapsed": 338,
     "user": {
      "displayName": "Rob Knapen",
      "photoUrl": "https://lh3.googleusercontent.com/a-/AOh14Gji9j2YD-x-F-JRf9a8yuxVFH7IJRiNbdSADzfv=s64",
      "userId": "05777806952854881862"
     }
    },
    "outputId": "e79a277b-9049-4a01-e152-ab7f9fc2b236"
   },
   "source": [
    "# lists to be filled with names of images to further process\n",
    "keep_feature_files = []\n",
    "keep_label_files = []\n",
    "\n",
    "# check if there is a matching label image for each feature image and clean-up\n",
    "for file_name in all_feature_files:\n",
    "    number = file_name.split('.')[-2]\n",
    "    expected_file = '%s.%s.tif' % (base_label_image_name, number)\n",
    "    matches = [x for x in all_label_files if expected_file in x]\n",
    "    if len(matches) == 0:\n",
    "        print('No matching label image for feature image %s, it will be skipped!' % (file_name))\n",
    "    else:\n",
    "      keep_feature_files.append(file_name)\n",
    "    \n",
    "# check if there is a matching feature image for each label image and clean-up        \n",
    "for file_name in all_label_files:\n",
    "    number = file_name.split('.')[-2]\n",
    "    expected_file = '%s.%s.tif' % (base_feature_image_name, number)\n",
    "    matches = [x for x in all_feature_files if expected_file in x]\n",
    "    if len(matches) == 0:\n",
    "        print('No matching feature image for label image %s, it will be skipped!' % (file_name))\n",
    "    else:\n",
    "      keep_label_files.append(file_name)\n",
    "\n",
    "len(keep_feature_files), len(keep_label_files)"
   ],
   "execution_count": 10,
   "outputs": [
    {
     "output_type": "execute_result",
     "data": {
      "text/plain": [
       "(250, 250)"
      ]
     },
     "metadata": {},
     "execution_count": 10
    }
   ]
  },
  {
   "cell_type": "code",
   "metadata": {
    "colab": {
     "base_uri": "https://localhost:8080/"
    },
    "id": "xuv2vrivSj4V",
    "executionInfo": {
     "status": "ok",
     "timestamp": 1632924064318,
     "user_tz": -120,
     "elapsed": 233587,
     "user": {
      "displayName": "Rob Knapen",
      "photoUrl": "https://lh3.googleusercontent.com/a-/AOh14Gji9j2YD-x-F-JRf9a8yuxVFH7IJRiNbdSADzfv=s64",
      "userId": "05777806952854881862"
     }
    },
    "outputId": "07301bda-dfba-46e0-99b6-1677a8f765a8"
   },
   "source": [
    "# lists to be filled with names of images to further process\n",
    "keep2_feature_files = []\n",
    "keep2_label_files = []\n",
    "\n",
    "# check if all images have the expected size\n",
    "for file_name in keep_feature_files:\n",
    "  image = rasterio.open(file_name)\n",
    "  if image.width != expected_feature_image_size_pixels or image.height != expected_feature_image_size_pixels:\n",
    "    print('Feature image %s does not have the expected width or height, skipping it!' % (file_name))\n",
    "  else:\n",
    "    keep2_feature_files.append(file_name)\n",
    "\n",
    "# check if all images have the expected size\n",
    "for file_name in keep_label_files:\n",
    "  image = rasterio.open(file_name)\n",
    "  if image.width != expected_label_image_size_pixels or image.height != expected_label_image_size_pixels:\n",
    "    print('Label image %s does not have the expected width or height, skipping it!' % (file_name))\n",
    "  else:\n",
    "    keep2_label_files.append(file_name)\n",
    "\n",
    "\n",
    "len(keep2_feature_files), len(keep2_label_files)"
   ],
   "execution_count": 11,
   "outputs": [
    {
     "output_type": "stream",
     "name": "stdout",
     "text": [
      "Feature image /content/drive/MyDrive/AI_WENR/data/tiles/collection_1/features/sent2_2018_seasons_10m_7x4bands_224px/sent2_2018_seasons_10m_7x4bands_224px.124.tif does not have the expected width or height, skipping it!\n",
      "Feature image /content/drive/MyDrive/AI_WENR/data/tiles/collection_1/features/sent2_2018_seasons_10m_7x4bands_224px/sent2_2018_seasons_10m_7x4bands_224px.149.tif does not have the expected width or height, skipping it!\n",
      "Feature image /content/drive/MyDrive/AI_WENR/data/tiles/collection_1/features/sent2_2018_seasons_10m_7x4bands_224px/sent2_2018_seasons_10m_7x4bands_224px.174.tif does not have the expected width or height, skipping it!\n",
      "Feature image /content/drive/MyDrive/AI_WENR/data/tiles/collection_1/features/sent2_2018_seasons_10m_7x4bands_224px/sent2_2018_seasons_10m_7x4bands_224px.199.tif does not have the expected width or height, skipping it!\n",
      "Feature image /content/drive/MyDrive/AI_WENR/data/tiles/collection_1/features/sent2_2018_seasons_10m_7x4bands_224px/sent2_2018_seasons_10m_7x4bands_224px.224.tif does not have the expected width or height, skipping it!\n",
      "Feature image /content/drive/MyDrive/AI_WENR/data/tiles/collection_1/features/sent2_2018_seasons_10m_7x4bands_224px/sent2_2018_seasons_10m_7x4bands_224px.225.tif does not have the expected width or height, skipping it!\n",
      "Feature image /content/drive/MyDrive/AI_WENR/data/tiles/collection_1/features/sent2_2018_seasons_10m_7x4bands_224px/sent2_2018_seasons_10m_7x4bands_224px.226.tif does not have the expected width or height, skipping it!\n",
      "Feature image /content/drive/MyDrive/AI_WENR/data/tiles/collection_1/features/sent2_2018_seasons_10m_7x4bands_224px/sent2_2018_seasons_10m_7x4bands_224px.227.tif does not have the expected width or height, skipping it!\n",
      "Feature image /content/drive/MyDrive/AI_WENR/data/tiles/collection_1/features/sent2_2018_seasons_10m_7x4bands_224px/sent2_2018_seasons_10m_7x4bands_224px.228.tif does not have the expected width or height, skipping it!\n",
      "Feature image /content/drive/MyDrive/AI_WENR/data/tiles/collection_1/features/sent2_2018_seasons_10m_7x4bands_224px/sent2_2018_seasons_10m_7x4bands_224px.229.tif does not have the expected width or height, skipping it!\n",
      "Feature image /content/drive/MyDrive/AI_WENR/data/tiles/collection_1/features/sent2_2018_seasons_10m_7x4bands_224px/sent2_2018_seasons_10m_7x4bands_224px.230.tif does not have the expected width or height, skipping it!\n",
      "Feature image /content/drive/MyDrive/AI_WENR/data/tiles/collection_1/features/sent2_2018_seasons_10m_7x4bands_224px/sent2_2018_seasons_10m_7x4bands_224px.231.tif does not have the expected width or height, skipping it!\n",
      "Feature image /content/drive/MyDrive/AI_WENR/data/tiles/collection_1/features/sent2_2018_seasons_10m_7x4bands_224px/sent2_2018_seasons_10m_7x4bands_224px.232.tif does not have the expected width or height, skipping it!\n",
      "Feature image /content/drive/MyDrive/AI_WENR/data/tiles/collection_1/features/sent2_2018_seasons_10m_7x4bands_224px/sent2_2018_seasons_10m_7x4bands_224px.233.tif does not have the expected width or height, skipping it!\n",
      "Feature image /content/drive/MyDrive/AI_WENR/data/tiles/collection_1/features/sent2_2018_seasons_10m_7x4bands_224px/sent2_2018_seasons_10m_7x4bands_224px.234.tif does not have the expected width or height, skipping it!\n",
      "Feature image /content/drive/MyDrive/AI_WENR/data/tiles/collection_1/features/sent2_2018_seasons_10m_7x4bands_224px/sent2_2018_seasons_10m_7x4bands_224px.235.tif does not have the expected width or height, skipping it!\n",
      "Feature image /content/drive/MyDrive/AI_WENR/data/tiles/collection_1/features/sent2_2018_seasons_10m_7x4bands_224px/sent2_2018_seasons_10m_7x4bands_224px.236.tif does not have the expected width or height, skipping it!\n",
      "Feature image /content/drive/MyDrive/AI_WENR/data/tiles/collection_1/features/sent2_2018_seasons_10m_7x4bands_224px/sent2_2018_seasons_10m_7x4bands_224px.237.tif does not have the expected width or height, skipping it!\n",
      "Feature image /content/drive/MyDrive/AI_WENR/data/tiles/collection_1/features/sent2_2018_seasons_10m_7x4bands_224px/sent2_2018_seasons_10m_7x4bands_224px.238.tif does not have the expected width or height, skipping it!\n",
      "Feature image /content/drive/MyDrive/AI_WENR/data/tiles/collection_1/features/sent2_2018_seasons_10m_7x4bands_224px/sent2_2018_seasons_10m_7x4bands_224px.239.tif does not have the expected width or height, skipping it!\n",
      "Feature image /content/drive/MyDrive/AI_WENR/data/tiles/collection_1/features/sent2_2018_seasons_10m_7x4bands_224px/sent2_2018_seasons_10m_7x4bands_224px.24.tif does not have the expected width or height, skipping it!\n",
      "Feature image /content/drive/MyDrive/AI_WENR/data/tiles/collection_1/features/sent2_2018_seasons_10m_7x4bands_224px/sent2_2018_seasons_10m_7x4bands_224px.240.tif does not have the expected width or height, skipping it!\n",
      "Feature image /content/drive/MyDrive/AI_WENR/data/tiles/collection_1/features/sent2_2018_seasons_10m_7x4bands_224px/sent2_2018_seasons_10m_7x4bands_224px.241.tif does not have the expected width or height, skipping it!\n",
      "Feature image /content/drive/MyDrive/AI_WENR/data/tiles/collection_1/features/sent2_2018_seasons_10m_7x4bands_224px/sent2_2018_seasons_10m_7x4bands_224px.242.tif does not have the expected width or height, skipping it!\n",
      "Feature image /content/drive/MyDrive/AI_WENR/data/tiles/collection_1/features/sent2_2018_seasons_10m_7x4bands_224px/sent2_2018_seasons_10m_7x4bands_224px.243.tif does not have the expected width or height, skipping it!\n",
      "Feature image /content/drive/MyDrive/AI_WENR/data/tiles/collection_1/features/sent2_2018_seasons_10m_7x4bands_224px/sent2_2018_seasons_10m_7x4bands_224px.244.tif does not have the expected width or height, skipping it!\n",
      "Feature image /content/drive/MyDrive/AI_WENR/data/tiles/collection_1/features/sent2_2018_seasons_10m_7x4bands_224px/sent2_2018_seasons_10m_7x4bands_224px.245.tif does not have the expected width or height, skipping it!\n",
      "Feature image /content/drive/MyDrive/AI_WENR/data/tiles/collection_1/features/sent2_2018_seasons_10m_7x4bands_224px/sent2_2018_seasons_10m_7x4bands_224px.246.tif does not have the expected width or height, skipping it!\n",
      "Feature image /content/drive/MyDrive/AI_WENR/data/tiles/collection_1/features/sent2_2018_seasons_10m_7x4bands_224px/sent2_2018_seasons_10m_7x4bands_224px.247.tif does not have the expected width or height, skipping it!\n",
      "Feature image /content/drive/MyDrive/AI_WENR/data/tiles/collection_1/features/sent2_2018_seasons_10m_7x4bands_224px/sent2_2018_seasons_10m_7x4bands_224px.248.tif does not have the expected width or height, skipping it!\n",
      "Feature image /content/drive/MyDrive/AI_WENR/data/tiles/collection_1/features/sent2_2018_seasons_10m_7x4bands_224px/sent2_2018_seasons_10m_7x4bands_224px.249.tif does not have the expected width or height, skipping it!\n",
      "Feature image /content/drive/MyDrive/AI_WENR/data/tiles/collection_1/features/sent2_2018_seasons_10m_7x4bands_224px/sent2_2018_seasons_10m_7x4bands_224px.49.tif does not have the expected width or height, skipping it!\n",
      "Feature image /content/drive/MyDrive/AI_WENR/data/tiles/collection_1/features/sent2_2018_seasons_10m_7x4bands_224px/sent2_2018_seasons_10m_7x4bands_224px.74.tif does not have the expected width or height, skipping it!\n",
      "Feature image /content/drive/MyDrive/AI_WENR/data/tiles/collection_1/features/sent2_2018_seasons_10m_7x4bands_224px/sent2_2018_seasons_10m_7x4bands_224px.99.tif does not have the expected width or height, skipping it!\n",
      "Label image /content/drive/MyDrive/AI_WENR/data/tiles/collection_1/labels/parcels_2018_10m_coded_76_224px/parcels_2018_10m_coded_76_224px.124.tif does not have the expected width or height, skipping it!\n",
      "Label image /content/drive/MyDrive/AI_WENR/data/tiles/collection_1/labels/parcels_2018_10m_coded_76_224px/parcels_2018_10m_coded_76_224px.149.tif does not have the expected width or height, skipping it!\n",
      "Label image /content/drive/MyDrive/AI_WENR/data/tiles/collection_1/labels/parcels_2018_10m_coded_76_224px/parcels_2018_10m_coded_76_224px.174.tif does not have the expected width or height, skipping it!\n",
      "Label image /content/drive/MyDrive/AI_WENR/data/tiles/collection_1/labels/parcels_2018_10m_coded_76_224px/parcels_2018_10m_coded_76_224px.199.tif does not have the expected width or height, skipping it!\n",
      "Label image /content/drive/MyDrive/AI_WENR/data/tiles/collection_1/labels/parcels_2018_10m_coded_76_224px/parcels_2018_10m_coded_76_224px.224.tif does not have the expected width or height, skipping it!\n",
      "Label image /content/drive/MyDrive/AI_WENR/data/tiles/collection_1/labels/parcels_2018_10m_coded_76_224px/parcels_2018_10m_coded_76_224px.225.tif does not have the expected width or height, skipping it!\n",
      "Label image /content/drive/MyDrive/AI_WENR/data/tiles/collection_1/labels/parcels_2018_10m_coded_76_224px/parcels_2018_10m_coded_76_224px.226.tif does not have the expected width or height, skipping it!\n",
      "Label image /content/drive/MyDrive/AI_WENR/data/tiles/collection_1/labels/parcels_2018_10m_coded_76_224px/parcels_2018_10m_coded_76_224px.227.tif does not have the expected width or height, skipping it!\n",
      "Label image /content/drive/MyDrive/AI_WENR/data/tiles/collection_1/labels/parcels_2018_10m_coded_76_224px/parcels_2018_10m_coded_76_224px.228.tif does not have the expected width or height, skipping it!\n",
      "Label image /content/drive/MyDrive/AI_WENR/data/tiles/collection_1/labels/parcels_2018_10m_coded_76_224px/parcels_2018_10m_coded_76_224px.229.tif does not have the expected width or height, skipping it!\n",
      "Label image /content/drive/MyDrive/AI_WENR/data/tiles/collection_1/labels/parcels_2018_10m_coded_76_224px/parcels_2018_10m_coded_76_224px.230.tif does not have the expected width or height, skipping it!\n",
      "Label image /content/drive/MyDrive/AI_WENR/data/tiles/collection_1/labels/parcels_2018_10m_coded_76_224px/parcels_2018_10m_coded_76_224px.231.tif does not have the expected width or height, skipping it!\n",
      "Label image /content/drive/MyDrive/AI_WENR/data/tiles/collection_1/labels/parcels_2018_10m_coded_76_224px/parcels_2018_10m_coded_76_224px.232.tif does not have the expected width or height, skipping it!\n",
      "Label image /content/drive/MyDrive/AI_WENR/data/tiles/collection_1/labels/parcels_2018_10m_coded_76_224px/parcels_2018_10m_coded_76_224px.233.tif does not have the expected width or height, skipping it!\n",
      "Label image /content/drive/MyDrive/AI_WENR/data/tiles/collection_1/labels/parcels_2018_10m_coded_76_224px/parcels_2018_10m_coded_76_224px.234.tif does not have the expected width or height, skipping it!\n",
      "Label image /content/drive/MyDrive/AI_WENR/data/tiles/collection_1/labels/parcels_2018_10m_coded_76_224px/parcels_2018_10m_coded_76_224px.235.tif does not have the expected width or height, skipping it!\n",
      "Label image /content/drive/MyDrive/AI_WENR/data/tiles/collection_1/labels/parcels_2018_10m_coded_76_224px/parcels_2018_10m_coded_76_224px.236.tif does not have the expected width or height, skipping it!\n",
      "Label image /content/drive/MyDrive/AI_WENR/data/tiles/collection_1/labels/parcels_2018_10m_coded_76_224px/parcels_2018_10m_coded_76_224px.237.tif does not have the expected width or height, skipping it!\n",
      "Label image /content/drive/MyDrive/AI_WENR/data/tiles/collection_1/labels/parcels_2018_10m_coded_76_224px/parcels_2018_10m_coded_76_224px.238.tif does not have the expected width or height, skipping it!\n",
      "Label image /content/drive/MyDrive/AI_WENR/data/tiles/collection_1/labels/parcels_2018_10m_coded_76_224px/parcels_2018_10m_coded_76_224px.239.tif does not have the expected width or height, skipping it!\n",
      "Label image /content/drive/MyDrive/AI_WENR/data/tiles/collection_1/labels/parcels_2018_10m_coded_76_224px/parcels_2018_10m_coded_76_224px.24.tif does not have the expected width or height, skipping it!\n",
      "Label image /content/drive/MyDrive/AI_WENR/data/tiles/collection_1/labels/parcels_2018_10m_coded_76_224px/parcels_2018_10m_coded_76_224px.240.tif does not have the expected width or height, skipping it!\n",
      "Label image /content/drive/MyDrive/AI_WENR/data/tiles/collection_1/labels/parcels_2018_10m_coded_76_224px/parcels_2018_10m_coded_76_224px.241.tif does not have the expected width or height, skipping it!\n",
      "Label image /content/drive/MyDrive/AI_WENR/data/tiles/collection_1/labels/parcels_2018_10m_coded_76_224px/parcels_2018_10m_coded_76_224px.242.tif does not have the expected width or height, skipping it!\n",
      "Label image /content/drive/MyDrive/AI_WENR/data/tiles/collection_1/labels/parcels_2018_10m_coded_76_224px/parcels_2018_10m_coded_76_224px.243.tif does not have the expected width or height, skipping it!\n",
      "Label image /content/drive/MyDrive/AI_WENR/data/tiles/collection_1/labels/parcels_2018_10m_coded_76_224px/parcels_2018_10m_coded_76_224px.244.tif does not have the expected width or height, skipping it!\n",
      "Label image /content/drive/MyDrive/AI_WENR/data/tiles/collection_1/labels/parcels_2018_10m_coded_76_224px/parcels_2018_10m_coded_76_224px.245.tif does not have the expected width or height, skipping it!\n",
      "Label image /content/drive/MyDrive/AI_WENR/data/tiles/collection_1/labels/parcels_2018_10m_coded_76_224px/parcels_2018_10m_coded_76_224px.246.tif does not have the expected width or height, skipping it!\n",
      "Label image /content/drive/MyDrive/AI_WENR/data/tiles/collection_1/labels/parcels_2018_10m_coded_76_224px/parcels_2018_10m_coded_76_224px.247.tif does not have the expected width or height, skipping it!\n",
      "Label image /content/drive/MyDrive/AI_WENR/data/tiles/collection_1/labels/parcels_2018_10m_coded_76_224px/parcels_2018_10m_coded_76_224px.248.tif does not have the expected width or height, skipping it!\n",
      "Label image /content/drive/MyDrive/AI_WENR/data/tiles/collection_1/labels/parcels_2018_10m_coded_76_224px/parcels_2018_10m_coded_76_224px.249.tif does not have the expected width or height, skipping it!\n",
      "Label image /content/drive/MyDrive/AI_WENR/data/tiles/collection_1/labels/parcels_2018_10m_coded_76_224px/parcels_2018_10m_coded_76_224px.49.tif does not have the expected width or height, skipping it!\n",
      "Label image /content/drive/MyDrive/AI_WENR/data/tiles/collection_1/labels/parcels_2018_10m_coded_76_224px/parcels_2018_10m_coded_76_224px.74.tif does not have the expected width or height, skipping it!\n",
      "Label image /content/drive/MyDrive/AI_WENR/data/tiles/collection_1/labels/parcels_2018_10m_coded_76_224px/parcels_2018_10m_coded_76_224px.99.tif does not have the expected width or height, skipping it!\n"
     ]
    },
    {
     "output_type": "execute_result",
     "data": {
      "text/plain": [
       "(216, 216)"
      ]
     },
     "metadata": {},
     "execution_count": 11
    }
   ]
  },
  {
   "cell_type": "code",
   "metadata": {
    "colab": {
     "base_uri": "https://localhost:8080/"
    },
    "id": "Qo5i8TA6Zu7p",
    "executionInfo": {
     "status": "ok",
     "timestamp": 1632924071383,
     "user_tz": -120,
     "elapsed": 334,
     "user": {
      "displayName": "Rob Knapen",
      "photoUrl": "https://lh3.googleusercontent.com/a-/AOh14Gji9j2YD-x-F-JRf9a8yuxVFH7IJRiNbdSADzfv=s64",
      "userId": "05777806952854881862"
     }
    },
    "outputId": "8117285e-8521-43aa-c18b-247d0f95b803"
   },
   "source": [
    "all_files = list(zip(sorted(keep2_feature_files), sorted(keep2_label_files)))\n",
    "len(all_files)"
   ],
   "execution_count": 12,
   "outputs": [
    {
     "output_type": "execute_result",
     "data": {
      "text/plain": [
       "216"
      ]
     },
     "metadata": {},
     "execution_count": 12
    }
   ]
  },
  {
   "cell_type": "code",
   "metadata": {
    "id": "y3V_X7CcaOF7",
    "executionInfo": {
     "status": "ok",
     "timestamp": 1632924079380,
     "user_tz": -120,
     "elapsed": 4396,
     "user": {
      "displayName": "Rob Knapen",
      "photoUrl": "https://lh3.googleusercontent.com/a-/AOh14Gji9j2YD-x-F-JRf9a8yuxVFH7IJRiNbdSADzfv=s64",
      "userId": "05777806952854881862"
     }
    }
   },
   "source": [
    "# clean up previous data (BE CAREFUL!)\n",
    "shutil.rmtree(tiles_train_folder, ignore_errors=True)\n",
    "shutil.rmtree(tiles_val_folder, ignore_errors=True)\n",
    "shutil.rmtree(tiles_test_folder, ignore_errors=True)\n",
    "\n",
    "#create new dirs\n",
    "folder = os.path.join(tiles_train_folder, 'features')\n",
    "if not os.path.exists(folder): os.makedirs(folder)\n",
    "\n",
    "folder = os.path.join(tiles_train_folder, 'labels')\n",
    "if not os.path.exists(folder): os.makedirs(folder)\n",
    "\n",
    "folder = os.path.join(tiles_val_folder, 'features')\n",
    "if not os.path.exists(folder): os.makedirs(folder)\n",
    "\n",
    "folder = os.path.join(tiles_val_folder, 'labels')\n",
    "if not os.path.exists(folder): os.makedirs(folder)\n",
    "\n",
    "folder = os.path.join(tiles_test_folder, 'features')\n",
    "if not os.path.exists(folder): os.makedirs(folder)\n",
    "\n",
    "folder = os.path.join(tiles_test_folder, 'labels')\n",
    "if not os.path.exists(folder): os.makedirs(folder)"
   ],
   "execution_count": 13,
   "outputs": []
  },
  {
   "cell_type": "code",
   "metadata": {
    "id": "aeR_-2wRbN9o",
    "executionInfo": {
     "status": "ok",
     "timestamp": 1632924084085,
     "user_tz": -120,
     "elapsed": 217,
     "user": {
      "displayName": "Rob Knapen",
      "photoUrl": "https://lh3.googleusercontent.com/a-/AOh14Gji9j2YD-x-F-JRf9a8yuxVFH7IJRiNbdSADzfv=s64",
      "userId": "05777806952854881862"
     }
    }
   },
   "source": [
    "# calculate split\n",
    "train_ratio = 0.7\n",
    "validation_ratio = 0.2\n",
    "test_ratio = 0.1\n",
    "\n",
    "total_file_count = len(all_files)\n",
    "train_file_count = int(np.round(total_file_count * train_ratio))\n",
    "val_file_count   = int(np.round(total_file_count * validation_ratio))\n",
    "test_file_count  = int(np.round(total_file_count * test_ratio))"
   ],
   "execution_count": 14,
   "outputs": []
  },
  {
   "cell_type": "code",
   "metadata": {
    "colab": {
     "base_uri": "https://localhost:8080/"
    },
    "id": "-XkC8T_5bWWw",
    "executionInfo": {
     "status": "ok",
     "timestamp": 1632924103725,
     "user_tz": -120,
     "elapsed": 13440,
     "user": {
      "displayName": "Rob Knapen",
      "photoUrl": "https://lh3.googleusercontent.com/a-/AOh14Gji9j2YD-x-F-JRf9a8yuxVFH7IJRiNbdSADzfv=s64",
      "userId": "05777806952854881862"
     }
    },
    "outputId": "6c6009fb-1505-443c-915b-172b9fc87ddf"
   },
   "source": [
    "# copy the files to the folders\n",
    "import random\n",
    "\n",
    "# take a random sample without replacement\n",
    "random.seed = 1234\n",
    "sample = random.sample(all_files, len(all_files))\n",
    "\n",
    "count = 0\n",
    "for files in sample:\n",
    "    if count < train_file_count:\n",
    "        feature_dst = os.path.join(tiles_train_folder, 'features', files[0].split(os.path.sep)[-1])\n",
    "        label_dst   = os.path.join(tiles_train_folder, 'labels',   files[1].split(os.path.sep)[-1])\n",
    "    elif count < (train_file_count + val_file_count):\n",
    "        feature_dst = os.path.join(tiles_val_folder,   'features', files[0].split(os.path.sep)[-1])\n",
    "        label_dst   = os.path.join(tiles_val_folder,   'labels',   files[1].split(os.path.sep)[-1])\n",
    "    else:\n",
    "        feature_dst = os.path.join(tiles_test_folder,  'features', files[0].split(os.path.sep)[-1])\n",
    "        label_dst   = os.path.join(tiles_test_folder,  'labels',   files[1].split(os.path.sep)[-1])\n",
    "        \n",
    "    print('Copying %s to %s' % (files[0], feature_dst))\n",
    "    shutil.copy(files[0], feature_dst)\n",
    "    print('Copying %s to %s' % (files[1], label_dst))\n",
    "    shutil.copy(files[1], label_dst)        \n",
    "    \n",
    "    count += 1"
   ],
   "execution_count": 15,
   "outputs": [
    {
     "output_type": "stream",
     "name": "stdout",
     "text": [
      "Copying /content/drive/MyDrive/AI_WENR/data/tiles/collection_1/features/sent2_2018_seasons_10m_7x4bands_224px/sent2_2018_seasons_10m_7x4bands_224px.64.tif to /content/drive/MyDrive/AI_WENR/data/tiles/temp/train/features/sent2_2018_seasons_10m_7x4bands_224px.64.tif\n",
      "Copying /content/drive/MyDrive/AI_WENR/data/tiles/collection_1/labels/parcels_2018_10m_coded_76_224px/parcels_2018_10m_coded_76_224px.64.tif to /content/drive/MyDrive/AI_WENR/data/tiles/temp/train/labels/parcels_2018_10m_coded_76_224px.64.tif\n",
      "Copying /content/drive/MyDrive/AI_WENR/data/tiles/collection_1/features/sent2_2018_seasons_10m_7x4bands_224px/sent2_2018_seasons_10m_7x4bands_224px.212.tif to /content/drive/MyDrive/AI_WENR/data/tiles/temp/train/features/sent2_2018_seasons_10m_7x4bands_224px.212.tif\n",
      "Copying /content/drive/MyDrive/AI_WENR/data/tiles/collection_1/labels/parcels_2018_10m_coded_76_224px/parcels_2018_10m_coded_76_224px.212.tif to /content/drive/MyDrive/AI_WENR/data/tiles/temp/train/labels/parcels_2018_10m_coded_76_224px.212.tif\n",
      "Copying /content/drive/MyDrive/AI_WENR/data/tiles/collection_1/features/sent2_2018_seasons_10m_7x4bands_224px/sent2_2018_seasons_10m_7x4bands_224px.150.tif to /content/drive/MyDrive/AI_WENR/data/tiles/temp/train/features/sent2_2018_seasons_10m_7x4bands_224px.150.tif\n",
      "Copying /content/drive/MyDrive/AI_WENR/data/tiles/collection_1/labels/parcels_2018_10m_coded_76_224px/parcels_2018_10m_coded_76_224px.150.tif to /content/drive/MyDrive/AI_WENR/data/tiles/temp/train/labels/parcels_2018_10m_coded_76_224px.150.tif\n",
      "Copying /content/drive/MyDrive/AI_WENR/data/tiles/collection_1/features/sent2_2018_seasons_10m_7x4bands_224px/sent2_2018_seasons_10m_7x4bands_224px.164.tif to /content/drive/MyDrive/AI_WENR/data/tiles/temp/train/features/sent2_2018_seasons_10m_7x4bands_224px.164.tif\n",
      "Copying /content/drive/MyDrive/AI_WENR/data/tiles/collection_1/labels/parcels_2018_10m_coded_76_224px/parcels_2018_10m_coded_76_224px.164.tif to /content/drive/MyDrive/AI_WENR/data/tiles/temp/train/labels/parcels_2018_10m_coded_76_224px.164.tif\n",
      "Copying /content/drive/MyDrive/AI_WENR/data/tiles/collection_1/features/sent2_2018_seasons_10m_7x4bands_224px/sent2_2018_seasons_10m_7x4bands_224px.137.tif to /content/drive/MyDrive/AI_WENR/data/tiles/temp/train/features/sent2_2018_seasons_10m_7x4bands_224px.137.tif\n",
      "Copying /content/drive/MyDrive/AI_WENR/data/tiles/collection_1/labels/parcels_2018_10m_coded_76_224px/parcels_2018_10m_coded_76_224px.137.tif to /content/drive/MyDrive/AI_WENR/data/tiles/temp/train/labels/parcels_2018_10m_coded_76_224px.137.tif\n",
      "Copying /content/drive/MyDrive/AI_WENR/data/tiles/collection_1/features/sent2_2018_seasons_10m_7x4bands_224px/sent2_2018_seasons_10m_7x4bands_224px.125.tif to /content/drive/MyDrive/AI_WENR/data/tiles/temp/train/features/sent2_2018_seasons_10m_7x4bands_224px.125.tif\n",
      "Copying /content/drive/MyDrive/AI_WENR/data/tiles/collection_1/labels/parcels_2018_10m_coded_76_224px/parcels_2018_10m_coded_76_224px.125.tif to /content/drive/MyDrive/AI_WENR/data/tiles/temp/train/labels/parcels_2018_10m_coded_76_224px.125.tif\n",
      "Copying /content/drive/MyDrive/AI_WENR/data/tiles/collection_1/features/sent2_2018_seasons_10m_7x4bands_224px/sent2_2018_seasons_10m_7x4bands_224px.36.tif to /content/drive/MyDrive/AI_WENR/data/tiles/temp/train/features/sent2_2018_seasons_10m_7x4bands_224px.36.tif\n",
      "Copying /content/drive/MyDrive/AI_WENR/data/tiles/collection_1/labels/parcels_2018_10m_coded_76_224px/parcels_2018_10m_coded_76_224px.36.tif to /content/drive/MyDrive/AI_WENR/data/tiles/temp/train/labels/parcels_2018_10m_coded_76_224px.36.tif\n",
      "Copying /content/drive/MyDrive/AI_WENR/data/tiles/collection_1/features/sent2_2018_seasons_10m_7x4bands_224px/sent2_2018_seasons_10m_7x4bands_224px.53.tif to /content/drive/MyDrive/AI_WENR/data/tiles/temp/train/features/sent2_2018_seasons_10m_7x4bands_224px.53.tif\n",
      "Copying /content/drive/MyDrive/AI_WENR/data/tiles/collection_1/labels/parcels_2018_10m_coded_76_224px/parcels_2018_10m_coded_76_224px.53.tif to /content/drive/MyDrive/AI_WENR/data/tiles/temp/train/labels/parcels_2018_10m_coded_76_224px.53.tif\n",
      "Copying /content/drive/MyDrive/AI_WENR/data/tiles/collection_1/features/sent2_2018_seasons_10m_7x4bands_224px/sent2_2018_seasons_10m_7x4bands_224px.136.tif to /content/drive/MyDrive/AI_WENR/data/tiles/temp/train/features/sent2_2018_seasons_10m_7x4bands_224px.136.tif\n",
      "Copying /content/drive/MyDrive/AI_WENR/data/tiles/collection_1/labels/parcels_2018_10m_coded_76_224px/parcels_2018_10m_coded_76_224px.136.tif to /content/drive/MyDrive/AI_WENR/data/tiles/temp/train/labels/parcels_2018_10m_coded_76_224px.136.tif\n",
      "Copying /content/drive/MyDrive/AI_WENR/data/tiles/collection_1/features/sent2_2018_seasons_10m_7x4bands_224px/sent2_2018_seasons_10m_7x4bands_224px.197.tif to /content/drive/MyDrive/AI_WENR/data/tiles/temp/train/features/sent2_2018_seasons_10m_7x4bands_224px.197.tif\n",
      "Copying /content/drive/MyDrive/AI_WENR/data/tiles/collection_1/labels/parcels_2018_10m_coded_76_224px/parcels_2018_10m_coded_76_224px.197.tif to /content/drive/MyDrive/AI_WENR/data/tiles/temp/train/labels/parcels_2018_10m_coded_76_224px.197.tif\n",
      "Copying /content/drive/MyDrive/AI_WENR/data/tiles/collection_1/features/sent2_2018_seasons_10m_7x4bands_224px/sent2_2018_seasons_10m_7x4bands_224px.216.tif to /content/drive/MyDrive/AI_WENR/data/tiles/temp/train/features/sent2_2018_seasons_10m_7x4bands_224px.216.tif\n",
      "Copying /content/drive/MyDrive/AI_WENR/data/tiles/collection_1/labels/parcels_2018_10m_coded_76_224px/parcels_2018_10m_coded_76_224px.216.tif to /content/drive/MyDrive/AI_WENR/data/tiles/temp/train/labels/parcels_2018_10m_coded_76_224px.216.tif\n",
      "Copying /content/drive/MyDrive/AI_WENR/data/tiles/collection_1/features/sent2_2018_seasons_10m_7x4bands_224px/sent2_2018_seasons_10m_7x4bands_224px.144.tif to /content/drive/MyDrive/AI_WENR/data/tiles/temp/train/features/sent2_2018_seasons_10m_7x4bands_224px.144.tif\n",
      "Copying /content/drive/MyDrive/AI_WENR/data/tiles/collection_1/labels/parcels_2018_10m_coded_76_224px/parcels_2018_10m_coded_76_224px.144.tif to /content/drive/MyDrive/AI_WENR/data/tiles/temp/train/labels/parcels_2018_10m_coded_76_224px.144.tif\n",
      "Copying /content/drive/MyDrive/AI_WENR/data/tiles/collection_1/features/sent2_2018_seasons_10m_7x4bands_224px/sent2_2018_seasons_10m_7x4bands_224px.34.tif to /content/drive/MyDrive/AI_WENR/data/tiles/temp/train/features/sent2_2018_seasons_10m_7x4bands_224px.34.tif\n",
      "Copying /content/drive/MyDrive/AI_WENR/data/tiles/collection_1/labels/parcels_2018_10m_coded_76_224px/parcels_2018_10m_coded_76_224px.34.tif to /content/drive/MyDrive/AI_WENR/data/tiles/temp/train/labels/parcels_2018_10m_coded_76_224px.34.tif\n",
      "Copying /content/drive/MyDrive/AI_WENR/data/tiles/collection_1/features/sent2_2018_seasons_10m_7x4bands_224px/sent2_2018_seasons_10m_7x4bands_224px.222.tif to /content/drive/MyDrive/AI_WENR/data/tiles/temp/train/features/sent2_2018_seasons_10m_7x4bands_224px.222.tif\n",
      "Copying /content/drive/MyDrive/AI_WENR/data/tiles/collection_1/labels/parcels_2018_10m_coded_76_224px/parcels_2018_10m_coded_76_224px.222.tif to /content/drive/MyDrive/AI_WENR/data/tiles/temp/train/labels/parcels_2018_10m_coded_76_224px.222.tif\n",
      "Copying /content/drive/MyDrive/AI_WENR/data/tiles/collection_1/features/sent2_2018_seasons_10m_7x4bands_224px/sent2_2018_seasons_10m_7x4bands_224px.183.tif to /content/drive/MyDrive/AI_WENR/data/tiles/temp/train/features/sent2_2018_seasons_10m_7x4bands_224px.183.tif\n",
      "Copying /content/drive/MyDrive/AI_WENR/data/tiles/collection_1/labels/parcels_2018_10m_coded_76_224px/parcels_2018_10m_coded_76_224px.183.tif to /content/drive/MyDrive/AI_WENR/data/tiles/temp/train/labels/parcels_2018_10m_coded_76_224px.183.tif\n",
      "Copying /content/drive/MyDrive/AI_WENR/data/tiles/collection_1/features/sent2_2018_seasons_10m_7x4bands_224px/sent2_2018_seasons_10m_7x4bands_224px.12.tif to /content/drive/MyDrive/AI_WENR/data/tiles/temp/train/features/sent2_2018_seasons_10m_7x4bands_224px.12.tif\n",
      "Copying /content/drive/MyDrive/AI_WENR/data/tiles/collection_1/labels/parcels_2018_10m_coded_76_224px/parcels_2018_10m_coded_76_224px.12.tif to /content/drive/MyDrive/AI_WENR/data/tiles/temp/train/labels/parcels_2018_10m_coded_76_224px.12.tif\n",
      "Copying /content/drive/MyDrive/AI_WENR/data/tiles/collection_1/features/sent2_2018_seasons_10m_7x4bands_224px/sent2_2018_seasons_10m_7x4bands_224px.201.tif to /content/drive/MyDrive/AI_WENR/data/tiles/temp/train/features/sent2_2018_seasons_10m_7x4bands_224px.201.tif\n",
      "Copying /content/drive/MyDrive/AI_WENR/data/tiles/collection_1/labels/parcels_2018_10m_coded_76_224px/parcels_2018_10m_coded_76_224px.201.tif to /content/drive/MyDrive/AI_WENR/data/tiles/temp/train/labels/parcels_2018_10m_coded_76_224px.201.tif\n",
      "Copying /content/drive/MyDrive/AI_WENR/data/tiles/collection_1/features/sent2_2018_seasons_10m_7x4bands_224px/sent2_2018_seasons_10m_7x4bands_224px.185.tif to /content/drive/MyDrive/AI_WENR/data/tiles/temp/train/features/sent2_2018_seasons_10m_7x4bands_224px.185.tif\n",
      "Copying /content/drive/MyDrive/AI_WENR/data/tiles/collection_1/labels/parcels_2018_10m_coded_76_224px/parcels_2018_10m_coded_76_224px.185.tif to /content/drive/MyDrive/AI_WENR/data/tiles/temp/train/labels/parcels_2018_10m_coded_76_224px.185.tif\n",
      "Copying /content/drive/MyDrive/AI_WENR/data/tiles/collection_1/features/sent2_2018_seasons_10m_7x4bands_224px/sent2_2018_seasons_10m_7x4bands_224px.148.tif to /content/drive/MyDrive/AI_WENR/data/tiles/temp/train/features/sent2_2018_seasons_10m_7x4bands_224px.148.tif\n",
      "Copying /content/drive/MyDrive/AI_WENR/data/tiles/collection_1/labels/parcels_2018_10m_coded_76_224px/parcels_2018_10m_coded_76_224px.148.tif to /content/drive/MyDrive/AI_WENR/data/tiles/temp/train/labels/parcels_2018_10m_coded_76_224px.148.tif\n",
      "Copying /content/drive/MyDrive/AI_WENR/data/tiles/collection_1/features/sent2_2018_seasons_10m_7x4bands_224px/sent2_2018_seasons_10m_7x4bands_224px.129.tif to /content/drive/MyDrive/AI_WENR/data/tiles/temp/train/features/sent2_2018_seasons_10m_7x4bands_224px.129.tif\n",
      "Copying /content/drive/MyDrive/AI_WENR/data/tiles/collection_1/labels/parcels_2018_10m_coded_76_224px/parcels_2018_10m_coded_76_224px.129.tif to /content/drive/MyDrive/AI_WENR/data/tiles/temp/train/labels/parcels_2018_10m_coded_76_224px.129.tif\n",
      "Copying /content/drive/MyDrive/AI_WENR/data/tiles/collection_1/features/sent2_2018_seasons_10m_7x4bands_224px/sent2_2018_seasons_10m_7x4bands_224px.51.tif to /content/drive/MyDrive/AI_WENR/data/tiles/temp/train/features/sent2_2018_seasons_10m_7x4bands_224px.51.tif\n",
      "Copying /content/drive/MyDrive/AI_WENR/data/tiles/collection_1/labels/parcels_2018_10m_coded_76_224px/parcels_2018_10m_coded_76_224px.51.tif to /content/drive/MyDrive/AI_WENR/data/tiles/temp/train/labels/parcels_2018_10m_coded_76_224px.51.tif\n",
      "Copying /content/drive/MyDrive/AI_WENR/data/tiles/collection_1/features/sent2_2018_seasons_10m_7x4bands_224px/sent2_2018_seasons_10m_7x4bands_224px.145.tif to /content/drive/MyDrive/AI_WENR/data/tiles/temp/train/features/sent2_2018_seasons_10m_7x4bands_224px.145.tif\n",
      "Copying /content/drive/MyDrive/AI_WENR/data/tiles/collection_1/labels/parcels_2018_10m_coded_76_224px/parcels_2018_10m_coded_76_224px.145.tif to /content/drive/MyDrive/AI_WENR/data/tiles/temp/train/labels/parcels_2018_10m_coded_76_224px.145.tif\n",
      "Copying /content/drive/MyDrive/AI_WENR/data/tiles/collection_1/features/sent2_2018_seasons_10m_7x4bands_224px/sent2_2018_seasons_10m_7x4bands_224px.78.tif to /content/drive/MyDrive/AI_WENR/data/tiles/temp/train/features/sent2_2018_seasons_10m_7x4bands_224px.78.tif\n",
      "Copying /content/drive/MyDrive/AI_WENR/data/tiles/collection_1/labels/parcels_2018_10m_coded_76_224px/parcels_2018_10m_coded_76_224px.78.tif to /content/drive/MyDrive/AI_WENR/data/tiles/temp/train/labels/parcels_2018_10m_coded_76_224px.78.tif\n",
      "Copying /content/drive/MyDrive/AI_WENR/data/tiles/collection_1/features/sent2_2018_seasons_10m_7x4bands_224px/sent2_2018_seasons_10m_7x4bands_224px.66.tif to /content/drive/MyDrive/AI_WENR/data/tiles/temp/train/features/sent2_2018_seasons_10m_7x4bands_224px.66.tif\n",
      "Copying /content/drive/MyDrive/AI_WENR/data/tiles/collection_1/labels/parcels_2018_10m_coded_76_224px/parcels_2018_10m_coded_76_224px.66.tif to /content/drive/MyDrive/AI_WENR/data/tiles/temp/train/labels/parcels_2018_10m_coded_76_224px.66.tif\n",
      "Copying /content/drive/MyDrive/AI_WENR/data/tiles/collection_1/features/sent2_2018_seasons_10m_7x4bands_224px/sent2_2018_seasons_10m_7x4bands_224px.82.tif to /content/drive/MyDrive/AI_WENR/data/tiles/temp/train/features/sent2_2018_seasons_10m_7x4bands_224px.82.tif\n",
      "Copying /content/drive/MyDrive/AI_WENR/data/tiles/collection_1/labels/parcels_2018_10m_coded_76_224px/parcels_2018_10m_coded_76_224px.82.tif to /content/drive/MyDrive/AI_WENR/data/tiles/temp/train/labels/parcels_2018_10m_coded_76_224px.82.tif\n",
      "Copying /content/drive/MyDrive/AI_WENR/data/tiles/collection_1/features/sent2_2018_seasons_10m_7x4bands_224px/sent2_2018_seasons_10m_7x4bands_224px.94.tif to /content/drive/MyDrive/AI_WENR/data/tiles/temp/train/features/sent2_2018_seasons_10m_7x4bands_224px.94.tif\n",
      "Copying /content/drive/MyDrive/AI_WENR/data/tiles/collection_1/labels/parcels_2018_10m_coded_76_224px/parcels_2018_10m_coded_76_224px.94.tif to /content/drive/MyDrive/AI_WENR/data/tiles/temp/train/labels/parcels_2018_10m_coded_76_224px.94.tif\n",
      "Copying /content/drive/MyDrive/AI_WENR/data/tiles/collection_1/features/sent2_2018_seasons_10m_7x4bands_224px/sent2_2018_seasons_10m_7x4bands_224px.18.tif to /content/drive/MyDrive/AI_WENR/data/tiles/temp/train/features/sent2_2018_seasons_10m_7x4bands_224px.18.tif\n",
      "Copying /content/drive/MyDrive/AI_WENR/data/tiles/collection_1/labels/parcels_2018_10m_coded_76_224px/parcels_2018_10m_coded_76_224px.18.tif to /content/drive/MyDrive/AI_WENR/data/tiles/temp/train/labels/parcels_2018_10m_coded_76_224px.18.tif\n",
      "Copying /content/drive/MyDrive/AI_WENR/data/tiles/collection_1/features/sent2_2018_seasons_10m_7x4bands_224px/sent2_2018_seasons_10m_7x4bands_224px.0.tif to /content/drive/MyDrive/AI_WENR/data/tiles/temp/train/features/sent2_2018_seasons_10m_7x4bands_224px.0.tif\n",
      "Copying /content/drive/MyDrive/AI_WENR/data/tiles/collection_1/labels/parcels_2018_10m_coded_76_224px/parcels_2018_10m_coded_76_224px.0.tif to /content/drive/MyDrive/AI_WENR/data/tiles/temp/train/labels/parcels_2018_10m_coded_76_224px.0.tif\n",
      "Copying /content/drive/MyDrive/AI_WENR/data/tiles/collection_1/features/sent2_2018_seasons_10m_7x4bands_224px/sent2_2018_seasons_10m_7x4bands_224px.213.tif to /content/drive/MyDrive/AI_WENR/data/tiles/temp/train/features/sent2_2018_seasons_10m_7x4bands_224px.213.tif\n",
      "Copying /content/drive/MyDrive/AI_WENR/data/tiles/collection_1/labels/parcels_2018_10m_coded_76_224px/parcels_2018_10m_coded_76_224px.213.tif to /content/drive/MyDrive/AI_WENR/data/tiles/temp/train/labels/parcels_2018_10m_coded_76_224px.213.tif\n",
      "Copying /content/drive/MyDrive/AI_WENR/data/tiles/collection_1/features/sent2_2018_seasons_10m_7x4bands_224px/sent2_2018_seasons_10m_7x4bands_224px.14.tif to /content/drive/MyDrive/AI_WENR/data/tiles/temp/train/features/sent2_2018_seasons_10m_7x4bands_224px.14.tif\n",
      "Copying /content/drive/MyDrive/AI_WENR/data/tiles/collection_1/labels/parcels_2018_10m_coded_76_224px/parcels_2018_10m_coded_76_224px.14.tif to /content/drive/MyDrive/AI_WENR/data/tiles/temp/train/labels/parcels_2018_10m_coded_76_224px.14.tif\n",
      "Copying /content/drive/MyDrive/AI_WENR/data/tiles/collection_1/features/sent2_2018_seasons_10m_7x4bands_224px/sent2_2018_seasons_10m_7x4bands_224px.89.tif to /content/drive/MyDrive/AI_WENR/data/tiles/temp/train/features/sent2_2018_seasons_10m_7x4bands_224px.89.tif\n",
      "Copying /content/drive/MyDrive/AI_WENR/data/tiles/collection_1/labels/parcels_2018_10m_coded_76_224px/parcels_2018_10m_coded_76_224px.89.tif to /content/drive/MyDrive/AI_WENR/data/tiles/temp/train/labels/parcels_2018_10m_coded_76_224px.89.tif\n",
      "Copying /content/drive/MyDrive/AI_WENR/data/tiles/collection_1/features/sent2_2018_seasons_10m_7x4bands_224px/sent2_2018_seasons_10m_7x4bands_224px.154.tif to /content/drive/MyDrive/AI_WENR/data/tiles/temp/train/features/sent2_2018_seasons_10m_7x4bands_224px.154.tif\n",
      "Copying /content/drive/MyDrive/AI_WENR/data/tiles/collection_1/labels/parcels_2018_10m_coded_76_224px/parcels_2018_10m_coded_76_224px.154.tif to /content/drive/MyDrive/AI_WENR/data/tiles/temp/train/labels/parcels_2018_10m_coded_76_224px.154.tif\n",
      "Copying /content/drive/MyDrive/AI_WENR/data/tiles/collection_1/features/sent2_2018_seasons_10m_7x4bands_224px/sent2_2018_seasons_10m_7x4bands_224px.1.tif to /content/drive/MyDrive/AI_WENR/data/tiles/temp/train/features/sent2_2018_seasons_10m_7x4bands_224px.1.tif\n",
      "Copying /content/drive/MyDrive/AI_WENR/data/tiles/collection_1/labels/parcels_2018_10m_coded_76_224px/parcels_2018_10m_coded_76_224px.1.tif to /content/drive/MyDrive/AI_WENR/data/tiles/temp/train/labels/parcels_2018_10m_coded_76_224px.1.tif\n",
      "Copying /content/drive/MyDrive/AI_WENR/data/tiles/collection_1/features/sent2_2018_seasons_10m_7x4bands_224px/sent2_2018_seasons_10m_7x4bands_224px.112.tif to /content/drive/MyDrive/AI_WENR/data/tiles/temp/train/features/sent2_2018_seasons_10m_7x4bands_224px.112.tif\n",
      "Copying /content/drive/MyDrive/AI_WENR/data/tiles/collection_1/labels/parcels_2018_10m_coded_76_224px/parcels_2018_10m_coded_76_224px.112.tif to /content/drive/MyDrive/AI_WENR/data/tiles/temp/train/labels/parcels_2018_10m_coded_76_224px.112.tif\n",
      "Copying /content/drive/MyDrive/AI_WENR/data/tiles/collection_1/features/sent2_2018_seasons_10m_7x4bands_224px/sent2_2018_seasons_10m_7x4bands_224px.196.tif to /content/drive/MyDrive/AI_WENR/data/tiles/temp/train/features/sent2_2018_seasons_10m_7x4bands_224px.196.tif\n",
      "Copying /content/drive/MyDrive/AI_WENR/data/tiles/collection_1/labels/parcels_2018_10m_coded_76_224px/parcels_2018_10m_coded_76_224px.196.tif to /content/drive/MyDrive/AI_WENR/data/tiles/temp/train/labels/parcels_2018_10m_coded_76_224px.196.tif\n",
      "Copying /content/drive/MyDrive/AI_WENR/data/tiles/collection_1/features/sent2_2018_seasons_10m_7x4bands_224px/sent2_2018_seasons_10m_7x4bands_224px.100.tif to /content/drive/MyDrive/AI_WENR/data/tiles/temp/train/features/sent2_2018_seasons_10m_7x4bands_224px.100.tif\n",
      "Copying /content/drive/MyDrive/AI_WENR/data/tiles/collection_1/labels/parcels_2018_10m_coded_76_224px/parcels_2018_10m_coded_76_224px.100.tif to /content/drive/MyDrive/AI_WENR/data/tiles/temp/train/labels/parcels_2018_10m_coded_76_224px.100.tif\n",
      "Copying /content/drive/MyDrive/AI_WENR/data/tiles/collection_1/features/sent2_2018_seasons_10m_7x4bands_224px/sent2_2018_seasons_10m_7x4bands_224px.26.tif to /content/drive/MyDrive/AI_WENR/data/tiles/temp/train/features/sent2_2018_seasons_10m_7x4bands_224px.26.tif\n",
      "Copying /content/drive/MyDrive/AI_WENR/data/tiles/collection_1/labels/parcels_2018_10m_coded_76_224px/parcels_2018_10m_coded_76_224px.26.tif to /content/drive/MyDrive/AI_WENR/data/tiles/temp/train/labels/parcels_2018_10m_coded_76_224px.26.tif\n",
      "Copying /content/drive/MyDrive/AI_WENR/data/tiles/collection_1/features/sent2_2018_seasons_10m_7x4bands_224px/sent2_2018_seasons_10m_7x4bands_224px.68.tif to /content/drive/MyDrive/AI_WENR/data/tiles/temp/train/features/sent2_2018_seasons_10m_7x4bands_224px.68.tif\n",
      "Copying /content/drive/MyDrive/AI_WENR/data/tiles/collection_1/labels/parcels_2018_10m_coded_76_224px/parcels_2018_10m_coded_76_224px.68.tif to /content/drive/MyDrive/AI_WENR/data/tiles/temp/train/labels/parcels_2018_10m_coded_76_224px.68.tif\n",
      "Copying /content/drive/MyDrive/AI_WENR/data/tiles/collection_1/features/sent2_2018_seasons_10m_7x4bands_224px/sent2_2018_seasons_10m_7x4bands_224px.220.tif to /content/drive/MyDrive/AI_WENR/data/tiles/temp/train/features/sent2_2018_seasons_10m_7x4bands_224px.220.tif\n",
      "Copying /content/drive/MyDrive/AI_WENR/data/tiles/collection_1/labels/parcels_2018_10m_coded_76_224px/parcels_2018_10m_coded_76_224px.220.tif to /content/drive/MyDrive/AI_WENR/data/tiles/temp/train/labels/parcels_2018_10m_coded_76_224px.220.tif\n",
      "Copying /content/drive/MyDrive/AI_WENR/data/tiles/collection_1/features/sent2_2018_seasons_10m_7x4bands_224px/sent2_2018_seasons_10m_7x4bands_224px.86.tif to /content/drive/MyDrive/AI_WENR/data/tiles/temp/train/features/sent2_2018_seasons_10m_7x4bands_224px.86.tif\n",
      "Copying /content/drive/MyDrive/AI_WENR/data/tiles/collection_1/labels/parcels_2018_10m_coded_76_224px/parcels_2018_10m_coded_76_224px.86.tif to /content/drive/MyDrive/AI_WENR/data/tiles/temp/train/labels/parcels_2018_10m_coded_76_224px.86.tif\n",
      "Copying /content/drive/MyDrive/AI_WENR/data/tiles/collection_1/features/sent2_2018_seasons_10m_7x4bands_224px/sent2_2018_seasons_10m_7x4bands_224px.46.tif to /content/drive/MyDrive/AI_WENR/data/tiles/temp/train/features/sent2_2018_seasons_10m_7x4bands_224px.46.tif\n",
      "Copying /content/drive/MyDrive/AI_WENR/data/tiles/collection_1/labels/parcels_2018_10m_coded_76_224px/parcels_2018_10m_coded_76_224px.46.tif to /content/drive/MyDrive/AI_WENR/data/tiles/temp/train/labels/parcels_2018_10m_coded_76_224px.46.tif\n",
      "Copying /content/drive/MyDrive/AI_WENR/data/tiles/collection_1/features/sent2_2018_seasons_10m_7x4bands_224px/sent2_2018_seasons_10m_7x4bands_224px.11.tif to /content/drive/MyDrive/AI_WENR/data/tiles/temp/train/features/sent2_2018_seasons_10m_7x4bands_224px.11.tif\n",
      "Copying /content/drive/MyDrive/AI_WENR/data/tiles/collection_1/labels/parcels_2018_10m_coded_76_224px/parcels_2018_10m_coded_76_224px.11.tif to /content/drive/MyDrive/AI_WENR/data/tiles/temp/train/labels/parcels_2018_10m_coded_76_224px.11.tif\n",
      "Copying /content/drive/MyDrive/AI_WENR/data/tiles/collection_1/features/sent2_2018_seasons_10m_7x4bands_224px/sent2_2018_seasons_10m_7x4bands_224px.188.tif to /content/drive/MyDrive/AI_WENR/data/tiles/temp/train/features/sent2_2018_seasons_10m_7x4bands_224px.188.tif\n",
      "Copying /content/drive/MyDrive/AI_WENR/data/tiles/collection_1/labels/parcels_2018_10m_coded_76_224px/parcels_2018_10m_coded_76_224px.188.tif to /content/drive/MyDrive/AI_WENR/data/tiles/temp/train/labels/parcels_2018_10m_coded_76_224px.188.tif\n",
      "Copying /content/drive/MyDrive/AI_WENR/data/tiles/collection_1/features/sent2_2018_seasons_10m_7x4bands_224px/sent2_2018_seasons_10m_7x4bands_224px.219.tif to /content/drive/MyDrive/AI_WENR/data/tiles/temp/train/features/sent2_2018_seasons_10m_7x4bands_224px.219.tif\n",
      "Copying /content/drive/MyDrive/AI_WENR/data/tiles/collection_1/labels/parcels_2018_10m_coded_76_224px/parcels_2018_10m_coded_76_224px.219.tif to /content/drive/MyDrive/AI_WENR/data/tiles/temp/train/labels/parcels_2018_10m_coded_76_224px.219.tif\n",
      "Copying /content/drive/MyDrive/AI_WENR/data/tiles/collection_1/features/sent2_2018_seasons_10m_7x4bands_224px/sent2_2018_seasons_10m_7x4bands_224px.30.tif to /content/drive/MyDrive/AI_WENR/data/tiles/temp/train/features/sent2_2018_seasons_10m_7x4bands_224px.30.tif\n",
      "Copying /content/drive/MyDrive/AI_WENR/data/tiles/collection_1/labels/parcels_2018_10m_coded_76_224px/parcels_2018_10m_coded_76_224px.30.tif to /content/drive/MyDrive/AI_WENR/data/tiles/temp/train/labels/parcels_2018_10m_coded_76_224px.30.tif\n",
      "Copying /content/drive/MyDrive/AI_WENR/data/tiles/collection_1/features/sent2_2018_seasons_10m_7x4bands_224px/sent2_2018_seasons_10m_7x4bands_224px.88.tif to /content/drive/MyDrive/AI_WENR/data/tiles/temp/train/features/sent2_2018_seasons_10m_7x4bands_224px.88.tif\n",
      "Copying /content/drive/MyDrive/AI_WENR/data/tiles/collection_1/labels/parcels_2018_10m_coded_76_224px/parcels_2018_10m_coded_76_224px.88.tif to /content/drive/MyDrive/AI_WENR/data/tiles/temp/train/labels/parcels_2018_10m_coded_76_224px.88.tif\n",
      "Copying /content/drive/MyDrive/AI_WENR/data/tiles/collection_1/features/sent2_2018_seasons_10m_7x4bands_224px/sent2_2018_seasons_10m_7x4bands_224px.45.tif to /content/drive/MyDrive/AI_WENR/data/tiles/temp/train/features/sent2_2018_seasons_10m_7x4bands_224px.45.tif\n",
      "Copying /content/drive/MyDrive/AI_WENR/data/tiles/collection_1/labels/parcels_2018_10m_coded_76_224px/parcels_2018_10m_coded_76_224px.45.tif to /content/drive/MyDrive/AI_WENR/data/tiles/temp/train/labels/parcels_2018_10m_coded_76_224px.45.tif\n",
      "Copying /content/drive/MyDrive/AI_WENR/data/tiles/collection_1/features/sent2_2018_seasons_10m_7x4bands_224px/sent2_2018_seasons_10m_7x4bands_224px.217.tif to /content/drive/MyDrive/AI_WENR/data/tiles/temp/train/features/sent2_2018_seasons_10m_7x4bands_224px.217.tif\n",
      "Copying /content/drive/MyDrive/AI_WENR/data/tiles/collection_1/labels/parcels_2018_10m_coded_76_224px/parcels_2018_10m_coded_76_224px.217.tif to /content/drive/MyDrive/AI_WENR/data/tiles/temp/train/labels/parcels_2018_10m_coded_76_224px.217.tif\n",
      "Copying /content/drive/MyDrive/AI_WENR/data/tiles/collection_1/features/sent2_2018_seasons_10m_7x4bands_224px/sent2_2018_seasons_10m_7x4bands_224px.176.tif to /content/drive/MyDrive/AI_WENR/data/tiles/temp/train/features/sent2_2018_seasons_10m_7x4bands_224px.176.tif\n",
      "Copying /content/drive/MyDrive/AI_WENR/data/tiles/collection_1/labels/parcels_2018_10m_coded_76_224px/parcels_2018_10m_coded_76_224px.176.tif to /content/drive/MyDrive/AI_WENR/data/tiles/temp/train/labels/parcels_2018_10m_coded_76_224px.176.tif\n",
      "Copying /content/drive/MyDrive/AI_WENR/data/tiles/collection_1/features/sent2_2018_seasons_10m_7x4bands_224px/sent2_2018_seasons_10m_7x4bands_224px.41.tif to /content/drive/MyDrive/AI_WENR/data/tiles/temp/train/features/sent2_2018_seasons_10m_7x4bands_224px.41.tif\n",
      "Copying /content/drive/MyDrive/AI_WENR/data/tiles/collection_1/labels/parcels_2018_10m_coded_76_224px/parcels_2018_10m_coded_76_224px.41.tif to /content/drive/MyDrive/AI_WENR/data/tiles/temp/train/labels/parcels_2018_10m_coded_76_224px.41.tif\n",
      "Copying /content/drive/MyDrive/AI_WENR/data/tiles/collection_1/features/sent2_2018_seasons_10m_7x4bands_224px/sent2_2018_seasons_10m_7x4bands_224px.191.tif to /content/drive/MyDrive/AI_WENR/data/tiles/temp/train/features/sent2_2018_seasons_10m_7x4bands_224px.191.tif\n",
      "Copying /content/drive/MyDrive/AI_WENR/data/tiles/collection_1/labels/parcels_2018_10m_coded_76_224px/parcels_2018_10m_coded_76_224px.191.tif to /content/drive/MyDrive/AI_WENR/data/tiles/temp/train/labels/parcels_2018_10m_coded_76_224px.191.tif\n",
      "Copying /content/drive/MyDrive/AI_WENR/data/tiles/collection_1/features/sent2_2018_seasons_10m_7x4bands_224px/sent2_2018_seasons_10m_7x4bands_224px.8.tif to /content/drive/MyDrive/AI_WENR/data/tiles/temp/train/features/sent2_2018_seasons_10m_7x4bands_224px.8.tif\n",
      "Copying /content/drive/MyDrive/AI_WENR/data/tiles/collection_1/labels/parcels_2018_10m_coded_76_224px/parcels_2018_10m_coded_76_224px.8.tif to /content/drive/MyDrive/AI_WENR/data/tiles/temp/train/labels/parcels_2018_10m_coded_76_224px.8.tif\n",
      "Copying /content/drive/MyDrive/AI_WENR/data/tiles/collection_1/features/sent2_2018_seasons_10m_7x4bands_224px/sent2_2018_seasons_10m_7x4bands_224px.107.tif to /content/drive/MyDrive/AI_WENR/data/tiles/temp/train/features/sent2_2018_seasons_10m_7x4bands_224px.107.tif\n",
      "Copying /content/drive/MyDrive/AI_WENR/data/tiles/collection_1/labels/parcels_2018_10m_coded_76_224px/parcels_2018_10m_coded_76_224px.107.tif to /content/drive/MyDrive/AI_WENR/data/tiles/temp/train/labels/parcels_2018_10m_coded_76_224px.107.tif\n",
      "Copying /content/drive/MyDrive/AI_WENR/data/tiles/collection_1/features/sent2_2018_seasons_10m_7x4bands_224px/sent2_2018_seasons_10m_7x4bands_224px.116.tif to /content/drive/MyDrive/AI_WENR/data/tiles/temp/train/features/sent2_2018_seasons_10m_7x4bands_224px.116.tif\n",
      "Copying /content/drive/MyDrive/AI_WENR/data/tiles/collection_1/labels/parcels_2018_10m_coded_76_224px/parcels_2018_10m_coded_76_224px.116.tif to /content/drive/MyDrive/AI_WENR/data/tiles/temp/train/labels/parcels_2018_10m_coded_76_224px.116.tif\n",
      "Copying /content/drive/MyDrive/AI_WENR/data/tiles/collection_1/features/sent2_2018_seasons_10m_7x4bands_224px/sent2_2018_seasons_10m_7x4bands_224px.177.tif to /content/drive/MyDrive/AI_WENR/data/tiles/temp/train/features/sent2_2018_seasons_10m_7x4bands_224px.177.tif\n",
      "Copying /content/drive/MyDrive/AI_WENR/data/tiles/collection_1/labels/parcels_2018_10m_coded_76_224px/parcels_2018_10m_coded_76_224px.177.tif to /content/drive/MyDrive/AI_WENR/data/tiles/temp/train/labels/parcels_2018_10m_coded_76_224px.177.tif\n",
      "Copying /content/drive/MyDrive/AI_WENR/data/tiles/collection_1/features/sent2_2018_seasons_10m_7x4bands_224px/sent2_2018_seasons_10m_7x4bands_224px.115.tif to /content/drive/MyDrive/AI_WENR/data/tiles/temp/train/features/sent2_2018_seasons_10m_7x4bands_224px.115.tif\n",
      "Copying /content/drive/MyDrive/AI_WENR/data/tiles/collection_1/labels/parcels_2018_10m_coded_76_224px/parcels_2018_10m_coded_76_224px.115.tif to /content/drive/MyDrive/AI_WENR/data/tiles/temp/train/labels/parcels_2018_10m_coded_76_224px.115.tif\n",
      "Copying /content/drive/MyDrive/AI_WENR/data/tiles/collection_1/features/sent2_2018_seasons_10m_7x4bands_224px/sent2_2018_seasons_10m_7x4bands_224px.101.tif to /content/drive/MyDrive/AI_WENR/data/tiles/temp/train/features/sent2_2018_seasons_10m_7x4bands_224px.101.tif\n",
      "Copying /content/drive/MyDrive/AI_WENR/data/tiles/collection_1/labels/parcels_2018_10m_coded_76_224px/parcels_2018_10m_coded_76_224px.101.tif to /content/drive/MyDrive/AI_WENR/data/tiles/temp/train/labels/parcels_2018_10m_coded_76_224px.101.tif\n",
      "Copying /content/drive/MyDrive/AI_WENR/data/tiles/collection_1/features/sent2_2018_seasons_10m_7x4bands_224px/sent2_2018_seasons_10m_7x4bands_224px.192.tif to /content/drive/MyDrive/AI_WENR/data/tiles/temp/train/features/sent2_2018_seasons_10m_7x4bands_224px.192.tif\n",
      "Copying /content/drive/MyDrive/AI_WENR/data/tiles/collection_1/labels/parcels_2018_10m_coded_76_224px/parcels_2018_10m_coded_76_224px.192.tif to /content/drive/MyDrive/AI_WENR/data/tiles/temp/train/labels/parcels_2018_10m_coded_76_224px.192.tif\n",
      "Copying /content/drive/MyDrive/AI_WENR/data/tiles/collection_1/features/sent2_2018_seasons_10m_7x4bands_224px/sent2_2018_seasons_10m_7x4bands_224px.119.tif to /content/drive/MyDrive/AI_WENR/data/tiles/temp/train/features/sent2_2018_seasons_10m_7x4bands_224px.119.tif\n",
      "Copying /content/drive/MyDrive/AI_WENR/data/tiles/collection_1/labels/parcels_2018_10m_coded_76_224px/parcels_2018_10m_coded_76_224px.119.tif to /content/drive/MyDrive/AI_WENR/data/tiles/temp/train/labels/parcels_2018_10m_coded_76_224px.119.tif\n",
      "Copying /content/drive/MyDrive/AI_WENR/data/tiles/collection_1/features/sent2_2018_seasons_10m_7x4bands_224px/sent2_2018_seasons_10m_7x4bands_224px.73.tif to /content/drive/MyDrive/AI_WENR/data/tiles/temp/train/features/sent2_2018_seasons_10m_7x4bands_224px.73.tif\n",
      "Copying /content/drive/MyDrive/AI_WENR/data/tiles/collection_1/labels/parcels_2018_10m_coded_76_224px/parcels_2018_10m_coded_76_224px.73.tif to /content/drive/MyDrive/AI_WENR/data/tiles/temp/train/labels/parcels_2018_10m_coded_76_224px.73.tif\n",
      "Copying /content/drive/MyDrive/AI_WENR/data/tiles/collection_1/features/sent2_2018_seasons_10m_7x4bands_224px/sent2_2018_seasons_10m_7x4bands_224px.44.tif to /content/drive/MyDrive/AI_WENR/data/tiles/temp/train/features/sent2_2018_seasons_10m_7x4bands_224px.44.tif\n",
      "Copying /content/drive/MyDrive/AI_WENR/data/tiles/collection_1/labels/parcels_2018_10m_coded_76_224px/parcels_2018_10m_coded_76_224px.44.tif to /content/drive/MyDrive/AI_WENR/data/tiles/temp/train/labels/parcels_2018_10m_coded_76_224px.44.tif\n",
      "Copying /content/drive/MyDrive/AI_WENR/data/tiles/collection_1/features/sent2_2018_seasons_10m_7x4bands_224px/sent2_2018_seasons_10m_7x4bands_224px.161.tif to /content/drive/MyDrive/AI_WENR/data/tiles/temp/train/features/sent2_2018_seasons_10m_7x4bands_224px.161.tif\n",
      "Copying /content/drive/MyDrive/AI_WENR/data/tiles/collection_1/labels/parcels_2018_10m_coded_76_224px/parcels_2018_10m_coded_76_224px.161.tif to /content/drive/MyDrive/AI_WENR/data/tiles/temp/train/labels/parcels_2018_10m_coded_76_224px.161.tif\n",
      "Copying /content/drive/MyDrive/AI_WENR/data/tiles/collection_1/features/sent2_2018_seasons_10m_7x4bands_224px/sent2_2018_seasons_10m_7x4bands_224px.187.tif to /content/drive/MyDrive/AI_WENR/data/tiles/temp/train/features/sent2_2018_seasons_10m_7x4bands_224px.187.tif\n",
      "Copying /content/drive/MyDrive/AI_WENR/data/tiles/collection_1/labels/parcels_2018_10m_coded_76_224px/parcels_2018_10m_coded_76_224px.187.tif to /content/drive/MyDrive/AI_WENR/data/tiles/temp/train/labels/parcels_2018_10m_coded_76_224px.187.tif\n",
      "Copying /content/drive/MyDrive/AI_WENR/data/tiles/collection_1/features/sent2_2018_seasons_10m_7x4bands_224px/sent2_2018_seasons_10m_7x4bands_224px.142.tif to /content/drive/MyDrive/AI_WENR/data/tiles/temp/train/features/sent2_2018_seasons_10m_7x4bands_224px.142.tif\n",
      "Copying /content/drive/MyDrive/AI_WENR/data/tiles/collection_1/labels/parcels_2018_10m_coded_76_224px/parcels_2018_10m_coded_76_224px.142.tif to /content/drive/MyDrive/AI_WENR/data/tiles/temp/train/labels/parcels_2018_10m_coded_76_224px.142.tif\n",
      "Copying /content/drive/MyDrive/AI_WENR/data/tiles/collection_1/features/sent2_2018_seasons_10m_7x4bands_224px/sent2_2018_seasons_10m_7x4bands_224px.48.tif to /content/drive/MyDrive/AI_WENR/data/tiles/temp/train/features/sent2_2018_seasons_10m_7x4bands_224px.48.tif\n",
      "Copying /content/drive/MyDrive/AI_WENR/data/tiles/collection_1/labels/parcels_2018_10m_coded_76_224px/parcels_2018_10m_coded_76_224px.48.tif to /content/drive/MyDrive/AI_WENR/data/tiles/temp/train/labels/parcels_2018_10m_coded_76_224px.48.tif\n",
      "Copying /content/drive/MyDrive/AI_WENR/data/tiles/collection_1/features/sent2_2018_seasons_10m_7x4bands_224px/sent2_2018_seasons_10m_7x4bands_224px.207.tif to /content/drive/MyDrive/AI_WENR/data/tiles/temp/train/features/sent2_2018_seasons_10m_7x4bands_224px.207.tif\n",
      "Copying /content/drive/MyDrive/AI_WENR/data/tiles/collection_1/labels/parcels_2018_10m_coded_76_224px/parcels_2018_10m_coded_76_224px.207.tif to /content/drive/MyDrive/AI_WENR/data/tiles/temp/train/labels/parcels_2018_10m_coded_76_224px.207.tif\n",
      "Copying /content/drive/MyDrive/AI_WENR/data/tiles/collection_1/features/sent2_2018_seasons_10m_7x4bands_224px/sent2_2018_seasons_10m_7x4bands_224px.4.tif to /content/drive/MyDrive/AI_WENR/data/tiles/temp/train/features/sent2_2018_seasons_10m_7x4bands_224px.4.tif\n",
      "Copying /content/drive/MyDrive/AI_WENR/data/tiles/collection_1/labels/parcels_2018_10m_coded_76_224px/parcels_2018_10m_coded_76_224px.4.tif to /content/drive/MyDrive/AI_WENR/data/tiles/temp/train/labels/parcels_2018_10m_coded_76_224px.4.tif\n",
      "Copying /content/drive/MyDrive/AI_WENR/data/tiles/collection_1/features/sent2_2018_seasons_10m_7x4bands_224px/sent2_2018_seasons_10m_7x4bands_224px.22.tif to /content/drive/MyDrive/AI_WENR/data/tiles/temp/train/features/sent2_2018_seasons_10m_7x4bands_224px.22.tif\n",
      "Copying /content/drive/MyDrive/AI_WENR/data/tiles/collection_1/labels/parcels_2018_10m_coded_76_224px/parcels_2018_10m_coded_76_224px.22.tif to /content/drive/MyDrive/AI_WENR/data/tiles/temp/train/labels/parcels_2018_10m_coded_76_224px.22.tif\n",
      "Copying /content/drive/MyDrive/AI_WENR/data/tiles/collection_1/features/sent2_2018_seasons_10m_7x4bands_224px/sent2_2018_seasons_10m_7x4bands_224px.138.tif to /content/drive/MyDrive/AI_WENR/data/tiles/temp/train/features/sent2_2018_seasons_10m_7x4bands_224px.138.tif\n",
      "Copying /content/drive/MyDrive/AI_WENR/data/tiles/collection_1/labels/parcels_2018_10m_coded_76_224px/parcels_2018_10m_coded_76_224px.138.tif to /content/drive/MyDrive/AI_WENR/data/tiles/temp/train/labels/parcels_2018_10m_coded_76_224px.138.tif\n",
      "Copying /content/drive/MyDrive/AI_WENR/data/tiles/collection_1/features/sent2_2018_seasons_10m_7x4bands_224px/sent2_2018_seasons_10m_7x4bands_224px.62.tif to /content/drive/MyDrive/AI_WENR/data/tiles/temp/train/features/sent2_2018_seasons_10m_7x4bands_224px.62.tif\n",
      "Copying /content/drive/MyDrive/AI_WENR/data/tiles/collection_1/labels/parcels_2018_10m_coded_76_224px/parcels_2018_10m_coded_76_224px.62.tif to /content/drive/MyDrive/AI_WENR/data/tiles/temp/train/labels/parcels_2018_10m_coded_76_224px.62.tif\n",
      "Copying /content/drive/MyDrive/AI_WENR/data/tiles/collection_1/features/sent2_2018_seasons_10m_7x4bands_224px/sent2_2018_seasons_10m_7x4bands_224px.175.tif to /content/drive/MyDrive/AI_WENR/data/tiles/temp/train/features/sent2_2018_seasons_10m_7x4bands_224px.175.tif\n",
      "Copying /content/drive/MyDrive/AI_WENR/data/tiles/collection_1/labels/parcels_2018_10m_coded_76_224px/parcels_2018_10m_coded_76_224px.175.tif to /content/drive/MyDrive/AI_WENR/data/tiles/temp/train/labels/parcels_2018_10m_coded_76_224px.175.tif\n",
      "Copying /content/drive/MyDrive/AI_WENR/data/tiles/collection_1/features/sent2_2018_seasons_10m_7x4bands_224px/sent2_2018_seasons_10m_7x4bands_224px.181.tif to /content/drive/MyDrive/AI_WENR/data/tiles/temp/train/features/sent2_2018_seasons_10m_7x4bands_224px.181.tif\n",
      "Copying /content/drive/MyDrive/AI_WENR/data/tiles/collection_1/labels/parcels_2018_10m_coded_76_224px/parcels_2018_10m_coded_76_224px.181.tif to /content/drive/MyDrive/AI_WENR/data/tiles/temp/train/labels/parcels_2018_10m_coded_76_224px.181.tif\n",
      "Copying /content/drive/MyDrive/AI_WENR/data/tiles/collection_1/features/sent2_2018_seasons_10m_7x4bands_224px/sent2_2018_seasons_10m_7x4bands_224px.195.tif to /content/drive/MyDrive/AI_WENR/data/tiles/temp/train/features/sent2_2018_seasons_10m_7x4bands_224px.195.tif\n",
      "Copying /content/drive/MyDrive/AI_WENR/data/tiles/collection_1/labels/parcels_2018_10m_coded_76_224px/parcels_2018_10m_coded_76_224px.195.tif to /content/drive/MyDrive/AI_WENR/data/tiles/temp/train/labels/parcels_2018_10m_coded_76_224px.195.tif\n",
      "Copying /content/drive/MyDrive/AI_WENR/data/tiles/collection_1/features/sent2_2018_seasons_10m_7x4bands_224px/sent2_2018_seasons_10m_7x4bands_224px.104.tif to /content/drive/MyDrive/AI_WENR/data/tiles/temp/train/features/sent2_2018_seasons_10m_7x4bands_224px.104.tif\n",
      "Copying /content/drive/MyDrive/AI_WENR/data/tiles/collection_1/labels/parcels_2018_10m_coded_76_224px/parcels_2018_10m_coded_76_224px.104.tif to /content/drive/MyDrive/AI_WENR/data/tiles/temp/train/labels/parcels_2018_10m_coded_76_224px.104.tif\n",
      "Copying /content/drive/MyDrive/AI_WENR/data/tiles/collection_1/features/sent2_2018_seasons_10m_7x4bands_224px/sent2_2018_seasons_10m_7x4bands_224px.33.tif to /content/drive/MyDrive/AI_WENR/data/tiles/temp/train/features/sent2_2018_seasons_10m_7x4bands_224px.33.tif\n",
      "Copying /content/drive/MyDrive/AI_WENR/data/tiles/collection_1/labels/parcels_2018_10m_coded_76_224px/parcels_2018_10m_coded_76_224px.33.tif to /content/drive/MyDrive/AI_WENR/data/tiles/temp/train/labels/parcels_2018_10m_coded_76_224px.33.tif\n",
      "Copying /content/drive/MyDrive/AI_WENR/data/tiles/collection_1/features/sent2_2018_seasons_10m_7x4bands_224px/sent2_2018_seasons_10m_7x4bands_224px.186.tif to /content/drive/MyDrive/AI_WENR/data/tiles/temp/train/features/sent2_2018_seasons_10m_7x4bands_224px.186.tif\n",
      "Copying /content/drive/MyDrive/AI_WENR/data/tiles/collection_1/labels/parcels_2018_10m_coded_76_224px/parcels_2018_10m_coded_76_224px.186.tif to /content/drive/MyDrive/AI_WENR/data/tiles/temp/train/labels/parcels_2018_10m_coded_76_224px.186.tif\n",
      "Copying /content/drive/MyDrive/AI_WENR/data/tiles/collection_1/features/sent2_2018_seasons_10m_7x4bands_224px/sent2_2018_seasons_10m_7x4bands_224px.111.tif to /content/drive/MyDrive/AI_WENR/data/tiles/temp/train/features/sent2_2018_seasons_10m_7x4bands_224px.111.tif\n",
      "Copying /content/drive/MyDrive/AI_WENR/data/tiles/collection_1/labels/parcels_2018_10m_coded_76_224px/parcels_2018_10m_coded_76_224px.111.tif to /content/drive/MyDrive/AI_WENR/data/tiles/temp/train/labels/parcels_2018_10m_coded_76_224px.111.tif\n",
      "Copying /content/drive/MyDrive/AI_WENR/data/tiles/collection_1/features/sent2_2018_seasons_10m_7x4bands_224px/sent2_2018_seasons_10m_7x4bands_224px.132.tif to /content/drive/MyDrive/AI_WENR/data/tiles/temp/train/features/sent2_2018_seasons_10m_7x4bands_224px.132.tif\n",
      "Copying /content/drive/MyDrive/AI_WENR/data/tiles/collection_1/labels/parcels_2018_10m_coded_76_224px/parcels_2018_10m_coded_76_224px.132.tif to /content/drive/MyDrive/AI_WENR/data/tiles/temp/train/labels/parcels_2018_10m_coded_76_224px.132.tif\n",
      "Copying /content/drive/MyDrive/AI_WENR/data/tiles/collection_1/features/sent2_2018_seasons_10m_7x4bands_224px/sent2_2018_seasons_10m_7x4bands_224px.158.tif to /content/drive/MyDrive/AI_WENR/data/tiles/temp/train/features/sent2_2018_seasons_10m_7x4bands_224px.158.tif\n",
      "Copying /content/drive/MyDrive/AI_WENR/data/tiles/collection_1/labels/parcels_2018_10m_coded_76_224px/parcels_2018_10m_coded_76_224px.158.tif to /content/drive/MyDrive/AI_WENR/data/tiles/temp/train/labels/parcels_2018_10m_coded_76_224px.158.tif\n",
      "Copying /content/drive/MyDrive/AI_WENR/data/tiles/collection_1/features/sent2_2018_seasons_10m_7x4bands_224px/sent2_2018_seasons_10m_7x4bands_224px.122.tif to /content/drive/MyDrive/AI_WENR/data/tiles/temp/train/features/sent2_2018_seasons_10m_7x4bands_224px.122.tif\n",
      "Copying /content/drive/MyDrive/AI_WENR/data/tiles/collection_1/labels/parcels_2018_10m_coded_76_224px/parcels_2018_10m_coded_76_224px.122.tif to /content/drive/MyDrive/AI_WENR/data/tiles/temp/train/labels/parcels_2018_10m_coded_76_224px.122.tif\n",
      "Copying /content/drive/MyDrive/AI_WENR/data/tiles/collection_1/features/sent2_2018_seasons_10m_7x4bands_224px/sent2_2018_seasons_10m_7x4bands_224px.31.tif to /content/drive/MyDrive/AI_WENR/data/tiles/temp/train/features/sent2_2018_seasons_10m_7x4bands_224px.31.tif\n",
      "Copying /content/drive/MyDrive/AI_WENR/data/tiles/collection_1/labels/parcels_2018_10m_coded_76_224px/parcels_2018_10m_coded_76_224px.31.tif to /content/drive/MyDrive/AI_WENR/data/tiles/temp/train/labels/parcels_2018_10m_coded_76_224px.31.tif\n",
      "Copying /content/drive/MyDrive/AI_WENR/data/tiles/collection_1/features/sent2_2018_seasons_10m_7x4bands_224px/sent2_2018_seasons_10m_7x4bands_224px.173.tif to /content/drive/MyDrive/AI_WENR/data/tiles/temp/train/features/sent2_2018_seasons_10m_7x4bands_224px.173.tif\n",
      "Copying /content/drive/MyDrive/AI_WENR/data/tiles/collection_1/labels/parcels_2018_10m_coded_76_224px/parcels_2018_10m_coded_76_224px.173.tif to /content/drive/MyDrive/AI_WENR/data/tiles/temp/train/labels/parcels_2018_10m_coded_76_224px.173.tif\n",
      "Copying /content/drive/MyDrive/AI_WENR/data/tiles/collection_1/features/sent2_2018_seasons_10m_7x4bands_224px/sent2_2018_seasons_10m_7x4bands_224px.126.tif to /content/drive/MyDrive/AI_WENR/data/tiles/temp/train/features/sent2_2018_seasons_10m_7x4bands_224px.126.tif\n",
      "Copying /content/drive/MyDrive/AI_WENR/data/tiles/collection_1/labels/parcels_2018_10m_coded_76_224px/parcels_2018_10m_coded_76_224px.126.tif to /content/drive/MyDrive/AI_WENR/data/tiles/temp/train/labels/parcels_2018_10m_coded_76_224px.126.tif\n",
      "Copying /content/drive/MyDrive/AI_WENR/data/tiles/collection_1/features/sent2_2018_seasons_10m_7x4bands_224px/sent2_2018_seasons_10m_7x4bands_224px.98.tif to /content/drive/MyDrive/AI_WENR/data/tiles/temp/train/features/sent2_2018_seasons_10m_7x4bands_224px.98.tif\n",
      "Copying /content/drive/MyDrive/AI_WENR/data/tiles/collection_1/labels/parcels_2018_10m_coded_76_224px/parcels_2018_10m_coded_76_224px.98.tif to /content/drive/MyDrive/AI_WENR/data/tiles/temp/train/labels/parcels_2018_10m_coded_76_224px.98.tif\n",
      "Copying /content/drive/MyDrive/AI_WENR/data/tiles/collection_1/features/sent2_2018_seasons_10m_7x4bands_224px/sent2_2018_seasons_10m_7x4bands_224px.110.tif to /content/drive/MyDrive/AI_WENR/data/tiles/temp/train/features/sent2_2018_seasons_10m_7x4bands_224px.110.tif\n",
      "Copying /content/drive/MyDrive/AI_WENR/data/tiles/collection_1/labels/parcels_2018_10m_coded_76_224px/parcels_2018_10m_coded_76_224px.110.tif to /content/drive/MyDrive/AI_WENR/data/tiles/temp/train/labels/parcels_2018_10m_coded_76_224px.110.tif\n",
      "Copying /content/drive/MyDrive/AI_WENR/data/tiles/collection_1/features/sent2_2018_seasons_10m_7x4bands_224px/sent2_2018_seasons_10m_7x4bands_224px.153.tif to /content/drive/MyDrive/AI_WENR/data/tiles/temp/train/features/sent2_2018_seasons_10m_7x4bands_224px.153.tif\n",
      "Copying /content/drive/MyDrive/AI_WENR/data/tiles/collection_1/labels/parcels_2018_10m_coded_76_224px/parcels_2018_10m_coded_76_224px.153.tif to /content/drive/MyDrive/AI_WENR/data/tiles/temp/train/labels/parcels_2018_10m_coded_76_224px.153.tif\n",
      "Copying /content/drive/MyDrive/AI_WENR/data/tiles/collection_1/features/sent2_2018_seasons_10m_7x4bands_224px/sent2_2018_seasons_10m_7x4bands_224px.87.tif to /content/drive/MyDrive/AI_WENR/data/tiles/temp/train/features/sent2_2018_seasons_10m_7x4bands_224px.87.tif\n",
      "Copying /content/drive/MyDrive/AI_WENR/data/tiles/collection_1/labels/parcels_2018_10m_coded_76_224px/parcels_2018_10m_coded_76_224px.87.tif to /content/drive/MyDrive/AI_WENR/data/tiles/temp/train/labels/parcels_2018_10m_coded_76_224px.87.tif\n",
      "Copying /content/drive/MyDrive/AI_WENR/data/tiles/collection_1/features/sent2_2018_seasons_10m_7x4bands_224px/sent2_2018_seasons_10m_7x4bands_224px.69.tif to /content/drive/MyDrive/AI_WENR/data/tiles/temp/train/features/sent2_2018_seasons_10m_7x4bands_224px.69.tif\n",
      "Copying /content/drive/MyDrive/AI_WENR/data/tiles/collection_1/labels/parcels_2018_10m_coded_76_224px/parcels_2018_10m_coded_76_224px.69.tif to /content/drive/MyDrive/AI_WENR/data/tiles/temp/train/labels/parcels_2018_10m_coded_76_224px.69.tif\n",
      "Copying /content/drive/MyDrive/AI_WENR/data/tiles/collection_1/features/sent2_2018_seasons_10m_7x4bands_224px/sent2_2018_seasons_10m_7x4bands_224px.128.tif to /content/drive/MyDrive/AI_WENR/data/tiles/temp/train/features/sent2_2018_seasons_10m_7x4bands_224px.128.tif\n",
      "Copying /content/drive/MyDrive/AI_WENR/data/tiles/collection_1/labels/parcels_2018_10m_coded_76_224px/parcels_2018_10m_coded_76_224px.128.tif to /content/drive/MyDrive/AI_WENR/data/tiles/temp/train/labels/parcels_2018_10m_coded_76_224px.128.tif\n",
      "Copying /content/drive/MyDrive/AI_WENR/data/tiles/collection_1/features/sent2_2018_seasons_10m_7x4bands_224px/sent2_2018_seasons_10m_7x4bands_224px.25.tif to /content/drive/MyDrive/AI_WENR/data/tiles/temp/train/features/sent2_2018_seasons_10m_7x4bands_224px.25.tif\n",
      "Copying /content/drive/MyDrive/AI_WENR/data/tiles/collection_1/labels/parcels_2018_10m_coded_76_224px/parcels_2018_10m_coded_76_224px.25.tif to /content/drive/MyDrive/AI_WENR/data/tiles/temp/train/labels/parcels_2018_10m_coded_76_224px.25.tif\n",
      "Copying /content/drive/MyDrive/AI_WENR/data/tiles/collection_1/features/sent2_2018_seasons_10m_7x4bands_224px/sent2_2018_seasons_10m_7x4bands_224px.143.tif to /content/drive/MyDrive/AI_WENR/data/tiles/temp/train/features/sent2_2018_seasons_10m_7x4bands_224px.143.tif\n",
      "Copying /content/drive/MyDrive/AI_WENR/data/tiles/collection_1/labels/parcels_2018_10m_coded_76_224px/parcels_2018_10m_coded_76_224px.143.tif to /content/drive/MyDrive/AI_WENR/data/tiles/temp/train/labels/parcels_2018_10m_coded_76_224px.143.tif\n",
      "Copying /content/drive/MyDrive/AI_WENR/data/tiles/collection_1/features/sent2_2018_seasons_10m_7x4bands_224px/sent2_2018_seasons_10m_7x4bands_224px.206.tif to /content/drive/MyDrive/AI_WENR/data/tiles/temp/train/features/sent2_2018_seasons_10m_7x4bands_224px.206.tif\n",
      "Copying /content/drive/MyDrive/AI_WENR/data/tiles/collection_1/labels/parcels_2018_10m_coded_76_224px/parcels_2018_10m_coded_76_224px.206.tif to /content/drive/MyDrive/AI_WENR/data/tiles/temp/train/labels/parcels_2018_10m_coded_76_224px.206.tif\n",
      "Copying /content/drive/MyDrive/AI_WENR/data/tiles/collection_1/features/sent2_2018_seasons_10m_7x4bands_224px/sent2_2018_seasons_10m_7x4bands_224px.106.tif to /content/drive/MyDrive/AI_WENR/data/tiles/temp/train/features/sent2_2018_seasons_10m_7x4bands_224px.106.tif\n",
      "Copying /content/drive/MyDrive/AI_WENR/data/tiles/collection_1/labels/parcels_2018_10m_coded_76_224px/parcels_2018_10m_coded_76_224px.106.tif to /content/drive/MyDrive/AI_WENR/data/tiles/temp/train/labels/parcels_2018_10m_coded_76_224px.106.tif\n",
      "Copying /content/drive/MyDrive/AI_WENR/data/tiles/collection_1/features/sent2_2018_seasons_10m_7x4bands_224px/sent2_2018_seasons_10m_7x4bands_224px.42.tif to /content/drive/MyDrive/AI_WENR/data/tiles/temp/train/features/sent2_2018_seasons_10m_7x4bands_224px.42.tif\n",
      "Copying /content/drive/MyDrive/AI_WENR/data/tiles/collection_1/labels/parcels_2018_10m_coded_76_224px/parcels_2018_10m_coded_76_224px.42.tif to /content/drive/MyDrive/AI_WENR/data/tiles/temp/train/labels/parcels_2018_10m_coded_76_224px.42.tif\n",
      "Copying /content/drive/MyDrive/AI_WENR/data/tiles/collection_1/features/sent2_2018_seasons_10m_7x4bands_224px/sent2_2018_seasons_10m_7x4bands_224px.9.tif to /content/drive/MyDrive/AI_WENR/data/tiles/temp/train/features/sent2_2018_seasons_10m_7x4bands_224px.9.tif\n",
      "Copying /content/drive/MyDrive/AI_WENR/data/tiles/collection_1/labels/parcels_2018_10m_coded_76_224px/parcels_2018_10m_coded_76_224px.9.tif to /content/drive/MyDrive/AI_WENR/data/tiles/temp/train/labels/parcels_2018_10m_coded_76_224px.9.tif\n",
      "Copying /content/drive/MyDrive/AI_WENR/data/tiles/collection_1/features/sent2_2018_seasons_10m_7x4bands_224px/sent2_2018_seasons_10m_7x4bands_224px.55.tif to /content/drive/MyDrive/AI_WENR/data/tiles/temp/train/features/sent2_2018_seasons_10m_7x4bands_224px.55.tif\n",
      "Copying /content/drive/MyDrive/AI_WENR/data/tiles/collection_1/labels/parcels_2018_10m_coded_76_224px/parcels_2018_10m_coded_76_224px.55.tif to /content/drive/MyDrive/AI_WENR/data/tiles/temp/train/labels/parcels_2018_10m_coded_76_224px.55.tif\n",
      "Copying /content/drive/MyDrive/AI_WENR/data/tiles/collection_1/features/sent2_2018_seasons_10m_7x4bands_224px/sent2_2018_seasons_10m_7x4bands_224px.223.tif to /content/drive/MyDrive/AI_WENR/data/tiles/temp/train/features/sent2_2018_seasons_10m_7x4bands_224px.223.tif\n",
      "Copying /content/drive/MyDrive/AI_WENR/data/tiles/collection_1/labels/parcels_2018_10m_coded_76_224px/parcels_2018_10m_coded_76_224px.223.tif to /content/drive/MyDrive/AI_WENR/data/tiles/temp/train/labels/parcels_2018_10m_coded_76_224px.223.tif\n",
      "Copying /content/drive/MyDrive/AI_WENR/data/tiles/collection_1/features/sent2_2018_seasons_10m_7x4bands_224px/sent2_2018_seasons_10m_7x4bands_224px.156.tif to /content/drive/MyDrive/AI_WENR/data/tiles/temp/train/features/sent2_2018_seasons_10m_7x4bands_224px.156.tif\n",
      "Copying /content/drive/MyDrive/AI_WENR/data/tiles/collection_1/labels/parcels_2018_10m_coded_76_224px/parcels_2018_10m_coded_76_224px.156.tif to /content/drive/MyDrive/AI_WENR/data/tiles/temp/train/labels/parcels_2018_10m_coded_76_224px.156.tif\n",
      "Copying /content/drive/MyDrive/AI_WENR/data/tiles/collection_1/features/sent2_2018_seasons_10m_7x4bands_224px/sent2_2018_seasons_10m_7x4bands_224px.71.tif to /content/drive/MyDrive/AI_WENR/data/tiles/temp/train/features/sent2_2018_seasons_10m_7x4bands_224px.71.tif\n",
      "Copying /content/drive/MyDrive/AI_WENR/data/tiles/collection_1/labels/parcels_2018_10m_coded_76_224px/parcels_2018_10m_coded_76_224px.71.tif to /content/drive/MyDrive/AI_WENR/data/tiles/temp/train/labels/parcels_2018_10m_coded_76_224px.71.tif\n",
      "Copying /content/drive/MyDrive/AI_WENR/data/tiles/collection_1/features/sent2_2018_seasons_10m_7x4bands_224px/sent2_2018_seasons_10m_7x4bands_224px.80.tif to /content/drive/MyDrive/AI_WENR/data/tiles/temp/train/features/sent2_2018_seasons_10m_7x4bands_224px.80.tif\n",
      "Copying /content/drive/MyDrive/AI_WENR/data/tiles/collection_1/labels/parcels_2018_10m_coded_76_224px/parcels_2018_10m_coded_76_224px.80.tif to /content/drive/MyDrive/AI_WENR/data/tiles/temp/train/labels/parcels_2018_10m_coded_76_224px.80.tif\n",
      "Copying /content/drive/MyDrive/AI_WENR/data/tiles/collection_1/features/sent2_2018_seasons_10m_7x4bands_224px/sent2_2018_seasons_10m_7x4bands_224px.10.tif to /content/drive/MyDrive/AI_WENR/data/tiles/temp/train/features/sent2_2018_seasons_10m_7x4bands_224px.10.tif\n",
      "Copying /content/drive/MyDrive/AI_WENR/data/tiles/collection_1/labels/parcels_2018_10m_coded_76_224px/parcels_2018_10m_coded_76_224px.10.tif to /content/drive/MyDrive/AI_WENR/data/tiles/temp/train/labels/parcels_2018_10m_coded_76_224px.10.tif\n",
      "Copying /content/drive/MyDrive/AI_WENR/data/tiles/collection_1/features/sent2_2018_seasons_10m_7x4bands_224px/sent2_2018_seasons_10m_7x4bands_224px.6.tif to /content/drive/MyDrive/AI_WENR/data/tiles/temp/train/features/sent2_2018_seasons_10m_7x4bands_224px.6.tif\n",
      "Copying /content/drive/MyDrive/AI_WENR/data/tiles/collection_1/labels/parcels_2018_10m_coded_76_224px/parcels_2018_10m_coded_76_224px.6.tif to /content/drive/MyDrive/AI_WENR/data/tiles/temp/train/labels/parcels_2018_10m_coded_76_224px.6.tif\n",
      "Copying /content/drive/MyDrive/AI_WENR/data/tiles/collection_1/features/sent2_2018_seasons_10m_7x4bands_224px/sent2_2018_seasons_10m_7x4bands_224px.167.tif to /content/drive/MyDrive/AI_WENR/data/tiles/temp/train/features/sent2_2018_seasons_10m_7x4bands_224px.167.tif\n",
      "Copying /content/drive/MyDrive/AI_WENR/data/tiles/collection_1/labels/parcels_2018_10m_coded_76_224px/parcels_2018_10m_coded_76_224px.167.tif to /content/drive/MyDrive/AI_WENR/data/tiles/temp/train/labels/parcels_2018_10m_coded_76_224px.167.tif\n",
      "Copying /content/drive/MyDrive/AI_WENR/data/tiles/collection_1/features/sent2_2018_seasons_10m_7x4bands_224px/sent2_2018_seasons_10m_7x4bands_224px.172.tif to /content/drive/MyDrive/AI_WENR/data/tiles/temp/train/features/sent2_2018_seasons_10m_7x4bands_224px.172.tif\n",
      "Copying /content/drive/MyDrive/AI_WENR/data/tiles/collection_1/labels/parcels_2018_10m_coded_76_224px/parcels_2018_10m_coded_76_224px.172.tif to /content/drive/MyDrive/AI_WENR/data/tiles/temp/train/labels/parcels_2018_10m_coded_76_224px.172.tif\n",
      "Copying /content/drive/MyDrive/AI_WENR/data/tiles/collection_1/features/sent2_2018_seasons_10m_7x4bands_224px/sent2_2018_seasons_10m_7x4bands_224px.3.tif to /content/drive/MyDrive/AI_WENR/data/tiles/temp/train/features/sent2_2018_seasons_10m_7x4bands_224px.3.tif\n",
      "Copying /content/drive/MyDrive/AI_WENR/data/tiles/collection_1/labels/parcels_2018_10m_coded_76_224px/parcels_2018_10m_coded_76_224px.3.tif to /content/drive/MyDrive/AI_WENR/data/tiles/temp/train/labels/parcels_2018_10m_coded_76_224px.3.tif\n",
      "Copying /content/drive/MyDrive/AI_WENR/data/tiles/collection_1/features/sent2_2018_seasons_10m_7x4bands_224px/sent2_2018_seasons_10m_7x4bands_224px.27.tif to /content/drive/MyDrive/AI_WENR/data/tiles/temp/train/features/sent2_2018_seasons_10m_7x4bands_224px.27.tif\n",
      "Copying /content/drive/MyDrive/AI_WENR/data/tiles/collection_1/labels/parcels_2018_10m_coded_76_224px/parcels_2018_10m_coded_76_224px.27.tif to /content/drive/MyDrive/AI_WENR/data/tiles/temp/train/labels/parcels_2018_10m_coded_76_224px.27.tif\n",
      "Copying /content/drive/MyDrive/AI_WENR/data/tiles/collection_1/features/sent2_2018_seasons_10m_7x4bands_224px/sent2_2018_seasons_10m_7x4bands_224px.52.tif to /content/drive/MyDrive/AI_WENR/data/tiles/temp/train/features/sent2_2018_seasons_10m_7x4bands_224px.52.tif\n",
      "Copying /content/drive/MyDrive/AI_WENR/data/tiles/collection_1/labels/parcels_2018_10m_coded_76_224px/parcels_2018_10m_coded_76_224px.52.tif to /content/drive/MyDrive/AI_WENR/data/tiles/temp/train/labels/parcels_2018_10m_coded_76_224px.52.tif\n",
      "Copying /content/drive/MyDrive/AI_WENR/data/tiles/collection_1/features/sent2_2018_seasons_10m_7x4bands_224px/sent2_2018_seasons_10m_7x4bands_224px.205.tif to /content/drive/MyDrive/AI_WENR/data/tiles/temp/train/features/sent2_2018_seasons_10m_7x4bands_224px.205.tif\n",
      "Copying /content/drive/MyDrive/AI_WENR/data/tiles/collection_1/labels/parcels_2018_10m_coded_76_224px/parcels_2018_10m_coded_76_224px.205.tif to /content/drive/MyDrive/AI_WENR/data/tiles/temp/train/labels/parcels_2018_10m_coded_76_224px.205.tif\n",
      "Copying /content/drive/MyDrive/AI_WENR/data/tiles/collection_1/features/sent2_2018_seasons_10m_7x4bands_224px/sent2_2018_seasons_10m_7x4bands_224px.171.tif to /content/drive/MyDrive/AI_WENR/data/tiles/temp/train/features/sent2_2018_seasons_10m_7x4bands_224px.171.tif\n",
      "Copying /content/drive/MyDrive/AI_WENR/data/tiles/collection_1/labels/parcels_2018_10m_coded_76_224px/parcels_2018_10m_coded_76_224px.171.tif to /content/drive/MyDrive/AI_WENR/data/tiles/temp/train/labels/parcels_2018_10m_coded_76_224px.171.tif\n",
      "Copying /content/drive/MyDrive/AI_WENR/data/tiles/collection_1/features/sent2_2018_seasons_10m_7x4bands_224px/sent2_2018_seasons_10m_7x4bands_224px.200.tif to /content/drive/MyDrive/AI_WENR/data/tiles/temp/train/features/sent2_2018_seasons_10m_7x4bands_224px.200.tif\n",
      "Copying /content/drive/MyDrive/AI_WENR/data/tiles/collection_1/labels/parcels_2018_10m_coded_76_224px/parcels_2018_10m_coded_76_224px.200.tif to /content/drive/MyDrive/AI_WENR/data/tiles/temp/train/labels/parcels_2018_10m_coded_76_224px.200.tif\n",
      "Copying /content/drive/MyDrive/AI_WENR/data/tiles/collection_1/features/sent2_2018_seasons_10m_7x4bands_224px/sent2_2018_seasons_10m_7x4bands_224px.40.tif to /content/drive/MyDrive/AI_WENR/data/tiles/temp/train/features/sent2_2018_seasons_10m_7x4bands_224px.40.tif\n",
      "Copying /content/drive/MyDrive/AI_WENR/data/tiles/collection_1/labels/parcels_2018_10m_coded_76_224px/parcels_2018_10m_coded_76_224px.40.tif to /content/drive/MyDrive/AI_WENR/data/tiles/temp/train/labels/parcels_2018_10m_coded_76_224px.40.tif\n",
      "Copying /content/drive/MyDrive/AI_WENR/data/tiles/collection_1/features/sent2_2018_seasons_10m_7x4bands_224px/sent2_2018_seasons_10m_7x4bands_224px.160.tif to /content/drive/MyDrive/AI_WENR/data/tiles/temp/train/features/sent2_2018_seasons_10m_7x4bands_224px.160.tif\n",
      "Copying /content/drive/MyDrive/AI_WENR/data/tiles/collection_1/labels/parcels_2018_10m_coded_76_224px/parcels_2018_10m_coded_76_224px.160.tif to /content/drive/MyDrive/AI_WENR/data/tiles/temp/train/labels/parcels_2018_10m_coded_76_224px.160.tif\n",
      "Copying /content/drive/MyDrive/AI_WENR/data/tiles/collection_1/features/sent2_2018_seasons_10m_7x4bands_224px/sent2_2018_seasons_10m_7x4bands_224px.182.tif to /content/drive/MyDrive/AI_WENR/data/tiles/temp/train/features/sent2_2018_seasons_10m_7x4bands_224px.182.tif\n",
      "Copying /content/drive/MyDrive/AI_WENR/data/tiles/collection_1/labels/parcels_2018_10m_coded_76_224px/parcels_2018_10m_coded_76_224px.182.tif to /content/drive/MyDrive/AI_WENR/data/tiles/temp/train/labels/parcels_2018_10m_coded_76_224px.182.tif\n",
      "Copying /content/drive/MyDrive/AI_WENR/data/tiles/collection_1/features/sent2_2018_seasons_10m_7x4bands_224px/sent2_2018_seasons_10m_7x4bands_224px.120.tif to /content/drive/MyDrive/AI_WENR/data/tiles/temp/train/features/sent2_2018_seasons_10m_7x4bands_224px.120.tif\n",
      "Copying /content/drive/MyDrive/AI_WENR/data/tiles/collection_1/labels/parcels_2018_10m_coded_76_224px/parcels_2018_10m_coded_76_224px.120.tif to /content/drive/MyDrive/AI_WENR/data/tiles/temp/train/labels/parcels_2018_10m_coded_76_224px.120.tif\n",
      "Copying /content/drive/MyDrive/AI_WENR/data/tiles/collection_1/features/sent2_2018_seasons_10m_7x4bands_224px/sent2_2018_seasons_10m_7x4bands_224px.151.tif to /content/drive/MyDrive/AI_WENR/data/tiles/temp/train/features/sent2_2018_seasons_10m_7x4bands_224px.151.tif\n",
      "Copying /content/drive/MyDrive/AI_WENR/data/tiles/collection_1/labels/parcels_2018_10m_coded_76_224px/parcels_2018_10m_coded_76_224px.151.tif to /content/drive/MyDrive/AI_WENR/data/tiles/temp/train/labels/parcels_2018_10m_coded_76_224px.151.tif\n",
      "Copying /content/drive/MyDrive/AI_WENR/data/tiles/collection_1/features/sent2_2018_seasons_10m_7x4bands_224px/sent2_2018_seasons_10m_7x4bands_224px.157.tif to /content/drive/MyDrive/AI_WENR/data/tiles/temp/train/features/sent2_2018_seasons_10m_7x4bands_224px.157.tif\n",
      "Copying /content/drive/MyDrive/AI_WENR/data/tiles/collection_1/labels/parcels_2018_10m_coded_76_224px/parcels_2018_10m_coded_76_224px.157.tif to /content/drive/MyDrive/AI_WENR/data/tiles/temp/train/labels/parcels_2018_10m_coded_76_224px.157.tif\n",
      "Copying /content/drive/MyDrive/AI_WENR/data/tiles/collection_1/features/sent2_2018_seasons_10m_7x4bands_224px/sent2_2018_seasons_10m_7x4bands_224px.117.tif to /content/drive/MyDrive/AI_WENR/data/tiles/temp/train/features/sent2_2018_seasons_10m_7x4bands_224px.117.tif\n",
      "Copying /content/drive/MyDrive/AI_WENR/data/tiles/collection_1/labels/parcels_2018_10m_coded_76_224px/parcels_2018_10m_coded_76_224px.117.tif to /content/drive/MyDrive/AI_WENR/data/tiles/temp/train/labels/parcels_2018_10m_coded_76_224px.117.tif\n",
      "Copying /content/drive/MyDrive/AI_WENR/data/tiles/collection_1/features/sent2_2018_seasons_10m_7x4bands_224px/sent2_2018_seasons_10m_7x4bands_224px.37.tif to /content/drive/MyDrive/AI_WENR/data/tiles/temp/train/features/sent2_2018_seasons_10m_7x4bands_224px.37.tif\n",
      "Copying /content/drive/MyDrive/AI_WENR/data/tiles/collection_1/labels/parcels_2018_10m_coded_76_224px/parcels_2018_10m_coded_76_224px.37.tif to /content/drive/MyDrive/AI_WENR/data/tiles/temp/train/labels/parcels_2018_10m_coded_76_224px.37.tif\n",
      "Copying /content/drive/MyDrive/AI_WENR/data/tiles/collection_1/features/sent2_2018_seasons_10m_7x4bands_224px/sent2_2018_seasons_10m_7x4bands_224px.50.tif to /content/drive/MyDrive/AI_WENR/data/tiles/temp/train/features/sent2_2018_seasons_10m_7x4bands_224px.50.tif\n",
      "Copying /content/drive/MyDrive/AI_WENR/data/tiles/collection_1/labels/parcels_2018_10m_coded_76_224px/parcels_2018_10m_coded_76_224px.50.tif to /content/drive/MyDrive/AI_WENR/data/tiles/temp/train/labels/parcels_2018_10m_coded_76_224px.50.tif\n",
      "Copying /content/drive/MyDrive/AI_WENR/data/tiles/collection_1/features/sent2_2018_seasons_10m_7x4bands_224px/sent2_2018_seasons_10m_7x4bands_224px.152.tif to /content/drive/MyDrive/AI_WENR/data/tiles/temp/train/features/sent2_2018_seasons_10m_7x4bands_224px.152.tif\n",
      "Copying /content/drive/MyDrive/AI_WENR/data/tiles/collection_1/labels/parcels_2018_10m_coded_76_224px/parcels_2018_10m_coded_76_224px.152.tif to /content/drive/MyDrive/AI_WENR/data/tiles/temp/train/labels/parcels_2018_10m_coded_76_224px.152.tif\n",
      "Copying /content/drive/MyDrive/AI_WENR/data/tiles/collection_1/features/sent2_2018_seasons_10m_7x4bands_224px/sent2_2018_seasons_10m_7x4bands_224px.29.tif to /content/drive/MyDrive/AI_WENR/data/tiles/temp/train/features/sent2_2018_seasons_10m_7x4bands_224px.29.tif\n",
      "Copying /content/drive/MyDrive/AI_WENR/data/tiles/collection_1/labels/parcels_2018_10m_coded_76_224px/parcels_2018_10m_coded_76_224px.29.tif to /content/drive/MyDrive/AI_WENR/data/tiles/temp/train/labels/parcels_2018_10m_coded_76_224px.29.tif\n",
      "Copying /content/drive/MyDrive/AI_WENR/data/tiles/collection_1/features/sent2_2018_seasons_10m_7x4bands_224px/sent2_2018_seasons_10m_7x4bands_224px.5.tif to /content/drive/MyDrive/AI_WENR/data/tiles/temp/train/features/sent2_2018_seasons_10m_7x4bands_224px.5.tif\n",
      "Copying /content/drive/MyDrive/AI_WENR/data/tiles/collection_1/labels/parcels_2018_10m_coded_76_224px/parcels_2018_10m_coded_76_224px.5.tif to /content/drive/MyDrive/AI_WENR/data/tiles/temp/train/labels/parcels_2018_10m_coded_76_224px.5.tif\n",
      "Copying /content/drive/MyDrive/AI_WENR/data/tiles/collection_1/features/sent2_2018_seasons_10m_7x4bands_224px/sent2_2018_seasons_10m_7x4bands_224px.57.tif to /content/drive/MyDrive/AI_WENR/data/tiles/temp/train/features/sent2_2018_seasons_10m_7x4bands_224px.57.tif\n",
      "Copying /content/drive/MyDrive/AI_WENR/data/tiles/collection_1/labels/parcels_2018_10m_coded_76_224px/parcels_2018_10m_coded_76_224px.57.tif to /content/drive/MyDrive/AI_WENR/data/tiles/temp/train/labels/parcels_2018_10m_coded_76_224px.57.tif\n",
      "Copying /content/drive/MyDrive/AI_WENR/data/tiles/collection_1/features/sent2_2018_seasons_10m_7x4bands_224px/sent2_2018_seasons_10m_7x4bands_224px.155.tif to /content/drive/MyDrive/AI_WENR/data/tiles/temp/train/features/sent2_2018_seasons_10m_7x4bands_224px.155.tif\n",
      "Copying /content/drive/MyDrive/AI_WENR/data/tiles/collection_1/labels/parcels_2018_10m_coded_76_224px/parcels_2018_10m_coded_76_224px.155.tif to /content/drive/MyDrive/AI_WENR/data/tiles/temp/train/labels/parcels_2018_10m_coded_76_224px.155.tif\n",
      "Copying /content/drive/MyDrive/AI_WENR/data/tiles/collection_1/features/sent2_2018_seasons_10m_7x4bands_224px/sent2_2018_seasons_10m_7x4bands_224px.84.tif to /content/drive/MyDrive/AI_WENR/data/tiles/temp/train/features/sent2_2018_seasons_10m_7x4bands_224px.84.tif\n",
      "Copying /content/drive/MyDrive/AI_WENR/data/tiles/collection_1/labels/parcels_2018_10m_coded_76_224px/parcels_2018_10m_coded_76_224px.84.tif to /content/drive/MyDrive/AI_WENR/data/tiles/temp/train/labels/parcels_2018_10m_coded_76_224px.84.tif\n",
      "Copying /content/drive/MyDrive/AI_WENR/data/tiles/collection_1/features/sent2_2018_seasons_10m_7x4bands_224px/sent2_2018_seasons_10m_7x4bands_224px.15.tif to /content/drive/MyDrive/AI_WENR/data/tiles/temp/train/features/sent2_2018_seasons_10m_7x4bands_224px.15.tif\n",
      "Copying /content/drive/MyDrive/AI_WENR/data/tiles/collection_1/labels/parcels_2018_10m_coded_76_224px/parcels_2018_10m_coded_76_224px.15.tif to /content/drive/MyDrive/AI_WENR/data/tiles/temp/train/labels/parcels_2018_10m_coded_76_224px.15.tif\n",
      "Copying /content/drive/MyDrive/AI_WENR/data/tiles/collection_1/features/sent2_2018_seasons_10m_7x4bands_224px/sent2_2018_seasons_10m_7x4bands_224px.17.tif to /content/drive/MyDrive/AI_WENR/data/tiles/temp/train/features/sent2_2018_seasons_10m_7x4bands_224px.17.tif\n",
      "Copying /content/drive/MyDrive/AI_WENR/data/tiles/collection_1/labels/parcels_2018_10m_coded_76_224px/parcels_2018_10m_coded_76_224px.17.tif to /content/drive/MyDrive/AI_WENR/data/tiles/temp/train/labels/parcels_2018_10m_coded_76_224px.17.tif\n",
      "Copying /content/drive/MyDrive/AI_WENR/data/tiles/collection_1/features/sent2_2018_seasons_10m_7x4bands_224px/sent2_2018_seasons_10m_7x4bands_224px.215.tif to /content/drive/MyDrive/AI_WENR/data/tiles/temp/train/features/sent2_2018_seasons_10m_7x4bands_224px.215.tif\n",
      "Copying /content/drive/MyDrive/AI_WENR/data/tiles/collection_1/labels/parcels_2018_10m_coded_76_224px/parcels_2018_10m_coded_76_224px.215.tif to /content/drive/MyDrive/AI_WENR/data/tiles/temp/train/labels/parcels_2018_10m_coded_76_224px.215.tif\n",
      "Copying /content/drive/MyDrive/AI_WENR/data/tiles/collection_1/features/sent2_2018_seasons_10m_7x4bands_224px/sent2_2018_seasons_10m_7x4bands_224px.102.tif to /content/drive/MyDrive/AI_WENR/data/tiles/temp/train/features/sent2_2018_seasons_10m_7x4bands_224px.102.tif\n",
      "Copying /content/drive/MyDrive/AI_WENR/data/tiles/collection_1/labels/parcels_2018_10m_coded_76_224px/parcels_2018_10m_coded_76_224px.102.tif to /content/drive/MyDrive/AI_WENR/data/tiles/temp/train/labels/parcels_2018_10m_coded_76_224px.102.tif\n",
      "Copying /content/drive/MyDrive/AI_WENR/data/tiles/collection_1/features/sent2_2018_seasons_10m_7x4bands_224px/sent2_2018_seasons_10m_7x4bands_224px.209.tif to /content/drive/MyDrive/AI_WENR/data/tiles/temp/train/features/sent2_2018_seasons_10m_7x4bands_224px.209.tif\n",
      "Copying /content/drive/MyDrive/AI_WENR/data/tiles/collection_1/labels/parcels_2018_10m_coded_76_224px/parcels_2018_10m_coded_76_224px.209.tif to /content/drive/MyDrive/AI_WENR/data/tiles/temp/train/labels/parcels_2018_10m_coded_76_224px.209.tif\n",
      "Copying /content/drive/MyDrive/AI_WENR/data/tiles/collection_1/features/sent2_2018_seasons_10m_7x4bands_224px/sent2_2018_seasons_10m_7x4bands_224px.63.tif to /content/drive/MyDrive/AI_WENR/data/tiles/temp/train/features/sent2_2018_seasons_10m_7x4bands_224px.63.tif\n",
      "Copying /content/drive/MyDrive/AI_WENR/data/tiles/collection_1/labels/parcels_2018_10m_coded_76_224px/parcels_2018_10m_coded_76_224px.63.tif to /content/drive/MyDrive/AI_WENR/data/tiles/temp/train/labels/parcels_2018_10m_coded_76_224px.63.tif\n",
      "Copying /content/drive/MyDrive/AI_WENR/data/tiles/collection_1/features/sent2_2018_seasons_10m_7x4bands_224px/sent2_2018_seasons_10m_7x4bands_224px.35.tif to /content/drive/MyDrive/AI_WENR/data/tiles/temp/train/features/sent2_2018_seasons_10m_7x4bands_224px.35.tif\n",
      "Copying /content/drive/MyDrive/AI_WENR/data/tiles/collection_1/labels/parcels_2018_10m_coded_76_224px/parcels_2018_10m_coded_76_224px.35.tif to /content/drive/MyDrive/AI_WENR/data/tiles/temp/train/labels/parcels_2018_10m_coded_76_224px.35.tif\n",
      "Copying /content/drive/MyDrive/AI_WENR/data/tiles/collection_1/features/sent2_2018_seasons_10m_7x4bands_224px/sent2_2018_seasons_10m_7x4bands_224px.210.tif to /content/drive/MyDrive/AI_WENR/data/tiles/temp/train/features/sent2_2018_seasons_10m_7x4bands_224px.210.tif\n",
      "Copying /content/drive/MyDrive/AI_WENR/data/tiles/collection_1/labels/parcels_2018_10m_coded_76_224px/parcels_2018_10m_coded_76_224px.210.tif to /content/drive/MyDrive/AI_WENR/data/tiles/temp/train/labels/parcels_2018_10m_coded_76_224px.210.tif\n",
      "Copying /content/drive/MyDrive/AI_WENR/data/tiles/collection_1/features/sent2_2018_seasons_10m_7x4bands_224px/sent2_2018_seasons_10m_7x4bands_224px.43.tif to /content/drive/MyDrive/AI_WENR/data/tiles/temp/train/features/sent2_2018_seasons_10m_7x4bands_224px.43.tif\n",
      "Copying /content/drive/MyDrive/AI_WENR/data/tiles/collection_1/labels/parcels_2018_10m_coded_76_224px/parcels_2018_10m_coded_76_224px.43.tif to /content/drive/MyDrive/AI_WENR/data/tiles/temp/train/labels/parcels_2018_10m_coded_76_224px.43.tif\n",
      "Copying /content/drive/MyDrive/AI_WENR/data/tiles/collection_1/features/sent2_2018_seasons_10m_7x4bands_224px/sent2_2018_seasons_10m_7x4bands_224px.208.tif to /content/drive/MyDrive/AI_WENR/data/tiles/temp/train/features/sent2_2018_seasons_10m_7x4bands_224px.208.tif\n",
      "Copying /content/drive/MyDrive/AI_WENR/data/tiles/collection_1/labels/parcels_2018_10m_coded_76_224px/parcels_2018_10m_coded_76_224px.208.tif to /content/drive/MyDrive/AI_WENR/data/tiles/temp/train/labels/parcels_2018_10m_coded_76_224px.208.tif\n",
      "Copying /content/drive/MyDrive/AI_WENR/data/tiles/collection_1/features/sent2_2018_seasons_10m_7x4bands_224px/sent2_2018_seasons_10m_7x4bands_224px.221.tif to /content/drive/MyDrive/AI_WENR/data/tiles/temp/train/features/sent2_2018_seasons_10m_7x4bands_224px.221.tif\n",
      "Copying /content/drive/MyDrive/AI_WENR/data/tiles/collection_1/labels/parcels_2018_10m_coded_76_224px/parcels_2018_10m_coded_76_224px.221.tif to /content/drive/MyDrive/AI_WENR/data/tiles/temp/train/labels/parcels_2018_10m_coded_76_224px.221.tif\n",
      "Copying /content/drive/MyDrive/AI_WENR/data/tiles/collection_1/features/sent2_2018_seasons_10m_7x4bands_224px/sent2_2018_seasons_10m_7x4bands_224px.39.tif to /content/drive/MyDrive/AI_WENR/data/tiles/temp/train/features/sent2_2018_seasons_10m_7x4bands_224px.39.tif\n",
      "Copying /content/drive/MyDrive/AI_WENR/data/tiles/collection_1/labels/parcels_2018_10m_coded_76_224px/parcels_2018_10m_coded_76_224px.39.tif to /content/drive/MyDrive/AI_WENR/data/tiles/temp/train/labels/parcels_2018_10m_coded_76_224px.39.tif\n",
      "Copying /content/drive/MyDrive/AI_WENR/data/tiles/collection_1/features/sent2_2018_seasons_10m_7x4bands_224px/sent2_2018_seasons_10m_7x4bands_224px.79.tif to /content/drive/MyDrive/AI_WENR/data/tiles/temp/train/features/sent2_2018_seasons_10m_7x4bands_224px.79.tif\n",
      "Copying /content/drive/MyDrive/AI_WENR/data/tiles/collection_1/labels/parcels_2018_10m_coded_76_224px/parcels_2018_10m_coded_76_224px.79.tif to /content/drive/MyDrive/AI_WENR/data/tiles/temp/train/labels/parcels_2018_10m_coded_76_224px.79.tif\n",
      "Copying /content/drive/MyDrive/AI_WENR/data/tiles/collection_1/features/sent2_2018_seasons_10m_7x4bands_224px/sent2_2018_seasons_10m_7x4bands_224px.139.tif to /content/drive/MyDrive/AI_WENR/data/tiles/temp/train/features/sent2_2018_seasons_10m_7x4bands_224px.139.tif\n",
      "Copying /content/drive/MyDrive/AI_WENR/data/tiles/collection_1/labels/parcels_2018_10m_coded_76_224px/parcels_2018_10m_coded_76_224px.139.tif to /content/drive/MyDrive/AI_WENR/data/tiles/temp/train/labels/parcels_2018_10m_coded_76_224px.139.tif\n",
      "Copying /content/drive/MyDrive/AI_WENR/data/tiles/collection_1/features/sent2_2018_seasons_10m_7x4bands_224px/sent2_2018_seasons_10m_7x4bands_224px.121.tif to /content/drive/MyDrive/AI_WENR/data/tiles/temp/train/features/sent2_2018_seasons_10m_7x4bands_224px.121.tif\n",
      "Copying /content/drive/MyDrive/AI_WENR/data/tiles/collection_1/labels/parcels_2018_10m_coded_76_224px/parcels_2018_10m_coded_76_224px.121.tif to /content/drive/MyDrive/AI_WENR/data/tiles/temp/train/labels/parcels_2018_10m_coded_76_224px.121.tif\n",
      "Copying /content/drive/MyDrive/AI_WENR/data/tiles/collection_1/features/sent2_2018_seasons_10m_7x4bands_224px/sent2_2018_seasons_10m_7x4bands_224px.108.tif to /content/drive/MyDrive/AI_WENR/data/tiles/temp/train/features/sent2_2018_seasons_10m_7x4bands_224px.108.tif\n",
      "Copying /content/drive/MyDrive/AI_WENR/data/tiles/collection_1/labels/parcels_2018_10m_coded_76_224px/parcels_2018_10m_coded_76_224px.108.tif to /content/drive/MyDrive/AI_WENR/data/tiles/temp/train/labels/parcels_2018_10m_coded_76_224px.108.tif\n",
      "Copying /content/drive/MyDrive/AI_WENR/data/tiles/collection_1/features/sent2_2018_seasons_10m_7x4bands_224px/sent2_2018_seasons_10m_7x4bands_224px.146.tif to /content/drive/MyDrive/AI_WENR/data/tiles/temp/train/features/sent2_2018_seasons_10m_7x4bands_224px.146.tif\n",
      "Copying /content/drive/MyDrive/AI_WENR/data/tiles/collection_1/labels/parcels_2018_10m_coded_76_224px/parcels_2018_10m_coded_76_224px.146.tif to /content/drive/MyDrive/AI_WENR/data/tiles/temp/train/labels/parcels_2018_10m_coded_76_224px.146.tif\n",
      "Copying /content/drive/MyDrive/AI_WENR/data/tiles/collection_1/features/sent2_2018_seasons_10m_7x4bands_224px/sent2_2018_seasons_10m_7x4bands_224px.203.tif to /content/drive/MyDrive/AI_WENR/data/tiles/temp/train/features/sent2_2018_seasons_10m_7x4bands_224px.203.tif\n",
      "Copying /content/drive/MyDrive/AI_WENR/data/tiles/collection_1/labels/parcels_2018_10m_coded_76_224px/parcels_2018_10m_coded_76_224px.203.tif to /content/drive/MyDrive/AI_WENR/data/tiles/temp/train/labels/parcels_2018_10m_coded_76_224px.203.tif\n",
      "Copying /content/drive/MyDrive/AI_WENR/data/tiles/collection_1/features/sent2_2018_seasons_10m_7x4bands_224px/sent2_2018_seasons_10m_7x4bands_224px.218.tif to /content/drive/MyDrive/AI_WENR/data/tiles/temp/train/features/sent2_2018_seasons_10m_7x4bands_224px.218.tif\n",
      "Copying /content/drive/MyDrive/AI_WENR/data/tiles/collection_1/labels/parcels_2018_10m_coded_76_224px/parcels_2018_10m_coded_76_224px.218.tif to /content/drive/MyDrive/AI_WENR/data/tiles/temp/train/labels/parcels_2018_10m_coded_76_224px.218.tif\n",
      "Copying /content/drive/MyDrive/AI_WENR/data/tiles/collection_1/features/sent2_2018_seasons_10m_7x4bands_224px/sent2_2018_seasons_10m_7x4bands_224px.97.tif to /content/drive/MyDrive/AI_WENR/data/tiles/temp/train/features/sent2_2018_seasons_10m_7x4bands_224px.97.tif\n",
      "Copying /content/drive/MyDrive/AI_WENR/data/tiles/collection_1/labels/parcels_2018_10m_coded_76_224px/parcels_2018_10m_coded_76_224px.97.tif to /content/drive/MyDrive/AI_WENR/data/tiles/temp/train/labels/parcels_2018_10m_coded_76_224px.97.tif\n",
      "Copying /content/drive/MyDrive/AI_WENR/data/tiles/collection_1/features/sent2_2018_seasons_10m_7x4bands_224px/sent2_2018_seasons_10m_7x4bands_224px.214.tif to /content/drive/MyDrive/AI_WENR/data/tiles/temp/train/features/sent2_2018_seasons_10m_7x4bands_224px.214.tif\n",
      "Copying /content/drive/MyDrive/AI_WENR/data/tiles/collection_1/labels/parcels_2018_10m_coded_76_224px/parcels_2018_10m_coded_76_224px.214.tif to /content/drive/MyDrive/AI_WENR/data/tiles/temp/train/labels/parcels_2018_10m_coded_76_224px.214.tif\n",
      "Copying /content/drive/MyDrive/AI_WENR/data/tiles/collection_1/features/sent2_2018_seasons_10m_7x4bands_224px/sent2_2018_seasons_10m_7x4bands_224px.59.tif to /content/drive/MyDrive/AI_WENR/data/tiles/temp/train/features/sent2_2018_seasons_10m_7x4bands_224px.59.tif\n",
      "Copying /content/drive/MyDrive/AI_WENR/data/tiles/collection_1/labels/parcels_2018_10m_coded_76_224px/parcels_2018_10m_coded_76_224px.59.tif to /content/drive/MyDrive/AI_WENR/data/tiles/temp/train/labels/parcels_2018_10m_coded_76_224px.59.tif\n",
      "Copying /content/drive/MyDrive/AI_WENR/data/tiles/collection_1/features/sent2_2018_seasons_10m_7x4bands_224px/sent2_2018_seasons_10m_7x4bands_224px.198.tif to /content/drive/MyDrive/AI_WENR/data/tiles/temp/train/features/sent2_2018_seasons_10m_7x4bands_224px.198.tif\n",
      "Copying /content/drive/MyDrive/AI_WENR/data/tiles/collection_1/labels/parcels_2018_10m_coded_76_224px/parcels_2018_10m_coded_76_224px.198.tif to /content/drive/MyDrive/AI_WENR/data/tiles/temp/train/labels/parcels_2018_10m_coded_76_224px.198.tif\n",
      "Copying /content/drive/MyDrive/AI_WENR/data/tiles/collection_1/features/sent2_2018_seasons_10m_7x4bands_224px/sent2_2018_seasons_10m_7x4bands_224px.91.tif to /content/drive/MyDrive/AI_WENR/data/tiles/temp/train/features/sent2_2018_seasons_10m_7x4bands_224px.91.tif\n",
      "Copying /content/drive/MyDrive/AI_WENR/data/tiles/collection_1/labels/parcels_2018_10m_coded_76_224px/parcels_2018_10m_coded_76_224px.91.tif to /content/drive/MyDrive/AI_WENR/data/tiles/temp/train/labels/parcels_2018_10m_coded_76_224px.91.tif\n",
      "Copying /content/drive/MyDrive/AI_WENR/data/tiles/collection_1/features/sent2_2018_seasons_10m_7x4bands_224px/sent2_2018_seasons_10m_7x4bands_224px.83.tif to /content/drive/MyDrive/AI_WENR/data/tiles/temp/train/features/sent2_2018_seasons_10m_7x4bands_224px.83.tif\n",
      "Copying /content/drive/MyDrive/AI_WENR/data/tiles/collection_1/labels/parcels_2018_10m_coded_76_224px/parcels_2018_10m_coded_76_224px.83.tif to /content/drive/MyDrive/AI_WENR/data/tiles/temp/train/labels/parcels_2018_10m_coded_76_224px.83.tif\n",
      "Copying /content/drive/MyDrive/AI_WENR/data/tiles/collection_1/features/sent2_2018_seasons_10m_7x4bands_224px/sent2_2018_seasons_10m_7x4bands_224px.65.tif to /content/drive/MyDrive/AI_WENR/data/tiles/temp/train/features/sent2_2018_seasons_10m_7x4bands_224px.65.tif\n",
      "Copying /content/drive/MyDrive/AI_WENR/data/tiles/collection_1/labels/parcels_2018_10m_coded_76_224px/parcels_2018_10m_coded_76_224px.65.tif to /content/drive/MyDrive/AI_WENR/data/tiles/temp/train/labels/parcels_2018_10m_coded_76_224px.65.tif\n",
      "Copying /content/drive/MyDrive/AI_WENR/data/tiles/collection_1/features/sent2_2018_seasons_10m_7x4bands_224px/sent2_2018_seasons_10m_7x4bands_224px.118.tif to /content/drive/MyDrive/AI_WENR/data/tiles/temp/val/features/sent2_2018_seasons_10m_7x4bands_224px.118.tif\n",
      "Copying /content/drive/MyDrive/AI_WENR/data/tiles/collection_1/labels/parcels_2018_10m_coded_76_224px/parcels_2018_10m_coded_76_224px.118.tif to /content/drive/MyDrive/AI_WENR/data/tiles/temp/val/labels/parcels_2018_10m_coded_76_224px.118.tif\n",
      "Copying /content/drive/MyDrive/AI_WENR/data/tiles/collection_1/features/sent2_2018_seasons_10m_7x4bands_224px/sent2_2018_seasons_10m_7x4bands_224px.20.tif to /content/drive/MyDrive/AI_WENR/data/tiles/temp/val/features/sent2_2018_seasons_10m_7x4bands_224px.20.tif\n",
      "Copying /content/drive/MyDrive/AI_WENR/data/tiles/collection_1/labels/parcels_2018_10m_coded_76_224px/parcels_2018_10m_coded_76_224px.20.tif to /content/drive/MyDrive/AI_WENR/data/tiles/temp/val/labels/parcels_2018_10m_coded_76_224px.20.tif\n",
      "Copying /content/drive/MyDrive/AI_WENR/data/tiles/collection_1/features/sent2_2018_seasons_10m_7x4bands_224px/sent2_2018_seasons_10m_7x4bands_224px.54.tif to /content/drive/MyDrive/AI_WENR/data/tiles/temp/val/features/sent2_2018_seasons_10m_7x4bands_224px.54.tif\n",
      "Copying /content/drive/MyDrive/AI_WENR/data/tiles/collection_1/labels/parcels_2018_10m_coded_76_224px/parcels_2018_10m_coded_76_224px.54.tif to /content/drive/MyDrive/AI_WENR/data/tiles/temp/val/labels/parcels_2018_10m_coded_76_224px.54.tif\n",
      "Copying /content/drive/MyDrive/AI_WENR/data/tiles/collection_1/features/sent2_2018_seasons_10m_7x4bands_224px/sent2_2018_seasons_10m_7x4bands_224px.60.tif to /content/drive/MyDrive/AI_WENR/data/tiles/temp/val/features/sent2_2018_seasons_10m_7x4bands_224px.60.tif\n",
      "Copying /content/drive/MyDrive/AI_WENR/data/tiles/collection_1/labels/parcels_2018_10m_coded_76_224px/parcels_2018_10m_coded_76_224px.60.tif to /content/drive/MyDrive/AI_WENR/data/tiles/temp/val/labels/parcels_2018_10m_coded_76_224px.60.tif\n",
      "Copying /content/drive/MyDrive/AI_WENR/data/tiles/collection_1/features/sent2_2018_seasons_10m_7x4bands_224px/sent2_2018_seasons_10m_7x4bands_224px.21.tif to /content/drive/MyDrive/AI_WENR/data/tiles/temp/val/features/sent2_2018_seasons_10m_7x4bands_224px.21.tif\n",
      "Copying /content/drive/MyDrive/AI_WENR/data/tiles/collection_1/labels/parcels_2018_10m_coded_76_224px/parcels_2018_10m_coded_76_224px.21.tif to /content/drive/MyDrive/AI_WENR/data/tiles/temp/val/labels/parcels_2018_10m_coded_76_224px.21.tif\n",
      "Copying /content/drive/MyDrive/AI_WENR/data/tiles/collection_1/features/sent2_2018_seasons_10m_7x4bands_224px/sent2_2018_seasons_10m_7x4bands_224px.178.tif to /content/drive/MyDrive/AI_WENR/data/tiles/temp/val/features/sent2_2018_seasons_10m_7x4bands_224px.178.tif\n",
      "Copying /content/drive/MyDrive/AI_WENR/data/tiles/collection_1/labels/parcels_2018_10m_coded_76_224px/parcels_2018_10m_coded_76_224px.178.tif to /content/drive/MyDrive/AI_WENR/data/tiles/temp/val/labels/parcels_2018_10m_coded_76_224px.178.tif\n",
      "Copying /content/drive/MyDrive/AI_WENR/data/tiles/collection_1/features/sent2_2018_seasons_10m_7x4bands_224px/sent2_2018_seasons_10m_7x4bands_224px.130.tif to /content/drive/MyDrive/AI_WENR/data/tiles/temp/val/features/sent2_2018_seasons_10m_7x4bands_224px.130.tif\n",
      "Copying /content/drive/MyDrive/AI_WENR/data/tiles/collection_1/labels/parcels_2018_10m_coded_76_224px/parcels_2018_10m_coded_76_224px.130.tif to /content/drive/MyDrive/AI_WENR/data/tiles/temp/val/labels/parcels_2018_10m_coded_76_224px.130.tif\n",
      "Copying /content/drive/MyDrive/AI_WENR/data/tiles/collection_1/features/sent2_2018_seasons_10m_7x4bands_224px/sent2_2018_seasons_10m_7x4bands_224px.190.tif to /content/drive/MyDrive/AI_WENR/data/tiles/temp/val/features/sent2_2018_seasons_10m_7x4bands_224px.190.tif\n",
      "Copying /content/drive/MyDrive/AI_WENR/data/tiles/collection_1/labels/parcels_2018_10m_coded_76_224px/parcels_2018_10m_coded_76_224px.190.tif to /content/drive/MyDrive/AI_WENR/data/tiles/temp/val/labels/parcels_2018_10m_coded_76_224px.190.tif\n",
      "Copying /content/drive/MyDrive/AI_WENR/data/tiles/collection_1/features/sent2_2018_seasons_10m_7x4bands_224px/sent2_2018_seasons_10m_7x4bands_224px.75.tif to /content/drive/MyDrive/AI_WENR/data/tiles/temp/val/features/sent2_2018_seasons_10m_7x4bands_224px.75.tif\n",
      "Copying /content/drive/MyDrive/AI_WENR/data/tiles/collection_1/labels/parcels_2018_10m_coded_76_224px/parcels_2018_10m_coded_76_224px.75.tif to /content/drive/MyDrive/AI_WENR/data/tiles/temp/val/labels/parcels_2018_10m_coded_76_224px.75.tif\n",
      "Copying /content/drive/MyDrive/AI_WENR/data/tiles/collection_1/features/sent2_2018_seasons_10m_7x4bands_224px/sent2_2018_seasons_10m_7x4bands_224px.81.tif to /content/drive/MyDrive/AI_WENR/data/tiles/temp/val/features/sent2_2018_seasons_10m_7x4bands_224px.81.tif\n",
      "Copying /content/drive/MyDrive/AI_WENR/data/tiles/collection_1/labels/parcels_2018_10m_coded_76_224px/parcels_2018_10m_coded_76_224px.81.tif to /content/drive/MyDrive/AI_WENR/data/tiles/temp/val/labels/parcels_2018_10m_coded_76_224px.81.tif\n",
      "Copying /content/drive/MyDrive/AI_WENR/data/tiles/collection_1/features/sent2_2018_seasons_10m_7x4bands_224px/sent2_2018_seasons_10m_7x4bands_224px.179.tif to /content/drive/MyDrive/AI_WENR/data/tiles/temp/val/features/sent2_2018_seasons_10m_7x4bands_224px.179.tif\n",
      "Copying /content/drive/MyDrive/AI_WENR/data/tiles/collection_1/labels/parcels_2018_10m_coded_76_224px/parcels_2018_10m_coded_76_224px.179.tif to /content/drive/MyDrive/AI_WENR/data/tiles/temp/val/labels/parcels_2018_10m_coded_76_224px.179.tif\n",
      "Copying /content/drive/MyDrive/AI_WENR/data/tiles/collection_1/features/sent2_2018_seasons_10m_7x4bands_224px/sent2_2018_seasons_10m_7x4bands_224px.180.tif to /content/drive/MyDrive/AI_WENR/data/tiles/temp/val/features/sent2_2018_seasons_10m_7x4bands_224px.180.tif\n",
      "Copying /content/drive/MyDrive/AI_WENR/data/tiles/collection_1/labels/parcels_2018_10m_coded_76_224px/parcels_2018_10m_coded_76_224px.180.tif to /content/drive/MyDrive/AI_WENR/data/tiles/temp/val/labels/parcels_2018_10m_coded_76_224px.180.tif\n",
      "Copying /content/drive/MyDrive/AI_WENR/data/tiles/collection_1/features/sent2_2018_seasons_10m_7x4bands_224px/sent2_2018_seasons_10m_7x4bands_224px.166.tif to /content/drive/MyDrive/AI_WENR/data/tiles/temp/val/features/sent2_2018_seasons_10m_7x4bands_224px.166.tif\n",
      "Copying /content/drive/MyDrive/AI_WENR/data/tiles/collection_1/labels/parcels_2018_10m_coded_76_224px/parcels_2018_10m_coded_76_224px.166.tif to /content/drive/MyDrive/AI_WENR/data/tiles/temp/val/labels/parcels_2018_10m_coded_76_224px.166.tif\n",
      "Copying /content/drive/MyDrive/AI_WENR/data/tiles/collection_1/features/sent2_2018_seasons_10m_7x4bands_224px/sent2_2018_seasons_10m_7x4bands_224px.47.tif to /content/drive/MyDrive/AI_WENR/data/tiles/temp/val/features/sent2_2018_seasons_10m_7x4bands_224px.47.tif\n",
      "Copying /content/drive/MyDrive/AI_WENR/data/tiles/collection_1/labels/parcels_2018_10m_coded_76_224px/parcels_2018_10m_coded_76_224px.47.tif to /content/drive/MyDrive/AI_WENR/data/tiles/temp/val/labels/parcels_2018_10m_coded_76_224px.47.tif\n",
      "Copying /content/drive/MyDrive/AI_WENR/data/tiles/collection_1/features/sent2_2018_seasons_10m_7x4bands_224px/sent2_2018_seasons_10m_7x4bands_224px.85.tif to /content/drive/MyDrive/AI_WENR/data/tiles/temp/val/features/sent2_2018_seasons_10m_7x4bands_224px.85.tif\n",
      "Copying /content/drive/MyDrive/AI_WENR/data/tiles/collection_1/labels/parcels_2018_10m_coded_76_224px/parcels_2018_10m_coded_76_224px.85.tif to /content/drive/MyDrive/AI_WENR/data/tiles/temp/val/labels/parcels_2018_10m_coded_76_224px.85.tif\n",
      "Copying /content/drive/MyDrive/AI_WENR/data/tiles/collection_1/features/sent2_2018_seasons_10m_7x4bands_224px/sent2_2018_seasons_10m_7x4bands_224px.105.tif to /content/drive/MyDrive/AI_WENR/data/tiles/temp/val/features/sent2_2018_seasons_10m_7x4bands_224px.105.tif\n",
      "Copying /content/drive/MyDrive/AI_WENR/data/tiles/collection_1/labels/parcels_2018_10m_coded_76_224px/parcels_2018_10m_coded_76_224px.105.tif to /content/drive/MyDrive/AI_WENR/data/tiles/temp/val/labels/parcels_2018_10m_coded_76_224px.105.tif\n",
      "Copying /content/drive/MyDrive/AI_WENR/data/tiles/collection_1/features/sent2_2018_seasons_10m_7x4bands_224px/sent2_2018_seasons_10m_7x4bands_224px.96.tif to /content/drive/MyDrive/AI_WENR/data/tiles/temp/val/features/sent2_2018_seasons_10m_7x4bands_224px.96.tif\n",
      "Copying /content/drive/MyDrive/AI_WENR/data/tiles/collection_1/labels/parcels_2018_10m_coded_76_224px/parcels_2018_10m_coded_76_224px.96.tif to /content/drive/MyDrive/AI_WENR/data/tiles/temp/val/labels/parcels_2018_10m_coded_76_224px.96.tif\n",
      "Copying /content/drive/MyDrive/AI_WENR/data/tiles/collection_1/features/sent2_2018_seasons_10m_7x4bands_224px/sent2_2018_seasons_10m_7x4bands_224px.114.tif to /content/drive/MyDrive/AI_WENR/data/tiles/temp/val/features/sent2_2018_seasons_10m_7x4bands_224px.114.tif\n",
      "Copying /content/drive/MyDrive/AI_WENR/data/tiles/collection_1/labels/parcels_2018_10m_coded_76_224px/parcels_2018_10m_coded_76_224px.114.tif to /content/drive/MyDrive/AI_WENR/data/tiles/temp/val/labels/parcels_2018_10m_coded_76_224px.114.tif\n",
      "Copying /content/drive/MyDrive/AI_WENR/data/tiles/collection_1/features/sent2_2018_seasons_10m_7x4bands_224px/sent2_2018_seasons_10m_7x4bands_224px.56.tif to /content/drive/MyDrive/AI_WENR/data/tiles/temp/val/features/sent2_2018_seasons_10m_7x4bands_224px.56.tif\n",
      "Copying /content/drive/MyDrive/AI_WENR/data/tiles/collection_1/labels/parcels_2018_10m_coded_76_224px/parcels_2018_10m_coded_76_224px.56.tif to /content/drive/MyDrive/AI_WENR/data/tiles/temp/val/labels/parcels_2018_10m_coded_76_224px.56.tif\n",
      "Copying /content/drive/MyDrive/AI_WENR/data/tiles/collection_1/features/sent2_2018_seasons_10m_7x4bands_224px/sent2_2018_seasons_10m_7x4bands_224px.141.tif to /content/drive/MyDrive/AI_WENR/data/tiles/temp/val/features/sent2_2018_seasons_10m_7x4bands_224px.141.tif\n",
      "Copying /content/drive/MyDrive/AI_WENR/data/tiles/collection_1/labels/parcels_2018_10m_coded_76_224px/parcels_2018_10m_coded_76_224px.141.tif to /content/drive/MyDrive/AI_WENR/data/tiles/temp/val/labels/parcels_2018_10m_coded_76_224px.141.tif\n",
      "Copying /content/drive/MyDrive/AI_WENR/data/tiles/collection_1/features/sent2_2018_seasons_10m_7x4bands_224px/sent2_2018_seasons_10m_7x4bands_224px.168.tif to /content/drive/MyDrive/AI_WENR/data/tiles/temp/val/features/sent2_2018_seasons_10m_7x4bands_224px.168.tif\n",
      "Copying /content/drive/MyDrive/AI_WENR/data/tiles/collection_1/labels/parcels_2018_10m_coded_76_224px/parcels_2018_10m_coded_76_224px.168.tif to /content/drive/MyDrive/AI_WENR/data/tiles/temp/val/labels/parcels_2018_10m_coded_76_224px.168.tif\n",
      "Copying /content/drive/MyDrive/AI_WENR/data/tiles/collection_1/features/sent2_2018_seasons_10m_7x4bands_224px/sent2_2018_seasons_10m_7x4bands_224px.2.tif to /content/drive/MyDrive/AI_WENR/data/tiles/temp/val/features/sent2_2018_seasons_10m_7x4bands_224px.2.tif\n",
      "Copying /content/drive/MyDrive/AI_WENR/data/tiles/collection_1/labels/parcels_2018_10m_coded_76_224px/parcels_2018_10m_coded_76_224px.2.tif to /content/drive/MyDrive/AI_WENR/data/tiles/temp/val/labels/parcels_2018_10m_coded_76_224px.2.tif\n",
      "Copying /content/drive/MyDrive/AI_WENR/data/tiles/collection_1/features/sent2_2018_seasons_10m_7x4bands_224px/sent2_2018_seasons_10m_7x4bands_224px.194.tif to /content/drive/MyDrive/AI_WENR/data/tiles/temp/val/features/sent2_2018_seasons_10m_7x4bands_224px.194.tif\n",
      "Copying /content/drive/MyDrive/AI_WENR/data/tiles/collection_1/labels/parcels_2018_10m_coded_76_224px/parcels_2018_10m_coded_76_224px.194.tif to /content/drive/MyDrive/AI_WENR/data/tiles/temp/val/labels/parcels_2018_10m_coded_76_224px.194.tif\n",
      "Copying /content/drive/MyDrive/AI_WENR/data/tiles/collection_1/features/sent2_2018_seasons_10m_7x4bands_224px/sent2_2018_seasons_10m_7x4bands_224px.109.tif to /content/drive/MyDrive/AI_WENR/data/tiles/temp/val/features/sent2_2018_seasons_10m_7x4bands_224px.109.tif\n",
      "Copying /content/drive/MyDrive/AI_WENR/data/tiles/collection_1/labels/parcels_2018_10m_coded_76_224px/parcels_2018_10m_coded_76_224px.109.tif to /content/drive/MyDrive/AI_WENR/data/tiles/temp/val/labels/parcels_2018_10m_coded_76_224px.109.tif\n",
      "Copying /content/drive/MyDrive/AI_WENR/data/tiles/collection_1/features/sent2_2018_seasons_10m_7x4bands_224px/sent2_2018_seasons_10m_7x4bands_224px.163.tif to /content/drive/MyDrive/AI_WENR/data/tiles/temp/val/features/sent2_2018_seasons_10m_7x4bands_224px.163.tif\n",
      "Copying /content/drive/MyDrive/AI_WENR/data/tiles/collection_1/labels/parcels_2018_10m_coded_76_224px/parcels_2018_10m_coded_76_224px.163.tif to /content/drive/MyDrive/AI_WENR/data/tiles/temp/val/labels/parcels_2018_10m_coded_76_224px.163.tif\n",
      "Copying /content/drive/MyDrive/AI_WENR/data/tiles/collection_1/features/sent2_2018_seasons_10m_7x4bands_224px/sent2_2018_seasons_10m_7x4bands_224px.204.tif to /content/drive/MyDrive/AI_WENR/data/tiles/temp/val/features/sent2_2018_seasons_10m_7x4bands_224px.204.tif\n",
      "Copying /content/drive/MyDrive/AI_WENR/data/tiles/collection_1/labels/parcels_2018_10m_coded_76_224px/parcels_2018_10m_coded_76_224px.204.tif to /content/drive/MyDrive/AI_WENR/data/tiles/temp/val/labels/parcels_2018_10m_coded_76_224px.204.tif\n",
      "Copying /content/drive/MyDrive/AI_WENR/data/tiles/collection_1/features/sent2_2018_seasons_10m_7x4bands_224px/sent2_2018_seasons_10m_7x4bands_224px.28.tif to /content/drive/MyDrive/AI_WENR/data/tiles/temp/val/features/sent2_2018_seasons_10m_7x4bands_224px.28.tif\n",
      "Copying /content/drive/MyDrive/AI_WENR/data/tiles/collection_1/labels/parcels_2018_10m_coded_76_224px/parcels_2018_10m_coded_76_224px.28.tif to /content/drive/MyDrive/AI_WENR/data/tiles/temp/val/labels/parcels_2018_10m_coded_76_224px.28.tif\n",
      "Copying /content/drive/MyDrive/AI_WENR/data/tiles/collection_1/features/sent2_2018_seasons_10m_7x4bands_224px/sent2_2018_seasons_10m_7x4bands_224px.135.tif to /content/drive/MyDrive/AI_WENR/data/tiles/temp/val/features/sent2_2018_seasons_10m_7x4bands_224px.135.tif\n",
      "Copying /content/drive/MyDrive/AI_WENR/data/tiles/collection_1/labels/parcels_2018_10m_coded_76_224px/parcels_2018_10m_coded_76_224px.135.tif to /content/drive/MyDrive/AI_WENR/data/tiles/temp/val/labels/parcels_2018_10m_coded_76_224px.135.tif\n",
      "Copying /content/drive/MyDrive/AI_WENR/data/tiles/collection_1/features/sent2_2018_seasons_10m_7x4bands_224px/sent2_2018_seasons_10m_7x4bands_224px.13.tif to /content/drive/MyDrive/AI_WENR/data/tiles/temp/val/features/sent2_2018_seasons_10m_7x4bands_224px.13.tif\n",
      "Copying /content/drive/MyDrive/AI_WENR/data/tiles/collection_1/labels/parcels_2018_10m_coded_76_224px/parcels_2018_10m_coded_76_224px.13.tif to /content/drive/MyDrive/AI_WENR/data/tiles/temp/val/labels/parcels_2018_10m_coded_76_224px.13.tif\n",
      "Copying /content/drive/MyDrive/AI_WENR/data/tiles/collection_1/features/sent2_2018_seasons_10m_7x4bands_224px/sent2_2018_seasons_10m_7x4bands_224px.19.tif to /content/drive/MyDrive/AI_WENR/data/tiles/temp/val/features/sent2_2018_seasons_10m_7x4bands_224px.19.tif\n",
      "Copying /content/drive/MyDrive/AI_WENR/data/tiles/collection_1/labels/parcels_2018_10m_coded_76_224px/parcels_2018_10m_coded_76_224px.19.tif to /content/drive/MyDrive/AI_WENR/data/tiles/temp/val/labels/parcels_2018_10m_coded_76_224px.19.tif\n",
      "Copying /content/drive/MyDrive/AI_WENR/data/tiles/collection_1/features/sent2_2018_seasons_10m_7x4bands_224px/sent2_2018_seasons_10m_7x4bands_224px.127.tif to /content/drive/MyDrive/AI_WENR/data/tiles/temp/val/features/sent2_2018_seasons_10m_7x4bands_224px.127.tif\n",
      "Copying /content/drive/MyDrive/AI_WENR/data/tiles/collection_1/labels/parcels_2018_10m_coded_76_224px/parcels_2018_10m_coded_76_224px.127.tif to /content/drive/MyDrive/AI_WENR/data/tiles/temp/val/labels/parcels_2018_10m_coded_76_224px.127.tif\n",
      "Copying /content/drive/MyDrive/AI_WENR/data/tiles/collection_1/features/sent2_2018_seasons_10m_7x4bands_224px/sent2_2018_seasons_10m_7x4bands_224px.140.tif to /content/drive/MyDrive/AI_WENR/data/tiles/temp/val/features/sent2_2018_seasons_10m_7x4bands_224px.140.tif\n",
      "Copying /content/drive/MyDrive/AI_WENR/data/tiles/collection_1/labels/parcels_2018_10m_coded_76_224px/parcels_2018_10m_coded_76_224px.140.tif to /content/drive/MyDrive/AI_WENR/data/tiles/temp/val/labels/parcels_2018_10m_coded_76_224px.140.tif\n",
      "Copying /content/drive/MyDrive/AI_WENR/data/tiles/collection_1/features/sent2_2018_seasons_10m_7x4bands_224px/sent2_2018_seasons_10m_7x4bands_224px.131.tif to /content/drive/MyDrive/AI_WENR/data/tiles/temp/val/features/sent2_2018_seasons_10m_7x4bands_224px.131.tif\n",
      "Copying /content/drive/MyDrive/AI_WENR/data/tiles/collection_1/labels/parcels_2018_10m_coded_76_224px/parcels_2018_10m_coded_76_224px.131.tif to /content/drive/MyDrive/AI_WENR/data/tiles/temp/val/labels/parcels_2018_10m_coded_76_224px.131.tif\n",
      "Copying /content/drive/MyDrive/AI_WENR/data/tiles/collection_1/features/sent2_2018_seasons_10m_7x4bands_224px/sent2_2018_seasons_10m_7x4bands_224px.189.tif to /content/drive/MyDrive/AI_WENR/data/tiles/temp/val/features/sent2_2018_seasons_10m_7x4bands_224px.189.tif\n",
      "Copying /content/drive/MyDrive/AI_WENR/data/tiles/collection_1/labels/parcels_2018_10m_coded_76_224px/parcels_2018_10m_coded_76_224px.189.tif to /content/drive/MyDrive/AI_WENR/data/tiles/temp/val/labels/parcels_2018_10m_coded_76_224px.189.tif\n",
      "Copying /content/drive/MyDrive/AI_WENR/data/tiles/collection_1/features/sent2_2018_seasons_10m_7x4bands_224px/sent2_2018_seasons_10m_7x4bands_224px.70.tif to /content/drive/MyDrive/AI_WENR/data/tiles/temp/val/features/sent2_2018_seasons_10m_7x4bands_224px.70.tif\n",
      "Copying /content/drive/MyDrive/AI_WENR/data/tiles/collection_1/labels/parcels_2018_10m_coded_76_224px/parcels_2018_10m_coded_76_224px.70.tif to /content/drive/MyDrive/AI_WENR/data/tiles/temp/val/labels/parcels_2018_10m_coded_76_224px.70.tif\n",
      "Copying /content/drive/MyDrive/AI_WENR/data/tiles/collection_1/features/sent2_2018_seasons_10m_7x4bands_224px/sent2_2018_seasons_10m_7x4bands_224px.16.tif to /content/drive/MyDrive/AI_WENR/data/tiles/temp/val/features/sent2_2018_seasons_10m_7x4bands_224px.16.tif\n",
      "Copying /content/drive/MyDrive/AI_WENR/data/tiles/collection_1/labels/parcels_2018_10m_coded_76_224px/parcels_2018_10m_coded_76_224px.16.tif to /content/drive/MyDrive/AI_WENR/data/tiles/temp/val/labels/parcels_2018_10m_coded_76_224px.16.tif\n",
      "Copying /content/drive/MyDrive/AI_WENR/data/tiles/collection_1/features/sent2_2018_seasons_10m_7x4bands_224px/sent2_2018_seasons_10m_7x4bands_224px.76.tif to /content/drive/MyDrive/AI_WENR/data/tiles/temp/val/features/sent2_2018_seasons_10m_7x4bands_224px.76.tif\n",
      "Copying /content/drive/MyDrive/AI_WENR/data/tiles/collection_1/labels/parcels_2018_10m_coded_76_224px/parcels_2018_10m_coded_76_224px.76.tif to /content/drive/MyDrive/AI_WENR/data/tiles/temp/val/labels/parcels_2018_10m_coded_76_224px.76.tif\n",
      "Copying /content/drive/MyDrive/AI_WENR/data/tiles/collection_1/features/sent2_2018_seasons_10m_7x4bands_224px/sent2_2018_seasons_10m_7x4bands_224px.133.tif to /content/drive/MyDrive/AI_WENR/data/tiles/temp/val/features/sent2_2018_seasons_10m_7x4bands_224px.133.tif\n",
      "Copying /content/drive/MyDrive/AI_WENR/data/tiles/collection_1/labels/parcels_2018_10m_coded_76_224px/parcels_2018_10m_coded_76_224px.133.tif to /content/drive/MyDrive/AI_WENR/data/tiles/temp/val/labels/parcels_2018_10m_coded_76_224px.133.tif\n",
      "Copying /content/drive/MyDrive/AI_WENR/data/tiles/collection_1/features/sent2_2018_seasons_10m_7x4bands_224px/sent2_2018_seasons_10m_7x4bands_224px.165.tif to /content/drive/MyDrive/AI_WENR/data/tiles/temp/val/features/sent2_2018_seasons_10m_7x4bands_224px.165.tif\n",
      "Copying /content/drive/MyDrive/AI_WENR/data/tiles/collection_1/labels/parcels_2018_10m_coded_76_224px/parcels_2018_10m_coded_76_224px.165.tif to /content/drive/MyDrive/AI_WENR/data/tiles/temp/val/labels/parcels_2018_10m_coded_76_224px.165.tif\n",
      "Copying /content/drive/MyDrive/AI_WENR/data/tiles/collection_1/features/sent2_2018_seasons_10m_7x4bands_224px/sent2_2018_seasons_10m_7x4bands_224px.61.tif to /content/drive/MyDrive/AI_WENR/data/tiles/temp/val/features/sent2_2018_seasons_10m_7x4bands_224px.61.tif\n",
      "Copying /content/drive/MyDrive/AI_WENR/data/tiles/collection_1/labels/parcels_2018_10m_coded_76_224px/parcels_2018_10m_coded_76_224px.61.tif to /content/drive/MyDrive/AI_WENR/data/tiles/temp/val/labels/parcels_2018_10m_coded_76_224px.61.tif\n",
      "Copying /content/drive/MyDrive/AI_WENR/data/tiles/collection_1/features/sent2_2018_seasons_10m_7x4bands_224px/sent2_2018_seasons_10m_7x4bands_224px.90.tif to /content/drive/MyDrive/AI_WENR/data/tiles/temp/val/features/sent2_2018_seasons_10m_7x4bands_224px.90.tif\n",
      "Copying /content/drive/MyDrive/AI_WENR/data/tiles/collection_1/labels/parcels_2018_10m_coded_76_224px/parcels_2018_10m_coded_76_224px.90.tif to /content/drive/MyDrive/AI_WENR/data/tiles/temp/val/labels/parcels_2018_10m_coded_76_224px.90.tif\n",
      "Copying /content/drive/MyDrive/AI_WENR/data/tiles/collection_1/features/sent2_2018_seasons_10m_7x4bands_224px/sent2_2018_seasons_10m_7x4bands_224px.202.tif to /content/drive/MyDrive/AI_WENR/data/tiles/temp/val/features/sent2_2018_seasons_10m_7x4bands_224px.202.tif\n",
      "Copying /content/drive/MyDrive/AI_WENR/data/tiles/collection_1/labels/parcels_2018_10m_coded_76_224px/parcels_2018_10m_coded_76_224px.202.tif to /content/drive/MyDrive/AI_WENR/data/tiles/temp/val/labels/parcels_2018_10m_coded_76_224px.202.tif\n",
      "Copying /content/drive/MyDrive/AI_WENR/data/tiles/collection_1/features/sent2_2018_seasons_10m_7x4bands_224px/sent2_2018_seasons_10m_7x4bands_224px.170.tif to /content/drive/MyDrive/AI_WENR/data/tiles/temp/val/features/sent2_2018_seasons_10m_7x4bands_224px.170.tif\n",
      "Copying /content/drive/MyDrive/AI_WENR/data/tiles/collection_1/labels/parcels_2018_10m_coded_76_224px/parcels_2018_10m_coded_76_224px.170.tif to /content/drive/MyDrive/AI_WENR/data/tiles/temp/val/labels/parcels_2018_10m_coded_76_224px.170.tif\n",
      "Copying /content/drive/MyDrive/AI_WENR/data/tiles/collection_1/features/sent2_2018_seasons_10m_7x4bands_224px/sent2_2018_seasons_10m_7x4bands_224px.184.tif to /content/drive/MyDrive/AI_WENR/data/tiles/temp/test/features/sent2_2018_seasons_10m_7x4bands_224px.184.tif\n",
      "Copying /content/drive/MyDrive/AI_WENR/data/tiles/collection_1/labels/parcels_2018_10m_coded_76_224px/parcels_2018_10m_coded_76_224px.184.tif to /content/drive/MyDrive/AI_WENR/data/tiles/temp/test/labels/parcels_2018_10m_coded_76_224px.184.tif\n",
      "Copying /content/drive/MyDrive/AI_WENR/data/tiles/collection_1/features/sent2_2018_seasons_10m_7x4bands_224px/sent2_2018_seasons_10m_7x4bands_224px.77.tif to /content/drive/MyDrive/AI_WENR/data/tiles/temp/test/features/sent2_2018_seasons_10m_7x4bands_224px.77.tif\n",
      "Copying /content/drive/MyDrive/AI_WENR/data/tiles/collection_1/labels/parcels_2018_10m_coded_76_224px/parcels_2018_10m_coded_76_224px.77.tif to /content/drive/MyDrive/AI_WENR/data/tiles/temp/test/labels/parcels_2018_10m_coded_76_224px.77.tif\n",
      "Copying /content/drive/MyDrive/AI_WENR/data/tiles/collection_1/features/sent2_2018_seasons_10m_7x4bands_224px/sent2_2018_seasons_10m_7x4bands_224px.7.tif to /content/drive/MyDrive/AI_WENR/data/tiles/temp/test/features/sent2_2018_seasons_10m_7x4bands_224px.7.tif\n",
      "Copying /content/drive/MyDrive/AI_WENR/data/tiles/collection_1/labels/parcels_2018_10m_coded_76_224px/parcels_2018_10m_coded_76_224px.7.tif to /content/drive/MyDrive/AI_WENR/data/tiles/temp/test/labels/parcels_2018_10m_coded_76_224px.7.tif\n",
      "Copying /content/drive/MyDrive/AI_WENR/data/tiles/collection_1/features/sent2_2018_seasons_10m_7x4bands_224px/sent2_2018_seasons_10m_7x4bands_224px.67.tif to /content/drive/MyDrive/AI_WENR/data/tiles/temp/test/features/sent2_2018_seasons_10m_7x4bands_224px.67.tif\n",
      "Copying /content/drive/MyDrive/AI_WENR/data/tiles/collection_1/labels/parcels_2018_10m_coded_76_224px/parcels_2018_10m_coded_76_224px.67.tif to /content/drive/MyDrive/AI_WENR/data/tiles/temp/test/labels/parcels_2018_10m_coded_76_224px.67.tif\n",
      "Copying /content/drive/MyDrive/AI_WENR/data/tiles/collection_1/features/sent2_2018_seasons_10m_7x4bands_224px/sent2_2018_seasons_10m_7x4bands_224px.162.tif to /content/drive/MyDrive/AI_WENR/data/tiles/temp/test/features/sent2_2018_seasons_10m_7x4bands_224px.162.tif\n",
      "Copying /content/drive/MyDrive/AI_WENR/data/tiles/collection_1/labels/parcels_2018_10m_coded_76_224px/parcels_2018_10m_coded_76_224px.162.tif to /content/drive/MyDrive/AI_WENR/data/tiles/temp/test/labels/parcels_2018_10m_coded_76_224px.162.tif\n",
      "Copying /content/drive/MyDrive/AI_WENR/data/tiles/collection_1/features/sent2_2018_seasons_10m_7x4bands_224px/sent2_2018_seasons_10m_7x4bands_224px.23.tif to /content/drive/MyDrive/AI_WENR/data/tiles/temp/test/features/sent2_2018_seasons_10m_7x4bands_224px.23.tif\n",
      "Copying /content/drive/MyDrive/AI_WENR/data/tiles/collection_1/labels/parcels_2018_10m_coded_76_224px/parcels_2018_10m_coded_76_224px.23.tif to /content/drive/MyDrive/AI_WENR/data/tiles/temp/test/labels/parcels_2018_10m_coded_76_224px.23.tif\n",
      "Copying /content/drive/MyDrive/AI_WENR/data/tiles/collection_1/features/sent2_2018_seasons_10m_7x4bands_224px/sent2_2018_seasons_10m_7x4bands_224px.93.tif to /content/drive/MyDrive/AI_WENR/data/tiles/temp/test/features/sent2_2018_seasons_10m_7x4bands_224px.93.tif\n",
      "Copying /content/drive/MyDrive/AI_WENR/data/tiles/collection_1/labels/parcels_2018_10m_coded_76_224px/parcels_2018_10m_coded_76_224px.93.tif to /content/drive/MyDrive/AI_WENR/data/tiles/temp/test/labels/parcels_2018_10m_coded_76_224px.93.tif\n",
      "Copying /content/drive/MyDrive/AI_WENR/data/tiles/collection_1/features/sent2_2018_seasons_10m_7x4bands_224px/sent2_2018_seasons_10m_7x4bands_224px.38.tif to /content/drive/MyDrive/AI_WENR/data/tiles/temp/test/features/sent2_2018_seasons_10m_7x4bands_224px.38.tif\n",
      "Copying /content/drive/MyDrive/AI_WENR/data/tiles/collection_1/labels/parcels_2018_10m_coded_76_224px/parcels_2018_10m_coded_76_224px.38.tif to /content/drive/MyDrive/AI_WENR/data/tiles/temp/test/labels/parcels_2018_10m_coded_76_224px.38.tif\n",
      "Copying /content/drive/MyDrive/AI_WENR/data/tiles/collection_1/features/sent2_2018_seasons_10m_7x4bands_224px/sent2_2018_seasons_10m_7x4bands_224px.72.tif to /content/drive/MyDrive/AI_WENR/data/tiles/temp/test/features/sent2_2018_seasons_10m_7x4bands_224px.72.tif\n",
      "Copying /content/drive/MyDrive/AI_WENR/data/tiles/collection_1/labels/parcels_2018_10m_coded_76_224px/parcels_2018_10m_coded_76_224px.72.tif to /content/drive/MyDrive/AI_WENR/data/tiles/temp/test/labels/parcels_2018_10m_coded_76_224px.72.tif\n",
      "Copying /content/drive/MyDrive/AI_WENR/data/tiles/collection_1/features/sent2_2018_seasons_10m_7x4bands_224px/sent2_2018_seasons_10m_7x4bands_224px.95.tif to /content/drive/MyDrive/AI_WENR/data/tiles/temp/test/features/sent2_2018_seasons_10m_7x4bands_224px.95.tif\n",
      "Copying /content/drive/MyDrive/AI_WENR/data/tiles/collection_1/labels/parcels_2018_10m_coded_76_224px/parcels_2018_10m_coded_76_224px.95.tif to /content/drive/MyDrive/AI_WENR/data/tiles/temp/test/labels/parcels_2018_10m_coded_76_224px.95.tif\n",
      "Copying /content/drive/MyDrive/AI_WENR/data/tiles/collection_1/features/sent2_2018_seasons_10m_7x4bands_224px/sent2_2018_seasons_10m_7x4bands_224px.123.tif to /content/drive/MyDrive/AI_WENR/data/tiles/temp/test/features/sent2_2018_seasons_10m_7x4bands_224px.123.tif\n",
      "Copying /content/drive/MyDrive/AI_WENR/data/tiles/collection_1/labels/parcels_2018_10m_coded_76_224px/parcels_2018_10m_coded_76_224px.123.tif to /content/drive/MyDrive/AI_WENR/data/tiles/temp/test/labels/parcels_2018_10m_coded_76_224px.123.tif\n",
      "Copying /content/drive/MyDrive/AI_WENR/data/tiles/collection_1/features/sent2_2018_seasons_10m_7x4bands_224px/sent2_2018_seasons_10m_7x4bands_224px.147.tif to /content/drive/MyDrive/AI_WENR/data/tiles/temp/test/features/sent2_2018_seasons_10m_7x4bands_224px.147.tif\n",
      "Copying /content/drive/MyDrive/AI_WENR/data/tiles/collection_1/labels/parcels_2018_10m_coded_76_224px/parcels_2018_10m_coded_76_224px.147.tif to /content/drive/MyDrive/AI_WENR/data/tiles/temp/test/labels/parcels_2018_10m_coded_76_224px.147.tif\n",
      "Copying /content/drive/MyDrive/AI_WENR/data/tiles/collection_1/features/sent2_2018_seasons_10m_7x4bands_224px/sent2_2018_seasons_10m_7x4bands_224px.113.tif to /content/drive/MyDrive/AI_WENR/data/tiles/temp/test/features/sent2_2018_seasons_10m_7x4bands_224px.113.tif\n",
      "Copying /content/drive/MyDrive/AI_WENR/data/tiles/collection_1/labels/parcels_2018_10m_coded_76_224px/parcels_2018_10m_coded_76_224px.113.tif to /content/drive/MyDrive/AI_WENR/data/tiles/temp/test/labels/parcels_2018_10m_coded_76_224px.113.tif\n",
      "Copying /content/drive/MyDrive/AI_WENR/data/tiles/collection_1/features/sent2_2018_seasons_10m_7x4bands_224px/sent2_2018_seasons_10m_7x4bands_224px.58.tif to /content/drive/MyDrive/AI_WENR/data/tiles/temp/test/features/sent2_2018_seasons_10m_7x4bands_224px.58.tif\n",
      "Copying /content/drive/MyDrive/AI_WENR/data/tiles/collection_1/labels/parcels_2018_10m_coded_76_224px/parcels_2018_10m_coded_76_224px.58.tif to /content/drive/MyDrive/AI_WENR/data/tiles/temp/test/labels/parcels_2018_10m_coded_76_224px.58.tif\n",
      "Copying /content/drive/MyDrive/AI_WENR/data/tiles/collection_1/features/sent2_2018_seasons_10m_7x4bands_224px/sent2_2018_seasons_10m_7x4bands_224px.211.tif to /content/drive/MyDrive/AI_WENR/data/tiles/temp/test/features/sent2_2018_seasons_10m_7x4bands_224px.211.tif\n",
      "Copying /content/drive/MyDrive/AI_WENR/data/tiles/collection_1/labels/parcels_2018_10m_coded_76_224px/parcels_2018_10m_coded_76_224px.211.tif to /content/drive/MyDrive/AI_WENR/data/tiles/temp/test/labels/parcels_2018_10m_coded_76_224px.211.tif\n",
      "Copying /content/drive/MyDrive/AI_WENR/data/tiles/collection_1/features/sent2_2018_seasons_10m_7x4bands_224px/sent2_2018_seasons_10m_7x4bands_224px.169.tif to /content/drive/MyDrive/AI_WENR/data/tiles/temp/test/features/sent2_2018_seasons_10m_7x4bands_224px.169.tif\n",
      "Copying /content/drive/MyDrive/AI_WENR/data/tiles/collection_1/labels/parcels_2018_10m_coded_76_224px/parcels_2018_10m_coded_76_224px.169.tif to /content/drive/MyDrive/AI_WENR/data/tiles/temp/test/labels/parcels_2018_10m_coded_76_224px.169.tif\n",
      "Copying /content/drive/MyDrive/AI_WENR/data/tiles/collection_1/features/sent2_2018_seasons_10m_7x4bands_224px/sent2_2018_seasons_10m_7x4bands_224px.134.tif to /content/drive/MyDrive/AI_WENR/data/tiles/temp/test/features/sent2_2018_seasons_10m_7x4bands_224px.134.tif\n",
      "Copying /content/drive/MyDrive/AI_WENR/data/tiles/collection_1/labels/parcels_2018_10m_coded_76_224px/parcels_2018_10m_coded_76_224px.134.tif to /content/drive/MyDrive/AI_WENR/data/tiles/temp/test/labels/parcels_2018_10m_coded_76_224px.134.tif\n",
      "Copying /content/drive/MyDrive/AI_WENR/data/tiles/collection_1/features/sent2_2018_seasons_10m_7x4bands_224px/sent2_2018_seasons_10m_7x4bands_224px.92.tif to /content/drive/MyDrive/AI_WENR/data/tiles/temp/test/features/sent2_2018_seasons_10m_7x4bands_224px.92.tif\n",
      "Copying /content/drive/MyDrive/AI_WENR/data/tiles/collection_1/labels/parcels_2018_10m_coded_76_224px/parcels_2018_10m_coded_76_224px.92.tif to /content/drive/MyDrive/AI_WENR/data/tiles/temp/test/labels/parcels_2018_10m_coded_76_224px.92.tif\n",
      "Copying /content/drive/MyDrive/AI_WENR/data/tiles/collection_1/features/sent2_2018_seasons_10m_7x4bands_224px/sent2_2018_seasons_10m_7x4bands_224px.193.tif to /content/drive/MyDrive/AI_WENR/data/tiles/temp/test/features/sent2_2018_seasons_10m_7x4bands_224px.193.tif\n",
      "Copying /content/drive/MyDrive/AI_WENR/data/tiles/collection_1/labels/parcels_2018_10m_coded_76_224px/parcels_2018_10m_coded_76_224px.193.tif to /content/drive/MyDrive/AI_WENR/data/tiles/temp/test/labels/parcels_2018_10m_coded_76_224px.193.tif\n",
      "Copying /content/drive/MyDrive/AI_WENR/data/tiles/collection_1/features/sent2_2018_seasons_10m_7x4bands_224px/sent2_2018_seasons_10m_7x4bands_224px.32.tif to /content/drive/MyDrive/AI_WENR/data/tiles/temp/test/features/sent2_2018_seasons_10m_7x4bands_224px.32.tif\n",
      "Copying /content/drive/MyDrive/AI_WENR/data/tiles/collection_1/labels/parcels_2018_10m_coded_76_224px/parcels_2018_10m_coded_76_224px.32.tif to /content/drive/MyDrive/AI_WENR/data/tiles/temp/test/labels/parcels_2018_10m_coded_76_224px.32.tif\n",
      "Copying /content/drive/MyDrive/AI_WENR/data/tiles/collection_1/features/sent2_2018_seasons_10m_7x4bands_224px/sent2_2018_seasons_10m_7x4bands_224px.103.tif to /content/drive/MyDrive/AI_WENR/data/tiles/temp/test/features/sent2_2018_seasons_10m_7x4bands_224px.103.tif\n",
      "Copying /content/drive/MyDrive/AI_WENR/data/tiles/collection_1/labels/parcels_2018_10m_coded_76_224px/parcels_2018_10m_coded_76_224px.103.tif to /content/drive/MyDrive/AI_WENR/data/tiles/temp/test/labels/parcels_2018_10m_coded_76_224px.103.tif\n",
      "Copying /content/drive/MyDrive/AI_WENR/data/tiles/collection_1/features/sent2_2018_seasons_10m_7x4bands_224px/sent2_2018_seasons_10m_7x4bands_224px.159.tif to /content/drive/MyDrive/AI_WENR/data/tiles/temp/test/features/sent2_2018_seasons_10m_7x4bands_224px.159.tif\n",
      "Copying /content/drive/MyDrive/AI_WENR/data/tiles/collection_1/labels/parcels_2018_10m_coded_76_224px/parcels_2018_10m_coded_76_224px.159.tif to /content/drive/MyDrive/AI_WENR/data/tiles/temp/test/labels/parcels_2018_10m_coded_76_224px.159.tif\n"
     ]
    }
   ]
  },
  {
   "cell_type": "code",
   "metadata": {
    "colab": {
     "base_uri": "https://localhost:8080/"
    },
    "id": "2rWj7OHecGei",
    "executionInfo": {
     "status": "ok",
     "timestamp": 1632924110774,
     "user_tz": -120,
     "elapsed": 198,
     "user": {
      "displayName": "Rob Knapen",
      "photoUrl": "https://lh3.googleusercontent.com/a-/AOh14Gji9j2YD-x-F-JRf9a8yuxVFH7IJRiNbdSADzfv=s64",
      "userId": "05777806952854881862"
     }
    },
    "outputId": "f86d7b7b-15f9-4244-89f3-17b57c48e27d"
   },
   "source": [
    "# verify numbers of features and label files\n",
    "train_feature_files = glob(os.path.join(tiles_train_folder, 'features', '*.tif'))\n",
    "train_label_files   = glob(os.path.join(tiles_train_folder, 'labels', '*.tif'))\n",
    "print('Training   : found %d feature and %d label files' % (len(train_feature_files), len(train_label_files)))\n",
    "\n",
    "val_feature_files   = glob(os.path.join(tiles_val_folder, 'features', '*.tif'))\n",
    "val_label_files     = glob(os.path.join(tiles_val_folder, 'labels', '*.tif'))\n",
    "print('Validation : Found %d feature and %d label files' % (len(val_feature_files), len(val_label_files)))\n",
    "\n",
    "test_feature_files  = glob(os.path.join(tiles_test_folder, 'features', '*.tif'))\n",
    "test_label_files    = glob(os.path.join(tiles_test_folder, 'labels', '*.tif'))\n",
    "print('Test       : Found %d feature and %d label files' % (len(test_feature_files), len(test_label_files)))\n",
    "\n",
    "# zip into a list of tuples, sort on names to get matching pairs (requires consistent file naming!)\n",
    "train_set = list(zip(sorted(train_feature_files), sorted(train_label_files)))\n",
    "val_set   = list(zip(sorted(val_feature_files), sorted(val_label_files)))\n",
    "test_set  = list(zip(sorted(test_feature_files), sorted(test_label_files)))"
   ],
   "execution_count": 16,
   "outputs": [
    {
     "output_type": "stream",
     "name": "stdout",
     "text": [
      "Training   : found 151 feature and 151 label files\n",
      "Validation : Found 43 feature and 43 label files\n",
      "Test       : Found 22 feature and 22 label files\n"
     ]
    }
   ]
  }
 ]
}
