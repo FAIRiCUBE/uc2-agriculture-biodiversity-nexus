{
 "cells": [
  {
   "cell_type": "markdown",
   "id": "c5bc9056-1a48-4bca-be52-dc16b2691fa3",
   "metadata": {},
   "source": [
    "# FAIRICUBE Machine Learning UDF Proof of Concept"
   ]
  },
  {
   "cell_type": "markdown",
   "id": "65707b4a-65d0-4e3c-bf4a-64a6d9895e3f",
   "metadata": {},
   "source": [
    "This proof of concept (PoC) demonstrates how to execute a semantic segmentation machine learning ML prediction in\n",
    "[rasdaman](https://doc.rasdaman.org/) using rasql, user-defined functions UDFs, and the ML library \n",
    "[libtorch](https://pytorch.org/cppdocs/)."
   ]
  },
  {
   "cell_type": "markdown",
   "id": "8d18b94c-5ea1-4695-9098-95817472e45d",
   "metadata": {
    "tags": []
   },
   "source": [
    "## Description"
   ]
  },
  {
   "cell_type": "markdown",
   "id": "9bf8489d-c738-428e-bf83-09ee1dc4dd76",
   "metadata": {
    "tags": []
   },
   "source": [
    "The PoC consists of classifying the per pixel crop label from a preprocessed 28-band sentinel 2 stacked (seasonal) image of a study area of the Netherlands.\n",
    "\n",
    "### Inputs \n",
    "\n",
    "1. **sentinel2_image:** [subset] of preprocessed sentinel2 image (ingested to rasdaman)\n",
    "2. **maxes_sentinel2_image:**: Per band maxes of the whole sentinel2 image (ingested to rasdaman)\n",
    "\n",
    "Example sentinel2_image:\n",
    "![Input 28 band sentinel 2 image](input_sentinel2.png)\n",
    "\n",
    "Example maxes_sentinel2_image:\n",
    "\n",
    "**18803,17742,16911,16096,19135,17927,17077,16199,17477,16813,16203,15558,18048,16736,16152,15568,17712,16752,16144,15529,17632,16704,16112,15544,17904,16928,16272,15672**\n",
    "\n",
    "### Output \n",
    "\n",
    "2D array of integers (0-67) representing the per pixel label of the crop.\n",
    "\n",
    "Example 2D integer representation csv:\n",
    "[[14,14,14,14,14,14,14,14,14],\n",
    "  [14,14,14,14,14,14,14,14,14],\n",
    "  [14,14,14,14,14,14,14,14,14],\n",
    "  [14,14,14,14,14,14,14,14,14],\n",
    "  [14,14,14,14,14,14,14,14,14],\n",
    "  [14,14,14,14,14,14,14,14,23],\n",
    "  [14,14,14,14,14,9,14,23,23],\n",
    "  [14,14,14,14,14,3,23,23,23],\n",
    "  [14,14,14,14,23,3,3,23,23]\n",
    "  ]\n",
    "\n",
    "Visual representation:\n",
    "![Output of the Per Pixel Prediction as PNG](output_prediction.png)"
   ]
  },
  {
   "cell_type": "markdown",
   "id": "556a2673-e9ee-4c35-a4c0-61b8510739f2",
   "metadata": {},
   "source": [
    "### Preparations"
   ]
  },
  {
   "cell_type": "markdown",
   "id": "bb56b0e2-d4f4-4e6e-8369-858267a397e5",
   "metadata": {},
   "source": [
    "First, we import all required packages and initialize the Rasdaman query instance (see query_utils.py).\n",
    "The latter allows us to submit query-strings (according to the format of the WCPS-service) and tracks some key parameters of the submitted queries, the time for retrieving the data as well as the downloaded data amount in MB."
   ]
  },
  {
   "cell_type": "code",
   "execution_count": 48,
   "id": "c0d3230b-5ea0-4d70-b913-1e37ac48d5fd",
   "metadata": {},
   "outputs": [
    {
     "name": "stdout",
     "output_type": "stream",
     "text": [
      "%check_endpoint: Selected service endpoint 'http://fairicube.rasdaman.com:8080/rasdaman/ows#/services' reached successfully.\n"
     ]
    }
   ],
   "source": [
    "# Import packages.\n",
    "from IPython.display import Image\n",
    "import os, sys\n",
    "sys.path.append(os.getcwd())\n",
    "import datetime as dt\n",
    "import numpy as np\n",
    "from PIL import Image\n",
    "import io\n",
    "import requests\n",
    "import csv\n",
    "import query_utils\n",
    "\n",
    "# Get query-instance for rasdaman\n",
    "Rasdaman_Query = query_utils.Rasdaman_Query\n",
    "\n",
    "rq = Rasdaman_Query()"
   ]
  },
  {
   "cell_type": "markdown",
   "id": "e1e0526e-3b4d-4172-90c6-87986018dc81",
   "metadata": {},
   "source": [
    "The following parameters are reused in the queries in the following."
   ]
  },
  {
   "cell_type": "code",
   "execution_count": 49,
   "id": "f11bb0d4-ec0c-4306-8a92-0e696b25db82",
   "metadata": {
    "tags": []
   },
   "outputs": [],
   "source": [
    "coverage = \"sentinel2_2018_flevopolder_10m_7x4bands\"\n",
    "maxes_coverage = \"maxes_sentinel2_2018_flevopolder_10m_7x4bands\"\n",
    "\n",
    "# Credentials\n",
    "username = os.environ.get('RAS_USER')\n",
    "password = os.environ.get('RAS_PASSWD')\n",
    "credentials = requests.auth.HTTPBasicAuth(username, password)"
   ]
  },
  {
   "cell_type": "markdown",
   "id": "fffca8bc-d64f-4860-b0e5-6fb30f2013a3",
   "metadata": {},
   "source": [
    "### rasdaman UDF interface"
   ]
  },
  {
   "cell_type": "markdown",
   "id": "e2191894-6da6-457b-809d-d21ee8afc4b5",
   "metadata": {
    "tags": []
   },
   "source": [
    "### WCPS UDF\n",
    "The following example retrieves a {enter_size_here} semantically segmented png image using WCPS."
   ]
  },
  {
   "cell_type": "code",
   "execution_count": 50,
   "id": "af1a44c8-3eaf-4c58-9058-1cb76a49b251",
   "metadata": {
    "tags": []
   },
   "outputs": [
    {
     "name": "stdout",
     "output_type": "stream",
     "text": [
      "The query is...\n",
      " \n",
      "for $sentinel2 in ( sentinel2_2018_flevopolder_10m_7x4bands ),\n",
      "    $maxes in ( maxes_sentinel2_2018_flevopolder_10m_7x4bands )\n",
      "let $s2_cutout := $sentinel2[E(677400:679900),N(5834260:5836760)]\n",
      "return \n",
      "\tencode( fairicube.predictCropClass(\n",
      "                $s2_cutout,\n",
      "                $maxes),\n",
      "            \"png\" )\n",
      "\n",
      "%get_query: Start query...\n",
      "%get_query: Data query took  0.82 seconds.\n"
     ]
    },
    {
     "data": {
      "image/png": "[encoded data removed]",
      "text/plain": [
       "<PIL.PngImagePlugin.PngImageFile image mode=L size=250x250 at 0x7F43989AFDC0>"
      ]
     },
     "metadata": {},
     "output_type": "display_data"
    }
   ],
   "source": [
    "query = \"\"\"\n",
    "for $sentinel2 in ( {0} ),\n",
    "    $maxes in ( {1} )\n",
    "let $s2_cutout := $sentinel2[E(677400:679900),N(5834260:5836760)]\n",
    "return \n",
    "\tencode( fairicube.predictCropClass(\n",
    "                $s2_cutout,\n",
    "                $maxes),\n",
    "            \"png\" )\n",
    "\"\"\".format(coverage, maxes_coverage, cutout)\n",
    "params = { \"query\" : query }\n",
    "\n",
    "# submit the query...\n",
    "response = rq.get_query(query, credentials=credentials)\n",
    "\n",
    "# display the result\n",
    "img = Image.open(response)\n",
    "display(img)"
   ]
  },
  {
   "cell_type": "markdown",
   "id": "3b3f8cde-551a-4674-9767-49d02998d5b2",
   "metadata": {},
   "source": [
    "#### What else can be done?"
   ]
  },
  {
   "cell_type": "markdown",
   "id": "88febf96-6a85-4cee-95a5-b60e9fae85a4",
   "metadata": {},
   "source": [
    "rasdaman provides a wide range of feature that can be used to further process the result of the prediction. For example..."
   ]
  },
  {
   "cell_type": "markdown",
   "id": "f7a430c4-8650-4c0a-a6d4-a0d83f225a67",
   "metadata": {
    "tags": []
   },
   "source": [
    "##### Crop Classification Coloring"
   ]
  },
  {
   "cell_type": "code",
   "execution_count": 51,
   "id": "cd050c98-cc81-45cb-82b2-ec5ec6f3fa7c",
   "metadata": {
    "tags": []
   },
   "outputs": [
    {
     "name": "stdout",
     "output_type": "stream",
     "text": [
      "The query is...\n",
      " \n",
      "for $sentinel2 in ( sentinel2_2018_flevopolder_10m_7x4bands ),\n",
      "    $maxes in ( maxes_sentinel2_2018_flevopolder_10m_7x4bands )\n",
      "let $s2_cutout := $sentinel2[E(677400:679900),N(5834260:5836760)],\n",
      "    $result := fairicube.predictCropClass($s2_cutout, $maxes)\n",
      "return \n",
      "    encode( switch\n",
      "             case $result = 0\n",
      "              return {red: 255; green: 255; blue: 255}\n",
      "             case 20 > $result\n",
      "              return {red: 0; green: 0; blue: 255}\n",
      "             case 40 > $result\n",
      "              return {red: 255; green: 255; blue: 0}\n",
      "             case 60 > $result\n",
      "              return {red: 255; green: 140; blue: 0}\n",
      "             default return {red: 255; green: 0; blue: 0},\n",
      "            \"png\" )\n",
      "\n",
      "%get_query: Start query...\n",
      "%get_query: Data query took  2.92 seconds.\n"
     ]
    },
    {
     "data": {
      "image/png": "[encoded data removed]",
      "text/plain": [
       "<PIL.PngImagePlugin.PngImageFile image mode=RGB size=250x250 at 0x7F4398DD34F0>"
      ]
     },
     "metadata": {},
     "output_type": "display_data"
    }
   ],
   "source": [
    "query = \"\"\"\n",
    "for $sentinel2 in ( sentinel2_2018_flevopolder_10m_7x4bands ),\n",
    "    $maxes in ( maxes_sentinel2_2018_flevopolder_10m_7x4bands )\n",
    "let $s2_cutout := $sentinel2[E(677400:679900),N(5834260:5836760)],\n",
    "    $result := fairicube.predictCropClass($s2_cutout, $maxes)\n",
    "return \n",
    "    encode( switch\n",
    "             case $result = 0\n",
    "              return {red: 255; green: 255; blue: 255}\n",
    "             case 20 > $result\n",
    "              return {red: 0; green: 0; blue: 255}\n",
    "             case 40 > $result\n",
    "              return {red: 255; green: 255; blue: 0}\n",
    "             case 60 > $result\n",
    "              return {red: 255; green: 140; blue: 0}\n",
    "             default return {red: 255; green: 0; blue: 0},\n",
    "            \"png\" )\n",
    "\"\"\"\n",
    "params = { \"query\" : query }\n",
    "\n",
    "# submit the query...\n",
    "response = rq.get_query(query, credentials=credentials)\n",
    "\n",
    "# display the result\n",
    "img = Image.open(response)\n",
    "display(img)"
   ]
  },
  {
   "cell_type": "markdown",
   "id": "6e730cb3-82a4-4172-820e-34683c1a446c",
   "metadata": {
    "tags": []
   },
   "source": [
    "### rasql UDF"
   ]
  },
  {
   "cell_type": "code",
   "execution_count": 43,
   "id": "19288629-852c-4880-bd92-ca8babbd319d",
   "metadata": {
    "tags": []
   },
   "outputs": [
    {
     "name": "stdout",
     "output_type": "stream",
     "text": [
      "#\n",
      "# SYNOPSIS\n",
      "# ./2_test_udf.sh\n",
      "#\n",
      "# Description\n",
      "#  Command-line utility for testing the prediction UDF \"fairicube.predictCropClass\".\n",
      "#  It tests three examples. Each example takes a cutout of the coverage \n",
      "#  sentinel2_2018_flevopolder_10m_7x4bands and outputs a JSON file with\n",
      "#  pixel crop classification prediction. The cutouts are as follows:\n",
      "#  1. 9x9 cutout example\n",
      "#  2. 250x250 cutout example\n",
      "#  3. 250x250 cutout example\n",
      "#  The prediction UDF takes a cutout of the sentinel2_2018_flevopolder_10m_7x4bands \n",
      "#  coverage and outputs the crop labels per pixel of that cutout.\n",
      "#\n",
      "# PRECONDITIONS\n",
      "#  1) rasdaman must be running\n",
      "#  2) fairicube.predictCropClass UDF must be present in rasdaman\n",
      "\n",
      "RASQL=\"/opt/rasdaman/bin/rasql --user $RAS_USER --passwd $RAS_PASSWD\"\n",
      "\n",
      "############################\n",
      "# 9x9 cutout example to json\n",
      "############################\n",
      "$RASQL -q 'select encode (fairicube.predictCropClass(s2_cutout[250:258,200:208], maxes), \"json\") from sentinel2_2018_flevopolder_10m_7x4bands as s2_cutout, maxes_sentinel2_2018_flevopolder_10m_7x4bands as maxes' --out file --outfile prediction_9x9\n",
      "# Expected result (9x9_prediction.json) =\n",
      "# [[14,14,14,14,14,14,14,14,14],\n",
      "#  [14,14,14,14,14,14,14,14,14],\n",
      "#  [14,14,14,14,14,14,14,14,14],\n",
      "#  [14,14,14,14,14,14,14,14,14],\n",
      "#  [14,14,14,14,14,14,14,14,14],\n",
      "#  [14,14,14,14,14,14,14,14,23],\n",
      "#  [14,14,14,14,14,9,14,23,23],\n",
      "#  [14,14,14,14,14,3,23,23,23],\n",
      "#  [14,14,14,14,23,3,3,23,23]\n",
      "#  ]\n",
      "\n",
      "################################\n",
      "# 250x250 cutout example to tiff\n",
      "################################\n",
      "$RASQL -q 'select encode (fairicube.predictCropClass(s2_cutout[250:499,200:449], maxes), \"png\") from sentinel2_2018_flevopolder_10m_7x4bands as s2_cutout, maxes_sentinel2_2018_flevopolder_10m_7x4bands as maxes' --out file --outfile prediction_250x250\n",
      "# Expected result (250x250_prediction.json, Extract) =\n",
      "# [[23,23,23,23,69,23,69,69,69,23,23,8,8,23,23,23,23,2,2,8,8,43,23,23,23,23,23,23,23,23,23,23,23,23,23,23,23,23,23,23,70,41,41,41,41,41,41,41,41,23,23,8,8,14,14,14,14,14,14,14,14,14,41,3,3,3,3,46,46,46,46,46,46,3,46,3,46,46,46,41,41,41,41,41,41,41,41,41,41,41,41,41,41,3,3,41,41,41,41,14,69,69,8,14,14,14,14,14,29,29,29,29,1,\n",
      "\n",
      "########################\n",
      "# Full coverage example\n",
      "########################\n",
      "$RASQL -q 'select encode (fairicube.predictCropClass(s2_cutout, maxes), \"tiff\") from sentinel2_2018_flevopolder_10m_7x4bands as s2_cutout, maxes_sentinel2_2018_flevopolder_10m_7x4bands as maxes' --out file --outfile prediction_full\n",
      "\n",
      "# $RASQL -q 'select encode (fairicube.predictionTest(s2_cutout), \"json\")\n",
      "#                         from sentinel2_2018_flevopolder_10m_7x4bands as s2_cutout' --out file --outfile full_coverage_prediction\n",
      "# Expected result (full_coverage_prediction.json, Extract) = file\n",
      "# \n"
     ]
    }
   ],
   "source": [
    "!sed -n 24,76p ./rasql_udf/2_test_udf.sh"
   ]
  },
  {
   "cell_type": "code",
   "execution_count": 14,
   "id": "2ba6c104-e5c7-451f-af53-8e06a46b7d7f",
   "metadata": {
    "tags": []
   },
   "outputs": [
    {
     "name": "stdout",
     "output_type": "stream",
     "text": [
      "/opt/rasdaman/bin/rasql: rasdaman query tool 10.2.2.\n",
      "Opening database RASBASE at 127.0.0.1:7001... ok.\n",
      "Executing retrieval query... ok.\n",
      "Query result collection has 1 element(s):\n",
      "  Result object 1: going into file prediction_9x9.json... ok.\n",
      "/opt/rasdaman/bin/rasql done.\n",
      "/opt/rasdaman/bin/rasql: rasdaman query tool 10.2.2.\n",
      "Opening database RASBASE at 127.0.0.1:7001... ok.\n",
      "Executing retrieval query... ok.\n",
      "Query result collection has 1 element(s):\n",
      "  Result object 1: going into file prediction_250x250.png... ok.\n",
      "/opt/rasdaman/bin/rasql done.\n",
      "/opt/rasdaman/bin/rasql: rasdaman query tool 10.2.2.\n",
      "Opening database RASBASE at 127.0.0.1:7001... ok.\n",
      "Executing retrieval query... ok.\n",
      "Query result collection has 1 element(s):\n",
      "  Result object 1: going into file prediction_full.tif... ok.\n",
      "/opt/rasdaman/bin/rasql done.\n"
     ]
    }
   ],
   "source": [
    "!./rasql_udf/2_test_udf.sh"
   ]
  },
  {
   "cell_type": "markdown",
   "id": "252d8763-0d49-4123-a252-8678ecf0d91b",
   "metadata": {},
   "source": [
    "9x9 result"
   ]
  },
  {
   "cell_type": "markdown",
   "id": "70703f03-e1e5-41fa-9f3e-41b12c74f656",
   "metadata": {},
   "source": [
    " diagram>>\n",
    "for $sentinel2 in ( sentinel2_2018_flevopolder_10m_7x4bands ),\n",
    "    $maxes in ( maxes_sentinel2_2018_flevopolder_10m_7x4bands )\n",
    "let $s2_cutout := $sentinel2[E(677400:679900),N(5834260:5836760)],\n",
    "    $result := fairicube.predictCropClass($s2_cutout, $maxes)\n",
    "return \n",
    "    encode( coverage histogram over $bucket x(0:67)\n",
    "            values count ( $result = $bucket ),\n",
    "           \"text/csv\" ) "
   ]
  },
  {
   "cell_type": "code",
   "execution_count": null,
   "id": "f1711e01-0721-4cb5-a1ea-5ea64759aa81",
   "metadata": {},
   "outputs": [],
   "source": []
  }
 ],
 "metadata": {
  "kernelspec": {
   "display_name": "Python 3 (ipykernel)",
   "language": "python",
   "name": "python3"
  },
  "language_info": {
   "codemirror_mode": {
    "name": "ipython",
    "version": 3
   },
   "file_extension": ".py",
   "mimetype": "text/x-python",
   "name": "python",
   "nbconvert_exporter": "python",
   "pygments_lexer": "ipython3",
   "version": "3.8.10"
  }
 },
 "nbformat": 4,
 "nbformat_minor": 5
}
