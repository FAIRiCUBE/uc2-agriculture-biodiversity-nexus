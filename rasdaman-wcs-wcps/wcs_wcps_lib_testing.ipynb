{
 "cells": [
  {
   "cell_type": "code",
   "execution_count": 1,
   "id": "ddf76509-5fe1-4d7d-9ed8-6f0ca193ef57",
   "metadata": {},
   "outputs": [
    {
     "name": "stdout",
     "output_type": "stream",
     "text": [
      "Defaulting to user installation because normal site-packages is not writeable\n",
      "Requirement already satisfied: wcs in /home/robknapen/.local/lib/python3.10/site-packages (0.2.5)\n",
      "Requirement already satisfied: requests in /home/conda/fairicubeuc2/cd9a36edb0dc3ee807d8480c9bf1b860e5adb8ac735017d90955d1b8f50febd7-20241127-193535-689672-40-sdm-torch/lib/python3.10/site-packages (from wcs) (2.32.3)\n",
      "Requirement already satisfied: charset-normalizer<4,>=2 in /home/conda/fairicubeuc2/cd9a36edb0dc3ee807d8480c9bf1b860e5adb8ac735017d90955d1b8f50febd7-20241127-193535-689672-40-sdm-torch/lib/python3.10/site-packages (from requests->wcs) (3.4.0)\n",
      "Requirement already satisfied: idna<4,>=2.5 in /home/conda/fairicubeuc2/cd9a36edb0dc3ee807d8480c9bf1b860e5adb8ac735017d90955d1b8f50febd7-20241127-193535-689672-40-sdm-torch/lib/python3.10/site-packages (from requests->wcs) (3.10)\n",
      "Requirement already satisfied: urllib3<3,>=1.21.1 in /home/conda/fairicubeuc2/cd9a36edb0dc3ee807d8480c9bf1b860e5adb8ac735017d90955d1b8f50febd7-20241127-193535-689672-40-sdm-torch/lib/python3.10/site-packages (from requests->wcs) (2.2.3)\n",
      "Requirement already satisfied: certifi>=2017.4.17 in /home/conda/fairicubeuc2/cd9a36edb0dc3ee807d8480c9bf1b860e5adb8ac735017d90955d1b8f50febd7-20241127-193535-689672-40-sdm-torch/lib/python3.10/site-packages (from requests->wcs) (2024.8.30)\n"
     ]
    }
   ],
   "source": [
    "!pip install wcs # >= 0.2.5"
   ]
  },
  {
   "cell_type": "code",
   "execution_count": 2,
   "id": "031213f3-3b8c-43b3-ba0d-9b46f02b00ef",
   "metadata": {},
   "outputs": [
    {
     "name": "stdout",
     "output_type": "stream",
     "text": [
      "Defaulting to user installation because normal site-packages is not writeable\n",
      "Requirement already satisfied: wcps in /home/robknapen/.local/lib/python3.10/site-packages (0.5.3)\n",
      "Requirement already satisfied: requests in /home/conda/fairicubeuc2/cd9a36edb0dc3ee807d8480c9bf1b860e5adb8ac735017d90955d1b8f50febd7-20241127-193535-689672-40-sdm-torch/lib/python3.10/site-packages (from wcps) (2.32.3)\n",
      "Requirement already satisfied: charset-normalizer<4,>=2 in /home/conda/fairicubeuc2/cd9a36edb0dc3ee807d8480c9bf1b860e5adb8ac735017d90955d1b8f50febd7-20241127-193535-689672-40-sdm-torch/lib/python3.10/site-packages (from requests->wcps) (3.4.0)\n",
      "Requirement already satisfied: idna<4,>=2.5 in /home/conda/fairicubeuc2/cd9a36edb0dc3ee807d8480c9bf1b860e5adb8ac735017d90955d1b8f50febd7-20241127-193535-689672-40-sdm-torch/lib/python3.10/site-packages (from requests->wcps) (3.10)\n",
      "Requirement already satisfied: urllib3<3,>=1.21.1 in /home/conda/fairicubeuc2/cd9a36edb0dc3ee807d8480c9bf1b860e5adb8ac735017d90955d1b8f50febd7-20241127-193535-689672-40-sdm-torch/lib/python3.10/site-packages (from requests->wcps) (2.2.3)\n",
      "Requirement already satisfied: certifi>=2017.4.17 in /home/conda/fairicubeuc2/cd9a36edb0dc3ee807d8480c9bf1b860e5adb8ac735017d90955d1b8f50febd7-20241127-193535-689672-40-sdm-torch/lib/python3.10/site-packages (from requests->wcps) (2024.8.30)\n"
     ]
    }
   ],
   "source": [
    "!pip install wcps # >= 0.5.3"
   ]
  },
  {
   "cell_type": "code",
   "execution_count": 3,
   "id": "79ac8f85-e4ff-4fea-b3f2-77a17c5432ec",
   "metadata": {},
   "outputs": [],
   "source": [
    "import os\n",
    "import xmltodict\n",
    "import requests\n",
    "import json\n",
    "\n",
    "import numpy as np\n",
    "import pandas as pd\n",
    "import geopandas as gpd\n",
    "\n",
    "from dotenv import load_dotenv\n",
    "from pathlib import Path\n",
    "from loguru import logger\n",
    "\n",
    "from rasterio.io import MemoryFile"
   ]
  },
  {
   "cell_type": "code",
   "execution_count": 4,
   "id": "55a6d2ef-c0b8-486c-8a15-133cc773c695",
   "metadata": {},
   "outputs": [],
   "source": [
    "def load_config(env_path: Path, log: logger) -> None:\n",
    "    \"\"\"\n",
    "    Load dotenv file and retrieve environment variables for use.\n",
    "    \"\"\"\n",
    "    # declare some variables for global use\n",
    "    global rasdaman_username, rasdaman_password, rasdaman_endpoint, base_wcs_url\n",
    "    # load environment variables from file\n",
    "    load_dotenv(dotenv_path=env_path)\n",
    "    # get rasdaman access info\n",
    "    rasdaman_username = os.getenv(\"RASDAMAN_CRED_USERNAME\")\n",
    "    rasdaman_password = os.getenv(\"RASDAMAN_CRED_PASSWORD\")\n",
    "    rasdaman_endpoint = os.getenv(\"RASDAMAN_SERVICE_ENDPOINT\")\n",
    "    # create the base rasdaman WCS url\n",
    "    base_wcs_url = rasdaman_endpoint + \"?service=WCS&version=2.1.0\"\n",
    "    log.info(f\"Using base WCS address: {base_wcs_url}\")"
   ]
  },
  {
   "cell_type": "code",
   "execution_count": 5,
   "id": "f34d1c15-9a23-494b-83f5-fc37aa80e09f",
   "metadata": {},
   "outputs": [
    {
     "name": "stderr",
     "output_type": "stream",
     "text": [
      "\u001b[32m2025-03-05 12:49:23.055\u001b[0m | \u001b[1mINFO    \u001b[0m | \u001b[36m__main__\u001b[0m:\u001b[36mload_config\u001b[0m:\u001b[36m15\u001b[0m - \u001b[1mUsing base WCS address: http://fairicube.rasdaman.com/rasdaman/ows?service=WCS&version=2.1.0\u001b[0m\n"
     ]
    }
   ],
   "source": [
    "# environment settings path\n",
    "env_path = Path('.') / 'env_secrets.txt'\n",
    "\n",
    "load_config(env_path, logger)"
   ]
  },
  {
   "cell_type": "code",
   "execution_count": 8,
   "id": "53e3f944-68a9-4717-a303-5dab46523d73",
   "metadata": {},
   "outputs": [],
   "source": [
    "from wcs.service import WebCoverageService\n",
    "\n",
    "wcs_service = WebCoverageService(\"https://fairicube.rasdaman.com/rasdaman/ows\")"
   ]
  },
  {
   "cell_type": "code",
   "execution_count": 9,
   "id": "f7ec2eca-b70b-4fc6-a701-f74ee8b620c2",
   "metadata": {},
   "outputs": [
    {
     "data": {
      "text/plain": [
       "BasicCoverage()"
      ]
     },
     "execution_count": 9,
     "metadata": {},
     "output_type": "execute_result"
    }
   ],
   "source": [
    "coverages = wcs_service.list_coverages()\n",
    "lgn_cov = coverages['LGN_Monitoring']\n",
    "lgn_cov"
   ]
  },
  {
   "cell_type": "code",
   "execution_count": 9,
   "id": "528ad132-213f-4233-aed9-c199a017b1f0",
   "metadata": {},
   "outputs": [
    {
     "data": {
      "text/plain": [
       "\u001b[0;31mType:\u001b[0m        BasicCoverage\n",
       "\u001b[0;31mString form:\u001b[0m\n",
       "LGN_Monitoring:\n",
       "           subtype: ReferenceableGridCoverage\n",
       "           crs: OGC:AnsiDate+EPSG:28992\n",
       "           bbox:\n",
       "           t <...> 45570\n",
       "           additional params:\n",
       "           title: LGN Monitoring\n",
       "           sizeInBytesWithPyramidLevels: 611440530\n",
       "           \n",
       "\u001b[0;31mFile:\u001b[0m        ~/.local/lib/python3.10/site-packages/wcs/model.py\n",
       "\u001b[0;31mDocstring:\u001b[0m  \n",
       "Holds basic coverage information extracted from the WCS GetCapabilities\n",
       "document, notably the WGS bounding box if provided.\n",
       "\n",
       ":param name: the coverage name.\n",
       ":param subtype: coverage subtype, e.g. 'ReferenceableGridCoverage'\n",
       ":param bbox: bounding box in native CRS\n",
       ":param lon_lat: a tuple of longitude / latitude axes respresenting the\n",
       "    WGS84 bounding box of the coverage\n",
       ":param size_bytes: coverage size in bytes; None if not reported by the server\n",
       ":param additional_params: additional key/value parameters"
      ]
     },
     "metadata": {},
     "output_type": "display_data"
    }
   ],
   "source": [
    "lgn_cov?"
   ]
  },
  {
   "cell_type": "code",
   "execution_count": null,
   "id": "a80f416c-d508-4f5c-afed-54c7067eaf9b",
   "metadata": {},
   "outputs": [],
   "source": []
  }
 ],
 "metadata": {
  "kernelspec": {
   "display_name": "fairicubeuc2-sdm-torch",
   "language": "python",
   "name": "conda-env-fairicubeuc2-sdm-torch-py"
  },
  "language_info": {
   "codemirror_mode": {
    "name": "ipython",
    "version": 3
   },
   "file_extension": ".py",
   "mimetype": "text/x-python",
   "name": "python",
   "nbconvert_exporter": "python",
   "pygments_lexer": "ipython3",
   "version": "3.10.15"
  }
 },
 "nbformat": 4,
 "nbformat_minor": 5
}
