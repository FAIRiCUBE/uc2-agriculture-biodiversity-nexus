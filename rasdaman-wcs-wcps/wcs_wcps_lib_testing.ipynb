{
 "cells": [
  {
   "cell_type": "code",
   "execution_count": 1,
   "id": "ddf76509-5fe1-4d7d-9ed8-6f0ca193ef57",
   "metadata": {},
   "outputs": [
    {
     "name": "stdout",
     "output_type": "stream",
     "text": [
      "Defaulting to user installation because normal site-packages is not writeable\n",
      "Requirement already satisfied: wcs in /home/robknapen/.local/lib/python3.10/site-packages (0.2.3)\n",
      "Requirement already satisfied: wcps in /home/robknapen/.local/lib/python3.10/site-packages (0.5.1)\n",
      "Requirement already satisfied: requests in /home/conda/fairicubeuc2/cd9a36edb0dc3ee807d8480c9bf1b860e5adb8ac735017d90955d1b8f50febd7-20241127-193535-689672-40-sdm-torch/lib/python3.10/site-packages (from wcs) (2.32.3)\n",
      "Requirement already satisfied: charset-normalizer<4,>=2 in /home/conda/fairicubeuc2/cd9a36edb0dc3ee807d8480c9bf1b860e5adb8ac735017d90955d1b8f50febd7-20241127-193535-689672-40-sdm-torch/lib/python3.10/site-packages (from requests->wcs) (3.4.0)\n",
      "Requirement already satisfied: idna<4,>=2.5 in /home/conda/fairicubeuc2/cd9a36edb0dc3ee807d8480c9bf1b860e5adb8ac735017d90955d1b8f50febd7-20241127-193535-689672-40-sdm-torch/lib/python3.10/site-packages (from requests->wcs) (3.10)\n",
      "Requirement already satisfied: urllib3<3,>=1.21.1 in /home/conda/fairicubeuc2/cd9a36edb0dc3ee807d8480c9bf1b860e5adb8ac735017d90955d1b8f50febd7-20241127-193535-689672-40-sdm-torch/lib/python3.10/site-packages (from requests->wcs) (2.2.3)\n",
      "Requirement already satisfied: certifi>=2017.4.17 in /home/conda/fairicubeuc2/cd9a36edb0dc3ee807d8480c9bf1b860e5adb8ac735017d90955d1b8f50febd7-20241127-193535-689672-40-sdm-torch/lib/python3.10/site-packages (from requests->wcs) (2024.8.30)\n"
     ]
    }
   ],
   "source": [
    "!pip install wcs wcps"
   ]
  },
  {
   "cell_type": "code",
   "execution_count": 2,
   "id": "79ac8f85-e4ff-4fea-b3f2-77a17c5432ec",
   "metadata": {},
   "outputs": [],
   "source": [
    "import os\n",
    "import xmltodict\n",
    "import requests\n",
    "import json\n",
    "\n",
    "import numpy as np\n",
    "import pandas as pd\n",
    "import geopandas as gpd\n",
    "\n",
    "from dotenv import load_dotenv\n",
    "from pathlib import Path\n",
    "from loguru import logger\n",
    "\n",
    "from rasterio.io import MemoryFile"
   ]
  },
  {
   "cell_type": "code",
   "execution_count": 3,
   "id": "55a6d2ef-c0b8-486c-8a15-133cc773c695",
   "metadata": {},
   "outputs": [],
   "source": [
    "def load_config(env_path: Path, log: logger) -> None:\n",
    "    \"\"\"\n",
    "    Load dotenv file and retrieve environment variables for use.\n",
    "    \"\"\"\n",
    "    # declare some variables for global use\n",
    "    global rasdaman_username, rasdaman_password, rasdaman_endpoint, base_wcs_url\n",
    "    # load environment variables from file\n",
    "    load_dotenv(dotenv_path=env_path)\n",
    "    # get rasdaman access info\n",
    "    rasdaman_username = os.getenv(\"RASDAMAN_CRED_USERNAME\")\n",
    "    rasdaman_password = os.getenv(\"RASDAMAN_CRED_PASSWORD\")\n",
    "    rasdaman_endpoint = os.getenv(\"RASDAMAN_SERVICE_ENDPOINT\")\n",
    "    # create the base rasdaman WCS url\n",
    "    base_wcs_url = rasdaman_endpoint + \"?service=WCS&version=2.1.0\"\n",
    "    log.info(f\"Using base WCS address: {base_wcs_url}\")"
   ]
  },
  {
   "cell_type": "code",
   "execution_count": 4,
   "id": "f34d1c15-9a23-494b-83f5-fc37aa80e09f",
   "metadata": {},
   "outputs": [
    {
     "name": "stderr",
     "output_type": "stream",
     "text": [
      "\u001b[32m2025-03-04 09:08:56.021\u001b[0m | \u001b[1mINFO    \u001b[0m | \u001b[36m__main__\u001b[0m:\u001b[36mload_config\u001b[0m:\u001b[36m15\u001b[0m - \u001b[1mUsing base WCS address: http://fairicube.rasdaman.com/rasdaman/ows?service=WCS&version=2.1.0\u001b[0m\n"
     ]
    }
   ],
   "source": [
    "# environment settings path\n",
    "env_path = Path('.') / 'env_secrets.txt'\n",
    "\n",
    "load_config(env_path, logger)"
   ]
  },
  {
   "cell_type": "code",
   "execution_count": 5,
   "id": "53e3f944-68a9-4717-a303-5dab46523d73",
   "metadata": {},
   "outputs": [
    {
     "ename": "TypeError",
     "evalue": "typing.Optional requires a single type. Got <module 'xml.etree.ElementTree' from '/home/conda/fairicubeuc2/cd9a36edb0dc3ee807d8480c9bf1b860e5adb.",
     "output_type": "error",
     "traceback": [
      "\u001b[0;31m---------------------------------------------------------------------------\u001b[0m",
      "\u001b[0;31mTypeError\u001b[0m                                 Traceback (most recent call last)",
      "Cell \u001b[0;32mIn[5], line 1\u001b[0m\n\u001b[0;32m----> 1\u001b[0m \u001b[38;5;28;01mfrom\u001b[39;00m \u001b[38;5;21;01mwcs\u001b[39;00m\u001b[38;5;21;01m.\u001b[39;00m\u001b[38;5;21;01mservice\u001b[39;00m \u001b[38;5;28;01mimport\u001b[39;00m WebCoverageService\n\u001b[1;32m      3\u001b[0m wcs_service \u001b[38;5;241m=\u001b[39m WebCoverageService(rasdaman_endpoint)\n",
      "File \u001b[0;32m~/.local/lib/python3.10/site-packages/wcs/service.py:15\u001b[0m\n\u001b[1;32m     12\u001b[0m \u001b[38;5;28;01mfrom\u001b[39;00m \u001b[38;5;21;01mrequests\u001b[39;00m\u001b[38;5;21;01m.\u001b[39;00m\u001b[38;5;21;01mauth\u001b[39;00m \u001b[38;5;28;01mimport\u001b[39;00m HTTPBasicAuth\n\u001b[1;32m     14\u001b[0m \u001b[38;5;28;01mfrom\u001b[39;00m \u001b[38;5;21;01mwcs\u001b[39;00m\u001b[38;5;21;01m.\u001b[39;00m\u001b[38;5;21;01mmodel\u001b[39;00m \u001b[38;5;28;01mimport\u001b[39;00m WCSClientException, FullCoverage, BasicCoverage\n\u001b[0;32m---> 15\u001b[0m \u001b[38;5;28;01mfrom\u001b[39;00m \u001b[38;5;21;01mwcs\u001b[39;00m\u001b[38;5;21;01m.\u001b[39;00m\u001b[38;5;21;01mparser\u001b[39;00m \u001b[38;5;28;01mimport\u001b[39;00m parse_coverage_summaries, parse_describe_coverage\n\u001b[1;32m     17\u001b[0m DEFAULT_CONN_TIMEOUT \u001b[38;5;241m=\u001b[39m \u001b[38;5;241m10\u001b[39m\n\u001b[1;32m     18\u001b[0m \u001b[38;5;124;03m\"\"\"Default timeout to establish a connection to the WCS service: 10 seconds.\"\"\"\u001b[39;00m\n",
      "File \u001b[0;32m~/.local/lib/python3.10/site-packages/wcs/parser.py:61\u001b[0m\n\u001b[1;32m     56\u001b[0m     metadata \u001b[38;5;241m=\u001b[39m parse_metadata(metadata_element)\n\u001b[1;32m     58\u001b[0m     \u001b[38;5;28;01mreturn\u001b[39;00m FullCoverage(name, bbox\u001b[38;5;241m=\u001b[39mgeo_bbox, grid_bbox\u001b[38;5;241m=\u001b[39mgrid_bbox, range_type\u001b[38;5;241m=\u001b[39mrange_type, metadata\u001b[38;5;241m=\u001b[39mmetadata)\n\u001b[0;32m---> 61\u001b[0m \u001b[38;5;28;01mdef\u001b[39;00m \u001b[38;5;21mparse_domain_set\u001b[39m(domain_set_element: \u001b[43mOptional\u001b[49m\u001b[43m[\u001b[49m\u001b[43mET\u001b[49m\u001b[43m]\u001b[49m) \u001b[38;5;241m-\u001b[39m\u001b[38;5;241m>\u001b[39m \u001b[38;5;28mtuple\u001b[39m[Optional[BoundingBox], Optional[BoundingBox]]:\n\u001b[1;32m     62\u001b[0m \u001b[38;5;250m    \u001b[39m\u001b[38;5;124;03m\"\"\"\u001b[39;00m\n\u001b[1;32m     63\u001b[0m \u001b[38;5;124;03m    Parses an XML element representing a DomainSet into corresponding objects.\u001b[39;00m\n\u001b[1;32m     64\u001b[0m \n\u001b[0;32m   (...)\u001b[0m\n\u001b[1;32m    105\u001b[0m \u001b[38;5;124;03m    :raises WCSClientException: If the provided XML does not conform to the expected structure.\u001b[39;00m\n\u001b[1;32m    106\u001b[0m \u001b[38;5;124;03m    \"\"\"\u001b[39;00m\n\u001b[1;32m    107\u001b[0m     \u001b[38;5;28;01mif\u001b[39;00m domain_set_element \u001b[38;5;129;01mis\u001b[39;00m \u001b[38;5;28;01mNone\u001b[39;00m:\n",
      "File \u001b[0;32m/home/conda/fairicubeuc2/cd9a36edb0dc3ee807d8480c9bf1b860e5adb8ac735017d90955d1b8f50febd7-20241127-193535-689672-40-sdm-torch/lib/python3.10/typing.py:312\u001b[0m, in \u001b[0;36m_tp_cache.<locals>.decorator.<locals>.inner\u001b[0;34m(*args, **kwds)\u001b[0m\n\u001b[1;32m    310\u001b[0m \u001b[38;5;28;01mexcept\u001b[39;00m \u001b[38;5;167;01mTypeError\u001b[39;00m:\n\u001b[1;32m    311\u001b[0m     \u001b[38;5;28;01mpass\u001b[39;00m  \u001b[38;5;66;03m# All real errors (not unhashable args) are raised below.\u001b[39;00m\n\u001b[0;32m--> 312\u001b[0m \u001b[38;5;28;01mreturn\u001b[39;00m \u001b[43mfunc\u001b[49m\u001b[43m(\u001b[49m\u001b[38;5;241;43m*\u001b[39;49m\u001b[43margs\u001b[49m\u001b[43m,\u001b[49m\u001b[43m \u001b[49m\u001b[38;5;241;43m*\u001b[39;49m\u001b[38;5;241;43m*\u001b[39;49m\u001b[43mkwds\u001b[49m\u001b[43m)\u001b[49m\n",
      "File \u001b[0;32m/home/conda/fairicubeuc2/cd9a36edb0dc3ee807d8480c9bf1b860e5adb8ac735017d90955d1b8f50febd7-20241127-193535-689672-40-sdm-torch/lib/python3.10/typing.py:403\u001b[0m, in \u001b[0;36m_SpecialForm.__getitem__\u001b[0;34m(self, parameters)\u001b[0m\n\u001b[1;32m    401\u001b[0m \u001b[38;5;129m@_tp_cache\u001b[39m\n\u001b[1;32m    402\u001b[0m \u001b[38;5;28;01mdef\u001b[39;00m \u001b[38;5;21m__getitem__\u001b[39m(\u001b[38;5;28mself\u001b[39m, parameters):\n\u001b[0;32m--> 403\u001b[0m     \u001b[38;5;28;01mreturn\u001b[39;00m \u001b[38;5;28;43mself\u001b[39;49m\u001b[38;5;241;43m.\u001b[39;49m\u001b[43m_getitem\u001b[49m\u001b[43m(\u001b[49m\u001b[38;5;28;43mself\u001b[39;49m\u001b[43m,\u001b[49m\u001b[43m \u001b[49m\u001b[43mparameters\u001b[49m\u001b[43m)\u001b[49m\n",
      "File \u001b[0;32m/home/conda/fairicubeuc2/cd9a36edb0dc3ee807d8480c9bf1b860e5adb8ac735017d90955d1b8f50febd7-20241127-193535-689672-40-sdm-torch/lib/python3.10/typing.py:529\u001b[0m, in \u001b[0;36mOptional\u001b[0;34m(self, parameters)\u001b[0m\n\u001b[1;32m    523\u001b[0m \u001b[38;5;129m@_SpecialForm\u001b[39m\n\u001b[1;32m    524\u001b[0m \u001b[38;5;28;01mdef\u001b[39;00m \u001b[38;5;21mOptional\u001b[39m(\u001b[38;5;28mself\u001b[39m, parameters):\n\u001b[1;32m    525\u001b[0m \u001b[38;5;250m    \u001b[39m\u001b[38;5;124;03m\"\"\"Optional type.\u001b[39;00m\n\u001b[1;32m    526\u001b[0m \n\u001b[1;32m    527\u001b[0m \u001b[38;5;124;03m    Optional[X] is equivalent to Union[X, None].\u001b[39;00m\n\u001b[1;32m    528\u001b[0m \u001b[38;5;124;03m    \"\"\"\u001b[39;00m\n\u001b[0;32m--> 529\u001b[0m     arg \u001b[38;5;241m=\u001b[39m \u001b[43m_type_check\u001b[49m\u001b[43m(\u001b[49m\u001b[43mparameters\u001b[49m\u001b[43m,\u001b[49m\u001b[43m \u001b[49m\u001b[38;5;124;43mf\u001b[39;49m\u001b[38;5;124;43m\"\u001b[39;49m\u001b[38;5;132;43;01m{\u001b[39;49;00m\u001b[38;5;28;43mself\u001b[39;49m\u001b[38;5;132;43;01m}\u001b[39;49;00m\u001b[38;5;124;43m requires a single type.\u001b[39;49m\u001b[38;5;124;43m\"\u001b[39;49m\u001b[43m)\u001b[49m\n\u001b[1;32m    530\u001b[0m     \u001b[38;5;28;01mreturn\u001b[39;00m Union[arg, \u001b[38;5;28mtype\u001b[39m(\u001b[38;5;28;01mNone\u001b[39;00m)]\n",
      "File \u001b[0;32m/home/conda/fairicubeuc2/cd9a36edb0dc3ee807d8480c9bf1b860e5adb8ac735017d90955d1b8f50febd7-20241127-193535-689672-40-sdm-torch/lib/python3.10/typing.py:176\u001b[0m, in \u001b[0;36m_type_check\u001b[0;34m(arg, msg, is_argument, module, allow_special_forms)\u001b[0m\n\u001b[1;32m    174\u001b[0m     \u001b[38;5;28;01mreturn\u001b[39;00m arg\n\u001b[1;32m    175\u001b[0m \u001b[38;5;28;01mif\u001b[39;00m \u001b[38;5;129;01mnot\u001b[39;00m \u001b[38;5;28mcallable\u001b[39m(arg):\n\u001b[0;32m--> 176\u001b[0m     \u001b[38;5;28;01mraise\u001b[39;00m \u001b[38;5;167;01mTypeError\u001b[39;00m(\u001b[38;5;124mf\u001b[39m\u001b[38;5;124m\"\u001b[39m\u001b[38;5;132;01m{\u001b[39;00mmsg\u001b[38;5;132;01m}\u001b[39;00m\u001b[38;5;124m Got \u001b[39m\u001b[38;5;132;01m{\u001b[39;00marg\u001b[38;5;132;01m!r:\u001b[39;00m\u001b[38;5;124m.100\u001b[39m\u001b[38;5;132;01m}\u001b[39;00m\u001b[38;5;124m.\u001b[39m\u001b[38;5;124m\"\u001b[39m)\n\u001b[1;32m    177\u001b[0m \u001b[38;5;28;01mreturn\u001b[39;00m arg\n",
      "\u001b[0;31mTypeError\u001b[0m: typing.Optional requires a single type. Got <module 'xml.etree.ElementTree' from '/home/conda/fairicubeuc2/cd9a36edb0dc3ee807d8480c9bf1b860e5adb."
     ]
    }
   ],
   "source": [
    "from wcs.service import WebCoverageService\n",
    "\n",
    "wcs_service = WebCoverageService(rasdaman_endpoint)"
   ]
  },
  {
   "cell_type": "code",
   "execution_count": null,
   "id": "f7ec2eca-b70b-4fc6-a701-f74ee8b620c2",
   "metadata": {},
   "outputs": [],
   "source": []
  }
 ],
 "metadata": {
  "kernelspec": {
   "display_name": "fairicubeuc2-sdm-torch",
   "language": "python",
   "name": "conda-env-fairicubeuc2-sdm-torch-py"
  },
  "language_info": {
   "codemirror_mode": {
    "name": "ipython",
    "version": 3
   },
   "file_extension": ".py",
   "mimetype": "text/x-python",
   "name": "python",
   "nbconvert_exporter": "python",
   "pygments_lexer": "ipython3",
   "version": "3.10.15"
  }
 },
 "nbformat": 4,
 "nbformat_minor": 5
}
