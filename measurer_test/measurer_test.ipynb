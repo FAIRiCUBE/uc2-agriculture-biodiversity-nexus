{
 "cells": [
  {
   "cell_type": "code",
   "execution_count": 1,
   "id": "c77279ad-49bd-4787-b937-dbf2d1bf327d",
   "metadata": {
    "tags": []
   },
   "outputs": [],
   "source": [
    "# silent install of required additional packages for the user\n",
    "!pip install loguru codecarbon --quiet --user"
   ]
  },
  {
   "cell_type": "code",
   "execution_count": 2,
   "id": "babd0a85-1da2-4af8-82e3-798476820be9",
   "metadata": {
    "tags": []
   },
   "outputs": [
    {
     "data": {
      "text/plain": [
       "1"
      ]
     },
     "execution_count": 2,
     "metadata": {},
     "output_type": "execute_result"
    }
   ],
   "source": [
    "import sys\n",
    "from loguru import logger\n",
    "\n",
    "#logger.remove(0)\n",
    "logger.add(sys.stdout, level='INFO')"
   ]
  },
  {
   "cell_type": "code",
   "execution_count": 3,
   "id": "08b8e2cb-c1a0-4482-bb3e-f0645ce8b512",
   "metadata": {
    "tags": []
   },
   "outputs": [],
   "source": [
    "from measurer.measurer import Measurer\n",
    "measurer = Measurer()"
   ]
  },
  {
   "cell_type": "code",
   "execution_count": 4,
   "id": "b2374c49-5088-4a5a-9dd3-b30edeba9244",
   "metadata": {
    "tags": []
   },
   "outputs": [
    {
     "name": "stderr",
     "output_type": "stream",
     "text": [
      "\u001b[32m2025-03-11 09:56:15.591\u001b[0m | \u001b[1mINFO    \u001b[0m | \u001b[36mmeasurer.measurer\u001b[0m:\u001b[36mstart\u001b[0m:\u001b[36m278\u001b[0m - \u001b[1mStarted computational costs meter: wall time, memory consumed, network traffic, CO2 emissions, data size\u001b[0m\n"
     ]
    },
    {
     "name": "stdout",
     "output_type": "stream",
     "text": [
      "\u001b[32m2025-03-11 09:56:15.591\u001b[0m | \u001b[1mINFO    \u001b[0m | \u001b[36mmeasurer.measurer\u001b[0m:\u001b[36mstart\u001b[0m:\u001b[36m278\u001b[0m - \u001b[1mStarted computational costs meter: wall time, memory consumed, network traffic, CO2 emissions, data size\u001b[0m\n"
     ]
    }
   ],
   "source": [
    "tracker = measurer.start(logger=logger)"
   ]
  },
  {
   "cell_type": "code",
   "execution_count": 5,
   "id": "1eaf54f3-0eb1-4c18-aba5-1daa640f3336",
   "metadata": {
    "tags": []
   },
   "outputs": [
    {
     "data": {
      "text/plain": [
       "24972502500000.0"
      ]
     },
     "execution_count": 5,
     "metadata": {},
     "output_type": "execute_result"
    }
   ],
   "source": [
    "# some stupid long running computation\n",
    "sum = 0.0\n",
    "for i in range(10000):\n",
    "    for j in range(1000):\n",
    "        sum = sum + i * j\n",
    "        \n",
    "sum"
   ]
  },
  {
   "cell_type": "code",
   "execution_count": 6,
   "id": "56a78398-5bfc-49db-a2ad-4699c56c0e23",
   "metadata": {
    "editable": true,
    "slideshow": {
     "slide_type": ""
    },
    "tags": []
   },
   "outputs": [
    {
     "name": "stderr",
     "output_type": "stream",
     "text": [
      "/home/conda/fairicubeuc2/cd9a36edb0dc3ee807d8480c9bf1b860e5adb8ac735017d90955d1b8f50febd7-20241127-193535-689672-40-sdm-torch/lib/python3.10/site-packages/codecarbon/output.py:123: FutureWarning: The behavior of DataFrame concatenation with empty or all-NA entries is deprecated. In a future version, this will no longer exclude empty or all-NA columns when determining the result dtypes. To retain the old behavior, exclude the relevant entries before the concat operation.\n",
      "  df = pd.concat([df, pd.DataFrame.from_records([dict(data.values)])])\n",
      "\u001b[32m2025-03-11 09:56:30.821\u001b[0m | \u001b[1mINFO    \u001b[0m | \u001b[36mmeasurer.measurer\u001b[0m:\u001b[36mend\u001b[0m:\u001b[36m307\u001b[0m - \u001b[1mStopped computational costs meter. Results saved at\u001b[0m\n"
     ]
    },
    {
     "name": "stdout",
     "output_type": "stream",
     "text": [
      "\u001b[32m2025-03-11 09:56:30.821\u001b[0m | \u001b[1mINFO    \u001b[0m | \u001b[36mmeasurer.measurer\u001b[0m:\u001b[36mend\u001b[0m:\u001b[36m307\u001b[0m - \u001b[1mStopped computational costs meter. Results saved at\u001b[0m\n",
      "                                    Measure                        Value\n",
      "0                 Data size in grid points                              \n",
      "1   Largest allocated array in grid points                              \n",
      "2                            Data size (MB)                        -0.02\n",
      "3                            Data read (MB)                          0.0\n",
      "4                         Data written (MB)                         0.02\n",
      "5                Main memory available (MB)                     126177.4\n",
      "6                 Main memory consumed (MB)                         2.32\n",
      "7      Sum of allocated variable sizes (MB)                         0.01\n",
      "8                    Description of CPU/GPU                             \n",
      "9                             Wall time (s)                         15.2\n",
      "10                      Energy consumed (W)                         0.31\n",
      "11              CO₂-equivalents [CO₂eq] (g)                         0.11\n",
      "12                     Network traffic (MB)                         0.76\n",
      "13                     Programming language                       Python\n",
      "14                      Essential libraries  sys\\ncodecarbon\\nmeasurer\\n\n"
     ]
    }
   ],
   "source": [
    "from types import ModuleType\n",
    "\n",
    "measurer.end(\n",
    "    tracker=tracker,\n",
    "    shape=[],\n",
    "    libraries=[k for k,v in globals().items() if type(v) is ModuleType and not k.startswith('__')],\n",
    "    #program_path=__file__,\n",
    "    variables=locals(),\n",
    "    csv_file='benchmarks.csv',\n",
    "    logger=logger\n",
    ")"
   ]
  },
  {
   "cell_type": "code",
   "execution_count": null,
   "id": "de6bc33e-6176-4a28-927b-ddc36a200d3c",
   "metadata": {},
   "outputs": [],
   "source": []
  }
 ],
 "metadata": {
  "kernelspec": {
   "display_name": "fairicubeuc2-sdm-torch",
   "language": "python",
   "name": "conda-env-fairicubeuc2-sdm-torch-py"
  },
  "language_info": {
   "codemirror_mode": {
    "name": "ipython",
    "version": 3
   },
   "file_extension": ".py",
   "mimetype": "text/x-python",
   "name": "python",
   "nbconvert_exporter": "python",
   "pygments_lexer": "ipython3",
   "version": "3.10.15"
  }
 },
 "nbformat": 4,
 "nbformat_minor": 5
}
