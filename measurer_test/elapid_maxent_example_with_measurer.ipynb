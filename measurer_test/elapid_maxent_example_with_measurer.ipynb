{
 "cells": [
  {
   "cell_type": "markdown",
   "id": "6eccedcc-8b90-40a9-a0be-8e3d5e3e9923",
   "metadata": {},
   "source": [
    "# ELAPID MAXENT Example with Measurer"
   ]
  },
  {
   "cell_type": "markdown",
   "id": "f6d283e0-5dec-44c1-a6bf-c441c5db982d",
   "metadata": {},
   "source": [
    "## Setup the Measurer"
   ]
  },
  {
   "cell_type": "code",
   "execution_count": 1,
   "id": "aee21661-fb5a-4a50-b3de-f0bbd31c21bc",
   "metadata": {},
   "outputs": [],
   "source": [
    "# silent install of required additional packages for the user\n",
    "!pip install loguru codecarbon --quiet --user"
   ]
  },
  {
   "cell_type": "code",
   "execution_count": 2,
   "id": "731de281-ea25-46b5-a91e-5ea43c89f2a9",
   "metadata": {},
   "outputs": [
    {
     "data": {
      "text/plain": [
       "1"
      ]
     },
     "execution_count": 2,
     "metadata": {},
     "output_type": "execute_result"
    }
   ],
   "source": [
    "# get logger, and initialise a measurer tracker\n",
    "import sys\n",
    "from loguru import logger\n",
    "from measurer.measurer import Measurer\n",
    "from types import ModuleType\n",
    "\n",
    "#logger.remove(0)\n",
    "logger.add(sys.stdout, level='INFO')"
   ]
  },
  {
   "cell_type": "markdown",
   "id": "9b33d390-ac0c-42ec-ba6a-7b7ba5023357",
   "metadata": {},
   "source": [
    "## Setup the Model"
   ]
  },
  {
   "cell_type": "code",
   "execution_count": 3,
   "id": "0edcf668-6978-40a2-af0b-542fe0570578",
   "metadata": {
    "tags": []
   },
   "outputs": [],
   "source": [
    "import numpy as np\n",
    "import pandas as pd\n",
    "import elapid\n",
    "import geopandas as gpd\n",
    "import matplotlib.pyplot as plt\n",
    "import contextily as ctx\n",
    "from sklearn.metrics import roc_auc_score\n",
    "import rasterio\n",
    "from rasterio.transform import from_bounds"
   ]
  },
  {
   "cell_type": "code",
   "execution_count": 4,
   "id": "0b732ce2-10b1-4231-85a8-c083020b7c2e",
   "metadata": {},
   "outputs": [],
   "source": [
    "# files to process\n",
    "presence_data_filename   = \"../../s3/uc2-data/veldleeuwerik_arable.csv\"\n",
    "background_data_filename = \"../../s3/uc2-data/veldleeuwerik_background_arable.csv\""
   ]
  },
  {
   "cell_type": "markdown",
   "id": "bbfd3318-69d9-49be-b32a-f3d7e386a744",
   "metadata": {},
   "source": [
    "## Data Preparation"
   ]
  },
  {
   "cell_type": "code",
   "execution_count": 5,
   "id": "b0e1078d-d01a-4bf9-b39c-41aae3c03d4a",
   "metadata": {},
   "outputs": [],
   "source": [
    "# Load the datasets\n",
    "background_data = pd.read_csv(background_data_filename)\n",
    "presence_data = pd.read_csv(presence_data_filename)\n",
    "\n",
    "background_data = background_data.dropna()\n",
    "presenence_data = presence_data.dropna()\n",
    "\n",
    "# Rename columns for consistency\n",
    "background_data = background_data.rename(columns={'x': 'longitude', 'y': 'latitude'})\n",
    "background_data = background_data.drop(columns=['Unnamed: 0'])\n",
    "\n",
    "presence_data = presence_data.rename(columns={'x': 'longitude', 'y': 'latitude'})\n",
    "presence_data = presence_data.drop(columns=['Unnamed: 0', 'abundance_'])\n",
    "\n",
    "# Combine presence and background data\n",
    "presence_labels = np.ones(len(presence_data))  # 1 for presence\n",
    "background_labels = np.zeros(len(background_data))  # 0 for background\n",
    "\n",
    "# Combine the data into one dataset\n",
    "combined_data = pd.concat([presence_data, background_data], ignore_index=True)\n",
    "labels = np.concatenate([presence_labels, background_labels])\n",
    "\n",
    "# Select environmental variables (excluding species and coordinates)\n",
    "features = combined_data.drop(columns=['longitude', 'latitude'])\n",
    "features_presences = presence_data.drop(columns=['longitude', 'latitude'])"
   ]
  },
  {
   "cell_type": "markdown",
   "id": "329c96a2-fde7-4665-8cc6-def2c3b4ad3b",
   "metadata": {},
   "source": [
    "## Model Training"
   ]
  },
  {
   "cell_type": "code",
   "execution_count": 6,
   "id": "e2f46f1d-4bc0-46d3-8f77-9ac1c639eeb0",
   "metadata": {},
   "outputs": [
    {
     "name": "stderr",
     "output_type": "stream",
     "text": [
      "\u001b[32m2025-03-11 10:56:26.448\u001b[0m | \u001b[1mINFO    \u001b[0m | \u001b[36mmeasurer.measurer\u001b[0m:\u001b[36mstart\u001b[0m:\u001b[36m278\u001b[0m - \u001b[1mStarted computational costs meter: wall time, memory consumed, network traffic, CO2 emissions, data size\u001b[0m\n"
     ]
    },
    {
     "name": "stdout",
     "output_type": "stream",
     "text": [
      "\u001b[32m2025-03-11 10:56:26.448\u001b[0m | \u001b[1mINFO    \u001b[0m | \u001b[36mmeasurer.measurer\u001b[0m:\u001b[36mstart\u001b[0m:\u001b[36m278\u001b[0m - \u001b[1mStarted computational costs meter: wall time, memory consumed, network traffic, CO2 emissions, data size\u001b[0m\n"
     ]
    }
   ],
   "source": [
    "measurer_train = Measurer()\n",
    "tracker_train = measurer_train.start(logger=logger)"
   ]
  },
  {
   "cell_type": "code",
   "execution_count": 7,
   "id": "a6ff0b27-3b30-4c23-befc-2e20669c344c",
   "metadata": {},
   "outputs": [
    {
     "data": {
      "text/html": [
       "<style>#sk-container-id-1 {\n",
       "  /* Definition of color scheme common for light and dark mode */\n",
       "  --sklearn-color-text: black;\n",
       "  --sklearn-color-line: gray;\n",
       "  /* Definition of color scheme for unfitted estimators */\n",
       "  --sklearn-color-unfitted-level-0: #fff5e6;\n",
       "  --sklearn-color-unfitted-level-1: #f6e4d2;\n",
       "  --sklearn-color-unfitted-level-2: #ffe0b3;\n",
       "  --sklearn-color-unfitted-level-3: chocolate;\n",
       "  /* Definition of color scheme for fitted estimators */\n",
       "  --sklearn-color-fitted-level-0: #f0f8ff;\n",
       "  --sklearn-color-fitted-level-1: #d4ebff;\n",
       "  --sklearn-color-fitted-level-2: #b3dbfd;\n",
       "  --sklearn-color-fitted-level-3: cornflowerblue;\n",
       "\n",
       "  /* Specific color for light theme */\n",
       "  --sklearn-color-text-on-default-background: var(--sg-text-color, var(--theme-code-foreground, var(--jp-content-font-color1, black)));\n",
       "  --sklearn-color-background: var(--sg-background-color, var(--theme-background, var(--jp-layout-color0, white)));\n",
       "  --sklearn-color-border-box: var(--sg-text-color, var(--theme-code-foreground, var(--jp-content-font-color1, black)));\n",
       "  --sklearn-color-icon: #696969;\n",
       "\n",
       "  @media (prefers-color-scheme: dark) {\n",
       "    /* Redefinition of color scheme for dark theme */\n",
       "    --sklearn-color-text-on-default-background: var(--sg-text-color, var(--theme-code-foreground, var(--jp-content-font-color1, white)));\n",
       "    --sklearn-color-background: var(--sg-background-color, var(--theme-background, var(--jp-layout-color0, #111)));\n",
       "    --sklearn-color-border-box: var(--sg-text-color, var(--theme-code-foreground, var(--jp-content-font-color1, white)));\n",
       "    --sklearn-color-icon: #878787;\n",
       "  }\n",
       "}\n",
       "\n",
       "#sk-container-id-1 {\n",
       "  color: var(--sklearn-color-text);\n",
       "}\n",
       "\n",
       "#sk-container-id-1 pre {\n",
       "  padding: 0;\n",
       "}\n",
       "\n",
       "#sk-container-id-1 input.sk-hidden--visually {\n",
       "  border: 0;\n",
       "  clip: rect(1px 1px 1px 1px);\n",
       "  clip: rect(1px, 1px, 1px, 1px);\n",
       "  height: 1px;\n",
       "  margin: -1px;\n",
       "  overflow: hidden;\n",
       "  padding: 0;\n",
       "  position: absolute;\n",
       "  width: 1px;\n",
       "}\n",
       "\n",
       "#sk-container-id-1 div.sk-dashed-wrapped {\n",
       "  border: 1px dashed var(--sklearn-color-line);\n",
       "  margin: 0 0.4em 0.5em 0.4em;\n",
       "  box-sizing: border-box;\n",
       "  padding-bottom: 0.4em;\n",
       "  background-color: var(--sklearn-color-background);\n",
       "}\n",
       "\n",
       "#sk-container-id-1 div.sk-container {\n",
       "  /* jupyter's `normalize.less` sets `[hidden] { display: none; }`\n",
       "     but bootstrap.min.css set `[hidden] { display: none !important; }`\n",
       "     so we also need the `!important` here to be able to override the\n",
       "     default hidden behavior on the sphinx rendered scikit-learn.org.\n",
       "     See: https://github.com/scikit-learn/scikit-learn/issues/21755 */\n",
       "  display: inline-block !important;\n",
       "  position: relative;\n",
       "}\n",
       "\n",
       "#sk-container-id-1 div.sk-text-repr-fallback {\n",
       "  display: none;\n",
       "}\n",
       "\n",
       "div.sk-parallel-item,\n",
       "div.sk-serial,\n",
       "div.sk-item {\n",
       "  /* draw centered vertical line to link estimators */\n",
       "  background-image: linear-gradient(var(--sklearn-color-text-on-default-background), var(--sklearn-color-text-on-default-background));\n",
       "  background-size: 2px 100%;\n",
       "  background-repeat: no-repeat;\n",
       "  background-position: center center;\n",
       "}\n",
       "\n",
       "/* Parallel-specific style estimator block */\n",
       "\n",
       "#sk-container-id-1 div.sk-parallel-item::after {\n",
       "  content: \"\";\n",
       "  width: 100%;\n",
       "  border-bottom: 2px solid var(--sklearn-color-text-on-default-background);\n",
       "  flex-grow: 1;\n",
       "}\n",
       "\n",
       "#sk-container-id-1 div.sk-parallel {\n",
       "  display: flex;\n",
       "  align-items: stretch;\n",
       "  justify-content: center;\n",
       "  background-color: var(--sklearn-color-background);\n",
       "  position: relative;\n",
       "}\n",
       "\n",
       "#sk-container-id-1 div.sk-parallel-item {\n",
       "  display: flex;\n",
       "  flex-direction: column;\n",
       "}\n",
       "\n",
       "#sk-container-id-1 div.sk-parallel-item:first-child::after {\n",
       "  align-self: flex-end;\n",
       "  width: 50%;\n",
       "}\n",
       "\n",
       "#sk-container-id-1 div.sk-parallel-item:last-child::after {\n",
       "  align-self: flex-start;\n",
       "  width: 50%;\n",
       "}\n",
       "\n",
       "#sk-container-id-1 div.sk-parallel-item:only-child::after {\n",
       "  width: 0;\n",
       "}\n",
       "\n",
       "/* Serial-specific style estimator block */\n",
       "\n",
       "#sk-container-id-1 div.sk-serial {\n",
       "  display: flex;\n",
       "  flex-direction: column;\n",
       "  align-items: center;\n",
       "  background-color: var(--sklearn-color-background);\n",
       "  padding-right: 1em;\n",
       "  padding-left: 1em;\n",
       "}\n",
       "\n",
       "\n",
       "/* Toggleable style: style used for estimator/Pipeline/ColumnTransformer box that is\n",
       "clickable and can be expanded/collapsed.\n",
       "- Pipeline and ColumnTransformer use this feature and define the default style\n",
       "- Estimators will overwrite some part of the style using the `sk-estimator` class\n",
       "*/\n",
       "\n",
       "/* Pipeline and ColumnTransformer style (default) */\n",
       "\n",
       "#sk-container-id-1 div.sk-toggleable {\n",
       "  /* Default theme specific background. It is overwritten whether we have a\n",
       "  specific estimator or a Pipeline/ColumnTransformer */\n",
       "  background-color: var(--sklearn-color-background);\n",
       "}\n",
       "\n",
       "/* Toggleable label */\n",
       "#sk-container-id-1 label.sk-toggleable__label {\n",
       "  cursor: pointer;\n",
       "  display: block;\n",
       "  width: 100%;\n",
       "  margin-bottom: 0;\n",
       "  padding: 0.5em;\n",
       "  box-sizing: border-box;\n",
       "  text-align: center;\n",
       "}\n",
       "\n",
       "#sk-container-id-1 label.sk-toggleable__label-arrow:before {\n",
       "  /* Arrow on the left of the label */\n",
       "  content: \"▸\";\n",
       "  float: left;\n",
       "  margin-right: 0.25em;\n",
       "  color: var(--sklearn-color-icon);\n",
       "}\n",
       "\n",
       "#sk-container-id-1 label.sk-toggleable__label-arrow:hover:before {\n",
       "  color: var(--sklearn-color-text);\n",
       "}\n",
       "\n",
       "/* Toggleable content - dropdown */\n",
       "\n",
       "#sk-container-id-1 div.sk-toggleable__content {\n",
       "  max-height: 0;\n",
       "  max-width: 0;\n",
       "  overflow: hidden;\n",
       "  text-align: left;\n",
       "  /* unfitted */\n",
       "  background-color: var(--sklearn-color-unfitted-level-0);\n",
       "}\n",
       "\n",
       "#sk-container-id-1 div.sk-toggleable__content.fitted {\n",
       "  /* fitted */\n",
       "  background-color: var(--sklearn-color-fitted-level-0);\n",
       "}\n",
       "\n",
       "#sk-container-id-1 div.sk-toggleable__content pre {\n",
       "  margin: 0.2em;\n",
       "  border-radius: 0.25em;\n",
       "  color: var(--sklearn-color-text);\n",
       "  /* unfitted */\n",
       "  background-color: var(--sklearn-color-unfitted-level-0);\n",
       "}\n",
       "\n",
       "#sk-container-id-1 div.sk-toggleable__content.fitted pre {\n",
       "  /* unfitted */\n",
       "  background-color: var(--sklearn-color-fitted-level-0);\n",
       "}\n",
       "\n",
       "#sk-container-id-1 input.sk-toggleable__control:checked~div.sk-toggleable__content {\n",
       "  /* Expand drop-down */\n",
       "  max-height: 200px;\n",
       "  max-width: 100%;\n",
       "  overflow: auto;\n",
       "}\n",
       "\n",
       "#sk-container-id-1 input.sk-toggleable__control:checked~label.sk-toggleable__label-arrow:before {\n",
       "  content: \"▾\";\n",
       "}\n",
       "\n",
       "/* Pipeline/ColumnTransformer-specific style */\n",
       "\n",
       "#sk-container-id-1 div.sk-label input.sk-toggleable__control:checked~label.sk-toggleable__label {\n",
       "  color: var(--sklearn-color-text);\n",
       "  background-color: var(--sklearn-color-unfitted-level-2);\n",
       "}\n",
       "\n",
       "#sk-container-id-1 div.sk-label.fitted input.sk-toggleable__control:checked~label.sk-toggleable__label {\n",
       "  background-color: var(--sklearn-color-fitted-level-2);\n",
       "}\n",
       "\n",
       "/* Estimator-specific style */\n",
       "\n",
       "/* Colorize estimator box */\n",
       "#sk-container-id-1 div.sk-estimator input.sk-toggleable__control:checked~label.sk-toggleable__label {\n",
       "  /* unfitted */\n",
       "  background-color: var(--sklearn-color-unfitted-level-2);\n",
       "}\n",
       "\n",
       "#sk-container-id-1 div.sk-estimator.fitted input.sk-toggleable__control:checked~label.sk-toggleable__label {\n",
       "  /* fitted */\n",
       "  background-color: var(--sklearn-color-fitted-level-2);\n",
       "}\n",
       "\n",
       "#sk-container-id-1 div.sk-label label.sk-toggleable__label,\n",
       "#sk-container-id-1 div.sk-label label {\n",
       "  /* The background is the default theme color */\n",
       "  color: var(--sklearn-color-text-on-default-background);\n",
       "}\n",
       "\n",
       "/* On hover, darken the color of the background */\n",
       "#sk-container-id-1 div.sk-label:hover label.sk-toggleable__label {\n",
       "  color: var(--sklearn-color-text);\n",
       "  background-color: var(--sklearn-color-unfitted-level-2);\n",
       "}\n",
       "\n",
       "/* Label box, darken color on hover, fitted */\n",
       "#sk-container-id-1 div.sk-label.fitted:hover label.sk-toggleable__label.fitted {\n",
       "  color: var(--sklearn-color-text);\n",
       "  background-color: var(--sklearn-color-fitted-level-2);\n",
       "}\n",
       "\n",
       "/* Estimator label */\n",
       "\n",
       "#sk-container-id-1 div.sk-label label {\n",
       "  font-family: monospace;\n",
       "  font-weight: bold;\n",
       "  display: inline-block;\n",
       "  line-height: 1.2em;\n",
       "}\n",
       "\n",
       "#sk-container-id-1 div.sk-label-container {\n",
       "  text-align: center;\n",
       "}\n",
       "\n",
       "/* Estimator-specific */\n",
       "#sk-container-id-1 div.sk-estimator {\n",
       "  font-family: monospace;\n",
       "  border: 1px dotted var(--sklearn-color-border-box);\n",
       "  border-radius: 0.25em;\n",
       "  box-sizing: border-box;\n",
       "  margin-bottom: 0.5em;\n",
       "  /* unfitted */\n",
       "  background-color: var(--sklearn-color-unfitted-level-0);\n",
       "}\n",
       "\n",
       "#sk-container-id-1 div.sk-estimator.fitted {\n",
       "  /* fitted */\n",
       "  background-color: var(--sklearn-color-fitted-level-0);\n",
       "}\n",
       "\n",
       "/* on hover */\n",
       "#sk-container-id-1 div.sk-estimator:hover {\n",
       "  /* unfitted */\n",
       "  background-color: var(--sklearn-color-unfitted-level-2);\n",
       "}\n",
       "\n",
       "#sk-container-id-1 div.sk-estimator.fitted:hover {\n",
       "  /* fitted */\n",
       "  background-color: var(--sklearn-color-fitted-level-2);\n",
       "}\n",
       "\n",
       "/* Specification for estimator info (e.g. \"i\" and \"?\") */\n",
       "\n",
       "/* Common style for \"i\" and \"?\" */\n",
       "\n",
       ".sk-estimator-doc-link,\n",
       "a:link.sk-estimator-doc-link,\n",
       "a:visited.sk-estimator-doc-link {\n",
       "  float: right;\n",
       "  font-size: smaller;\n",
       "  line-height: 1em;\n",
       "  font-family: monospace;\n",
       "  background-color: var(--sklearn-color-background);\n",
       "  border-radius: 1em;\n",
       "  height: 1em;\n",
       "  width: 1em;\n",
       "  text-decoration: none !important;\n",
       "  margin-left: 1ex;\n",
       "  /* unfitted */\n",
       "  border: var(--sklearn-color-unfitted-level-1) 1pt solid;\n",
       "  color: var(--sklearn-color-unfitted-level-1);\n",
       "}\n",
       "\n",
       ".sk-estimator-doc-link.fitted,\n",
       "a:link.sk-estimator-doc-link.fitted,\n",
       "a:visited.sk-estimator-doc-link.fitted {\n",
       "  /* fitted */\n",
       "  border: var(--sklearn-color-fitted-level-1) 1pt solid;\n",
       "  color: var(--sklearn-color-fitted-level-1);\n",
       "}\n",
       "\n",
       "/* On hover */\n",
       "div.sk-estimator:hover .sk-estimator-doc-link:hover,\n",
       ".sk-estimator-doc-link:hover,\n",
       "div.sk-label-container:hover .sk-estimator-doc-link:hover,\n",
       ".sk-estimator-doc-link:hover {\n",
       "  /* unfitted */\n",
       "  background-color: var(--sklearn-color-unfitted-level-3);\n",
       "  color: var(--sklearn-color-background);\n",
       "  text-decoration: none;\n",
       "}\n",
       "\n",
       "div.sk-estimator.fitted:hover .sk-estimator-doc-link.fitted:hover,\n",
       ".sk-estimator-doc-link.fitted:hover,\n",
       "div.sk-label-container:hover .sk-estimator-doc-link.fitted:hover,\n",
       ".sk-estimator-doc-link.fitted:hover {\n",
       "  /* fitted */\n",
       "  background-color: var(--sklearn-color-fitted-level-3);\n",
       "  color: var(--sklearn-color-background);\n",
       "  text-decoration: none;\n",
       "}\n",
       "\n",
       "/* Span, style for the box shown on hovering the info icon */\n",
       ".sk-estimator-doc-link span {\n",
       "  display: none;\n",
       "  z-index: 9999;\n",
       "  position: relative;\n",
       "  font-weight: normal;\n",
       "  right: .2ex;\n",
       "  padding: .5ex;\n",
       "  margin: .5ex;\n",
       "  width: min-content;\n",
       "  min-width: 20ex;\n",
       "  max-width: 50ex;\n",
       "  color: var(--sklearn-color-text);\n",
       "  box-shadow: 2pt 2pt 4pt #999;\n",
       "  /* unfitted */\n",
       "  background: var(--sklearn-color-unfitted-level-0);\n",
       "  border: .5pt solid var(--sklearn-color-unfitted-level-3);\n",
       "}\n",
       "\n",
       ".sk-estimator-doc-link.fitted span {\n",
       "  /* fitted */\n",
       "  background: var(--sklearn-color-fitted-level-0);\n",
       "  border: var(--sklearn-color-fitted-level-3);\n",
       "}\n",
       "\n",
       ".sk-estimator-doc-link:hover span {\n",
       "  display: block;\n",
       "}\n",
       "\n",
       "/* \"?\"-specific style due to the `<a>` HTML tag */\n",
       "\n",
       "#sk-container-id-1 a.estimator_doc_link {\n",
       "  float: right;\n",
       "  font-size: 1rem;\n",
       "  line-height: 1em;\n",
       "  font-family: monospace;\n",
       "  background-color: var(--sklearn-color-background);\n",
       "  border-radius: 1rem;\n",
       "  height: 1rem;\n",
       "  width: 1rem;\n",
       "  text-decoration: none;\n",
       "  /* unfitted */\n",
       "  color: var(--sklearn-color-unfitted-level-1);\n",
       "  border: var(--sklearn-color-unfitted-level-1) 1pt solid;\n",
       "}\n",
       "\n",
       "#sk-container-id-1 a.estimator_doc_link.fitted {\n",
       "  /* fitted */\n",
       "  border: var(--sklearn-color-fitted-level-1) 1pt solid;\n",
       "  color: var(--sklearn-color-fitted-level-1);\n",
       "}\n",
       "\n",
       "/* On hover */\n",
       "#sk-container-id-1 a.estimator_doc_link:hover {\n",
       "  /* unfitted */\n",
       "  background-color: var(--sklearn-color-unfitted-level-3);\n",
       "  color: var(--sklearn-color-background);\n",
       "  text-decoration: none;\n",
       "}\n",
       "\n",
       "#sk-container-id-1 a.estimator_doc_link.fitted:hover {\n",
       "  /* fitted */\n",
       "  background-color: var(--sklearn-color-fitted-level-3);\n",
       "}\n",
       "</style><div id=\"sk-container-id-1\" class=\"sk-top-container\"><div class=\"sk-text-repr-fallback\"><pre>MaxentModel()</pre><b>In a Jupyter environment, please rerun this cell to show the HTML representation or trust the notebook. <br />On GitHub, the HTML representation is unable to render, please try loading this page with nbviewer.org.</b></div><div class=\"sk-container\" hidden><div class=\"sk-item\"><div class=\"sk-estimator fitted sk-toggleable\"><input class=\"sk-toggleable__control sk-hidden--visually\" id=\"sk-estimator-id-1\" type=\"checkbox\" checked><label for=\"sk-estimator-id-1\" class=\"sk-toggleable__label fitted sk-toggleable__label-arrow fitted\">&nbsp;MaxentModel<span class=\"sk-estimator-doc-link fitted\">i<span>Fitted</span></span></label><div class=\"sk-toggleable__content fitted\"><pre>MaxentModel()</pre></div> </div></div></div></div>"
      ],
      "text/plain": [
       "MaxentModel()"
      ]
     },
     "execution_count": 7,
     "metadata": {},
     "output_type": "execute_result"
    }
   ],
   "source": [
    "model = elapid.MaxentModel()\n",
    "model.fit(features, labels, categorical=[1])"
   ]
  },
  {
   "cell_type": "code",
   "execution_count": 8,
   "id": "d14a7e35-ccbf-4452-9e9b-82a86ffe7293",
   "metadata": {},
   "outputs": [
    {
     "name": "stderr",
     "output_type": "stream",
     "text": [
      "/home/conda/fairicubeuc2/cd9a36edb0dc3ee807d8480c9bf1b860e5adb8ac735017d90955d1b8f50febd7-20241127-193535-689672-40-sdm-torch/lib/python3.10/site-packages/codecarbon/output.py:123: FutureWarning: The behavior of DataFrame concatenation with empty or all-NA entries is deprecated. In a future version, this will no longer exclude empty or all-NA columns when determining the result dtypes. To retain the old behavior, exclude the relevant entries before the concat operation.\n",
      "  df = pd.concat([df, pd.DataFrame.from_records([dict(data.values)])])\n",
      "\u001b[32m2025-03-11 11:13:18.914\u001b[0m | \u001b[1mINFO    \u001b[0m | \u001b[36mmeasurer.measurer\u001b[0m:\u001b[36mend\u001b[0m:\u001b[36m307\u001b[0m - \u001b[1mStopped computational costs meter. Results saved at\u001b[0m\n"
     ]
    },
    {
     "name": "stdout",
     "output_type": "stream",
     "text": [
      "\u001b[32m2025-03-11 11:13:18.914\u001b[0m | \u001b[1mINFO    \u001b[0m | \u001b[36mmeasurer.measurer\u001b[0m:\u001b[36mend\u001b[0m:\u001b[36m307\u001b[0m - \u001b[1mStopped computational costs meter. Results saved at\u001b[0m\n",
      "                                    Measure  \\\n",
      "0                 Data size in grid points    \n",
      "1   Largest allocated array in grid points    \n",
      "2                            Data size (MB)   \n",
      "3                            Data read (MB)   \n",
      "4                         Data written (MB)   \n",
      "5                Main memory available (MB)   \n",
      "6                 Main memory consumed (MB)   \n",
      "7      Sum of allocated variable sizes (MB)   \n",
      "8                    Description of CPU/GPU   \n",
      "9                             Wall time (s)   \n",
      "10                      Energy consumed (W)   \n",
      "11              CO₂-equivalents [CO₂eq] (g)   \n",
      "12                     Network traffic (MB)   \n",
      "13                     Programming language   \n",
      "14                      Essential libraries   \n",
      "\n",
      "                                                Value  \n",
      "0                                                      \n",
      "1                                        [2658345, 8]  \n",
      "2                                               -0.02  \n",
      "3                                                0.11  \n",
      "4                                                5.13  \n",
      "5                                            126177.4  \n",
      "6                                            11218.95  \n",
      "7                                              507.13  \n",
      "8                                                      \n",
      "9                                             1012.44  \n",
      "10                                              24.87  \n",
      "11                                               8.81  \n",
      "12                                              21.25  \n",
      "13                                             Python  \n",
      "14  sys\\nnp\\npd\\nelapid\\ngpd\\nplt\\nctx\\nrasterio\\n...  \n"
     ]
    }
   ],
   "source": [
    "measurer_train.end(\n",
    "    tracker=tracker_train,\n",
    "    shape=[],\n",
    "    libraries=[k for k,v in globals().items() if type(v) is ModuleType and not k.startswith('__')],\n",
    "    #program_path=__file__,\n",
    "    variables=locals(),\n",
    "    csv_file='benchmarks_elapid_maxent_train_veldleeuwerik_arable_land.csv',\n",
    "    logger=logger\n",
    ")"
   ]
  },
  {
   "cell_type": "markdown",
   "id": "c08523fe-a313-42f6-880d-e3a3108cb689",
   "metadata": {
    "editable": true,
    "slideshow": {
     "slide_type": ""
    },
    "tags": []
   },
   "source": [
    "## Model Inference"
   ]
  },
  {
   "cell_type": "code",
   "execution_count": 9,
   "id": "7a67e831-a226-40ba-b478-ea4291a768c2",
   "metadata": {},
   "outputs": [
    {
     "name": "stderr",
     "output_type": "stream",
     "text": [
      "\u001b[32m2025-03-11 11:14:00.613\u001b[0m | \u001b[1mINFO    \u001b[0m | \u001b[36mmeasurer.measurer\u001b[0m:\u001b[36mstart\u001b[0m:\u001b[36m278\u001b[0m - \u001b[1mStarted computational costs meter: wall time, memory consumed, network traffic, CO2 emissions, data size\u001b[0m\n"
     ]
    },
    {
     "name": "stdout",
     "output_type": "stream",
     "text": [
      "\u001b[32m2025-03-11 11:14:00.613\u001b[0m | \u001b[1mINFO    \u001b[0m | \u001b[36mmeasurer.measurer\u001b[0m:\u001b[36mstart\u001b[0m:\u001b[36m278\u001b[0m - \u001b[1mStarted computational costs meter: wall time, memory consumed, network traffic, CO2 emissions, data size\u001b[0m\n"
     ]
    }
   ],
   "source": [
    "measurer_infer = Measurer()\n",
    "tracker_infer = measurer_infer.start(logger=logger)"
   ]
  },
  {
   "cell_type": "code",
   "execution_count": 10,
   "id": "da8f0b25-01e5-4dbc-9e62-75f5ed718850",
   "metadata": {},
   "outputs": [],
   "source": [
    "predicted_probabilities = model.predict(features)\n",
    "predicted_probabilities_presences = model.predict(features_presences)"
   ]
  },
  {
   "cell_type": "code",
   "execution_count": 11,
   "id": "0671b921-dd93-4576-9b51-cf6ddb39ccba",
   "metadata": {},
   "outputs": [
    {
     "name": "stderr",
     "output_type": "stream",
     "text": [
      "/home/conda/fairicubeuc2/cd9a36edb0dc3ee807d8480c9bf1b860e5adb8ac735017d90955d1b8f50febd7-20241127-193535-689672-40-sdm-torch/lib/python3.10/site-packages/codecarbon/output.py:123: FutureWarning: The behavior of DataFrame concatenation with empty or all-NA entries is deprecated. In a future version, this will no longer exclude empty or all-NA columns when determining the result dtypes. To retain the old behavior, exclude the relevant entries before the concat operation.\n",
      "  df = pd.concat([df, pd.DataFrame.from_records([dict(data.values)])])\n",
      "\u001b[32m2025-03-11 11:14:09.122\u001b[0m | \u001b[1mINFO    \u001b[0m | \u001b[36mmeasurer.measurer\u001b[0m:\u001b[36mend\u001b[0m:\u001b[36m307\u001b[0m - \u001b[1mStopped computational costs meter. Results saved at\u001b[0m\n"
     ]
    },
    {
     "name": "stdout",
     "output_type": "stream",
     "text": [
      "\u001b[32m2025-03-11 11:14:09.122\u001b[0m | \u001b[1mINFO    \u001b[0m | \u001b[36mmeasurer.measurer\u001b[0m:\u001b[36mend\u001b[0m:\u001b[36m307\u001b[0m - \u001b[1mStopped computational costs meter. Results saved at\u001b[0m\n",
      "                                    Measure  \\\n",
      "0                 Data size in grid points    \n",
      "1   Largest allocated array in grid points    \n",
      "2                            Data size (MB)   \n",
      "3                            Data read (MB)   \n",
      "4                         Data written (MB)   \n",
      "5                Main memory available (MB)   \n",
      "6                 Main memory consumed (MB)   \n",
      "7      Sum of allocated variable sizes (MB)   \n",
      "8                    Description of CPU/GPU   \n",
      "9                             Wall time (s)   \n",
      "10                      Energy consumed (W)   \n",
      "11              CO₂-equivalents [CO₂eq] (g)   \n",
      "12                     Network traffic (MB)   \n",
      "13                     Programming language   \n",
      "14                      Essential libraries   \n",
      "\n",
      "                                                Value  \n",
      "0                                                      \n",
      "1                                        [2658345, 8]  \n",
      "2                                                 0.0  \n",
      "3                                                 0.0  \n",
      "4                                                 0.0  \n",
      "5                                            126177.4  \n",
      "6                                             8335.82  \n",
      "7                                              527.42  \n",
      "8                                                      \n",
      "9                                                8.48  \n",
      "10                                               0.15  \n",
      "11                                               0.05  \n",
      "12                                               0.13  \n",
      "13                                             Python  \n",
      "14  sys\\nnp\\npd\\nelapid\\ngpd\\nplt\\nctx\\nrasterio\\n...  \n"
     ]
    }
   ],
   "source": [
    "measurer_infer.end(\n",
    "    tracker=tracker_infer,\n",
    "    shape=[],\n",
    "    libraries=[k for k,v in globals().items() if type(v) is ModuleType and not k.startswith('__')],\n",
    "    #program_path=__file__,\n",
    "    variables=locals(),\n",
    "    csv_file='benchmarks_elapid_maxent_infer_veldleeuwerik_arable_land.csv',\n",
    "    logger=logger\n",
    ")"
   ]
  },
  {
   "cell_type": "markdown",
   "id": "cb08481f-0fe9-410d-a101-7ca69d9dc3e2",
   "metadata": {},
   "source": [
    "## Evaluation"
   ]
  },
  {
   "cell_type": "code",
   "execution_count": 12,
   "id": "ddaa7794-115b-4cf3-93fc-26e4657a7252",
   "metadata": {},
   "outputs": [
    {
     "name": "stdout",
     "output_type": "stream",
     "text": [
      "Model AUC: 0.7260604184218217\n"
     ]
    }
   ],
   "source": [
    "# calculate AUC\n",
    "auc_score = roc_auc_score(labels, predicted_probabilities)\n",
    "print(f\"Model AUC: {auc_score}\")"
   ]
  },
  {
   "cell_type": "code",
   "execution_count": 13,
   "id": "cb61dd2f-8fe5-45f0-b001-270663dc84b1",
   "metadata": {},
   "outputs": [
    {
     "name": "stdout",
     "output_type": "stream",
     "text": [
      "Omission Rate: 0.1410958904109589\n"
     ]
    }
   ],
   "source": [
    "# Calculate omission rate\n",
    "threshold = 0.5 # Threshold for when predicted probability = presence\n",
    "omission_rate = sum(predicted_probabilities_presences < threshold) / len(predicted_probabilities_presences)\n",
    "print(f\"Omission Rate: {omission_rate}\")"
   ]
  },
  {
   "cell_type": "markdown",
   "id": "68b659ea-a9b6-4eb4-8e63-d776f27ed56a",
   "metadata": {
    "editable": true,
    "slideshow": {
     "slide_type": ""
    },
    "tags": []
   },
   "source": [
    "## Visualisations"
   ]
  },
  {
   "cell_type": "markdown",
   "id": "c36c8ffc-ed70-4007-9e19-499a0f8a3795",
   "metadata": {},
   "source": [
    "### Plot results on a map"
   ]
  },
  {
   "cell_type": "code",
   "execution_count": null,
   "id": "dab8fd58-1891-4034-9f50-cb8d47d85154",
   "metadata": {
    "tags": []
   },
   "outputs": [],
   "source": [
    "# Plot Predicted probabilities for the test data\n",
    "test_data_with_coords = combined_data.iloc[features.index][['longitude', 'latitude']]\n",
    "gdf_test = gpd.GeoDataFrame(test_data_with_coords, geometry=gpd.points_from_xy(test_data_with_coords['longitude'], test_data_with_coords['latitude']), crs='EPSG:28992')\n",
    "\n",
    "fig, ax = plt.subplots(nrows=1, ncols=1, figsize=(5, 5))\n",
    "\n",
    "gdf_test.plot(ax=ax, column=predicted_probabilities, cmap='RdYlBu_r', legend=True, markersize=5)\n",
    "ax.set_title('Maxent Predictions for suitability')\n",
    "ax.set_xlabel('X')\n",
    "ax.set_xlim(168910, 194950) # set limits for study area\n",
    "ax.set_ylabel('Y')\n",
    "ax.set_ylim(513945, 535555)\n",
    "\n",
    "ctx.add_basemap(ax, crs='EPSG:28992', source=ctx.providers.OpenStreetMap.Mapnik, zoom=15)\n",
    "\n",
    "fig\n",
    "\n",
    "# Studiegebied limieten en rasterresolutie\n",
    "xmin, xmax, ymin, ymax = 168910, 194950, 513945, 535555\n",
    "resolution = 10\n",
    "\n",
    "# Bereken raster dimensies\n",
    "width = int((xmax - xmin) / resolution)\n",
    "height = int((ymax - ymin) / resolution)\n",
    "\n",
    "# Maak een lege raster-array\n",
    "raster_array = np.full((height, width), np.nan)\n",
    "\n",
    "# Raster grid coördinaten\n",
    "x_coords = np.linspace(xmin + resolution / 2, xmax - resolution / 2, width)\n",
    "y_coords = np.linspace(ymax - resolution / 2, ymin + resolution / 2, height)  # Omgekeerd voor rasterordening\n",
    "\n",
    "# Combineer de voorspellingen met coördinaten\n",
    "data_with_predictions = combined_data.copy()\n",
    "data_with_predictions['predicted_probabilities'] = predicted_probabilities\n",
    "\n",
    "# Vul het raster met de voorspellingen\n",
    "for _, row in data_with_predictions.iterrows():\n",
    "    col = int((row['longitude'] - xmin) / resolution)\n",
    "    row_idx = int((ymax - row['latitude']) / resolution)\n",
    "    if 0 <= col < width and 0 <= row_idx < height:\n",
    "        raster_array[row_idx, col] = row['predicted_probabilities']\n",
    "\n",
    "# Opslaan als .tif bestand\n",
    "transform = from_bounds(xmin, ymin, xmax, ymax, width, height)\n",
    "with rasterio.open(\n",
    "    'MaxEnt_outputs/MaxEnt_veldleeuwerik_arable.tif',\n",
    "    'w',\n",
    "    driver='GTiff',\n",
    "    height=height,\n",
    "    width=width,\n",
    "    count=1,\n",
    "    dtype=raster_array.dtype,\n",
    "    crs='EPSG:28992',\n",
    "    transform=transform\n",
    ") as dst:\n",
    "    dst.write(raster_array, 1)"
   ]
  },
  {
   "cell_type": "markdown",
   "id": "6747c239-8216-4caa-b848-d47d0ef29469",
   "metadata": {},
   "source": [
    "### Partial dependence plots"
   ]
  },
  {
   "cell_type": "code",
   "execution_count": null,
   "id": "48e6497f-b1c4-42f8-80f4-fc303c802cd9",
   "metadata": {},
   "outputs": [],
   "source": [
    "# partial dependence plots\n",
    "from sklearn.inspection import PartialDependenceDisplay, permutation_importance, partial_dependence\n",
    "display = PartialDependenceDisplay.from_estimator(model, features, features=[0, 1, 2 , 3, 4, 5],kind='average')"
   ]
  },
  {
   "cell_type": "code",
   "execution_count": null,
   "id": "35ddb9fb-7b5c-465f-a9f0-b18fd13cd73a",
   "metadata": {},
   "outputs": [],
   "source": []
  },
  {
   "cell_type": "markdown",
   "id": "0f59fee1-e29f-4f8c-88bf-194f327b2524",
   "metadata": {
    "editable": true,
    "slideshow": {
     "slide_type": ""
    },
    "tags": []
   },
   "source": [
    "## Process Measurer Results"
   ]
  },
  {
   "cell_type": "code",
   "execution_count": null,
   "id": "c1a56c29-2284-4779-afa5-0728051d5fcb",
   "metadata": {},
   "outputs": [],
   "source": [
    "from types import ModuleType\n",
    "\n",
    "measurer.end(\n",
    "    tracker=tracker,\n",
    "    shape=[],\n",
    "    libraries=[k for k,v in globals().items() if type(v) is ModuleType and not k.startswith('__')],\n",
    "    #program_path=__file__,\n",
    "    variables=locals(),\n",
    "    csv_file='benchmarks.csv',\n",
    "    logger=logger\n",
    ")"
   ]
  }
 ],
 "metadata": {
  "kernelspec": {
   "display_name": "fairicubeuc2-sdm-torch",
   "language": "python",
   "name": "conda-env-fairicubeuc2-sdm-torch-py"
  },
  "language_info": {
   "codemirror_mode": {
    "name": "ipython",
    "version": 3
   },
   "file_extension": ".py",
   "mimetype": "text/x-python",
   "name": "python",
   "nbconvert_exporter": "python",
   "pygments_lexer": "ipython3",
   "version": "3.10.15"
  }
 },
 "nbformat": 4,
 "nbformat_minor": 5
}
